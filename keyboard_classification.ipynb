{
 "cells": [
  {
   "cell_type": "markdown",
   "id": "d4ab941c-53f8-467b-8ad4-0fe44d10c769",
   "metadata": {},
   "source": [
    "1. Import and Install Dependencies"
   ]
  },
  {
   "cell_type": "markdown",
   "id": "5e2a83a3-306f-4ba4-b59c-3cd7ef1709e7",
   "metadata": {},
   "source": [
    "1.1 Install Dependencies"
   ]
  },
  {
   "cell_type": "code",
   "execution_count": null,
   "id": "974c37cf-07f2-4053-b056-79b157b4b88d",
   "metadata": {
    "scrolled": true
   },
   "outputs": [],
   "source": [
    "%pip install tensorflow matplotlib tensorflow-io"
   ]
  },
  {
   "cell_type": "code",
   "execution_count": 1,
   "id": "0168fc08-022c-49ca-a7ff-7874b831e0b9",
   "metadata": {
    "scrolled": true
   },
   "outputs": [
    {
     "name": "stderr",
     "output_type": "stream",
     "text": [
      "2023-11-15 13:38:39.012163: I tensorflow/core/platform/cpu_feature_guard.cc:182] This TensorFlow binary is optimized to use available CPU instructions in performance-critical operations.\n",
      "To enable the following instructions: AVX2 FMA, in other operations, rebuild TensorFlow with the appropriate compiler flags.\n",
      "2023-11-15 13:38:40.286566: W tensorflow/compiler/tf2tensorrt/utils/py_utils.cc:38] TF-TRT Warning: Could not find TensorRT\n"
     ]
    }
   ],
   "source": [
    "%matplotlib inline\n",
    "import matplotlib.pyplot as plt\n",
    "import os\n",
    "from scipy.io import wavfile\n",
    "from collections import defaultdict, Counter\n",
    "from scipy import signal\n",
    "import numpy as np\n",
    "import librosa\n",
    "from sklearn import preprocessing\n",
    "import random as rn\n",
    "from keras.layers import Dense\n",
    "from keras import Input\n",
    "from tensorflow.keras.models import Model\n",
    "from keras.utils import to_categorical\n",
    "from keras.layers import Dense, TimeDistributed, Dropout, Bidirectional, GRU, BatchNormalization, Activation, LeakyReLU, LSTM, Flatten, RepeatVector, Permute, Multiply, Conv2D, MaxPooling2D\n",
    "import tensorflow as tf\n",
    "import random"
   ]
  },
  {
   "cell_type": "markdown",
   "id": "fe13c47f-76c3-43c6-b048-63b80dd33ce5",
   "metadata": {},
   "source": [
    "2. Data Loading"
   ]
  },
  {
   "cell_type": "code",
   "execution_count": 2,
   "id": "bd226490-6909-4db9-8c6b-240da2158ca0",
   "metadata": {
    "tags": []
   },
   "outputs": [
    {
     "name": "stderr",
     "output_type": "stream",
     "text": [
      "2023-11-15 13:38:49.603385: I tensorflow/compiler/xla/stream_executor/cuda/cuda_gpu_executor.cc:981] could not open file to read NUMA node: /sys/bus/pci/devices/0000:01:00.0/numa_node\n",
      "Your kernel may have been built without NUMA support.\n",
      "2023-11-15 13:38:49.986588: I tensorflow/compiler/xla/stream_executor/cuda/cuda_gpu_executor.cc:981] could not open file to read NUMA node: /sys/bus/pci/devices/0000:01:00.0/numa_node\n",
      "Your kernel may have been built without NUMA support.\n",
      "2023-11-15 13:38:49.986658: I tensorflow/compiler/xla/stream_executor/cuda/cuda_gpu_executor.cc:981] could not open file to read NUMA node: /sys/bus/pci/devices/0000:01:00.0/numa_node\n",
      "Your kernel may have been built without NUMA support.\n"
     ]
    }
   ],
   "source": [
    "# Avoid OOM errors by setting GPU Memory Consumption Growth\n",
    "gpus = tf.config.experimental.list_physical_devices('GPU')\n",
    "for gpu in gpus: \n",
    "    tf.config.experimental.set_memory_growth(gpu, True)"
   ]
  },
  {
   "cell_type": "code",
   "execution_count": 3,
   "id": "94676b38-96b1-4c23-b55d-53b2cd5bbc12",
   "metadata": {
    "scrolled": true
   },
   "outputs": [
    {
     "name": "stdout",
     "output_type": "stream",
     "text": [
      "1 Physical GPUs, 1 Logical GPUs\n"
     ]
    },
    {
     "name": "stderr",
     "output_type": "stream",
     "text": [
      "2023-11-15 13:38:52.224046: I tensorflow/compiler/xla/stream_executor/cuda/cuda_gpu_executor.cc:981] could not open file to read NUMA node: /sys/bus/pci/devices/0000:01:00.0/numa_node\n",
      "Your kernel may have been built without NUMA support.\n",
      "2023-11-15 13:38:52.224179: I tensorflow/compiler/xla/stream_executor/cuda/cuda_gpu_executor.cc:981] could not open file to read NUMA node: /sys/bus/pci/devices/0000:01:00.0/numa_node\n",
      "Your kernel may have been built without NUMA support.\n",
      "2023-11-15 13:38:52.224218: I tensorflow/compiler/xla/stream_executor/cuda/cuda_gpu_executor.cc:981] could not open file to read NUMA node: /sys/bus/pci/devices/0000:01:00.0/numa_node\n",
      "Your kernel may have been built without NUMA support.\n",
      "2023-11-15 13:38:53.990579: I tensorflow/compiler/xla/stream_executor/cuda/cuda_gpu_executor.cc:981] could not open file to read NUMA node: /sys/bus/pci/devices/0000:01:00.0/numa_node\n",
      "Your kernel may have been built without NUMA support.\n",
      "2023-11-15 13:38:53.990606: I tensorflow/core/common_runtime/gpu/gpu_device.cc:1726] Could not identify NUMA node of platform GPU id 0, defaulting to 0.  Your kernel may not have been built with NUMA support.\n",
      "2023-11-15 13:38:53.990667: I tensorflow/compiler/xla/stream_executor/cuda/cuda_gpu_executor.cc:981] could not open file to read NUMA node: /sys/bus/pci/devices/0000:01:00.0/numa_node\n",
      "Your kernel may have been built without NUMA support.\n",
      "2023-11-15 13:38:53.990706: I tensorflow/compiler/xla/stream_executor/cuda/cuda_gpu_executor.cc:981] could not open file to read NUMA node: /sys/bus/pci/devices/0000:01:00.0/numa_node\n",
      "Your kernel may have been built without NUMA support.\n",
      "2023-11-15 13:38:53.990749: I tensorflow/core/common_runtime/gpu/gpu_device.cc:1639] Created device /job:localhost/replica:0/task:0/device:GPU:0 with 3072 MB memory:  -> device: 0, name: NVIDIA GeForce GTX 1660 Ti, pci bus id: 0000:01:00.0, compute capability: 7.5\n"
     ]
    }
   ],
   "source": [
    "gpus = tf.config.list_physical_devices('GPU')\n",
    "if gpus:\n",
    "  # Restrict TensorFlow to only allocate 1GB of memory on the first GPU\n",
    "  try:\n",
    "    tf.config.set_logical_device_configuration(\n",
    "        gpus[0],\n",
    "        [tf.config.LogicalDeviceConfiguration(memory_limit=3072)])\n",
    "    logical_gpus = tf.config.list_logical_devices('GPU')\n",
    "    print(len(gpus), \"Physical GPUs,\", len(logical_gpus), \"Logical GPUs\")\n",
    "  except RuntimeError as e:\n",
    "    # Virtual devices must be set before GPUs have been initialized\n",
    "    print(e)"
   ]
  },
  {
   "cell_type": "code",
   "execution_count": 4,
   "id": "c5b7b17f-cc6e-4171-a659-dca32797a7ee",
   "metadata": {},
   "outputs": [
    {
     "data": {
      "text/plain": [
       "[PhysicalDevice(name='/physical_device:GPU:0', device_type='GPU')]"
      ]
     },
     "execution_count": 4,
     "metadata": {},
     "output_type": "execute_result"
    }
   ],
   "source": [
    "tf.config.list_physical_devices('GPU')\n"
   ]
  },
  {
   "cell_type": "code",
   "execution_count": 5,
   "id": "10d5b60d-6ec9-4e45-9cb6-b6ad6f4c73d9",
   "metadata": {},
   "outputs": [],
   "source": [
    "DATA_DIR = os.path.join('data', 'train/')"
   ]
  },
  {
   "cell_type": "code",
   "execution_count": 6,
   "id": "19a347db-7204-4092-86cc-bbdb3b0e2274",
   "metadata": {},
   "outputs": [
    {
     "name": "stdout",
     "output_type": "stream",
     "text": [
      "sr: 16000\n",
      "wav shape: (7040,)\n",
      "length: 0.44 secs\n"
     ]
    }
   ],
   "source": [
    "wav, sr = librosa.load(DATA_DIR + 'Q-01.wav', sr=16000)\n",
    "print('sr:', sr)\n",
    "print('wav shape:', wav.shape)\n",
    "print('length:', wav.shape[0]/float(sr), 'secs')"
   ]
  },
  {
   "cell_type": "code",
   "execution_count": 7,
   "id": "387ed053-15fa-40ff-8290-3f32e3dd068f",
   "metadata": {},
   "outputs": [
    {
     "name": "stdout",
     "output_type": "stream",
     "text": [
      "[<matplotlib.lines.Line2D object at 0x7fe56d7f7f40>]\n",
      "[<matplotlib.lines.Line2D object at 0x7fe56d7113a0>]\n"
     ]
    },
    {
     "data": {
      "image/png": "[encoded data removed]",
      "text/plain": [
       "<Figure size 640x480 with 1 Axes>"
      ]
     },
     "metadata": {},
     "output_type": "display_data"
    }
   ],
   "source": [
    "# raw wave\n",
    "print(plt.plot(wav))\n",
    "print(plt.plot(wav[0:500]))"
   ]
  },
  {
   "cell_type": "code",
   "execution_count": 8,
   "id": "7d5bdb87-9a60-4935-8f31-61da98c92a43",
   "metadata": {},
   "outputs": [],
   "source": [
    "train_mlp = []\n",
    "train_spectrograms = []\n",
    "train_mel_spectrograms = []\n",
    "train_mfccs = []\n",
    "train_y = []\n",
    "\n",
    "test_mlp = []\n",
    "test_spectrograms = []\n",
    "test_mel_spectrograms = []\n",
    "test_mfccs = []\n",
    "test_y = []\n",
    "\n",
    "# 모든 음성파일의 길이가 같도록 후위에 padding 처리\n",
    "pad1d = lambda a, i: a[0: i] if a.shape[0] > i else np.hstack((a, np.zeros(i-a.shape[0])))\n",
    "pad2d = lambda a, i: a[:, 0:i] if a.shape[1] > i else np.hstack((a, np.zeros((a.shape[0], i-a.shape[1]))))\n",
    "\n",
    "frame_length = 0.025\n",
    "frame_stride = 0.0010"
   ]
  },
  {
   "cell_type": "code",
   "execution_count": 9,
   "id": "f42108aa-5c3b-42d4-a27f-3c05056f6d1c",
   "metadata": {
    "scrolled": true
   },
   "outputs": [],
   "source": [
    "from sklearn.model_selection import train_test_split\n",
    "\n",
    "def get_labels(filename):\n",
    "  if filename[0] == 'Q':\n",
    "    return 0\n",
    "  elif filename[0] == 'W':\n",
    "    return 1\n",
    "  elif filename[0] == 'E':\n",
    "    return 2\n",
    "  elif filename[0] == 'R':\n",
    "    return 3\n"
   ]
  },
  {
   "cell_type": "markdown",
   "id": "5fbadc43-339c-4b8a-94bd-7a424b2c7691",
   "metadata": {},
   "source": [
    "simple MLP with raw waves"
   ]
  },
  {
   "cell_type": "code",
   "execution_count": 10,
   "id": "e2a0ebf4-1bbf-4623-8b3c-c9004e4eadfc",
   "metadata": {
    "scrolled": true
   },
   "outputs": [],
   "source": [
    "def get_mlp(filename):\n",
    "    wav, sr = librosa.load(DATA_DIR + filename, sr=16000)\n",
    "    padded_x = pad1d(wav, 30000)\n",
    "    return padded_x\n",
    "\n",
    "X = []\n",
    "y = []\n",
    "\n",
    "for filename in os.listdir(DATA_DIR):\n",
    "    if '.wav' not in filename:\n",
    "        continue\n",
    "    \n",
    "    padded_x = get_mlp(filename)\n",
    "    label = get_labels(filename)\n",
    "\n",
    "    X.append(padded_x)\n",
    "    y.append(label)\n",
    "        \n",
    "train_mlp, test_mlp, train_y, test_y = train_test_split(X, y, test_size=0.2, random_state=42)"
   ]
  },
  {
   "cell_type": "code",
   "execution_count": 11,
   "id": "5030dd2b-6510-488f-b63a-0b46bb87eabd",
   "metadata": {
    "scrolled": true
   },
   "outputs": [
    {
     "name": "stdout",
     "output_type": "stream",
     "text": [
      "train_X: (903, 30000)\n",
      "train_y: (903, 4)\n",
      "test_X: (226, 30000)\n",
      "test_y: (226, 4)\n"
     ]
    }
   ],
   "source": [
    "train_mlp = np.vstack(train_mlp)\n",
    "train_y = to_categorical(np.array(train_y))\n",
    "\n",
    "test_mlp = np.vstack(test_mlp)\n",
    "test_y = to_categorical(np.array(test_y))\n",
    "\n",
    "\n",
    "print('train_X:', train_mlp.shape)\n",
    "print('train_y:', train_y.shape)\n",
    "\n",
    "print('test_X:', test_mlp.shape)\n",
    "print('test_y:', test_y.shape) "
   ]
  },
  {
   "cell_type": "code",
   "execution_count": 12,
   "id": "af96de90-dda4-43b8-83d7-3d7d5ee7063f",
   "metadata": {},
   "outputs": [],
   "source": [
    "from keras.models import Sequential\n",
    "from keras.layers import Dense, Flatten\n",
    "\n",
    "model = Sequential()\n",
    "model.add(Flatten(input_shape=train_mlp.shape[1:]))\n",
    "model.add(Dense(128, activation='relu'))\n",
    "model.add(Dense(64, activation='relu'))\n",
    "model.add(Dense(train_y.shape[1], activation='softmax'))"
   ]
  },
  {
   "cell_type": "code",
   "execution_count": 13,
   "id": "b86d1430-007f-4c72-904e-8641b5c1d690",
   "metadata": {
    "collapsed": true,
    "jupyter": {
     "outputs_hidden": true
    }
   },
   "outputs": [
    {
     "name": "stdout",
     "output_type": "stream",
     "text": [
      "Epoch 1/50\n"
     ]
    },
    {
     "name": "stderr",
     "output_type": "stream",
     "text": [
      "2023-11-15 13:39:12.190293: I tensorflow/compiler/xla/service/service.cc:168] XLA service 0x32b3dc30 initialized for platform CUDA (this does not guarantee that XLA will be used). Devices:\n",
      "2023-11-15 13:39:12.190341: I tensorflow/compiler/xla/service/service.cc:176]   StreamExecutor device (0): NVIDIA GeForce GTX 1660 Ti, Compute Capability 7.5\n",
      "2023-11-15 13:39:12.255398: I tensorflow/compiler/mlir/tensorflow/utils/dump_mlir_util.cc:255] disabling MLIR crash reproducer, set env var `MLIR_CRASH_REPRODUCER_DIRECTORY` to enable.\n",
      "2023-11-15 13:39:12.626914: I tensorflow/compiler/xla/stream_executor/cuda/cuda_dnn.cc:432] Loaded cuDNN version 8600\n",
      "2023-11-15 13:39:13.029510: I ./tensorflow/compiler/jit/device_compiler.h:186] Compiled cluster using XLA!  This line is logged at most once for the lifetime of the process.\n"
     ]
    },
    {
     "name": "stdout",
     "output_type": "stream",
     "text": [
      "29/29 [==============================] - 5s 25ms/step - loss: 1.3636 - accuracy: 0.3699 - val_loss: 1.3274 - val_accuracy: 0.4381\n",
      "Epoch 2/50\n",
      "29/29 [==============================] - 0s 10ms/step - loss: 1.1848 - accuracy: 0.6379 - val_loss: 1.1993 - val_accuracy: 0.4956\n",
      "Epoch 3/50\n",
      "29/29 [==============================] - 0s 10ms/step - loss: 0.9038 - accuracy: 0.7674 - val_loss: 1.0563 - val_accuracy: 0.5442\n",
      "Epoch 4/50\n",
      "29/29 [==============================] - 0s 11ms/step - loss: 0.6040 - accuracy: 0.8516 - val_loss: 0.9197 - val_accuracy: 0.5708\n",
      "Epoch 5/50\n",
      "29/29 [==============================] - 0s 11ms/step - loss: 0.3765 - accuracy: 0.9225 - val_loss: 0.8688 - val_accuracy: 0.6327\n",
      "Epoch 6/50\n",
      "29/29 [==============================] - 0s 11ms/step - loss: 0.2201 - accuracy: 0.9668 - val_loss: 0.8603 - val_accuracy: 0.6372\n",
      "Epoch 7/50\n",
      "29/29 [==============================] - 0s 11ms/step - loss: 0.1216 - accuracy: 0.9945 - val_loss: 0.8606 - val_accuracy: 0.6593\n",
      "Epoch 8/50\n",
      "29/29 [==============================] - 0s 11ms/step - loss: 0.0691 - accuracy: 0.9989 - val_loss: 0.8885 - val_accuracy: 0.6681\n",
      "Epoch 9/50\n",
      "29/29 [==============================] - 0s 11ms/step - loss: 0.0405 - accuracy: 1.0000 - val_loss: 0.9097 - val_accuracy: 0.6637\n",
      "Epoch 10/50\n",
      "29/29 [==============================] - 0s 11ms/step - loss: 0.0260 - accuracy: 1.0000 - val_loss: 0.9478 - val_accuracy: 0.6593\n",
      "Epoch 11/50\n",
      "29/29 [==============================] - 0s 12ms/step - loss: 0.0182 - accuracy: 1.0000 - val_loss: 0.9572 - val_accuracy: 0.6681\n",
      "Epoch 12/50\n",
      "29/29 [==============================] - 0s 11ms/step - loss: 0.0134 - accuracy: 1.0000 - val_loss: 0.9871 - val_accuracy: 0.6726\n",
      "Epoch 13/50\n",
      "29/29 [==============================] - 0s 12ms/step - loss: 0.0103 - accuracy: 1.0000 - val_loss: 1.0075 - val_accuracy: 0.6726\n",
      "Epoch 14/50\n",
      "29/29 [==============================] - 0s 12ms/step - loss: 0.0082 - accuracy: 1.0000 - val_loss: 1.0327 - val_accuracy: 0.6770\n",
      "Epoch 15/50\n",
      "29/29 [==============================] - 0s 12ms/step - loss: 0.0067 - accuracy: 1.0000 - val_loss: 1.0466 - val_accuracy: 0.6947\n",
      "Epoch 16/50\n",
      "29/29 [==============================] - 0s 11ms/step - loss: 0.0056 - accuracy: 1.0000 - val_loss: 1.0655 - val_accuracy: 0.6814\n",
      "Epoch 17/50\n",
      "29/29 [==============================] - 0s 12ms/step - loss: 0.0047 - accuracy: 1.0000 - val_loss: 1.0793 - val_accuracy: 0.6770\n",
      "Epoch 18/50\n",
      "29/29 [==============================] - 0s 12ms/step - loss: 0.0040 - accuracy: 1.0000 - val_loss: 1.0944 - val_accuracy: 0.6858\n",
      "Epoch 19/50\n",
      "29/29 [==============================] - 0s 12ms/step - loss: 0.0035 - accuracy: 1.0000 - val_loss: 1.1087 - val_accuracy: 0.6770\n",
      "Epoch 20/50\n",
      "29/29 [==============================] - 0s 12ms/step - loss: 0.0031 - accuracy: 1.0000 - val_loss: 1.1229 - val_accuracy: 0.6858\n",
      "Epoch 21/50\n",
      "29/29 [==============================] - 0s 12ms/step - loss: 0.0027 - accuracy: 1.0000 - val_loss: 1.1349 - val_accuracy: 0.6858\n",
      "Epoch 22/50\n",
      "29/29 [==============================] - 0s 12ms/step - loss: 0.0024 - accuracy: 1.0000 - val_loss: 1.1471 - val_accuracy: 0.6858\n",
      "Epoch 23/50\n",
      "29/29 [==============================] - 0s 12ms/step - loss: 0.0022 - accuracy: 1.0000 - val_loss: 1.1548 - val_accuracy: 0.6858\n",
      "Epoch 24/50\n",
      "29/29 [==============================] - 0s 13ms/step - loss: 0.0020 - accuracy: 1.0000 - val_loss: 1.1672 - val_accuracy: 0.6858\n",
      "Epoch 25/50\n",
      "29/29 [==============================] - 0s 12ms/step - loss: 0.0018 - accuracy: 1.0000 - val_loss: 1.1781 - val_accuracy: 0.6903\n",
      "Epoch 26/50\n",
      "29/29 [==============================] - 0s 13ms/step - loss: 0.0016 - accuracy: 1.0000 - val_loss: 1.1866 - val_accuracy: 0.6858\n",
      "Epoch 27/50\n",
      "29/29 [==============================] - 0s 12ms/step - loss: 0.0015 - accuracy: 1.0000 - val_loss: 1.1978 - val_accuracy: 0.6858\n",
      "Epoch 28/50\n",
      "29/29 [==============================] - 0s 12ms/step - loss: 0.0014 - accuracy: 1.0000 - val_loss: 1.2015 - val_accuracy: 0.6858\n",
      "Epoch 29/50\n",
      "29/29 [==============================] - 0s 12ms/step - loss: 0.0012 - accuracy: 1.0000 - val_loss: 1.2125 - val_accuracy: 0.6858\n",
      "Epoch 30/50\n",
      "29/29 [==============================] - 0s 12ms/step - loss: 0.0012 - accuracy: 1.0000 - val_loss: 1.2216 - val_accuracy: 0.6814\n",
      "Epoch 31/50\n",
      "29/29 [==============================] - 0s 12ms/step - loss: 0.0011 - accuracy: 1.0000 - val_loss: 1.2315 - val_accuracy: 0.6814\n",
      "Epoch 32/50\n",
      "29/29 [==============================] - 0s 12ms/step - loss: 9.9257e-04 - accuracy: 1.0000 - val_loss: 1.2388 - val_accuracy: 0.6770\n",
      "Epoch 33/50\n",
      "29/29 [==============================] - 0s 11ms/step - loss: 9.2543e-04 - accuracy: 1.0000 - val_loss: 1.2473 - val_accuracy: 0.6814\n",
      "Epoch 34/50\n",
      "29/29 [==============================] - 0s 12ms/step - loss: 8.6268e-04 - accuracy: 1.0000 - val_loss: 1.2550 - val_accuracy: 0.6814\n",
      "Epoch 35/50\n",
      "29/29 [==============================] - 0s 13ms/step - loss: 8.0797e-04 - accuracy: 1.0000 - val_loss: 1.2611 - val_accuracy: 0.6814\n",
      "Epoch 36/50\n",
      "29/29 [==============================] - 0s 12ms/step - loss: 7.5901e-04 - accuracy: 1.0000 - val_loss: 1.2652 - val_accuracy: 0.6858\n",
      "Epoch 37/50\n",
      "29/29 [==============================] - 0s 12ms/step - loss: 7.1211e-04 - accuracy: 1.0000 - val_loss: 1.2739 - val_accuracy: 0.6814\n",
      "Epoch 38/50\n",
      "29/29 [==============================] - 0s 12ms/step - loss: 6.6902e-04 - accuracy: 1.0000 - val_loss: 1.2790 - val_accuracy: 0.6814\n",
      "Epoch 39/50\n",
      "29/29 [==============================] - 0s 12ms/step - loss: 6.3045e-04 - accuracy: 1.0000 - val_loss: 1.2846 - val_accuracy: 0.6814\n",
      "Epoch 40/50\n",
      "29/29 [==============================] - 0s 12ms/step - loss: 5.9599e-04 - accuracy: 1.0000 - val_loss: 1.2920 - val_accuracy: 0.6770\n",
      "Epoch 41/50\n",
      "29/29 [==============================] - 0s 11ms/step - loss: 5.6191e-04 - accuracy: 1.0000 - val_loss: 1.2973 - val_accuracy: 0.6814\n",
      "Epoch 42/50\n",
      "29/29 [==============================] - 0s 12ms/step - loss: 5.3231e-04 - accuracy: 1.0000 - val_loss: 1.3029 - val_accuracy: 0.6770\n",
      "Epoch 43/50\n",
      "29/29 [==============================] - 0s 12ms/step - loss: 5.0463e-04 - accuracy: 1.0000 - val_loss: 1.3130 - val_accuracy: 0.6770\n",
      "Epoch 44/50\n",
      "29/29 [==============================] - 0s 12ms/step - loss: 4.7889e-04 - accuracy: 1.0000 - val_loss: 1.3178 - val_accuracy: 0.6770\n",
      "Epoch 45/50\n",
      "29/29 [==============================] - 0s 13ms/step - loss: 4.5412e-04 - accuracy: 1.0000 - val_loss: 1.3232 - val_accuracy: 0.6770\n",
      "Epoch 46/50\n",
      "29/29 [==============================] - 0s 13ms/step - loss: 4.3249e-04 - accuracy: 1.0000 - val_loss: 1.3272 - val_accuracy: 0.6814\n",
      "Epoch 47/50\n",
      "29/29 [==============================] - 0s 13ms/step - loss: 4.1127e-04 - accuracy: 1.0000 - val_loss: 1.3326 - val_accuracy: 0.6814\n",
      "Epoch 48/50\n",
      "29/29 [==============================] - 0s 12ms/step - loss: 3.9182e-04 - accuracy: 1.0000 - val_loss: 1.3381 - val_accuracy: 0.6814\n",
      "Epoch 49/50\n",
      "29/29 [==============================] - 0s 13ms/step - loss: 3.7372e-04 - accuracy: 1.0000 - val_loss: 1.3428 - val_accuracy: 0.6814\n",
      "Epoch 50/50\n",
      "29/29 [==============================] - 0s 13ms/step - loss: 3.5654e-04 - accuracy: 1.0000 - val_loss: 1.3477 - val_accuracy: 0.6814\n"
     ]
    }
   ],
   "source": [
    "model.compile(loss='categorical_crossentropy',\n",
    "              optimizer='adam',\n",
    "              metrics=['accuracy'])\n",
    "\n",
    "history = model.fit(train_mlp,\n",
    "                    train_y,\n",
    "                    epochs=50,\n",
    "                    batch_size=32,\n",
    "                    validation_data=(test_mlp, test_y))"
   ]
  },
  {
   "cell_type": "code",
   "execution_count": 14,
   "id": "8d889852-3721-4ada-b2e1-78b1d4c66933",
   "metadata": {},
   "outputs": [
    {
     "data": {
      "text/plain": [
       "<matplotlib.legend.Legend at 0x7fe56d754790>"
      ]
     },
     "execution_count": 14,
     "metadata": {},
     "output_type": "execute_result"
    },
    {
     "data": {
      "image/png": "[encoded data removed]",
      "text/plain": [
       "<Figure size 640x480 with 1 Axes>"
      ]
     },
     "metadata": {},
     "output_type": "display_data"
    }
   ],
   "source": [
    "plt.plot(history.history['accuracy'], label='Train Accuracy')\n",
    "plt.plot(history.history['val_accuracy'], label='Validation Accuracy')\n",
    "plt.xlabel('Epochs')\n",
    "plt.ylabel('Accuracy')\n",
    "plt.legend()\n"
   ]
  },
  {
   "cell_type": "markdown",
   "metadata": {},
   "source": [
    "Model Test"
   ]
  },
  {
   "cell_type": "code",
   "execution_count": 15,
   "id": "abd0f74b",
   "metadata": {},
   "outputs": [
    {
     "name": "stdout",
     "output_type": "stream",
     "text": [
      "1/1 [==============================] - 0s 73ms/step\n"
     ]
    },
    {
     "data": {
      "image/png": "[encoded data removed]",
      "text/plain": [
       "<Figure size 640x480 with 1 Axes>"
      ]
     },
     "metadata": {},
     "output_type": "display_data"
    },
    {
     "data": {
      "text/plain": [
       "array([[1.0000000e+00, 4.8672952e-08, 1.1262035e-12, 9.3000319e-09]],\n",
       "      dtype=float32)"
      ]
     },
     "execution_count": 15,
     "metadata": {},
     "output_type": "execute_result"
    }
   ],
   "source": [
    "filename = ('Q-08.wav')\n",
    "padded_x = get_mlp(filename)\n",
    "padded_x = np.expand_dims(padded_x, 0)\n",
    "prediction = model.predict(padded_x)\n",
    "plt.bar([\"Q\", \"W\", \"E\", \"R\"], tf.nn.softmax(prediction[0]))\n",
    "plt.title('Q')\n",
    "plt.show()\n",
    "prediction"
   ]
  },
  {
   "cell_type": "code",
   "execution_count": 16,
   "id": "b57d79f2",
   "metadata": {},
   "outputs": [
    {
     "name": "stdout",
     "output_type": "stream",
     "text": [
      "1/1 [==============================] - 0s 22ms/step\n"
     ]
    },
    {
     "data": {
      "image/png": "[encoded data removed]",
      "text/plain": [
       "<Figure size 640x480 with 1 Axes>"
      ]
     },
     "metadata": {},
     "output_type": "display_data"
    },
    {
     "data": {
      "text/plain": [
       "array([[6.2854248e-05, 9.9991238e-01, 2.4539591e-05, 2.2545568e-07]],\n",
       "      dtype=float32)"
      ]
     },
     "execution_count": 16,
     "metadata": {},
     "output_type": "execute_result"
    }
   ],
   "source": [
    "filename = ('W-03.wav')\n",
    "padded_x = get_mlp(filename)\n",
    "padded_x = np.expand_dims(padded_x, 0)\n",
    "prediction = model.predict(padded_x)\n",
    "plt.bar([\"Q\", \"W\", \"E\", \"R\"], tf.nn.softmax(prediction[0]))\n",
    "plt.title('W')\n",
    "plt.show()\n",
    "prediction"
   ]
  },
  {
   "cell_type": "code",
   "execution_count": 17,
   "id": "9adee419",
   "metadata": {},
   "outputs": [
    {
     "name": "stdout",
     "output_type": "stream",
     "text": [
      "1/1 [==============================] - 0s 21ms/step\n"
     ]
    },
    {
     "data": {
      "image/png": "[encoded data removed]",
      "text/plain": [
       "<Figure size 640x480 with 1 Axes>"
      ]
     },
     "metadata": {},
     "output_type": "display_data"
    },
    {
     "data": {
      "text/plain": [
       "array([[2.6535057e-10, 8.3502919e-06, 9.9998605e-01, 5.6025133e-06]],\n",
       "      dtype=float32)"
      ]
     },
     "execution_count": 17,
     "metadata": {},
     "output_type": "execute_result"
    }
   ],
   "source": [
    "filename = ('E-30.wav')\n",
    "padded_x = get_mlp(filename)\n",
    "padded_x = np.expand_dims(padded_x, 0)\n",
    "prediction = model.predict(padded_x)\n",
    "plt.bar([\"Q\", \"W\", \"E\", \"R\"], tf.nn.softmax(prediction[0]))\n",
    "plt.title('E')\n",
    "plt.show()\n",
    "prediction"
   ]
  },
  {
   "cell_type": "code",
   "execution_count": 18,
   "id": "dcb9be63",
   "metadata": {},
   "outputs": [
    {
     "name": "stdout",
     "output_type": "stream",
     "text": [
      "1/1 [==============================] - 0s 19ms/step\n"
     ]
    },
    {
     "data": {
      "image/png": "[encoded data removed]",
      "text/plain": [
       "<Figure size 640x480 with 1 Axes>"
      ]
     },
     "metadata": {},
     "output_type": "display_data"
    },
    {
     "data": {
      "text/plain": [
       "array([[1.2303766e-10, 2.6832065e-09, 1.8559214e-05, 9.9998140e-01]],\n",
       "      dtype=float32)"
      ]
     },
     "execution_count": 18,
     "metadata": {},
     "output_type": "execute_result"
    }
   ],
   "source": [
    "\n",
    "filename = ('R-08.wav')\n",
    "padded_x = get_mlp(filename)\n",
    "padded_x = np.expand_dims(padded_x, 0)\n",
    "prediction = model.predict(padded_x)\n",
    "plt.bar([\"Q\", \"W\", \"E\", \"R\"], tf.nn.softmax(prediction[0]))\n",
    "plt.title('R')\n",
    "plt.show()\n",
    "prediction"
   ]
  },
  {
   "cell_type": "markdown",
   "id": "90f1329f",
   "metadata": {},
   "source": [
    "Train accuracy okay, test accuracy very low. "
   ]
  },
  {
   "cell_type": "markdown",
   "id": "31a5ab84-d59b-4df9-ac49-8eec2476dc01",
   "metadata": {},
   "source": [
    "MFCC feature로 학습"
   ]
  },
  {
   "cell_type": "code",
   "execution_count": 19,
   "id": "d81d2625",
   "metadata": {},
   "outputs": [],
   "source": [
    "def get_mfcc(filename):\n",
    "  wav, sr = librosa.load(filename, sr=16000)\n",
    "  mfcc = librosa.feature.mfcc(y=wav, sr=16000, n_mfcc=100, n_fft=400, hop_length=160)\n",
    "  mfcc = mfcc/ 1000000\n",
    "  mfcc = preprocessing.scale(mfcc, axis=1)\n",
    "  padded_mfcc = pad2d(mfcc, 40)\n",
    "  return padded_mfcc\n",
    "\n",
    "X = []\n",
    "y = []\n",
    "for filename in os.listdir(DATA_DIR):\n",
    "    if '.wav' not in filename:\n",
    "        continue\n",
    "    mfcc = get_mfcc(DATA_DIR + filename)\n",
    "    label = get_labels(filename)\n",
    "\n",
    "    X.append(mfcc)\n",
    "    y.append(label)\n",
    "\n",
    "train_mfccs, test_mfccs, train_y, test_y = train_test_split(X, y, test_size=0.2, random_state=42)"
   ]
  },
  {
   "cell_type": "code",
   "execution_count": 20,
   "id": "2822834b",
   "metadata": {},
   "outputs": [
    {
     "name": "stdout",
     "output_type": "stream",
     "text": [
      "train_mfccs: (903, 100, 40)\n",
      "train_y: (903, 4)\n",
      "test_mfccs: (226, 100, 40)\n",
      "test_y: (226, 4)\n"
     ]
    }
   ],
   "source": [
    "train_mfccs = np.array(train_mfccs)\n",
    "train_y = to_categorical(np.array(train_y))\n",
    "\n",
    "test_mfccs = np.array(test_mfccs)\n",
    "test_y = to_categorical(np.array(test_y))\n",
    "\n",
    "print('train_mfccs:', train_mfccs.shape)\n",
    "print('train_y:', train_y.shape)\n",
    "\n",
    "print('test_mfccs:', test_mfccs.shape)\n",
    "print('test_y:', test_y.shape)"
   ]
  },
  {
   "cell_type": "code",
   "execution_count": 21,
   "id": "ec9e87fd-05cc-4e06-8dd7-ceb1b40e0091",
   "metadata": {},
   "outputs": [
    {
     "name": "stdout",
     "output_type": "stream",
     "text": [
      "train X shape: (903, 100, 40, 1)\n",
      "test X shape: (226, 100, 40, 1)\n"
     ]
    }
   ],
   "source": [
    "train_mfccs = np.expand_dims(train_mfccs, -1)\n",
    "test_mfccs = np.expand_dims(test_mfccs, -1)\n",
    "print('train X shape:', train_mfccs.shape)\n",
    "print('test X shape:', test_mfccs.shape)"
   ]
  },
  {
   "cell_type": "code",
   "execution_count": 22,
   "id": "83693709-78cd-4482-a607-6a8c4f7f58ac",
   "metadata": {
    "scrolled": true
   },
   "outputs": [
    {
     "name": "stdout",
     "output_type": "stream",
     "text": [
      "Model: \"model\"\n",
      "_________________________________________________________________\n",
      " Layer (type)                Output Shape              Param #   \n",
      "=================================================================\n",
      " input_1 (InputLayer)        [(None, 100, 40, 1)]      0         \n",
      "                                                                 \n",
      " conv2d_2 (Conv2D)           (None, 97, 37, 96)        1632      \n",
      "                                                                 \n",
      " max_pooling2d_2 (MaxPoolin  (None, 24, 9, 96)         0         \n",
      " g2D)                                                            \n",
      "                                                                 \n",
      " flatten_1 (Flatten)         (None, 20736)             0         \n",
      "                                                                 \n",
      " dense_3 (Dense)             (None, 64)                1327168   \n",
      "                                                                 \n",
      " dense_4 (Dense)             (None, 32)                2080      \n",
      "                                                                 \n",
      " dense_5 (Dense)             (None, 4)                 132       \n",
      "                                                                 \n",
      "=================================================================\n",
      "Total params: 1331012 (5.08 MB)\n",
      "Trainable params: 1331012 (5.08 MB)\n",
      "Non-trainable params: 0 (0.00 Byte)\n",
      "_________________________________________________________________\n"
     ]
    }
   ],
   "source": [
    "ip = Input(shape=train_mfccs[0].shape)\n",
    "\n",
    "m = Conv2D(32, kernel_size=(4,4), activation='relu')(ip)\n",
    "m = MaxPooling2D(pool_size=(4,4))(m)\n",
    "\n",
    "m = Conv2D(32*2, kernel_size=(4,4), activation='relu')(ip)\n",
    "m = MaxPooling2D(pool_size=(4,4))(m)\n",
    "\n",
    "m = Conv2D(32 * 3, kernel_size=(4, 4), activation='relu')(ip)\n",
    "m = MaxPooling2D(pool_size=(4,4))(m)\n",
    "\n",
    "m = Flatten()(m)\n",
    "\n",
    "m = Dense(64, activation='relu')(m)\n",
    "\n",
    "m = Dense(32, activation='relu')(m)\n",
    "\n",
    "op = Dense(4, activation='softmax')(m)\n",
    "\n",
    "model = Model(ip, op)\n",
    "\n",
    "model.summary()"
   ]
  },
  {
   "cell_type": "code",
   "execution_count": 23,
   "id": "e8ffb8b8-9ff6-44ab-bdc0-4388ba96fb1f",
   "metadata": {
    "scrolled": true
   },
   "outputs": [
    {
     "name": "stdout",
     "output_type": "stream",
     "text": [
      "Epoch 1/100\n",
      "29/29 [==============================] - 5s 23ms/step - loss: 1.9539 - accuracy: 0.2857 - val_loss: 1.2709 - val_accuracy: 0.2832\n",
      "Epoch 2/100\n",
      "29/29 [==============================] - 0s 12ms/step - loss: 1.1271 - accuracy: 0.5770 - val_loss: 0.9676 - val_accuracy: 0.7965\n",
      "Epoch 3/100\n",
      "29/29 [==============================] - 0s 12ms/step - loss: 0.7136 - accuracy: 0.8084 - val_loss: 0.5077 - val_accuracy: 0.9336\n",
      "Epoch 4/100\n",
      "29/29 [==============================] - 0s 12ms/step - loss: 0.3814 - accuracy: 0.9280 - val_loss: 0.3184 - val_accuracy: 0.9469\n",
      "Epoch 5/100\n",
      "29/29 [==============================] - 0s 12ms/step - loss: 0.2142 - accuracy: 0.9568 - val_loss: 0.2657 - val_accuracy: 0.9159\n",
      "Epoch 6/100\n",
      "29/29 [==============================] - 0s 12ms/step - loss: 0.1460 - accuracy: 0.9668 - val_loss: 0.1658 - val_accuracy: 0.9513\n",
      "Epoch 7/100\n",
      "29/29 [==============================] - 0s 12ms/step - loss: 0.0686 - accuracy: 0.9934 - val_loss: 0.1089 - val_accuracy: 0.9823\n",
      "Epoch 8/100\n",
      "29/29 [==============================] - 0s 12ms/step - loss: 0.0416 - accuracy: 0.9978 - val_loss: 0.0898 - val_accuracy: 0.9823\n",
      "Epoch 9/100\n",
      "29/29 [==============================] - 0s 13ms/step - loss: 0.0303 - accuracy: 0.9956 - val_loss: 0.1095 - val_accuracy: 0.9602\n",
      "Epoch 10/100\n",
      "29/29 [==============================] - 0s 12ms/step - loss: 0.0216 - accuracy: 1.0000 - val_loss: 0.0840 - val_accuracy: 0.9735\n",
      "Epoch 11/100\n",
      "29/29 [==============================] - 0s 12ms/step - loss: 0.0140 - accuracy: 1.0000 - val_loss: 0.1088 - val_accuracy: 0.9646\n",
      "Epoch 12/100\n",
      "29/29 [==============================] - 0s 12ms/step - loss: 0.0152 - accuracy: 0.9989 - val_loss: 0.0715 - val_accuracy: 0.9735\n",
      "Epoch 13/100\n",
      "29/29 [==============================] - 0s 12ms/step - loss: 0.0071 - accuracy: 1.0000 - val_loss: 0.0625 - val_accuracy: 0.9735\n",
      "Epoch 14/100\n",
      "29/29 [==============================] - 0s 12ms/step - loss: 0.0053 - accuracy: 1.0000 - val_loss: 0.0564 - val_accuracy: 0.9779\n",
      "Epoch 15/100\n",
      "29/29 [==============================] - 0s 12ms/step - loss: 0.0047 - accuracy: 1.0000 - val_loss: 0.0534 - val_accuracy: 0.9779\n",
      "Epoch 16/100\n",
      "29/29 [==============================] - 0s 13ms/step - loss: 0.0036 - accuracy: 1.0000 - val_loss: 0.0490 - val_accuracy: 0.9867\n",
      "Epoch 17/100\n",
      "29/29 [==============================] - 0s 13ms/step - loss: 0.0028 - accuracy: 1.0000 - val_loss: 0.0475 - val_accuracy: 0.9867\n",
      "Epoch 18/100\n",
      "29/29 [==============================] - 0s 12ms/step - loss: 0.0024 - accuracy: 1.0000 - val_loss: 0.0506 - val_accuracy: 0.9779\n",
      "Epoch 19/100\n",
      "29/29 [==============================] - 0s 12ms/step - loss: 0.0022 - accuracy: 1.0000 - val_loss: 0.0521 - val_accuracy: 0.9735\n",
      "Epoch 20/100\n",
      "29/29 [==============================] - 0s 12ms/step - loss: 0.0019 - accuracy: 1.0000 - val_loss: 0.0443 - val_accuracy: 0.9867\n",
      "Epoch 21/100\n",
      "29/29 [==============================] - 0s 12ms/step - loss: 0.0017 - accuracy: 1.0000 - val_loss: 0.0474 - val_accuracy: 0.9779\n",
      "Epoch 22/100\n",
      "29/29 [==============================] - 0s 13ms/step - loss: 0.0015 - accuracy: 1.0000 - val_loss: 0.0435 - val_accuracy: 0.9867\n",
      "Epoch 23/100\n",
      "29/29 [==============================] - 0s 12ms/step - loss: 0.0014 - accuracy: 1.0000 - val_loss: 0.0428 - val_accuracy: 0.9912\n",
      "Epoch 24/100\n",
      "29/29 [==============================] - 0s 12ms/step - loss: 0.0013 - accuracy: 1.0000 - val_loss: 0.0433 - val_accuracy: 0.9867\n",
      "Epoch 25/100\n",
      "29/29 [==============================] - 0s 12ms/step - loss: 0.0011 - accuracy: 1.0000 - val_loss: 0.0445 - val_accuracy: 0.9779\n",
      "Epoch 26/100\n",
      "29/29 [==============================] - 0s 12ms/step - loss: 0.0010 - accuracy: 1.0000 - val_loss: 0.0414 - val_accuracy: 0.9867\n",
      "Epoch 27/100\n",
      "29/29 [==============================] - 0s 12ms/step - loss: 9.6687e-04 - accuracy: 1.0000 - val_loss: 0.0403 - val_accuracy: 0.9867\n",
      "Epoch 28/100\n",
      "29/29 [==============================] - 0s 12ms/step - loss: 8.7155e-04 - accuracy: 1.0000 - val_loss: 0.0419 - val_accuracy: 0.9867\n",
      "Epoch 29/100\n",
      "29/29 [==============================] - 0s 12ms/step - loss: 8.1174e-04 - accuracy: 1.0000 - val_loss: 0.0409 - val_accuracy: 0.9867\n",
      "Epoch 30/100\n",
      "29/29 [==============================] - 0s 12ms/step - loss: 7.6435e-04 - accuracy: 1.0000 - val_loss: 0.0412 - val_accuracy: 0.9867\n",
      "Epoch 31/100\n",
      "29/29 [==============================] - 0s 12ms/step - loss: 7.0136e-04 - accuracy: 1.0000 - val_loss: 0.0390 - val_accuracy: 0.9867\n",
      "Epoch 32/100\n",
      "29/29 [==============================] - 0s 12ms/step - loss: 6.6611e-04 - accuracy: 1.0000 - val_loss: 0.0393 - val_accuracy: 0.9867\n",
      "Epoch 33/100\n",
      "29/29 [==============================] - 0s 12ms/step - loss: 6.0125e-04 - accuracy: 1.0000 - val_loss: 0.0391 - val_accuracy: 0.9912\n",
      "Epoch 34/100\n",
      "29/29 [==============================] - 0s 13ms/step - loss: 5.6654e-04 - accuracy: 1.0000 - val_loss: 0.0413 - val_accuracy: 0.9867\n",
      "Epoch 35/100\n",
      "29/29 [==============================] - 0s 12ms/step - loss: 5.3357e-04 - accuracy: 1.0000 - val_loss: 0.0382 - val_accuracy: 0.9912\n",
      "Epoch 36/100\n",
      "29/29 [==============================] - 0s 12ms/step - loss: 5.0173e-04 - accuracy: 1.0000 - val_loss: 0.0409 - val_accuracy: 0.9912\n",
      "Epoch 37/100\n",
      "29/29 [==============================] - 0s 12ms/step - loss: 4.7941e-04 - accuracy: 1.0000 - val_loss: 0.0394 - val_accuracy: 0.9912\n",
      "Epoch 38/100\n",
      "29/29 [==============================] - 0s 12ms/step - loss: 4.4810e-04 - accuracy: 1.0000 - val_loss: 0.0366 - val_accuracy: 0.9867\n",
      "Epoch 39/100\n",
      "29/29 [==============================] - 0s 12ms/step - loss: 4.2145e-04 - accuracy: 1.0000 - val_loss: 0.0377 - val_accuracy: 0.9867\n",
      "Epoch 40/100\n",
      "29/29 [==============================] - 0s 12ms/step - loss: 4.0615e-04 - accuracy: 1.0000 - val_loss: 0.0366 - val_accuracy: 0.9867\n",
      "Epoch 41/100\n",
      "29/29 [==============================] - 0s 12ms/step - loss: 3.8358e-04 - accuracy: 1.0000 - val_loss: 0.0356 - val_accuracy: 0.9912\n",
      "Epoch 42/100\n",
      "29/29 [==============================] - 0s 12ms/step - loss: 3.6027e-04 - accuracy: 1.0000 - val_loss: 0.0386 - val_accuracy: 0.9912\n",
      "Epoch 43/100\n",
      "29/29 [==============================] - 0s 12ms/step - loss: 3.4513e-04 - accuracy: 1.0000 - val_loss: 0.0367 - val_accuracy: 0.9867\n",
      "Epoch 44/100\n",
      "29/29 [==============================] - 0s 12ms/step - loss: 3.2623e-04 - accuracy: 1.0000 - val_loss: 0.0373 - val_accuracy: 0.9912\n",
      "Epoch 45/100\n",
      "29/29 [==============================] - 0s 12ms/step - loss: 3.0691e-04 - accuracy: 1.0000 - val_loss: 0.0344 - val_accuracy: 0.9867\n",
      "Epoch 46/100\n",
      "29/29 [==============================] - 0s 12ms/step - loss: 2.9631e-04 - accuracy: 1.0000 - val_loss: 0.0353 - val_accuracy: 0.9912\n",
      "Epoch 47/100\n",
      "29/29 [==============================] - 0s 12ms/step - loss: 2.8249e-04 - accuracy: 1.0000 - val_loss: 0.0348 - val_accuracy: 0.9912\n",
      "Epoch 48/100\n",
      "29/29 [==============================] - 0s 11ms/step - loss: 2.6931e-04 - accuracy: 1.0000 - val_loss: 0.0372 - val_accuracy: 0.9867\n",
      "Epoch 49/100\n",
      "29/29 [==============================] - 0s 12ms/step - loss: 2.5354e-04 - accuracy: 1.0000 - val_loss: 0.0339 - val_accuracy: 0.9912\n",
      "Epoch 50/100\n",
      "29/29 [==============================] - 0s 11ms/step - loss: 2.4420e-04 - accuracy: 1.0000 - val_loss: 0.0346 - val_accuracy: 0.9867\n",
      "Epoch 51/100\n",
      "29/29 [==============================] - 0s 11ms/step - loss: 2.3434e-04 - accuracy: 1.0000 - val_loss: 0.0352 - val_accuracy: 0.9912\n",
      "Epoch 52/100\n",
      "29/29 [==============================] - 0s 12ms/step - loss: 2.2310e-04 - accuracy: 1.0000 - val_loss: 0.0337 - val_accuracy: 0.9912\n",
      "Epoch 53/100\n",
      "29/29 [==============================] - 0s 11ms/step - loss: 2.1923e-04 - accuracy: 1.0000 - val_loss: 0.0337 - val_accuracy: 0.9912\n",
      "Epoch 54/100\n",
      "29/29 [==============================] - 0s 11ms/step - loss: 2.0711e-04 - accuracy: 1.0000 - val_loss: 0.0353 - val_accuracy: 0.9912\n",
      "Epoch 55/100\n",
      "29/29 [==============================] - 0s 12ms/step - loss: 1.9782e-04 - accuracy: 1.0000 - val_loss: 0.0337 - val_accuracy: 0.9867\n",
      "Epoch 56/100\n",
      "29/29 [==============================] - 0s 11ms/step - loss: 1.8860e-04 - accuracy: 1.0000 - val_loss: 0.0329 - val_accuracy: 0.9912\n",
      "Epoch 57/100\n",
      "29/29 [==============================] - 0s 11ms/step - loss: 1.8204e-04 - accuracy: 1.0000 - val_loss: 0.0344 - val_accuracy: 0.9912\n",
      "Epoch 58/100\n",
      "29/29 [==============================] - 0s 12ms/step - loss: 1.7506e-04 - accuracy: 1.0000 - val_loss: 0.0345 - val_accuracy: 0.9912\n",
      "Epoch 59/100\n",
      "29/29 [==============================] - 0s 11ms/step - loss: 1.6806e-04 - accuracy: 1.0000 - val_loss: 0.0336 - val_accuracy: 0.9912\n",
      "Epoch 60/100\n",
      "29/29 [==============================] - 0s 12ms/step - loss: 1.6130e-04 - accuracy: 1.0000 - val_loss: 0.0320 - val_accuracy: 0.9912\n",
      "Epoch 61/100\n",
      "29/29 [==============================] - 0s 12ms/step - loss: 1.5903e-04 - accuracy: 1.0000 - val_loss: 0.0337 - val_accuracy: 0.9912\n",
      "Epoch 62/100\n",
      "29/29 [==============================] - 0s 11ms/step - loss: 1.5047e-04 - accuracy: 1.0000 - val_loss: 0.0329 - val_accuracy: 0.9912\n",
      "Epoch 63/100\n",
      "29/29 [==============================] - 0s 12ms/step - loss: 1.4713e-04 - accuracy: 1.0000 - val_loss: 0.0326 - val_accuracy: 0.9912\n",
      "Epoch 64/100\n",
      "29/29 [==============================] - 0s 11ms/step - loss: 1.4299e-04 - accuracy: 1.0000 - val_loss: 0.0333 - val_accuracy: 0.9912\n",
      "Epoch 65/100\n",
      "29/29 [==============================] - 0s 12ms/step - loss: 1.3447e-04 - accuracy: 1.0000 - val_loss: 0.0333 - val_accuracy: 0.9912\n",
      "Epoch 66/100\n",
      "29/29 [==============================] - 0s 12ms/step - loss: 1.2978e-04 - accuracy: 1.0000 - val_loss: 0.0314 - val_accuracy: 0.9912\n",
      "Epoch 67/100\n",
      "29/29 [==============================] - 0s 12ms/step - loss: 1.2629e-04 - accuracy: 1.0000 - val_loss: 0.0345 - val_accuracy: 0.9912\n",
      "Epoch 68/100\n",
      "29/29 [==============================] - 0s 11ms/step - loss: 1.2247e-04 - accuracy: 1.0000 - val_loss: 0.0317 - val_accuracy: 0.9912\n",
      "Epoch 69/100\n",
      "29/29 [==============================] - 0s 12ms/step - loss: 1.1879e-04 - accuracy: 1.0000 - val_loss: 0.0312 - val_accuracy: 0.9912\n",
      "Epoch 70/100\n",
      "29/29 [==============================] - 0s 11ms/step - loss: 1.1389e-04 - accuracy: 1.0000 - val_loss: 0.0317 - val_accuracy: 0.9912\n",
      "Epoch 71/100\n",
      "29/29 [==============================] - 0s 12ms/step - loss: 1.0983e-04 - accuracy: 1.0000 - val_loss: 0.0332 - val_accuracy: 0.9912\n",
      "Epoch 72/100\n",
      "29/29 [==============================] - 0s 11ms/step - loss: 1.0731e-04 - accuracy: 1.0000 - val_loss: 0.0322 - val_accuracy: 0.9912\n",
      "Epoch 73/100\n",
      "29/29 [==============================] - 0s 11ms/step - loss: 1.0282e-04 - accuracy: 1.0000 - val_loss: 0.0331 - val_accuracy: 0.9912\n",
      "Epoch 74/100\n",
      "29/29 [==============================] - 0s 12ms/step - loss: 1.0104e-04 - accuracy: 1.0000 - val_loss: 0.0307 - val_accuracy: 0.9912\n",
      "Epoch 75/100\n",
      "29/29 [==============================] - 0s 12ms/step - loss: 9.6624e-05 - accuracy: 1.0000 - val_loss: 0.0312 - val_accuracy: 0.9912\n",
      "Epoch 76/100\n",
      "29/29 [==============================] - 0s 11ms/step - loss: 9.3927e-05 - accuracy: 1.0000 - val_loss: 0.0314 - val_accuracy: 0.9912\n",
      "Epoch 77/100\n",
      "29/29 [==============================] - 0s 12ms/step - loss: 9.0838e-05 - accuracy: 1.0000 - val_loss: 0.0315 - val_accuracy: 0.9912\n",
      "Epoch 78/100\n",
      "29/29 [==============================] - 0s 11ms/step - loss: 8.7717e-05 - accuracy: 1.0000 - val_loss: 0.0317 - val_accuracy: 0.9912\n",
      "Epoch 79/100\n",
      "29/29 [==============================] - 0s 12ms/step - loss: 8.5059e-05 - accuracy: 1.0000 - val_loss: 0.0306 - val_accuracy: 0.9912\n",
      "Epoch 80/100\n",
      "29/29 [==============================] - 0s 11ms/step - loss: 8.2580e-05 - accuracy: 1.0000 - val_loss: 0.0312 - val_accuracy: 0.9912\n",
      "Epoch 81/100\n",
      "29/29 [==============================] - 0s 13ms/step - loss: 7.9907e-05 - accuracy: 1.0000 - val_loss: 0.0322 - val_accuracy: 0.9912\n",
      "Epoch 82/100\n",
      "29/29 [==============================] - 0s 12ms/step - loss: 7.8596e-05 - accuracy: 1.0000 - val_loss: 0.0311 - val_accuracy: 0.9912\n",
      "Epoch 83/100\n",
      "29/29 [==============================] - 0s 12ms/step - loss: 7.5898e-05 - accuracy: 1.0000 - val_loss: 0.0317 - val_accuracy: 0.9912\n",
      "Epoch 84/100\n",
      "29/29 [==============================] - 0s 12ms/step - loss: 7.3555e-05 - accuracy: 1.0000 - val_loss: 0.0302 - val_accuracy: 0.9912\n",
      "Epoch 85/100\n",
      "29/29 [==============================] - 0s 12ms/step - loss: 7.1838e-05 - accuracy: 1.0000 - val_loss: 0.0300 - val_accuracy: 0.9912\n",
      "Epoch 86/100\n",
      "29/29 [==============================] - 0s 12ms/step - loss: 6.9994e-05 - accuracy: 1.0000 - val_loss: 0.0301 - val_accuracy: 0.9912\n",
      "Epoch 87/100\n",
      "29/29 [==============================] - 0s 12ms/step - loss: 6.8212e-05 - accuracy: 1.0000 - val_loss: 0.0301 - val_accuracy: 0.9912\n",
      "Epoch 88/100\n",
      "29/29 [==============================] - 0s 12ms/step - loss: 6.5568e-05 - accuracy: 1.0000 - val_loss: 0.0310 - val_accuracy: 0.9912\n",
      "Epoch 89/100\n",
      "29/29 [==============================] - 0s 13ms/step - loss: 6.4682e-05 - accuracy: 1.0000 - val_loss: 0.0310 - val_accuracy: 0.9912\n",
      "Epoch 90/100\n",
      "29/29 [==============================] - 0s 12ms/step - loss: 6.1828e-05 - accuracy: 1.0000 - val_loss: 0.0301 - val_accuracy: 0.9912\n",
      "Epoch 91/100\n",
      "29/29 [==============================] - 0s 12ms/step - loss: 6.0889e-05 - accuracy: 1.0000 - val_loss: 0.0308 - val_accuracy: 0.9912\n",
      "Epoch 92/100\n",
      "29/29 [==============================] - 0s 12ms/step - loss: 5.8559e-05 - accuracy: 1.0000 - val_loss: 0.0295 - val_accuracy: 0.9912\n",
      "Epoch 93/100\n",
      "29/29 [==============================] - 0s 12ms/step - loss: 5.7480e-05 - accuracy: 1.0000 - val_loss: 0.0300 - val_accuracy: 0.9912\n",
      "Epoch 94/100\n",
      "29/29 [==============================] - 0s 12ms/step - loss: 5.5235e-05 - accuracy: 1.0000 - val_loss: 0.0298 - val_accuracy: 0.9912\n",
      "Epoch 95/100\n",
      "29/29 [==============================] - 0s 13ms/step - loss: 5.3956e-05 - accuracy: 1.0000 - val_loss: 0.0300 - val_accuracy: 0.9912\n",
      "Epoch 96/100\n",
      "29/29 [==============================] - 0s 12ms/step - loss: 5.2470e-05 - accuracy: 1.0000 - val_loss: 0.0300 - val_accuracy: 0.9912\n",
      "Epoch 97/100\n",
      "29/29 [==============================] - 0s 12ms/step - loss: 5.1656e-05 - accuracy: 1.0000 - val_loss: 0.0293 - val_accuracy: 0.9912\n",
      "Epoch 98/100\n",
      "29/29 [==============================] - 0s 12ms/step - loss: 4.9849e-05 - accuracy: 1.0000 - val_loss: 0.0308 - val_accuracy: 0.9912\n",
      "Epoch 99/100\n",
      "29/29 [==============================] - 0s 12ms/step - loss: 4.8511e-05 - accuracy: 1.0000 - val_loss: 0.0291 - val_accuracy: 0.9912\n",
      "Epoch 100/100\n",
      "29/29 [==============================] - 0s 12ms/step - loss: 4.7244e-05 - accuracy: 1.0000 - val_loss: 0.0308 - val_accuracy: 0.9912\n"
     ]
    }
   ],
   "source": [
    "model.compile(loss='categorical_crossentropy',\n",
    "              optimizer='adam',\n",
    "              metrics=['accuracy'])\n",
    "\n",
    "history = model.fit(train_mfccs,\n",
    "                    train_y,\n",
    "                    epochs=100,\n",
    "                    batch_size=32,\n",
    "                    verbose=1,\n",
    "                    validation_data=(test_mfccs, test_y))\n"
   ]
  },
  {
   "cell_type": "code",
   "execution_count": 24,
   "id": "ad9110f1-67f2-4c69-aed8-b6a936c3f4a2",
   "metadata": {},
   "outputs": [
    {
     "data": {
      "text/plain": [
       "<matplotlib.legend.Legend at 0x7fe54759e550>"
      ]
     },
     "execution_count": 24,
     "metadata": {},
     "output_type": "execute_result"
    },
    {
     "data": {
      "image/png": "[encoded data removed]",
      "text/plain": [
       "<Figure size 640x480 with 1 Axes>"
      ]
     },
     "metadata": {},
     "output_type": "display_data"
    }
   ],
   "source": [
    "plt.plot(history.history['accuracy'], label='Train Accuracy')\n",
    "plt.plot(history.history['val_accuracy'], label='Validation Accuracy')\n",
    "plt.xlabel('Epochs')\n",
    "plt.ylabel('Accuracy')\n",
    "plt.legend()"
   ]
  },
  {
   "cell_type": "code",
   "execution_count": 25,
   "id": "70ed50db",
   "metadata": {},
   "outputs": [
    {
     "data": {
      "text/plain": [
       "Text(0, 0.5, 'Accuracy [%]')"
      ]
     },
     "execution_count": 25,
     "metadata": {},
     "output_type": "execute_result"
    },
    {
     "data": {
      "image/png": "[encoded data removed]",
      "text/plain": [
       "<Figure size 1600x600 with 2 Axes>"
      ]
     },
     "metadata": {},
     "output_type": "display_data"
    }
   ],
   "source": [
    "metrics = history.history\n",
    "plt.figure(figsize=(16,6))\n",
    "plt.subplot(1,2,1)\n",
    "plt.plot(history.epoch, metrics['loss'], metrics['val_loss'])\n",
    "plt.legend(['loss', 'val_loss'])\n",
    "plt.ylim([0, max(plt.ylim())])\n",
    "plt.xlabel('Epoch')\n",
    "plt.ylabel('Loss [CrossEntropy]')\n",
    "\n",
    "plt.subplot(1,2,2)\n",
    "plt.plot(history.epoch, 100*np.array(metrics['accuracy']), 100*np.array(metrics['val_accuracy']))\n",
    "plt.legend(['accuracy', 'val_accuracy'])\n",
    "plt.ylim([0, 100])\n",
    "plt.xlabel('Epoch')\n",
    "plt.ylabel('Accuracy [%]')"
   ]
  },
  {
   "cell_type": "markdown",
   "id": "a91cafd9-5722-4743-a5a2-79f97d5a0d1e",
   "metadata": {},
   "source": [
    "Model Test"
   ]
  },
  {
   "cell_type": "code",
   "execution_count": 26,
   "id": "7e78fcb5",
   "metadata": {},
   "outputs": [
    {
     "name": "stdout",
     "output_type": "stream",
     "text": [
      "1/1 [==============================] - 0s 188ms/step\n"
     ]
    },
    {
     "data": {
      "image/png": "[encoded data removed]",
      "text/plain": [
       "<Figure size 640x480 with 1 Axes>"
      ]
     },
     "metadata": {},
     "output_type": "display_data"
    },
    {
     "data": {
      "text/plain": [
       "array([[9.9994755e-01, 3.8119240e-05, 1.0173428e-05, 4.1362282e-06]],\n",
       "      dtype=float32)"
      ]
     },
     "execution_count": 26,
     "metadata": {},
     "output_type": "execute_result"
    }
   ],
   "source": [
    "filename = (DATA_DIR + 'Q-08.wav')\n",
    "mfcc = get_mfcc(filename)\n",
    "mfcc = np.expand_dims(mfcc, 0)\n",
    "prediction = model.predict(mfcc)\n",
    "plt.bar([\"Q\", \"W\", \"E\", \"R\"], tf.nn.softmax(prediction[0]))\n",
    "plt.title('Q')\n",
    "plt.show()\n",
    "prediction"
   ]
  },
  {
   "cell_type": "code",
   "execution_count": 27,
   "id": "57d6d372",
   "metadata": {},
   "outputs": [
    {
     "name": "stdout",
     "output_type": "stream",
     "text": [
      "1/1 [==============================] - 0s 49ms/step\n"
     ]
    },
    {
     "data": {
      "image/png": "[encoded data removed]",
      "text/plain": [
       "<Figure size 640x480 with 1 Axes>"
      ]
     },
     "metadata": {},
     "output_type": "display_data"
    },
    {
     "data": {
      "text/plain": [
       "array([[4.2988827e-07, 9.9991226e-01, 8.7201079e-05, 1.8295331e-08]],\n",
       "      dtype=float32)"
      ]
     },
     "execution_count": 27,
     "metadata": {},
     "output_type": "execute_result"
    }
   ],
   "source": [
    "filename = (DATA_DIR + 'W-08.wav')\n",
    "mfcc = get_mfcc(filename)\n",
    "mfcc = np.expand_dims(mfcc, 0)\n",
    "prediction = model.predict(mfcc)\n",
    "plt.bar([\"Q\", \"W\", \"E\", \"R\"], tf.nn.softmax(prediction[0]))\n",
    "plt.title('W')\n",
    "plt.show()\n",
    "prediction"
   ]
  },
  {
   "cell_type": "code",
   "execution_count": 28,
   "id": "1633b87b",
   "metadata": {},
   "outputs": [
    {
     "name": "stdout",
     "output_type": "stream",
     "text": [
      "1/1 [==============================] - 0s 26ms/step\n"
     ]
    },
    {
     "data": {
      "image/png": "[encoded data removed]",
      "text/plain": [
       "<Figure size 640x480 with 1 Axes>"
      ]
     },
     "metadata": {},
     "output_type": "display_data"
    },
    {
     "data": {
      "text/plain": [
       "array([[7.2125709e-05, 2.0293144e-05, 9.9980539e-01, 1.0227071e-04]],\n",
       "      dtype=float32)"
      ]
     },
     "execution_count": 28,
     "metadata": {},
     "output_type": "execute_result"
    }
   ],
   "source": [
    "filename = (DATA_DIR + 'E-30.wav')\n",
    "mfcc = get_mfcc(filename)\n",
    "mfcc = np.expand_dims(mfcc, 0)\n",
    "prediction = model.predict(mfcc)\n",
    "plt.bar([\"Q\", \"W\", \"E\", \"R\"], tf.nn.softmax(prediction[0]))\n",
    "plt.title('E')\n",
    "plt.show()\n",
    "prediction"
   ]
  },
  {
   "cell_type": "code",
   "execution_count": 29,
   "id": "ee33887a",
   "metadata": {},
   "outputs": [
    {
     "name": "stdout",
     "output_type": "stream",
     "text": [
      "1/1 [==============================] - 0s 24ms/step\n"
     ]
    },
    {
     "data": {
      "image/png": "[encoded data removed]",
      "text/plain": [
       "<Figure size 640x480 with 1 Axes>"
      ]
     },
     "metadata": {},
     "output_type": "display_data"
    },
    {
     "data": {
      "text/plain": [
       "array([[3.2003662e-08, 1.6814597e-09, 2.6509828e-05, 9.9997354e-01]],\n",
       "      dtype=float32)"
      ]
     },
     "execution_count": 29,
     "metadata": {},
     "output_type": "execute_result"
    }
   ],
   "source": [
    "filename = (DATA_DIR + 'R-08.wav')\n",
    "mfcc = get_mfcc(filename)\n",
    "mfcc = np.expand_dims(mfcc, 0)\n",
    "prediction = model.predict(mfcc)\n",
    "plt.bar([\"Q\", \"W\", \"E\", \"R\"], tf.nn.softmax(prediction[0]))\n",
    "plt.title('R')\n",
    "plt.show()\n",
    "prediction"
   ]
  },
  {
   "cell_type": "code",
   "execution_count": 30,
   "id": "6695f965-3093-4217-860c-e92765d520ae",
   "metadata": {
    "scrolled": true
   },
   "outputs": [
    {
     "name": "stdout",
     "output_type": "stream",
     "text": [
      "INFO:tensorflow:Assets written to: /home/hyochung/Keyboard_DL/assets\n"
     ]
    },
    {
     "name": "stderr",
     "output_type": "stream",
     "text": [
      "INFO:tensorflow:Assets written to: /home/hyochung/Keyboard_DL/assets\n"
     ]
    }
   ],
   "source": [
    "model.save('/home/hyochung/Keyboard_DL')"
   ]
  },
  {
   "cell_type": "markdown",
   "id": "36aedd0b-da38-4880-9fbe-1b628c0e0885",
   "metadata": {},
   "source": [
    "Long Audio testing"
   ]
  },
  {
   "cell_type": "code",
   "execution_count": 31,
   "id": "6b713789-52fd-4eeb-a0a0-2ddcc47893dc",
   "metadata": {},
   "outputs": [
    {
     "data": {
      "text/plain": [
       "\"#긴 오디오\\nwav, sr = librosa.load(DATA_DIR + 'E-17.wav', sr=None)\\nprint('sr:', sr)\\nprint('wav shape:', wav.shape)\\nprint('length:', wav.shape[0]/float(sr), 'secs')\""
      ]
     },
     "execution_count": 31,
     "metadata": {},
     "output_type": "execute_result"
    }
   ],
   "source": [
    "\"\"\"#긴 오디오\n",
    "wav, sr = librosa.load(DATA_DIR + 'E-17.wav', sr=None)\n",
    "print('sr:', sr)\n",
    "print('wav shape:', wav.shape)\n",
    "print('length:', wav.shape[0]/float(sr), 'secs')\"\"\""
   ]
  },
  {
   "cell_type": "code",
   "execution_count": 32,
   "id": "f05e6db5-0437-4aa7-ad1d-f10d0480dc56",
   "metadata": {},
   "outputs": [
    {
     "data": {
      "text/plain": [
       "\"# raw wave\\nprint(plt.plot(wav))\\nprint(plt.plot(wav[0:500]))\\naudio, sr = librosa.load(DATA_DIR + 'R-23.wav')\\nmfcc = librosa.feature.mfcc(y=wav, sr=16000, n_mfcc=100, n_fft=400, hop_length=160)\\nmfcc = preprocessing.scale(mfcc, axis=1)\\npadded_mfcc = pad2d(mfcc, 40)\\npadded_mfcc= np.expand_dims(padded_mfcc, 0)\""
      ]
     },
     "execution_count": 32,
     "metadata": {},
     "output_type": "execute_result"
    }
   ],
   "source": [
    "\"\"\"# raw wave\n",
    "print(plt.plot(wav))\n",
    "print(plt.plot(wav[0:500]))\n",
    "audio, sr = librosa.load(DATA_DIR + 'R-23.wav')\n",
    "mfcc = librosa.feature.mfcc(y=wav, sr=16000, n_mfcc=100, n_fft=400, hop_length=160)\n",
    "mfcc = preprocessing.scale(mfcc, axis=1)\n",
    "padded_mfcc = pad2d(mfcc, 40)\n",
    "padded_mfcc= np.expand_dims(padded_mfcc, 0)\"\"\""
   ]
  },
  {
   "cell_type": "markdown",
   "id": "b49e6132",
   "metadata": {},
   "source": [
    "Spectogram"
   ]
  },
  {
   "cell_type": "code",
   "execution_count": 33,
   "id": "e9c78e31-fd53-44ff-887a-78c252587a78",
   "metadata": {},
   "outputs": [],
   "source": [
    "def get_spectrogram(filename):\n",
    "    wav, sr = librosa.load(filename, sr=16000)\n",
    "    spectrogram = np.abs(librosa.stft(wav))\n",
    "    padded_spectrogram = pad2d(spectrogram, 40)\n",
    "    return padded_spectrogram\n",
    "\n",
    "X = []\n",
    "y = []\n",
    "for filename in os.listdir(DATA_DIR):\n",
    "    if '.wav' not in filename:\n",
    "        continue\n",
    "\n",
    "    spectrogram = get_spectrogram(DATA_DIR + filename)\n",
    "    label = get_labels(filename)\n",
    "\n",
    "    X.append(spectrogram)\n",
    "    y.append(label)\n",
    "\n",
    "\n",
    "train_spectrograms, test_spectrograms, train_y, test_y = train_test_split(X, y, test_size=0.2, random_state=42)"
   ]
  },
  {
   "cell_type": "code",
   "execution_count": 34,
   "id": "48d747d9",
   "metadata": {},
   "outputs": [
    {
     "name": "stdout",
     "output_type": "stream",
     "text": [
      "train_mfccs: (903, 1025, 40)\n",
      "train_y: (903, 4)\n",
      "test_mfccs: (226, 1025, 40)\n",
      "test_y: (226, 4)\n"
     ]
    }
   ],
   "source": [
    "train_spectrograms = np.array(train_spectrograms)\n",
    "train_y = to_categorical(np.array(train_y))\n",
    "\n",
    "test_spectrograms = np.array(test_spectrograms)\n",
    "test_y = to_categorical(np.array(test_y))\n",
    "\n",
    "print('train_mfccs:', train_spectrograms.shape)\n",
    "print('train_y:', train_y.shape)\n",
    "\n",
    "print('test_mfccs:', test_spectrograms.shape)\n",
    "print('test_y:', test_y.shape)"
   ]
  },
  {
   "cell_type": "markdown",
   "id": "8128da2b",
   "metadata": {},
   "source": [
    "Spectogram feature training"
   ]
  },
  {
   "cell_type": "code",
   "execution_count": 35,
   "id": "8b645562",
   "metadata": {},
   "outputs": [
    {
     "name": "stdout",
     "output_type": "stream",
     "text": [
      "train_spectograms shape: (903, 1025, 40, 1)\n",
      "test_spectograms shape: (226, 1025, 40, 1)\n"
     ]
    }
   ],
   "source": [
    "train_spectrograms = np.expand_dims(train_spectrograms, -1)\n",
    "test_spectrograms = np.expand_dims(test_spectrograms, -1)\n",
    "print('train_spectograms shape:', train_spectrograms.shape)\n",
    "print('test_spectograms shape:', test_spectrograms.shape)"
   ]
  },
  {
   "cell_type": "code",
   "execution_count": 36,
   "id": "0a5d0994",
   "metadata": {},
   "outputs": [
    {
     "name": "stdout",
     "output_type": "stream",
     "text": [
      "Model: \"model_1\"\n",
      "_________________________________________________________________\n",
      " Layer (type)                Output Shape              Param #   \n",
      "=================================================================\n",
      " input_2 (InputLayer)        [(None, 1025, 40, 1)]     0         \n",
      "                                                                 \n",
      " conv2d_5 (Conv2D)           (None, 1022, 37, 96)      1632      \n",
      "                                                                 \n",
      " max_pooling2d_5 (MaxPoolin  (None, 255, 9, 96)        0         \n",
      " g2D)                                                            \n",
      "                                                                 \n",
      " flatten_2 (Flatten)         (None, 220320)            0         \n",
      "                                                                 \n",
      " dense_6 (Dense)             (None, 64)                14100544  \n",
      "                                                                 \n",
      " dense_7 (Dense)             (None, 32)                2080      \n",
      "                                                                 \n",
      " dense_8 (Dense)             (None, 4)                 132       \n",
      "                                                                 \n",
      "=================================================================\n",
      "Total params: 14104388 (53.80 MB)\n",
      "Trainable params: 14104388 (53.80 MB)\n",
      "Non-trainable params: 0 (0.00 Byte)\n",
      "_________________________________________________________________\n"
     ]
    }
   ],
   "source": [
    "ip = Input(shape=train_spectrograms[0].shape)\n",
    "\n",
    "m = Conv2D(32, kernel_size=(4,4), activation='relu')(ip)\n",
    "m = MaxPooling2D(pool_size=(4,4))(m)\n",
    "\n",
    "m = Conv2D(32*2, kernel_size=(4,4), activation='relu')(ip)\n",
    "m = MaxPooling2D(pool_size=(4,4))(m)\n",
    "\n",
    "m = Conv2D(32 * 3, kernel_size=(4, 4), activation='relu')(ip)\n",
    "m = MaxPooling2D(pool_size=(4,4))(m)\n",
    "\n",
    "m = Flatten()(m)\n",
    "\n",
    "m = Dense(64, activation='relu')(m)\n",
    "\n",
    "m = Dense(32, activation='relu')(m)\n",
    "\n",
    "op = Dense(4, activation='softmax')(m)\n",
    "\n",
    "model = Model(ip, op)\n",
    "\n",
    "model.summary()\n"
   ]
  },
  {
   "cell_type": "code",
   "execution_count": 37,
   "id": "afd91b9b",
   "metadata": {},
   "outputs": [
    {
     "name": "stdout",
     "output_type": "stream",
     "text": [
      "Epoch 1/100\n",
      "29/29 [==============================] - 3s 57ms/step - loss: 0.3438 - accuracy: 0.8882 - val_loss: 0.1285 - val_accuracy: 0.9646\n",
      "Epoch 2/100\n",
      "29/29 [==============================] - 1s 45ms/step - loss: 0.0528 - accuracy: 0.9823 - val_loss: 0.0320 - val_accuracy: 0.9867\n",
      "Epoch 3/100\n",
      "29/29 [==============================] - 1s 46ms/step - loss: 0.0136 - accuracy: 0.9967 - val_loss: 0.0291 - val_accuracy: 0.9867\n",
      "Epoch 4/100\n",
      "29/29 [==============================] - 1s 45ms/step - loss: 0.0060 - accuracy: 0.9978 - val_loss: 0.0156 - val_accuracy: 0.9956\n",
      "Epoch 5/100\n",
      "29/29 [==============================] - 1s 45ms/step - loss: 0.0036 - accuracy: 1.0000 - val_loss: 0.0204 - val_accuracy: 0.9956\n",
      "Epoch 6/100\n",
      "29/29 [==============================] - 1s 45ms/step - loss: 0.0028 - accuracy: 1.0000 - val_loss: 0.0183 - val_accuracy: 0.9912\n",
      "Epoch 7/100\n",
      "29/29 [==============================] - 1s 45ms/step - loss: 0.0021 - accuracy: 1.0000 - val_loss: 0.0169 - val_accuracy: 0.9912\n",
      "Epoch 8/100\n",
      "29/29 [==============================] - 1s 44ms/step - loss: 9.3685e-04 - accuracy: 1.0000 - val_loss: 0.0206 - val_accuracy: 0.9912\n",
      "Epoch 9/100\n",
      "29/29 [==============================] - 1s 45ms/step - loss: 7.2117e-04 - accuracy: 1.0000 - val_loss: 0.0132 - val_accuracy: 0.9956\n",
      "Epoch 10/100\n",
      "29/29 [==============================] - 1s 45ms/step - loss: 6.3150e-04 - accuracy: 1.0000 - val_loss: 0.0120 - val_accuracy: 0.9956\n",
      "Epoch 11/100\n",
      "29/29 [==============================] - 1s 44ms/step - loss: 5.5915e-04 - accuracy: 1.0000 - val_loss: 0.0209 - val_accuracy: 0.9912\n",
      "Epoch 12/100\n",
      "29/29 [==============================] - 1s 44ms/step - loss: 4.7928e-04 - accuracy: 1.0000 - val_loss: 0.0103 - val_accuracy: 0.9956\n",
      "Epoch 13/100\n",
      "29/29 [==============================] - 1s 44ms/step - loss: 4.6874e-04 - accuracy: 1.0000 - val_loss: 0.0121 - val_accuracy: 0.9912\n",
      "Epoch 14/100\n",
      "29/29 [==============================] - 1s 44ms/step - loss: 3.1001e-04 - accuracy: 1.0000 - val_loss: 0.0114 - val_accuracy: 0.9956\n",
      "Epoch 15/100\n",
      "29/29 [==============================] - 1s 44ms/step - loss: 2.7116e-04 - accuracy: 1.0000 - val_loss: 0.0101 - val_accuracy: 0.9956\n",
      "Epoch 16/100\n",
      "29/29 [==============================] - 1s 44ms/step - loss: 2.3139e-04 - accuracy: 1.0000 - val_loss: 0.0101 - val_accuracy: 0.9956\n",
      "Epoch 17/100\n",
      "29/29 [==============================] - 1s 45ms/step - loss: 2.1173e-04 - accuracy: 1.0000 - val_loss: 0.0104 - val_accuracy: 0.9956\n",
      "Epoch 18/100\n",
      "29/29 [==============================] - 1s 44ms/step - loss: 1.8729e-04 - accuracy: 1.0000 - val_loss: 0.0131 - val_accuracy: 0.9912\n",
      "Epoch 19/100\n",
      "29/29 [==============================] - 1s 44ms/step - loss: 1.7050e-04 - accuracy: 1.0000 - val_loss: 0.0104 - val_accuracy: 0.9956\n",
      "Epoch 20/100\n",
      "29/29 [==============================] - 1s 45ms/step - loss: 1.4919e-04 - accuracy: 1.0000 - val_loss: 0.0100 - val_accuracy: 0.9956\n",
      "Epoch 21/100\n",
      "29/29 [==============================] - 1s 44ms/step - loss: 1.3815e-04 - accuracy: 1.0000 - val_loss: 0.0106 - val_accuracy: 0.9956\n",
      "Epoch 22/100\n",
      "29/29 [==============================] - 1s 45ms/step - loss: 1.2500e-04 - accuracy: 1.0000 - val_loss: 0.0118 - val_accuracy: 0.9912\n",
      "Epoch 23/100\n",
      "29/29 [==============================] - 1s 44ms/step - loss: 1.2002e-04 - accuracy: 1.0000 - val_loss: 0.0099 - val_accuracy: 0.9956\n",
      "Epoch 24/100\n",
      "29/29 [==============================] - 1s 44ms/step - loss: 1.0672e-04 - accuracy: 1.0000 - val_loss: 0.0104 - val_accuracy: 0.9956\n",
      "Epoch 25/100\n",
      "29/29 [==============================] - 1s 44ms/step - loss: 1.0374e-04 - accuracy: 1.0000 - val_loss: 0.0105 - val_accuracy: 0.9912\n",
      "Epoch 26/100\n",
      "29/29 [==============================] - 1s 44ms/step - loss: 8.5598e-05 - accuracy: 1.0000 - val_loss: 0.0097 - val_accuracy: 0.9956\n",
      "Epoch 27/100\n",
      "29/29 [==============================] - 1s 44ms/step - loss: 8.3190e-05 - accuracy: 1.0000 - val_loss: 0.0109 - val_accuracy: 0.9912\n",
      "Epoch 28/100\n",
      "29/29 [==============================] - 1s 44ms/step - loss: 7.4972e-05 - accuracy: 1.0000 - val_loss: 0.0094 - val_accuracy: 0.9956\n",
      "Epoch 29/100\n",
      "29/29 [==============================] - 1s 45ms/step - loss: 6.7933e-05 - accuracy: 1.0000 - val_loss: 0.0098 - val_accuracy: 0.9956\n",
      "Epoch 30/100\n",
      "29/29 [==============================] - 1s 45ms/step - loss: 6.3609e-05 - accuracy: 1.0000 - val_loss: 0.0107 - val_accuracy: 0.9912\n",
      "Epoch 31/100\n",
      "29/29 [==============================] - 1s 45ms/step - loss: 6.1073e-05 - accuracy: 1.0000 - val_loss: 0.0095 - val_accuracy: 0.9956\n",
      "Epoch 32/100\n",
      "29/29 [==============================] - 1s 45ms/step - loss: 5.5641e-05 - accuracy: 1.0000 - val_loss: 0.0110 - val_accuracy: 0.9912\n",
      "Epoch 33/100\n",
      "29/29 [==============================] - 1s 45ms/step - loss: 5.3012e-05 - accuracy: 1.0000 - val_loss: 0.0104 - val_accuracy: 0.9912\n",
      "Epoch 34/100\n",
      "29/29 [==============================] - 1s 45ms/step - loss: 5.1888e-05 - accuracy: 1.0000 - val_loss: 0.0104 - val_accuracy: 0.9912\n",
      "Epoch 35/100\n",
      "29/29 [==============================] - 1s 44ms/step - loss: 4.6916e-05 - accuracy: 1.0000 - val_loss: 0.0108 - val_accuracy: 0.9912\n",
      "Epoch 36/100\n",
      "29/29 [==============================] - 1s 44ms/step - loss: 4.4043e-05 - accuracy: 1.0000 - val_loss: 0.0091 - val_accuracy: 0.9956\n",
      "Epoch 37/100\n",
      "29/29 [==============================] - 1s 44ms/step - loss: 4.0698e-05 - accuracy: 1.0000 - val_loss: 0.0099 - val_accuracy: 0.9912\n",
      "Epoch 38/100\n",
      "29/29 [==============================] - 1s 45ms/step - loss: 3.9486e-05 - accuracy: 1.0000 - val_loss: 0.0108 - val_accuracy: 0.9912\n",
      "Epoch 39/100\n",
      "29/29 [==============================] - 1s 45ms/step - loss: 3.7454e-05 - accuracy: 1.0000 - val_loss: 0.0096 - val_accuracy: 0.9912\n",
      "Epoch 40/100\n",
      "29/29 [==============================] - 1s 45ms/step - loss: 3.6400e-05 - accuracy: 1.0000 - val_loss: 0.0107 - val_accuracy: 0.9912\n",
      "Epoch 41/100\n",
      "29/29 [==============================] - 1s 46ms/step - loss: 3.5979e-05 - accuracy: 1.0000 - val_loss: 0.0099 - val_accuracy: 0.9912\n",
      "Epoch 42/100\n",
      "29/29 [==============================] - 1s 47ms/step - loss: 3.1116e-05 - accuracy: 1.0000 - val_loss: 0.0101 - val_accuracy: 0.9912\n",
      "Epoch 43/100\n",
      "29/29 [==============================] - 1s 46ms/step - loss: 2.9140e-05 - accuracy: 1.0000 - val_loss: 0.0111 - val_accuracy: 0.9912\n",
      "Epoch 44/100\n",
      "29/29 [==============================] - 1s 47ms/step - loss: 2.7871e-05 - accuracy: 1.0000 - val_loss: 0.0101 - val_accuracy: 0.9912\n",
      "Epoch 45/100\n",
      "29/29 [==============================] - 1s 45ms/step - loss: 2.7029e-05 - accuracy: 1.0000 - val_loss: 0.0114 - val_accuracy: 0.9912\n",
      "Epoch 46/100\n",
      "29/29 [==============================] - 1s 45ms/step - loss: 2.5290e-05 - accuracy: 1.0000 - val_loss: 0.0103 - val_accuracy: 0.9912\n",
      "Epoch 47/100\n",
      "29/29 [==============================] - 1s 46ms/step - loss: 2.4274e-05 - accuracy: 1.0000 - val_loss: 0.0103 - val_accuracy: 0.9912\n",
      "Epoch 48/100\n",
      "29/29 [==============================] - 1s 47ms/step - loss: 2.3599e-05 - accuracy: 1.0000 - val_loss: 0.0107 - val_accuracy: 0.9912\n",
      "Epoch 49/100\n",
      "29/29 [==============================] - 1s 49ms/step - loss: 2.1818e-05 - accuracy: 1.0000 - val_loss: 0.0123 - val_accuracy: 0.9912\n",
      "Epoch 50/100\n",
      "29/29 [==============================] - 1s 50ms/step - loss: 2.1305e-05 - accuracy: 1.0000 - val_loss: 0.0116 - val_accuracy: 0.9912\n",
      "Epoch 51/100\n",
      "29/29 [==============================] - 1s 50ms/step - loss: 2.0081e-05 - accuracy: 1.0000 - val_loss: 0.0112 - val_accuracy: 0.9912\n",
      "Epoch 52/100\n",
      "29/29 [==============================] - 1s 50ms/step - loss: 1.8962e-05 - accuracy: 1.0000 - val_loss: 0.0102 - val_accuracy: 0.9912\n",
      "Epoch 53/100\n",
      "29/29 [==============================] - 1s 50ms/step - loss: 1.8600e-05 - accuracy: 1.0000 - val_loss: 0.0107 - val_accuracy: 0.9912\n",
      "Epoch 54/100\n",
      "29/29 [==============================] - 1s 51ms/step - loss: 1.7751e-05 - accuracy: 1.0000 - val_loss: 0.0109 - val_accuracy: 0.9912\n",
      "Epoch 55/100\n",
      "29/29 [==============================] - 1s 51ms/step - loss: 1.6550e-05 - accuracy: 1.0000 - val_loss: 0.0105 - val_accuracy: 0.9912\n",
      "Epoch 56/100\n",
      "29/29 [==============================] - 1s 51ms/step - loss: 1.5956e-05 - accuracy: 1.0000 - val_loss: 0.0108 - val_accuracy: 0.9912\n",
      "Epoch 57/100\n",
      "29/29 [==============================] - 2s 56ms/step - loss: 1.5250e-05 - accuracy: 1.0000 - val_loss: 0.0107 - val_accuracy: 0.9912\n",
      "Epoch 58/100\n",
      "29/29 [==============================] - 1s 51ms/step - loss: 1.4885e-05 - accuracy: 1.0000 - val_loss: 0.0105 - val_accuracy: 0.9912\n",
      "Epoch 59/100\n",
      "29/29 [==============================] - 1s 51ms/step - loss: 1.3981e-05 - accuracy: 1.0000 - val_loss: 0.0113 - val_accuracy: 0.9912\n",
      "Epoch 60/100\n",
      "29/29 [==============================] - 2s 52ms/step - loss: 1.3459e-05 - accuracy: 1.0000 - val_loss: 0.0106 - val_accuracy: 0.9912\n",
      "Epoch 61/100\n",
      "29/29 [==============================] - 1s 51ms/step - loss: 1.2833e-05 - accuracy: 1.0000 - val_loss: 0.0104 - val_accuracy: 0.9912\n",
      "Epoch 62/100\n",
      "29/29 [==============================] - 1s 52ms/step - loss: 1.2444e-05 - accuracy: 1.0000 - val_loss: 0.0111 - val_accuracy: 0.9912\n",
      "Epoch 63/100\n",
      "29/29 [==============================] - 2s 53ms/step - loss: 1.2434e-05 - accuracy: 1.0000 - val_loss: 0.0109 - val_accuracy: 0.9912\n",
      "Epoch 64/100\n",
      "29/29 [==============================] - 1s 50ms/step - loss: 1.1500e-05 - accuracy: 1.0000 - val_loss: 0.0110 - val_accuracy: 0.9912\n",
      "Epoch 65/100\n",
      "29/29 [==============================] - 1s 51ms/step - loss: 1.1446e-05 - accuracy: 1.0000 - val_loss: 0.0099 - val_accuracy: 0.9912\n",
      "Epoch 66/100\n",
      "29/29 [==============================] - 1s 51ms/step - loss: 1.0900e-05 - accuracy: 1.0000 - val_loss: 0.0117 - val_accuracy: 0.9912\n",
      "Epoch 67/100\n",
      "29/29 [==============================] - 1s 50ms/step - loss: 1.0291e-05 - accuracy: 1.0000 - val_loss: 0.0111 - val_accuracy: 0.9912\n",
      "Epoch 68/100\n",
      "29/29 [==============================] - 1s 52ms/step - loss: 9.9437e-06 - accuracy: 1.0000 - val_loss: 0.0120 - val_accuracy: 0.9912\n",
      "Epoch 69/100\n",
      "29/29 [==============================] - 1s 51ms/step - loss: 9.5204e-06 - accuracy: 1.0000 - val_loss: 0.0104 - val_accuracy: 0.9912\n",
      "Epoch 70/100\n",
      "29/29 [==============================] - 1s 51ms/step - loss: 9.1881e-06 - accuracy: 1.0000 - val_loss: 0.0101 - val_accuracy: 0.9912\n",
      "Epoch 71/100\n",
      "29/29 [==============================] - 1s 51ms/step - loss: 9.0358e-06 - accuracy: 1.0000 - val_loss: 0.0111 - val_accuracy: 0.9912\n",
      "Epoch 72/100\n",
      "29/29 [==============================] - 1s 51ms/step - loss: 8.4337e-06 - accuracy: 1.0000 - val_loss: 0.0099 - val_accuracy: 0.9912\n",
      "Epoch 73/100\n",
      "29/29 [==============================] - 1s 51ms/step - loss: 8.3530e-06 - accuracy: 1.0000 - val_loss: 0.0102 - val_accuracy: 0.9912\n",
      "Epoch 74/100\n",
      "29/29 [==============================] - 1s 50ms/step - loss: 8.0439e-06 - accuracy: 1.0000 - val_loss: 0.0110 - val_accuracy: 0.9912\n",
      "Epoch 75/100\n",
      "29/29 [==============================] - 1s 51ms/step - loss: 7.6905e-06 - accuracy: 1.0000 - val_loss: 0.0101 - val_accuracy: 0.9912\n",
      "Epoch 76/100\n",
      "29/29 [==============================] - 1s 51ms/step - loss: 7.4747e-06 - accuracy: 1.0000 - val_loss: 0.0096 - val_accuracy: 0.9912\n",
      "Epoch 77/100\n",
      "29/29 [==============================] - 1s 50ms/step - loss: 7.2599e-06 - accuracy: 1.0000 - val_loss: 0.0108 - val_accuracy: 0.9912\n",
      "Epoch 78/100\n",
      "29/29 [==============================] - 1s 51ms/step - loss: 6.9792e-06 - accuracy: 1.0000 - val_loss: 0.0097 - val_accuracy: 0.9912\n",
      "Epoch 79/100\n",
      "29/29 [==============================] - 1s 50ms/step - loss: 6.7496e-06 - accuracy: 1.0000 - val_loss: 0.0107 - val_accuracy: 0.9912\n",
      "Epoch 80/100\n",
      "29/29 [==============================] - 1s 51ms/step - loss: 6.4350e-06 - accuracy: 1.0000 - val_loss: 0.0104 - val_accuracy: 0.9912\n",
      "Epoch 81/100\n",
      "29/29 [==============================] - 1s 51ms/step - loss: 6.3699e-06 - accuracy: 1.0000 - val_loss: 0.0097 - val_accuracy: 0.9912\n",
      "Epoch 82/100\n",
      "29/29 [==============================] - 1s 52ms/step - loss: 6.0412e-06 - accuracy: 1.0000 - val_loss: 0.0102 - val_accuracy: 0.9912\n",
      "Epoch 83/100\n",
      "29/29 [==============================] - 1s 51ms/step - loss: 5.8207e-06 - accuracy: 1.0000 - val_loss: 0.0100 - val_accuracy: 0.9912\n",
      "Epoch 84/100\n",
      "29/29 [==============================] - 1s 50ms/step - loss: 5.7336e-06 - accuracy: 1.0000 - val_loss: 0.0104 - val_accuracy: 0.9912\n",
      "Epoch 85/100\n",
      "29/29 [==============================] - 1s 51ms/step - loss: 5.5688e-06 - accuracy: 1.0000 - val_loss: 0.0099 - val_accuracy: 0.9912\n",
      "Epoch 86/100\n",
      "29/29 [==============================] - 1s 51ms/step - loss: 5.2982e-06 - accuracy: 1.0000 - val_loss: 0.0102 - val_accuracy: 0.9912\n",
      "Epoch 87/100\n",
      "29/29 [==============================] - 1s 50ms/step - loss: 5.1907e-06 - accuracy: 1.0000 - val_loss: 0.0102 - val_accuracy: 0.9912\n",
      "Epoch 88/100\n",
      "29/29 [==============================] - 1s 51ms/step - loss: 5.2277e-06 - accuracy: 1.0000 - val_loss: 0.0110 - val_accuracy: 0.9912\n",
      "Epoch 89/100\n",
      "29/29 [==============================] - 1s 52ms/step - loss: 4.8410e-06 - accuracy: 1.0000 - val_loss: 0.0090 - val_accuracy: 0.9912\n",
      "Epoch 90/100\n",
      "29/29 [==============================] - 1s 51ms/step - loss: 4.6587e-06 - accuracy: 1.0000 - val_loss: 0.0099 - val_accuracy: 0.9912\n",
      "Epoch 91/100\n",
      "29/29 [==============================] - 1s 51ms/step - loss: 4.5090e-06 - accuracy: 1.0000 - val_loss: 0.0098 - val_accuracy: 0.9912\n",
      "Epoch 92/100\n",
      "29/29 [==============================] - 1s 51ms/step - loss: 4.4192e-06 - accuracy: 1.0000 - val_loss: 0.0099 - val_accuracy: 0.9912\n",
      "Epoch 93/100\n",
      "29/29 [==============================] - 1s 51ms/step - loss: 4.2569e-06 - accuracy: 1.0000 - val_loss: 0.0094 - val_accuracy: 0.9912\n",
      "Epoch 94/100\n",
      "29/29 [==============================] - 1s 51ms/step - loss: 4.1284e-06 - accuracy: 1.0000 - val_loss: 0.0093 - val_accuracy: 0.9912\n",
      "Epoch 95/100\n",
      "29/29 [==============================] - 1s 51ms/step - loss: 3.9771e-06 - accuracy: 1.0000 - val_loss: 0.0093 - val_accuracy: 0.9912\n",
      "Epoch 96/100\n",
      "29/29 [==============================] - 1s 52ms/step - loss: 3.8561e-06 - accuracy: 1.0000 - val_loss: 0.0101 - val_accuracy: 0.9912\n",
      "Epoch 97/100\n",
      "29/29 [==============================] - 1s 51ms/step - loss: 3.7186e-06 - accuracy: 1.0000 - val_loss: 0.0086 - val_accuracy: 0.9912\n",
      "Epoch 98/100\n",
      "29/29 [==============================] - 1s 51ms/step - loss: 3.6300e-06 - accuracy: 1.0000 - val_loss: 0.0093 - val_accuracy: 0.9912\n",
      "Epoch 99/100\n",
      "29/29 [==============================] - 1s 52ms/step - loss: 3.5417e-06 - accuracy: 1.0000 - val_loss: 0.0090 - val_accuracy: 0.9912\n",
      "Epoch 100/100\n",
      "29/29 [==============================] - 1s 52ms/step - loss: 3.4799e-06 - accuracy: 1.0000 - val_loss: 0.0093 - val_accuracy: 0.9912\n"
     ]
    }
   ],
   "source": [
    "model.compile(loss='categorical_crossentropy',\n",
    "              optimizer='adam',\n",
    "              metrics=['accuracy'])\n",
    "\n",
    "history = model.fit(train_spectrograms,\n",
    "                    train_y,\n",
    "                    epochs=100,\n",
    "                    batch_size=32,\n",
    "                    verbose=1,\n",
    "                    validation_data=(test_spectrograms, test_y))"
   ]
  },
  {
   "cell_type": "code",
   "execution_count": 38,
   "id": "526c91b2",
   "metadata": {},
   "outputs": [
    {
     "data": {
      "text/plain": [
       "<matplotlib.legend.Legend at 0x7fe5468fc730>"
      ]
     },
     "execution_count": 38,
     "metadata": {},
     "output_type": "execute_result"
    },
    {
     "data": {
      "image/png": "[encoded data removed]",
      "text/plain": [
       "<Figure size 640x480 with 1 Axes>"
      ]
     },
     "metadata": {},
     "output_type": "display_data"
    }
   ],
   "source": [
    "plt.plot(history.history['accuracy'], label='Train Accuracy')\n",
    "plt.plot(history.history['val_accuracy'], label='Validation Accuracy')\n",
    "plt.xlabel('Epochs')\n",
    "plt.ylabel('Accuracy')\n",
    "plt.legend()"
   ]
  },
  {
   "cell_type": "code",
   "execution_count": 39,
   "id": "fe561744",
   "metadata": {},
   "outputs": [
    {
     "data": {
      "text/plain": [
       "Text(0, 0.5, 'Accuracy [%]')"
      ]
     },
     "execution_count": 39,
     "metadata": {},
     "output_type": "execute_result"
    },
    {
     "data": {
      "image/png": "[encoded data removed]",
      "text/plain": [
       "<Figure size 1600x600 with 2 Axes>"
      ]
     },
     "metadata": {},
     "output_type": "display_data"
    }
   ],
   "source": [
    "metrics = history.history\n",
    "plt.figure(figsize=(16,6))\n",
    "plt.subplot(1,2,1)\n",
    "plt.plot(history.epoch, metrics['loss'], metrics['val_loss'])\n",
    "plt.legend(['loss', 'val_loss'])\n",
    "plt.ylim([0, max(plt.ylim())])\n",
    "plt.xlabel('Epoch')\n",
    "plt.ylabel('Loss [CrossEntropy]')\n",
    "\n",
    "plt.subplot(1,2,2)\n",
    "plt.plot(history.epoch, 100*np.array(metrics['accuracy']), 100*np.array(metrics['val_accuracy']))\n",
    "plt.legend(['accuracy', 'val_accuracy'])\n",
    "plt.ylim([0, 100])\n",
    "plt.xlabel('Epoch')\n",
    "plt.ylabel('Accuracy [%]')"
   ]
  },
  {
   "cell_type": "code",
   "execution_count": 40,
   "id": "a2f3973c",
   "metadata": {},
   "outputs": [
    {
     "name": "stdout",
     "output_type": "stream",
     "text": [
      "1/1 [==============================] - 0s 258ms/step\n"
     ]
    },
    {
     "data": {
      "image/png": "[encoded data removed]",
      "text/plain": [
       "<Figure size 640x480 with 1 Axes>"
      ]
     },
     "metadata": {},
     "output_type": "display_data"
    },
    {
     "data": {
      "text/plain": [
       "array([[1.0000000e+00, 1.1684969e-18, 1.9441972e-21, 2.6160934e-36]],\n",
       "      dtype=float32)"
      ]
     },
     "execution_count": 40,
     "metadata": {},
     "output_type": "execute_result"
    }
   ],
   "source": [
    "filename = (DATA_DIR + 'Q-08.wav')\n",
    "spectrogram = get_spectrogram(filename)\n",
    "spectrogram = np.expand_dims(spectrogram, 0)\n",
    "prediction = model.predict(spectrogram)\n",
    "plt.bar([\"Q\", \"W\", \"E\", \"R\"], tf.nn.softmax(prediction[0]))\n",
    "plt.title('Q')\n",
    "plt.show()\n",
    "prediction"
   ]
  },
  {
   "cell_type": "code",
   "execution_count": 41,
   "id": "dee619ca",
   "metadata": {},
   "outputs": [
    {
     "name": "stdout",
     "output_type": "stream",
     "text": [
      "1/1 [==============================] - 0s 22ms/step\n"
     ]
    },
    {
     "data": {
      "image/png": "[encoded data removed]",
      "text/plain": [
       "<Figure size 640x480 with 1 Axes>"
      ]
     },
     "metadata": {},
     "output_type": "display_data"
    },
    {
     "data": {
      "text/plain": [
       "array([[1.3439767e-12, 1.0000000e+00, 2.5575500e-13, 5.5918159e-26]],\n",
       "      dtype=float32)"
      ]
     },
     "execution_count": 41,
     "metadata": {},
     "output_type": "execute_result"
    }
   ],
   "source": [
    "filename = (DATA_DIR + 'W-13.wav')\n",
    "spectrogram = get_spectrogram(filename)\n",
    "spectrogram = np.expand_dims(spectrogram, 0)\n",
    "prediction = model.predict(spectrogram)\n",
    "plt.bar([\"Q\", \"W\", \"E\", \"R\"], tf.nn.softmax(prediction[0]))\n",
    "plt.title('W')\n",
    "plt.show()\n",
    "prediction"
   ]
  },
  {
   "cell_type": "code",
   "execution_count": 42,
   "id": "ccd43593",
   "metadata": {},
   "outputs": [
    {
     "name": "stdout",
     "output_type": "stream",
     "text": [
      "1/1 [==============================] - 0s 22ms/step\n"
     ]
    },
    {
     "data": {
      "image/png": "[encoded data removed]",
      "text/plain": [
       "<Figure size 640x480 with 1 Axes>"
      ]
     },
     "metadata": {},
     "output_type": "display_data"
    }
   ],
   "source": [
    "filename = (DATA_DIR + 'E-13.wav')\n",
    "spectrogram = get_spectrogram(filename)\n",
    "spectrogram = np.expand_dims(spectrogram, 0)\n",
    "prediction = model.predict(spectrogram)\n",
    "plt.bar([\"Q\", \"W\", \"E\", \"R\"], tf.nn.softmax(prediction[0]))\n",
    "plt.title('E')\n",
    "plt.show()"
   ]
  },
  {
   "cell_type": "code",
   "execution_count": 43,
   "id": "b527d1e6",
   "metadata": {},
   "outputs": [
    {
     "name": "stdout",
     "output_type": "stream",
     "text": [
      "1/1 [==============================] - 0s 22ms/step\n"
     ]
    },
    {
     "data": {
      "image/png": "[encoded data removed]",
      "text/plain": [
       "<Figure size 640x480 with 1 Axes>"
      ]
     },
     "metadata": {},
     "output_type": "display_data"
    }
   ],
   "source": [
    "filename = (DATA_DIR + 'R-30.wav')\n",
    "spectrogram = get_spectrogram(filename)\n",
    "spectrogram = np.expand_dims(spectrogram, 0)\n",
    "prediction = model.predict(spectrogram)\n",
    "plt.bar([\"Q\", \"W\", \"E\", \"R\"], tf.nn.softmax(prediction[0]))\n",
    "plt.title('R')\n",
    "plt.show()"
   ]
  },
  {
   "cell_type": "code",
   "execution_count": 44,
   "id": "7eba6a47",
   "metadata": {},
   "outputs": [
    {
     "name": "stdout",
     "output_type": "stream",
     "text": [
      "8/8 [==============================] - 0s 3ms/step - loss: 0.0000e+00 - accuracy: 0.0000e+00\n"
     ]
    },
    {
     "data": {
      "text/plain": [
       "{'loss': 0.0, 'accuracy': 0.0}"
      ]
     },
     "execution_count": 44,
     "metadata": {},
     "output_type": "execute_result"
    }
   ],
   "source": [
    "model.evaluate(test_spectrograms, return_dict=True)"
   ]
  },
  {
   "cell_type": "code",
   "execution_count": null,
   "metadata": {},
   "outputs": [],
   "source": []
  }
 ],
 "metadata": {
  "kernelspec": {
   "display_name": "base",
   "language": "python",
   "name": "python3"
  },
  "language_info": {
   "codemirror_mode": {
    "name": "ipython",
    "version": 3
   },
   "file_extension": ".py",
   "mimetype": "text/x-python",
   "name": "python",
   "nbconvert_exporter": "python",
   "pygments_lexer": "ipython3",
   "version": "3.9.17"
  }
 },
 "nbformat": 4,
 "nbformat_minor": 5
}

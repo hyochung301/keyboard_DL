{
 "cells": [
  {
   "cell_type": "markdown",
   "id": "d4ab941c-53f8-467b-8ad4-0fe44d10c769",
   "metadata": {},
   "source": [
    "1. Import and Install Dependencies"
   ]
  },
  {
   "cell_type": "markdown",
   "id": "5e2a83a3-306f-4ba4-b59c-3cd7ef1709e7",
   "metadata": {},
   "source": [
    "1.1 Install Dependencies"
   ]
  },
  {
   "cell_type": "code",
   "execution_count": null,
   "id": "974c37cf-07f2-4053-b056-79b157b4b88d",
   "metadata": {
    "scrolled": true
   },
   "outputs": [],
   "source": [
    "%pip install tensorflow matplotlib tensorflow-io"
   ]
  },
  {
   "cell_type": "code",
   "execution_count": 1,
   "id": "0168fc08-022c-49ca-a7ff-7874b831e0b9",
   "metadata": {
    "scrolled": true
   },
   "outputs": [
    {
     "name": "stderr",
     "output_type": "stream",
     "text": [
      "2023-10-24 16:19:32.922323: I tensorflow/core/platform/cpu_feature_guard.cc:182] This TensorFlow binary is optimized to use available CPU instructions in performance-critical operations.\n",
      "To enable the following instructions: AVX2 FMA, in other operations, rebuild TensorFlow with the appropriate compiler flags.\n",
      "2023-10-24 16:19:34.201014: W tensorflow/compiler/tf2tensorrt/utils/py_utils.cc:38] TF-TRT Warning: Could not find TensorRT\n"
     ]
    }
   ],
   "source": [
    "%matplotlib inline\n",
    "import matplotlib.pyplot as plt\n",
    "import os\n",
    "from scipy.io import wavfile\n",
    "from collections import defaultdict, Counter\n",
    "from scipy import signal\n",
    "import numpy as np\n",
    "import librosa\n",
    "from sklearn import preprocessing\n",
    "import random as rn\n",
    "from keras.layers import Dense\n",
    "from keras import Input\n",
    "from tensorflow.keras.models import Model\n",
    "from keras.utils import to_categorical\n",
    "from keras.layers import Dense, TimeDistributed, Dropout, Bidirectional, GRU, BatchNormalization, Activation, LeakyReLU, LSTM, Flatten, RepeatVector, Permute, Multiply, Conv2D, MaxPooling2D\n",
    "import tensorflow as tf\n",
    "import random"
   ]
  },
  {
   "cell_type": "markdown",
   "id": "fe13c47f-76c3-43c6-b048-63b80dd33ce5",
   "metadata": {},
   "source": [
    "2. Data Loading"
   ]
  },
  {
   "cell_type": "code",
   "execution_count": 2,
   "id": "bd226490-6909-4db9-8c6b-240da2158ca0",
   "metadata": {
    "tags": []
   },
   "outputs": [
    {
     "name": "stderr",
     "output_type": "stream",
     "text": [
      "2023-10-24 16:19:37.541470: I tensorflow/compiler/xla/stream_executor/cuda/cuda_gpu_executor.cc:981] could not open file to read NUMA node: /sys/bus/pci/devices/0000:01:00.0/numa_node\n",
      "Your kernel may have been built without NUMA support.\n",
      "2023-10-24 16:19:37.573469: I tensorflow/compiler/xla/stream_executor/cuda/cuda_gpu_executor.cc:981] could not open file to read NUMA node: /sys/bus/pci/devices/0000:01:00.0/numa_node\n",
      "Your kernel may have been built without NUMA support.\n",
      "2023-10-24 16:19:37.573539: I tensorflow/compiler/xla/stream_executor/cuda/cuda_gpu_executor.cc:981] could not open file to read NUMA node: /sys/bus/pci/devices/0000:01:00.0/numa_node\n",
      "Your kernel may have been built without NUMA support.\n"
     ]
    }
   ],
   "source": [
    "# Avoid OOM errors by setting GPU Memory Consumption Growth\n",
    "gpus = tf.config.experimental.list_physical_devices('GPU')\n",
    "for gpu in gpus: \n",
    "    tf.config.experimental.set_memory_growth(gpu, True)"
   ]
  },
  {
   "cell_type": "code",
   "execution_count": 3,
   "id": "94676b38-96b1-4c23-b55d-53b2cd5bbc12",
   "metadata": {
    "scrolled": true
   },
   "outputs": [
    {
     "name": "stdout",
     "output_type": "stream",
     "text": [
      "1 Physical GPUs, 1 Logical GPUs\n"
     ]
    },
    {
     "name": "stderr",
     "output_type": "stream",
     "text": [
      "2023-10-24 16:19:38.789838: I tensorflow/compiler/xla/stream_executor/cuda/cuda_gpu_executor.cc:981] could not open file to read NUMA node: /sys/bus/pci/devices/0000:01:00.0/numa_node\n",
      "Your kernel may have been built without NUMA support.\n",
      "2023-10-24 16:19:38.790294: I tensorflow/compiler/xla/stream_executor/cuda/cuda_gpu_executor.cc:981] could not open file to read NUMA node: /sys/bus/pci/devices/0000:01:00.0/numa_node\n",
      "Your kernel may have been built without NUMA support.\n",
      "2023-10-24 16:19:38.790377: I tensorflow/compiler/xla/stream_executor/cuda/cuda_gpu_executor.cc:981] could not open file to read NUMA node: /sys/bus/pci/devices/0000:01:00.0/numa_node\n",
      "Your kernel may have been built without NUMA support.\n",
      "2023-10-24 16:19:39.678374: I tensorflow/compiler/xla/stream_executor/cuda/cuda_gpu_executor.cc:981] could not open file to read NUMA node: /sys/bus/pci/devices/0000:01:00.0/numa_node\n",
      "Your kernel may have been built without NUMA support.\n",
      "2023-10-24 16:19:39.678425: I tensorflow/core/common_runtime/gpu/gpu_device.cc:1726] Could not identify NUMA node of platform GPU id 0, defaulting to 0.  Your kernel may not have been built with NUMA support.\n",
      "2023-10-24 16:19:39.678594: I tensorflow/compiler/xla/stream_executor/cuda/cuda_gpu_executor.cc:981] could not open file to read NUMA node: /sys/bus/pci/devices/0000:01:00.0/numa_node\n",
      "Your kernel may have been built without NUMA support.\n",
      "2023-10-24 16:19:39.678649: I tensorflow/compiler/xla/stream_executor/cuda/cuda_gpu_executor.cc:981] could not open file to read NUMA node: /sys/bus/pci/devices/0000:01:00.0/numa_node\n",
      "Your kernel may have been built without NUMA support.\n",
      "2023-10-24 16:19:39.678709: I tensorflow/core/common_runtime/gpu/gpu_device.cc:1639] Created device /job:localhost/replica:0/task:0/device:GPU:0 with 3072 MB memory:  -> device: 0, name: NVIDIA GeForce GTX 1660 Ti, pci bus id: 0000:01:00.0, compute capability: 7.5\n"
     ]
    }
   ],
   "source": [
    "gpus = tf.config.list_physical_devices('GPU')\n",
    "if gpus:\n",
    "  # Restrict TensorFlow to only allocate 1GB of memory on the first GPU\n",
    "  try:\n",
    "    tf.config.set_logical_device_configuration(\n",
    "        gpus[0],\n",
    "        [tf.config.LogicalDeviceConfiguration(memory_limit=3072)])\n",
    "    logical_gpus = tf.config.list_logical_devices('GPU')\n",
    "    print(len(gpus), \"Physical GPUs,\", len(logical_gpus), \"Logical GPUs\")\n",
    "  except RuntimeError as e:\n",
    "    # Virtual devices must be set before GPUs have been initialized\n",
    "    print(e)"
   ]
  },
  {
   "cell_type": "code",
   "execution_count": 4,
   "id": "c5b7b17f-cc6e-4171-a659-dca32797a7ee",
   "metadata": {},
   "outputs": [
    {
     "data": {
      "text/plain": [
       "[PhysicalDevice(name='/physical_device:GPU:0', device_type='GPU')]"
      ]
     },
     "execution_count": 4,
     "metadata": {},
     "output_type": "execute_result"
    }
   ],
   "source": [
    "tf.config.list_physical_devices('GPU')\n"
   ]
  },
  {
   "cell_type": "code",
   "execution_count": 5,
   "id": "10d5b60d-6ec9-4e45-9cb6-b6ad6f4c73d9",
   "metadata": {},
   "outputs": [],
   "source": [
    "DATA_DIR = os.path.join('data', 'train/')"
   ]
  },
  {
   "cell_type": "code",
   "execution_count": 6,
   "id": "19a347db-7204-4092-86cc-bbdb3b0e2274",
   "metadata": {},
   "outputs": [
    {
     "name": "stdout",
     "output_type": "stream",
     "text": [
      "sr: 16000\n",
      "wav shape: (7040,)\n",
      "length: 0.44 secs\n"
     ]
    }
   ],
   "source": [
    "wav, sr = librosa.load(DATA_DIR + 'Q-01.wav', sr=16000)\n",
    "print('sr:', sr)\n",
    "print('wav shape:', wav.shape)\n",
    "print('length:', wav.shape[0]/float(sr), 'secs')"
   ]
  },
  {
   "cell_type": "code",
   "execution_count": 7,
   "id": "387ed053-15fa-40ff-8290-3f32e3dd068f",
   "metadata": {},
   "outputs": [
    {
     "name": "stdout",
     "output_type": "stream",
     "text": [
      "[<matplotlib.lines.Line2D object at 0x7f5c349f7f40>]\n",
      "[<matplotlib.lines.Line2D object at 0x7f5c349113a0>]\n"
     ]
    },
    {
     "data": {
      "image/png": "[encoded data removed]",
      "text/plain": [
       "<Figure size 640x480 with 1 Axes>"
      ]
     },
     "metadata": {},
     "output_type": "display_data"
    }
   ],
   "source": [
    "# raw wave\n",
    "print(plt.plot(wav))\n",
    "print(plt.plot(wav[0:500]))"
   ]
  },
  {
   "cell_type": "code",
   "execution_count": 8,
   "id": "7d5bdb87-9a60-4935-8f31-61da98c92a43",
   "metadata": {},
   "outputs": [],
   "source": [
    "train_mlp = []\n",
    "train_spectrograms = []\n",
    "train_mel_spectrograms = []\n",
    "train_mfccs = []\n",
    "train_y = []\n",
    "\n",
    "test_mlp = []\n",
    "test_spectrograms = []\n",
    "test_mel_spectrograms = []\n",
    "test_mfccs = []\n",
    "test_y = []\n",
    "\n",
    "# 모든 음성파일의 길이가 같도록 후위에 padding 처리\n",
    "pad1d = lambda a, i: a[0: i] if a.shape[0] > i else np.hstack((a, np.zeros(i-a.shape[0])))\n",
    "pad2d = lambda a, i: a[:, 0:i] if a.shape[1] > i else np.hstack((a, np.zeros((a.shape[0], i-a.shape[1]))))\n",
    "\n",
    "frame_length = 0.025\n",
    "frame_stride = 0.0010"
   ]
  },
  {
   "cell_type": "code",
   "execution_count": 9,
   "id": "f42108aa-5c3b-42d4-a27f-3c05056f6d1c",
   "metadata": {
    "scrolled": true
   },
   "outputs": [],
   "source": [
    "from sklearn.model_selection import train_test_split\n",
    "\n",
    "def get_labels(filename):\n",
    "  if filename[0] == 'Q':\n",
    "    return 0\n",
    "  elif filename[0] == 'W':\n",
    "    return 1\n",
    "  elif filename[0] == 'E':\n",
    "    return 2\n",
    "  elif filename[0] == 'R':\n",
    "    return 3\n"
   ]
  },
  {
   "cell_type": "markdown",
   "id": "5fbadc43-339c-4b8a-94bd-7a424b2c7691",
   "metadata": {},
   "source": [
    "simple MLP with raw waves"
   ]
  },
  {
   "cell_type": "code",
   "execution_count": 10,
   "id": "e2a0ebf4-1bbf-4623-8b3c-c9004e4eadfc",
   "metadata": {
    "scrolled": true
   },
   "outputs": [],
   "source": [
    "def get_mlp(filename):\n",
    "    wav, sr = librosa.load(DATA_DIR + filename, sr=16000)\n",
    "    padded_x = pad1d(wav, 30000)\n",
    "    return padded_x\n",
    "\n",
    "X = []\n",
    "y = []\n",
    "\n",
    "for filename in os.listdir(DATA_DIR):\n",
    "    if '.wav' not in filename:\n",
    "        continue\n",
    "    \n",
    "    padded_x = get_mlp(filename)\n",
    "    label = get_labels(filename)\n",
    "\n",
    "    X.append(padded_x)\n",
    "    y.append(label)\n",
    "        \n",
    "train_mlp, test_mlp, train_y, test_y = train_test_split(X, y, test_size=0.2, random_state=42)"
   ]
  },
  {
   "cell_type": "code",
   "execution_count": 11,
   "id": "5030dd2b-6510-488f-b63a-0b46bb87eabd",
   "metadata": {
    "scrolled": true
   },
   "outputs": [
    {
     "name": "stdout",
     "output_type": "stream",
     "text": [
      "train_X: (104, 30000)\n",
      "train_y: (104, 4)\n",
      "test_X: (27, 30000)\n",
      "test_y: (27, 4)\n"
     ]
    }
   ],
   "source": [
    "train_mlp = np.vstack(train_mlp)\n",
    "train_y = to_categorical(np.array(train_y))\n",
    "\n",
    "test_mlp = np.vstack(test_mlp)\n",
    "test_y = to_categorical(np.array(test_y))\n",
    "\n",
    "\n",
    "print('train_X:', train_mlp.shape)\n",
    "print('train_y:', train_y.shape)\n",
    "\n",
    "print('test_X:', test_mlp.shape)\n",
    "print('test_y:', test_y.shape) "
   ]
  },
  {
   "cell_type": "code",
   "execution_count": 12,
   "id": "af96de90-dda4-43b8-83d7-3d7d5ee7063f",
   "metadata": {},
   "outputs": [],
   "source": [
    "from keras.models import Sequential\n",
    "from keras.layers import Dense, Flatten\n",
    "\n",
    "model = Sequential()\n",
    "model.add(Flatten(input_shape=train_mlp.shape[1:]))\n",
    "model.add(Dense(128, activation='relu'))\n",
    "model.add(Dense(64, activation='relu'))\n",
    "model.add(Dense(train_y.shape[1], activation='softmax'))"
   ]
  },
  {
   "cell_type": "code",
   "execution_count": 13,
   "id": "b86d1430-007f-4c72-904e-8641b5c1d690",
   "metadata": {
    "collapsed": true,
    "jupyter": {
     "outputs_hidden": true
    }
   },
   "outputs": [
    {
     "name": "stdout",
     "output_type": "stream",
     "text": [
      "Epoch 1/50\n"
     ]
    },
    {
     "name": "stderr",
     "output_type": "stream",
     "text": [
      "2023-10-24 16:19:51.053902: I tensorflow/compiler/xla/service/service.cc:168] XLA service 0x7f5ab402ff80 initialized for platform CUDA (this does not guarantee that XLA will be used). Devices:\n",
      "2023-10-24 16:19:51.053962: I tensorflow/compiler/xla/service/service.cc:176]   StreamExecutor device (0): NVIDIA GeForce GTX 1660 Ti, Compute Capability 7.5\n",
      "2023-10-24 16:19:51.062305: I tensorflow/compiler/mlir/tensorflow/utils/dump_mlir_util.cc:255] disabling MLIR crash reproducer, set env var `MLIR_CRASH_REPRODUCER_DIRECTORY` to enable.\n",
      "2023-10-24 16:19:51.331177: I tensorflow/compiler/xla/stream_executor/cuda/cuda_dnn.cc:432] Loaded cuDNN version 8600\n",
      "2023-10-24 16:19:51.470663: I ./tensorflow/compiler/jit/device_compiler.h:186] Compiled cluster using XLA!  This line is logged at most once for the lifetime of the process.\n"
     ]
    },
    {
     "name": "stdout",
     "output_type": "stream",
     "text": [
      "4/4 [==============================] - 3s 140ms/step - loss: 1.3843 - accuracy: 0.1923 - val_loss: 1.3674 - val_accuracy: 0.3333\n",
      "Epoch 2/50\n",
      "4/4 [==============================] - 0s 48ms/step - loss: 1.2915 - accuracy: 0.7212 - val_loss: 1.3423 - val_accuracy: 0.2963\n",
      "Epoch 3/50\n",
      "4/4 [==============================] - 0s 46ms/step - loss: 1.1912 - accuracy: 0.8654 - val_loss: 1.3124 - val_accuracy: 0.2963\n",
      "Epoch 4/50\n",
      "4/4 [==============================] - 0s 33ms/step - loss: 1.0768 - accuracy: 0.8654 - val_loss: 1.2845 - val_accuracy: 0.2963\n",
      "Epoch 5/50\n",
      "4/4 [==============================] - 0s 32ms/step - loss: 0.9558 - accuracy: 0.9135 - val_loss: 1.2639 - val_accuracy: 0.2963\n",
      "Epoch 6/50\n",
      "4/4 [==============================] - 0s 29ms/step - loss: 0.8239 - accuracy: 0.9327 - val_loss: 1.2396 - val_accuracy: 0.2963\n",
      "Epoch 7/50\n",
      "4/4 [==============================] - 0s 32ms/step - loss: 0.6958 - accuracy: 0.9615 - val_loss: 1.2178 - val_accuracy: 0.3333\n",
      "Epoch 8/50\n",
      "4/4 [==============================] - 0s 28ms/step - loss: 0.5766 - accuracy: 0.9712 - val_loss: 1.2048 - val_accuracy: 0.3333\n",
      "Epoch 9/50\n",
      "4/4 [==============================] - 0s 29ms/step - loss: 0.4625 - accuracy: 0.9808 - val_loss: 1.1934 - val_accuracy: 0.4444\n",
      "Epoch 10/50\n",
      "4/4 [==============================] - 0s 28ms/step - loss: 0.3651 - accuracy: 1.0000 - val_loss: 1.1785 - val_accuracy: 0.4444\n",
      "Epoch 11/50\n",
      "4/4 [==============================] - 0s 31ms/step - loss: 0.2816 - accuracy: 1.0000 - val_loss: 1.1695 - val_accuracy: 0.4815\n",
      "Epoch 12/50\n",
      "4/4 [==============================] - 0s 30ms/step - loss: 0.2162 - accuracy: 1.0000 - val_loss: 1.1621 - val_accuracy: 0.4815\n",
      "Epoch 13/50\n",
      "4/4 [==============================] - 0s 27ms/step - loss: 0.1622 - accuracy: 1.0000 - val_loss: 1.1531 - val_accuracy: 0.4815\n",
      "Epoch 14/50\n",
      "4/4 [==============================] - 0s 32ms/step - loss: 0.1217 - accuracy: 1.0000 - val_loss: 1.1525 - val_accuracy: 0.4815\n",
      "Epoch 15/50\n",
      "4/4 [==============================] - 0s 31ms/step - loss: 0.0901 - accuracy: 1.0000 - val_loss: 1.1556 - val_accuracy: 0.4815\n",
      "Epoch 16/50\n",
      "4/4 [==============================] - 0s 29ms/step - loss: 0.0695 - accuracy: 1.0000 - val_loss: 1.1634 - val_accuracy: 0.4444\n",
      "Epoch 17/50\n",
      "4/4 [==============================] - 0s 28ms/step - loss: 0.0501 - accuracy: 1.0000 - val_loss: 1.1689 - val_accuracy: 0.4815\n",
      "Epoch 18/50\n",
      "4/4 [==============================] - 0s 34ms/step - loss: 0.0379 - accuracy: 1.0000 - val_loss: 1.1740 - val_accuracy: 0.5185\n",
      "Epoch 19/50\n",
      "4/4 [==============================] - 0s 62ms/step - loss: 0.0295 - accuracy: 1.0000 - val_loss: 1.1833 - val_accuracy: 0.5556\n",
      "Epoch 20/50\n",
      "4/4 [==============================] - 0s 34ms/step - loss: 0.0231 - accuracy: 1.0000 - val_loss: 1.1929 - val_accuracy: 0.5556\n",
      "Epoch 21/50\n",
      "4/4 [==============================] - 0s 32ms/step - loss: 0.0183 - accuracy: 1.0000 - val_loss: 1.1990 - val_accuracy: 0.5556\n",
      "Epoch 22/50\n",
      "4/4 [==============================] - 0s 29ms/step - loss: 0.0148 - accuracy: 1.0000 - val_loss: 1.2036 - val_accuracy: 0.5556\n",
      "Epoch 23/50\n",
      "4/4 [==============================] - 0s 31ms/step - loss: 0.0126 - accuracy: 1.0000 - val_loss: 1.2085 - val_accuracy: 0.5556\n",
      "Epoch 24/50\n",
      "4/4 [==============================] - 0s 28ms/step - loss: 0.0104 - accuracy: 1.0000 - val_loss: 1.2153 - val_accuracy: 0.5556\n",
      "Epoch 25/50\n",
      "4/4 [==============================] - 0s 30ms/step - loss: 0.0091 - accuracy: 1.0000 - val_loss: 1.2217 - val_accuracy: 0.5556\n",
      "Epoch 26/50\n",
      "4/4 [==============================] - 0s 29ms/step - loss: 0.0080 - accuracy: 1.0000 - val_loss: 1.2283 - val_accuracy: 0.5556\n",
      "Epoch 27/50\n",
      "4/4 [==============================] - 0s 27ms/step - loss: 0.0072 - accuracy: 1.0000 - val_loss: 1.2335 - val_accuracy: 0.5556\n",
      "Epoch 28/50\n",
      "4/4 [==============================] - 0s 34ms/step - loss: 0.0065 - accuracy: 1.0000 - val_loss: 1.2373 - val_accuracy: 0.5556\n",
      "Epoch 29/50\n",
      "4/4 [==============================] - 0s 32ms/step - loss: 0.0059 - accuracy: 1.0000 - val_loss: 1.2407 - val_accuracy: 0.5556\n",
      "Epoch 30/50\n",
      "4/4 [==============================] - 0s 28ms/step - loss: 0.0054 - accuracy: 1.0000 - val_loss: 1.2441 - val_accuracy: 0.5556\n",
      "Epoch 31/50\n",
      "4/4 [==============================] - 0s 30ms/step - loss: 0.0050 - accuracy: 1.0000 - val_loss: 1.2460 - val_accuracy: 0.5556\n",
      "Epoch 32/50\n",
      "4/4 [==============================] - 0s 29ms/step - loss: 0.0047 - accuracy: 1.0000 - val_loss: 1.2480 - val_accuracy: 0.5556\n",
      "Epoch 33/50\n",
      "4/4 [==============================] - 0s 29ms/step - loss: 0.0044 - accuracy: 1.0000 - val_loss: 1.2491 - val_accuracy: 0.5556\n",
      "Epoch 34/50\n",
      "4/4 [==============================] - 0s 30ms/step - loss: 0.0041 - accuracy: 1.0000 - val_loss: 1.2504 - val_accuracy: 0.5556\n",
      "Epoch 35/50\n",
      "4/4 [==============================] - 0s 31ms/step - loss: 0.0039 - accuracy: 1.0000 - val_loss: 1.2537 - val_accuracy: 0.5556\n",
      "Epoch 36/50\n",
      "4/4 [==============================] - 0s 33ms/step - loss: 0.0036 - accuracy: 1.0000 - val_loss: 1.2583 - val_accuracy: 0.5556\n",
      "Epoch 37/50\n",
      "4/4 [==============================] - 0s 44ms/step - loss: 0.0034 - accuracy: 1.0000 - val_loss: 1.2621 - val_accuracy: 0.5556\n",
      "Epoch 38/50\n",
      "4/4 [==============================] - 0s 29ms/step - loss: 0.0033 - accuracy: 1.0000 - val_loss: 1.2653 - val_accuracy: 0.5556\n",
      "Epoch 39/50\n",
      "4/4 [==============================] - 0s 32ms/step - loss: 0.0031 - accuracy: 1.0000 - val_loss: 1.2684 - val_accuracy: 0.5556\n",
      "Epoch 40/50\n",
      "4/4 [==============================] - 0s 31ms/step - loss: 0.0029 - accuracy: 1.0000 - val_loss: 1.2710 - val_accuracy: 0.5556\n",
      "Epoch 41/50\n",
      "4/4 [==============================] - 0s 32ms/step - loss: 0.0028 - accuracy: 1.0000 - val_loss: 1.2738 - val_accuracy: 0.5556\n",
      "Epoch 42/50\n",
      "4/4 [==============================] - 0s 30ms/step - loss: 0.0027 - accuracy: 1.0000 - val_loss: 1.2771 - val_accuracy: 0.5556\n",
      "Epoch 43/50\n",
      "4/4 [==============================] - 0s 30ms/step - loss: 0.0025 - accuracy: 1.0000 - val_loss: 1.2797 - val_accuracy: 0.5556\n",
      "Epoch 44/50\n",
      "4/4 [==============================] - 0s 29ms/step - loss: 0.0024 - accuracy: 1.0000 - val_loss: 1.2819 - val_accuracy: 0.5556\n",
      "Epoch 45/50\n",
      "4/4 [==============================] - 0s 33ms/step - loss: 0.0023 - accuracy: 1.0000 - val_loss: 1.2832 - val_accuracy: 0.5556\n",
      "Epoch 46/50\n",
      "4/4 [==============================] - 0s 33ms/step - loss: 0.0022 - accuracy: 1.0000 - val_loss: 1.2848 - val_accuracy: 0.5556\n",
      "Epoch 47/50\n",
      "4/4 [==============================] - 0s 27ms/step - loss: 0.0021 - accuracy: 1.0000 - val_loss: 1.2864 - val_accuracy: 0.5556\n",
      "Epoch 48/50\n",
      "4/4 [==============================] - 0s 28ms/step - loss: 0.0020 - accuracy: 1.0000 - val_loss: 1.2880 - val_accuracy: 0.5556\n",
      "Epoch 49/50\n",
      "4/4 [==============================] - 0s 35ms/step - loss: 0.0019 - accuracy: 1.0000 - val_loss: 1.2897 - val_accuracy: 0.5556\n",
      "Epoch 50/50\n",
      "4/4 [==============================] - 0s 44ms/step - loss: 0.0019 - accuracy: 1.0000 - val_loss: 1.2926 - val_accuracy: 0.5556\n"
     ]
    }
   ],
   "source": [
    "model.compile(loss='categorical_crossentropy',\n",
    "              optimizer='adam',\n",
    "              metrics=['accuracy'])\n",
    "\n",
    "history = model.fit(train_mlp,\n",
    "                    train_y,\n",
    "                    epochs=50,\n",
    "                    batch_size=32,\n",
    "                    validation_data=(test_mlp, test_y))"
   ]
  },
  {
   "cell_type": "code",
   "execution_count": 14,
   "id": "8d889852-3721-4ada-b2e1-78b1d4c66933",
   "metadata": {},
   "outputs": [
    {
     "data": {
      "text/plain": [
       "<matplotlib.legend.Legend at 0x7f5b10382490>"
      ]
     },
     "execution_count": 14,
     "metadata": {},
     "output_type": "execute_result"
    },
    {
     "data": {
      "image/png": "[encoded data removed]",
      "text/plain": [
       "<Figure size 640x480 with 1 Axes>"
      ]
     },
     "metadata": {},
     "output_type": "display_data"
    }
   ],
   "source": [
    "plt.plot(history.history['accuracy'], label='Train Accuracy')\n",
    "plt.plot(history.history['val_accuracy'], label='Validation Accuracy')\n",
    "plt.xlabel('Epochs')\n",
    "plt.ylabel('Accuracy')\n",
    "plt.legend()\n"
   ]
  },
  {
   "cell_type": "markdown",
   "metadata": {},
   "source": [
    "Model Test"
   ]
  },
  {
   "cell_type": "code",
   "execution_count": 15,
   "id": "abd0f74b",
   "metadata": {},
   "outputs": [
    {
     "name": "stdout",
     "output_type": "stream",
     "text": [
      "1/1 [==============================] - 0s 79ms/step\n"
     ]
    },
    {
     "data": {
      "image/png": "[encoded data removed]",
      "text/plain": [
       "<Figure size 640x480 with 1 Axes>"
      ]
     },
     "metadata": {},
     "output_type": "display_data"
    },
    {
     "data": {
      "text/plain": [
       "array([[9.9997735e-01, 1.7098901e-05, 7.5702616e-07, 4.8665493e-06]],\n",
       "      dtype=float32)"
      ]
     },
     "execution_count": 15,
     "metadata": {},
     "output_type": "execute_result"
    }
   ],
   "source": [
    "filename = ('Q-08.wav')\n",
    "padded_x = get_mlp(filename)\n",
    "padded_x = np.expand_dims(padded_x, 0)\n",
    "prediction = model.predict(padded_x)\n",
    "plt.bar([\"Q\", \"W\", \"E\", \"R\"], tf.nn.softmax(prediction[0]))\n",
    "plt.title('Q')\n",
    "plt.show()\n",
    "prediction"
   ]
  },
  {
   "cell_type": "code",
   "execution_count": 21,
   "id": "b57d79f2",
   "metadata": {},
   "outputs": [
    {
     "name": "stdout",
     "output_type": "stream",
     "text": [
      "1/1 [==============================] - 0s 37ms/step\n"
     ]
    },
    {
     "data": {
      "image/png": "[encoded data removed]",
      "text/plain": [
       "<Figure size 640x480 with 1 Axes>"
      ]
     },
     "metadata": {},
     "output_type": "display_data"
    },
    {
     "data": {
      "text/plain": [
       "array([[0.5036351 , 0.33445174, 0.11183415, 0.05007903]], dtype=float32)"
      ]
     },
     "execution_count": 21,
     "metadata": {},
     "output_type": "execute_result"
    }
   ],
   "source": [
    "filename = ('W-03.wav')\n",
    "padded_x = get_mlp(filename)\n",
    "padded_x = np.expand_dims(padded_x, 0)\n",
    "prediction = model.predict(padded_x)\n",
    "plt.bar([\"Q\", \"W\", \"E\", \"R\"], tf.nn.softmax(prediction[0]))\n",
    "plt.title('W')\n",
    "plt.show()\n",
    "prediction"
   ]
  },
  {
   "cell_type": "code",
   "execution_count": 19,
   "id": "9adee419",
   "metadata": {},
   "outputs": [
    {
     "name": "stdout",
     "output_type": "stream",
     "text": [
      "1/1 [==============================] - 0s 36ms/step\n"
     ]
    },
    {
     "data": {
      "image/png": "[encoded data removed]",
      "text/plain": [
       "<Figure size 640x480 with 1 Axes>"
      ]
     },
     "metadata": {},
     "output_type": "display_data"
    },
    {
     "data": {
      "text/plain": [
       "array([[1.3450973e-04, 8.5732981e-04, 9.9843103e-01, 5.7713484e-04]],\n",
       "      dtype=float32)"
      ]
     },
     "execution_count": 19,
     "metadata": {},
     "output_type": "execute_result"
    }
   ],
   "source": [
    "filename = ('E-30.wav')\n",
    "padded_x = get_mlp(filename)\n",
    "padded_x = np.expand_dims(padded_x, 0)\n",
    "prediction = model.predict(padded_x)\n",
    "plt.bar([\"Q\", \"W\", \"E\", \"R\"], tf.nn.softmax(prediction[0]))\n",
    "plt.title('E')\n",
    "plt.show()\n",
    "prediction"
   ]
  },
  {
   "cell_type": "code",
   "execution_count": 22,
   "id": "dcb9be63",
   "metadata": {},
   "outputs": [
    {
     "name": "stdout",
     "output_type": "stream",
     "text": [
      "1/1 [==============================] - 0s 24ms/step\n"
     ]
    },
    {
     "data": {
      "image/png": "[encoded data removed]",
      "text/plain": [
       "<Figure size 640x480 with 1 Axes>"
      ]
     },
     "metadata": {},
     "output_type": "display_data"
    },
    {
     "data": {
      "text/plain": [
       "array([[0.10792768, 0.30278328, 0.55105895, 0.03823016]], dtype=float32)"
      ]
     },
     "execution_count": 22,
     "metadata": {},
     "output_type": "execute_result"
    }
   ],
   "source": [
    "\n",
    "filename = ('R-08.wav')\n",
    "padded_x = get_mlp(filename)\n",
    "padded_x = np.expand_dims(padded_x, 0)\n",
    "prediction = model.predict(padded_x)\n",
    "plt.bar([\"Q\", \"W\", \"E\", \"R\"], tf.nn.softmax(prediction[0]))\n",
    "plt.title('R')\n",
    "plt.show()\n",
    "prediction"
   ]
  },
  {
   "cell_type": "markdown",
   "id": "90f1329f",
   "metadata": {},
   "source": [
    "Train accuracy okay, test accuracy very low. "
   ]
  },
  {
   "cell_type": "markdown",
   "id": "31a5ab84-d59b-4df9-ac49-8eec2476dc01",
   "metadata": {},
   "source": [
    "MFCC feature로 학습"
   ]
  },
  {
   "cell_type": "code",
   "execution_count": 23,
   "id": "d81d2625",
   "metadata": {},
   "outputs": [],
   "source": [
    "def get_mfcc(filename):\n",
    "  wav, sr = librosa.load(filename, sr=16000)\n",
    "  mfcc = librosa.feature.mfcc(y=wav, sr=16000, n_mfcc=100, n_fft=400, hop_length=160)\n",
    "  mfcc = mfcc/ 1000000\n",
    "  mfcc = preprocessing.scale(mfcc, axis=1)\n",
    "  padded_mfcc = pad2d(mfcc, 40)\n",
    "  return padded_mfcc\n",
    "\n",
    "X = []\n",
    "y = []\n",
    "for filename in os.listdir(DATA_DIR):\n",
    "    if '.wav' not in filename:\n",
    "        continue\n",
    "    mfcc = get_mfcc(DATA_DIR + filename)\n",
    "    label = get_labels(filename)\n",
    "\n",
    "    X.append(mfcc)\n",
    "    y.append(label)\n",
    "\n",
    "train_mfccs, test_mfccs, train_y, test_y = train_test_split(X, y, test_size=0.2, random_state=42)"
   ]
  },
  {
   "cell_type": "code",
   "execution_count": 24,
   "id": "2822834b",
   "metadata": {},
   "outputs": [
    {
     "name": "stdout",
     "output_type": "stream",
     "text": [
      "train_mfccs: (104, 100, 40)\n",
      "train_y: (104, 4)\n",
      "test_mfccs: (27, 100, 40)\n",
      "test_y: (27, 4)\n"
     ]
    }
   ],
   "source": [
    "train_mfccs = np.array(train_mfccs)\n",
    "train_y = to_categorical(np.array(train_y))\n",
    "\n",
    "test_mfccs = np.array(test_mfccs)\n",
    "test_y = to_categorical(np.array(test_y))\n",
    "\n",
    "print('train_mfccs:', train_mfccs.shape)\n",
    "print('train_y:', train_y.shape)\n",
    "\n",
    "print('test_mfccs:', test_mfccs.shape)\n",
    "print('test_y:', test_y.shape)"
   ]
  },
  {
   "cell_type": "code",
   "execution_count": 25,
   "id": "ec9e87fd-05cc-4e06-8dd7-ceb1b40e0091",
   "metadata": {},
   "outputs": [
    {
     "name": "stdout",
     "output_type": "stream",
     "text": [
      "train X shape: (104, 100, 40, 1)\n",
      "test X shape: (27, 100, 40, 1)\n"
     ]
    }
   ],
   "source": [
    "train_mfccs = np.expand_dims(train_mfccs, -1)\n",
    "test_mfccs = np.expand_dims(test_mfccs, -1)\n",
    "print('train X shape:', train_mfccs.shape)\n",
    "print('test X shape:', test_mfccs.shape)"
   ]
  },
  {
   "cell_type": "code",
   "execution_count": 26,
   "id": "83693709-78cd-4482-a607-6a8c4f7f58ac",
   "metadata": {
    "scrolled": true
   },
   "outputs": [
    {
     "name": "stdout",
     "output_type": "stream",
     "text": [
      "Model: \"model\"\n",
      "_________________________________________________________________\n",
      " Layer (type)                Output Shape              Param #   \n",
      "=================================================================\n",
      " input_1 (InputLayer)        [(None, 100, 40, 1)]      0         \n",
      "                                                                 \n",
      " conv2d_2 (Conv2D)           (None, 97, 37, 96)        1632      \n",
      "                                                                 \n",
      " max_pooling2d_2 (MaxPoolin  (None, 24, 9, 96)         0         \n",
      " g2D)                                                            \n",
      "                                                                 \n",
      " flatten_1 (Flatten)         (None, 20736)             0         \n",
      "                                                                 \n",
      " dense_3 (Dense)             (None, 64)                1327168   \n",
      "                                                                 \n",
      " dense_4 (Dense)             (None, 32)                2080      \n",
      "                                                                 \n",
      " dense_5 (Dense)             (None, 4)                 132       \n",
      "                                                                 \n",
      "=================================================================\n",
      "Total params: 1331012 (5.08 MB)\n",
      "Trainable params: 1331012 (5.08 MB)\n",
      "Non-trainable params: 0 (0.00 Byte)\n",
      "_________________________________________________________________\n"
     ]
    }
   ],
   "source": [
    "ip = Input(shape=train_mfccs[0].shape)\n",
    "\n",
    "m = Conv2D(32, kernel_size=(4,4), activation='relu')(ip)\n",
    "m = MaxPooling2D(pool_size=(4,4))(m)\n",
    "\n",
    "m = Conv2D(32*2, kernel_size=(4,4), activation='relu')(ip)\n",
    "m = MaxPooling2D(pool_size=(4,4))(m)\n",
    "\n",
    "m = Conv2D(32 * 3, kernel_size=(4, 4), activation='relu')(ip)\n",
    "m = MaxPooling2D(pool_size=(4,4))(m)\n",
    "\n",
    "m = Flatten()(m)\n",
    "\n",
    "m = Dense(64, activation='relu')(m)\n",
    "\n",
    "m = Dense(32, activation='relu')(m)\n",
    "\n",
    "op = Dense(4, activation='softmax')(m)\n",
    "\n",
    "model = Model(ip, op)\n",
    "\n",
    "model.summary()"
   ]
  },
  {
   "cell_type": "code",
   "execution_count": 27,
   "id": "e8ffb8b8-9ff6-44ab-bdc0-4388ba96fb1f",
   "metadata": {
    "scrolled": true
   },
   "outputs": [
    {
     "name": "stdout",
     "output_type": "stream",
     "text": [
      "Epoch 1/100\n",
      "4/4 [==============================] - 4s 138ms/step - loss: 1.7890 - accuracy: 0.1827 - val_loss: 1.4747 - val_accuracy: 0.3704\n",
      "Epoch 2/100\n",
      "4/4 [==============================] - 0s 29ms/step - loss: 1.3885 - accuracy: 0.3077 - val_loss: 1.4241 - val_accuracy: 0.2222\n",
      "Epoch 3/100\n",
      "4/4 [==============================] - 0s 30ms/step - loss: 1.3648 - accuracy: 0.3365 - val_loss: 1.3249 - val_accuracy: 0.2593\n",
      "Epoch 4/100\n",
      "4/4 [==============================] - 0s 30ms/step - loss: 1.2559 - accuracy: 0.5962 - val_loss: 1.3335 - val_accuracy: 0.3333\n",
      "Epoch 5/100\n",
      "4/4 [==============================] - 0s 31ms/step - loss: 1.2364 - accuracy: 0.4231 - val_loss: 1.3533 - val_accuracy: 0.2593\n",
      "Epoch 6/100\n",
      "4/4 [==============================] - 0s 27ms/step - loss: 1.2502 - accuracy: 0.4615 - val_loss: 1.2453 - val_accuracy: 0.4444\n",
      "Epoch 7/100\n",
      "4/4 [==============================] - 0s 30ms/step - loss: 1.1842 - accuracy: 0.3750 - val_loss: 1.1909 - val_accuracy: 0.5926\n",
      "Epoch 8/100\n",
      "4/4 [==============================] - 0s 33ms/step - loss: 1.0943 - accuracy: 0.6923 - val_loss: 1.1373 - val_accuracy: 0.7407\n",
      "Epoch 9/100\n",
      "4/4 [==============================] - 0s 44ms/step - loss: 0.9836 - accuracy: 0.8942 - val_loss: 1.1092 - val_accuracy: 0.4815\n",
      "Epoch 10/100\n",
      "4/4 [==============================] - 0s 28ms/step - loss: 0.9313 - accuracy: 0.7404 - val_loss: 1.0207 - val_accuracy: 0.7407\n",
      "Epoch 11/100\n",
      "4/4 [==============================] - 0s 28ms/step - loss: 0.8044 - accuracy: 0.9904 - val_loss: 0.9541 - val_accuracy: 0.7407\n",
      "Epoch 12/100\n",
      "4/4 [==============================] - 0s 30ms/step - loss: 0.7325 - accuracy: 0.9712 - val_loss: 0.8498 - val_accuracy: 1.0000\n",
      "Epoch 13/100\n",
      "4/4 [==============================] - 0s 30ms/step - loss: 0.6160 - accuracy: 0.9904 - val_loss: 0.7678 - val_accuracy: 1.0000\n",
      "Epoch 14/100\n",
      "4/4 [==============================] - 0s 27ms/step - loss: 0.5196 - accuracy: 1.0000 - val_loss: 0.6916 - val_accuracy: 0.9630\n",
      "Epoch 15/100\n",
      "4/4 [==============================] - 0s 38ms/step - loss: 0.4131 - accuracy: 1.0000 - val_loss: 0.6444 - val_accuracy: 0.8889\n",
      "Epoch 16/100\n",
      "4/4 [==============================] - 0s 30ms/step - loss: 0.3427 - accuracy: 1.0000 - val_loss: 0.5753 - val_accuracy: 0.9259\n",
      "Epoch 17/100\n",
      "4/4 [==============================] - 0s 33ms/step - loss: 0.2689 - accuracy: 1.0000 - val_loss: 0.5283 - val_accuracy: 0.8889\n",
      "Epoch 18/100\n",
      "4/4 [==============================] - 0s 34ms/step - loss: 0.2138 - accuracy: 1.0000 - val_loss: 0.4057 - val_accuracy: 0.9630\n",
      "Epoch 19/100\n",
      "4/4 [==============================] - 0s 36ms/step - loss: 0.1637 - accuracy: 1.0000 - val_loss: 0.3636 - val_accuracy: 1.0000\n",
      "Epoch 20/100\n",
      "4/4 [==============================] - 0s 34ms/step - loss: 0.1114 - accuracy: 1.0000 - val_loss: 0.3030 - val_accuracy: 0.9630\n",
      "Epoch 21/100\n",
      "4/4 [==============================] - 0s 35ms/step - loss: 0.0913 - accuracy: 1.0000 - val_loss: 0.3141 - val_accuracy: 0.9630\n",
      "Epoch 22/100\n",
      "4/4 [==============================] - 0s 41ms/step - loss: 0.0761 - accuracy: 1.0000 - val_loss: 0.2656 - val_accuracy: 1.0000\n",
      "Epoch 23/100\n",
      "4/4 [==============================] - 0s 34ms/step - loss: 0.0547 - accuracy: 1.0000 - val_loss: 0.2170 - val_accuracy: 1.0000\n",
      "Epoch 24/100\n",
      "4/4 [==============================] - 0s 36ms/step - loss: 0.0418 - accuracy: 1.0000 - val_loss: 0.1924 - val_accuracy: 1.0000\n",
      "Epoch 25/100\n",
      "4/4 [==============================] - 0s 42ms/step - loss: 0.0356 - accuracy: 1.0000 - val_loss: 0.1850 - val_accuracy: 1.0000\n",
      "Epoch 26/100\n",
      "4/4 [==============================] - 0s 38ms/step - loss: 0.0283 - accuracy: 1.0000 - val_loss: 0.1731 - val_accuracy: 0.9630\n",
      "Epoch 27/100\n",
      "4/4 [==============================] - 0s 35ms/step - loss: 0.0252 - accuracy: 1.0000 - val_loss: 0.1575 - val_accuracy: 1.0000\n",
      "Epoch 28/100\n",
      "4/4 [==============================] - 0s 36ms/step - loss: 0.0210 - accuracy: 1.0000 - val_loss: 0.1510 - val_accuracy: 1.0000\n",
      "Epoch 29/100\n",
      "4/4 [==============================] - 0s 31ms/step - loss: 0.0180 - accuracy: 1.0000 - val_loss: 0.1360 - val_accuracy: 1.0000\n",
      "Epoch 30/100\n",
      "4/4 [==============================] - 0s 35ms/step - loss: 0.0159 - accuracy: 1.0000 - val_loss: 0.1366 - val_accuracy: 1.0000\n",
      "Epoch 31/100\n",
      "4/4 [==============================] - 0s 33ms/step - loss: 0.0142 - accuracy: 1.0000 - val_loss: 0.1368 - val_accuracy: 1.0000\n",
      "Epoch 32/100\n",
      "4/4 [==============================] - 0s 36ms/step - loss: 0.0126 - accuracy: 1.0000 - val_loss: 0.1278 - val_accuracy: 1.0000\n",
      "Epoch 33/100\n",
      "4/4 [==============================] - 0s 34ms/step - loss: 0.0115 - accuracy: 1.0000 - val_loss: 0.1134 - val_accuracy: 1.0000\n",
      "Epoch 34/100\n",
      "4/4 [==============================] - 0s 30ms/step - loss: 0.0110 - accuracy: 1.0000 - val_loss: 0.1112 - val_accuracy: 1.0000\n",
      "Epoch 35/100\n",
      "4/4 [==============================] - 0s 31ms/step - loss: 0.0098 - accuracy: 1.0000 - val_loss: 0.1183 - val_accuracy: 1.0000\n",
      "Epoch 36/100\n",
      "4/4 [==============================] - 0s 37ms/step - loss: 0.0090 - accuracy: 1.0000 - val_loss: 0.1220 - val_accuracy: 1.0000\n",
      "Epoch 37/100\n",
      "4/4 [==============================] - 0s 33ms/step - loss: 0.0084 - accuracy: 1.0000 - val_loss: 0.1090 - val_accuracy: 1.0000\n",
      "Epoch 38/100\n",
      "4/4 [==============================] - 0s 28ms/step - loss: 0.0077 - accuracy: 1.0000 - val_loss: 0.0957 - val_accuracy: 1.0000\n",
      "Epoch 39/100\n",
      "4/4 [==============================] - 0s 31ms/step - loss: 0.0074 - accuracy: 1.0000 - val_loss: 0.0960 - val_accuracy: 1.0000\n",
      "Epoch 40/100\n",
      "4/4 [==============================] - 0s 35ms/step - loss: 0.0067 - accuracy: 1.0000 - val_loss: 0.1166 - val_accuracy: 1.0000\n",
      "Epoch 41/100\n",
      "4/4 [==============================] - 0s 31ms/step - loss: 0.0064 - accuracy: 1.0000 - val_loss: 0.0978 - val_accuracy: 1.0000\n",
      "Epoch 42/100\n",
      "4/4 [==============================] - 0s 31ms/step - loss: 0.0055 - accuracy: 1.0000 - val_loss: 0.0883 - val_accuracy: 1.0000\n",
      "Epoch 43/100\n",
      "4/4 [==============================] - 0s 34ms/step - loss: 0.0052 - accuracy: 1.0000 - val_loss: 0.0893 - val_accuracy: 1.0000\n",
      "Epoch 44/100\n",
      "4/4 [==============================] - 0s 36ms/step - loss: 0.0047 - accuracy: 1.0000 - val_loss: 0.0900 - val_accuracy: 1.0000\n",
      "Epoch 45/100\n",
      "4/4 [==============================] - 0s 30ms/step - loss: 0.0042 - accuracy: 1.0000 - val_loss: 0.0817 - val_accuracy: 1.0000\n",
      "Epoch 46/100\n",
      "4/4 [==============================] - 0s 31ms/step - loss: 0.0036 - accuracy: 1.0000 - val_loss: 0.0756 - val_accuracy: 1.0000\n",
      "Epoch 47/100\n",
      "4/4 [==============================] - 0s 36ms/step - loss: 0.0032 - accuracy: 1.0000 - val_loss: 0.0708 - val_accuracy: 1.0000\n",
      "Epoch 48/100\n",
      "4/4 [==============================] - 0s 41ms/step - loss: 0.0029 - accuracy: 1.0000 - val_loss: 0.0654 - val_accuracy: 1.0000\n",
      "Epoch 49/100\n",
      "4/4 [==============================] - 0s 33ms/step - loss: 0.0027 - accuracy: 1.0000 - val_loss: 0.0659 - val_accuracy: 1.0000\n",
      "Epoch 50/100\n",
      "4/4 [==============================] - 0s 32ms/step - loss: 0.0025 - accuracy: 1.0000 - val_loss: 0.0629 - val_accuracy: 1.0000\n",
      "Epoch 51/100\n",
      "4/4 [==============================] - 0s 34ms/step - loss: 0.0023 - accuracy: 1.0000 - val_loss: 0.0608 - val_accuracy: 1.0000\n",
      "Epoch 52/100\n",
      "4/4 [==============================] - 0s 33ms/step - loss: 0.0022 - accuracy: 1.0000 - val_loss: 0.0627 - val_accuracy: 1.0000\n",
      "Epoch 53/100\n",
      "4/4 [==============================] - 0s 36ms/step - loss: 0.0021 - accuracy: 1.0000 - val_loss: 0.0631 - val_accuracy: 1.0000\n",
      "Epoch 54/100\n",
      "4/4 [==============================] - 0s 34ms/step - loss: 0.0020 - accuracy: 1.0000 - val_loss: 0.0651 - val_accuracy: 1.0000\n",
      "Epoch 55/100\n",
      "4/4 [==============================] - 0s 36ms/step - loss: 0.0020 - accuracy: 1.0000 - val_loss: 0.0635 - val_accuracy: 1.0000\n",
      "Epoch 56/100\n",
      "4/4 [==============================] - 0s 34ms/step - loss: 0.0019 - accuracy: 1.0000 - val_loss: 0.0586 - val_accuracy: 1.0000\n",
      "Epoch 57/100\n",
      "4/4 [==============================] - 0s 30ms/step - loss: 0.0018 - accuracy: 1.0000 - val_loss: 0.0569 - val_accuracy: 1.0000\n",
      "Epoch 58/100\n",
      "4/4 [==============================] - 0s 32ms/step - loss: 0.0017 - accuracy: 1.0000 - val_loss: 0.0564 - val_accuracy: 1.0000\n",
      "Epoch 59/100\n",
      "4/4 [==============================] - 0s 35ms/step - loss: 0.0017 - accuracy: 1.0000 - val_loss: 0.0561 - val_accuracy: 1.0000\n",
      "Epoch 60/100\n",
      "4/4 [==============================] - 0s 38ms/step - loss: 0.0016 - accuracy: 1.0000 - val_loss: 0.0572 - val_accuracy: 1.0000\n",
      "Epoch 61/100\n",
      "4/4 [==============================] - 0s 41ms/step - loss: 0.0016 - accuracy: 1.0000 - val_loss: 0.0583 - val_accuracy: 1.0000\n",
      "Epoch 62/100\n",
      "4/4 [==============================] - 0s 37ms/step - loss: 0.0015 - accuracy: 1.0000 - val_loss: 0.0578 - val_accuracy: 1.0000\n",
      "Epoch 63/100\n",
      "4/4 [==============================] - 0s 32ms/step - loss: 0.0015 - accuracy: 1.0000 - val_loss: 0.0574 - val_accuracy: 1.0000\n",
      "Epoch 64/100\n",
      "4/4 [==============================] - 0s 31ms/step - loss: 0.0014 - accuracy: 1.0000 - val_loss: 0.0575 - val_accuracy: 1.0000\n",
      "Epoch 65/100\n",
      "4/4 [==============================] - 0s 32ms/step - loss: 0.0014 - accuracy: 1.0000 - val_loss: 0.0558 - val_accuracy: 1.0000\n",
      "Epoch 66/100\n",
      "4/4 [==============================] - 0s 30ms/step - loss: 0.0013 - accuracy: 1.0000 - val_loss: 0.0533 - val_accuracy: 1.0000\n",
      "Epoch 67/100\n",
      "4/4 [==============================] - 0s 31ms/step - loss: 0.0013 - accuracy: 1.0000 - val_loss: 0.0513 - val_accuracy: 1.0000\n",
      "Epoch 68/100\n",
      "4/4 [==============================] - 0s 30ms/step - loss: 0.0013 - accuracy: 1.0000 - val_loss: 0.0509 - val_accuracy: 1.0000\n",
      "Epoch 69/100\n",
      "4/4 [==============================] - 0s 31ms/step - loss: 0.0012 - accuracy: 1.0000 - val_loss: 0.0521 - val_accuracy: 1.0000\n",
      "Epoch 70/100\n",
      "4/4 [==============================] - 0s 34ms/step - loss: 0.0012 - accuracy: 1.0000 - val_loss: 0.0541 - val_accuracy: 1.0000\n",
      "Epoch 71/100\n",
      "4/4 [==============================] - 0s 33ms/step - loss: 0.0012 - accuracy: 1.0000 - val_loss: 0.0546 - val_accuracy: 1.0000\n",
      "Epoch 72/100\n",
      "4/4 [==============================] - 0s 37ms/step - loss: 0.0011 - accuracy: 1.0000 - val_loss: 0.0538 - val_accuracy: 1.0000\n",
      "Epoch 73/100\n",
      "4/4 [==============================] - 0s 39ms/step - loss: 0.0011 - accuracy: 1.0000 - val_loss: 0.0518 - val_accuracy: 1.0000\n",
      "Epoch 74/100\n",
      "4/4 [==============================] - 0s 29ms/step - loss: 0.0011 - accuracy: 1.0000 - val_loss: 0.0503 - val_accuracy: 1.0000\n",
      "Epoch 75/100\n",
      "4/4 [==============================] - 0s 36ms/step - loss: 0.0011 - accuracy: 1.0000 - val_loss: 0.0500 - val_accuracy: 1.0000\n",
      "Epoch 76/100\n",
      "4/4 [==============================] - 0s 31ms/step - loss: 0.0010 - accuracy: 1.0000 - val_loss: 0.0505 - val_accuracy: 1.0000\n",
      "Epoch 77/100\n",
      "4/4 [==============================] - 0s 33ms/step - loss: 0.0010 - accuracy: 1.0000 - val_loss: 0.0511 - val_accuracy: 1.0000\n",
      "Epoch 78/100\n",
      "4/4 [==============================] - 0s 39ms/step - loss: 9.8532e-04 - accuracy: 1.0000 - val_loss: 0.0512 - val_accuracy: 1.0000\n",
      "Epoch 79/100\n",
      "4/4 [==============================] - 0s 37ms/step - loss: 9.6308e-04 - accuracy: 1.0000 - val_loss: 0.0516 - val_accuracy: 1.0000\n",
      "Epoch 80/100\n",
      "4/4 [==============================] - 0s 32ms/step - loss: 9.4186e-04 - accuracy: 1.0000 - val_loss: 0.0508 - val_accuracy: 1.0000\n",
      "Epoch 81/100\n",
      "4/4 [==============================] - 0s 36ms/step - loss: 9.1861e-04 - accuracy: 1.0000 - val_loss: 0.0493 - val_accuracy: 1.0000\n",
      "Epoch 82/100\n",
      "4/4 [==============================] - 0s 35ms/step - loss: 8.9819e-04 - accuracy: 1.0000 - val_loss: 0.0478 - val_accuracy: 1.0000\n",
      "Epoch 83/100\n",
      "4/4 [==============================] - 0s 31ms/step - loss: 8.9000e-04 - accuracy: 1.0000 - val_loss: 0.0470 - val_accuracy: 1.0000\n",
      "Epoch 84/100\n",
      "4/4 [==============================] - 0s 33ms/step - loss: 8.7351e-04 - accuracy: 1.0000 - val_loss: 0.0472 - val_accuracy: 1.0000\n",
      "Epoch 85/100\n",
      "4/4 [==============================] - 0s 35ms/step - loss: 8.5375e-04 - accuracy: 1.0000 - val_loss: 0.0483 - val_accuracy: 1.0000\n",
      "Epoch 86/100\n",
      "4/4 [==============================] - 0s 30ms/step - loss: 8.2335e-04 - accuracy: 1.0000 - val_loss: 0.0489 - val_accuracy: 1.0000\n",
      "Epoch 87/100\n",
      "4/4 [==============================] - 0s 33ms/step - loss: 8.1053e-04 - accuracy: 1.0000 - val_loss: 0.0489 - val_accuracy: 1.0000\n",
      "Epoch 88/100\n",
      "4/4 [==============================] - 0s 32ms/step - loss: 7.9437e-04 - accuracy: 1.0000 - val_loss: 0.0475 - val_accuracy: 1.0000\n",
      "Epoch 89/100\n",
      "4/4 [==============================] - 0s 31ms/step - loss: 7.7450e-04 - accuracy: 1.0000 - val_loss: 0.0456 - val_accuracy: 1.0000\n",
      "Epoch 90/100\n",
      "4/4 [==============================] - 0s 32ms/step - loss: 7.5634e-04 - accuracy: 1.0000 - val_loss: 0.0443 - val_accuracy: 1.0000\n",
      "Epoch 91/100\n",
      "4/4 [==============================] - 0s 34ms/step - loss: 7.4623e-04 - accuracy: 1.0000 - val_loss: 0.0441 - val_accuracy: 1.0000\n",
      "Epoch 92/100\n",
      "4/4 [==============================] - 0s 31ms/step - loss: 7.3151e-04 - accuracy: 1.0000 - val_loss: 0.0449 - val_accuracy: 1.0000\n",
      "Epoch 93/100\n",
      "4/4 [==============================] - 0s 35ms/step - loss: 7.1487e-04 - accuracy: 1.0000 - val_loss: 0.0458 - val_accuracy: 1.0000\n",
      "Epoch 94/100\n",
      "4/4 [==============================] - 0s 29ms/step - loss: 7.0610e-04 - accuracy: 1.0000 - val_loss: 0.0452 - val_accuracy: 1.0000\n",
      "Epoch 95/100\n",
      "4/4 [==============================] - 0s 37ms/step - loss: 6.8746e-04 - accuracy: 1.0000 - val_loss: 0.0447 - val_accuracy: 1.0000\n",
      "Epoch 96/100\n",
      "4/4 [==============================] - 0s 40ms/step - loss: 6.7765e-04 - accuracy: 1.0000 - val_loss: 0.0438 - val_accuracy: 1.0000\n",
      "Epoch 97/100\n",
      "4/4 [==============================] - 0s 28ms/step - loss: 6.7004e-04 - accuracy: 1.0000 - val_loss: 0.0435 - val_accuracy: 1.0000\n",
      "Epoch 98/100\n",
      "4/4 [==============================] - 0s 38ms/step - loss: 6.5299e-04 - accuracy: 1.0000 - val_loss: 0.0435 - val_accuracy: 1.0000\n",
      "Epoch 99/100\n",
      "4/4 [==============================] - 0s 35ms/step - loss: 6.3287e-04 - accuracy: 1.0000 - val_loss: 0.0442 - val_accuracy: 1.0000\n",
      "Epoch 100/100\n",
      "4/4 [==============================] - 0s 33ms/step - loss: 6.3669e-04 - accuracy: 1.0000 - val_loss: 0.0451 - val_accuracy: 1.0000\n"
     ]
    }
   ],
   "source": [
    "model.compile(loss='categorical_crossentropy',\n",
    "              optimizer='adam',\n",
    "              metrics=['accuracy'])\n",
    "\n",
    "history = model.fit(train_mfccs,\n",
    "                    train_y,\n",
    "                    epochs=100,\n",
    "                    batch_size=32,\n",
    "                    verbose=1,\n",
    "                    validation_data=(test_mfccs, test_y))\n"
   ]
  },
  {
   "cell_type": "code",
   "execution_count": 28,
   "id": "ad9110f1-67f2-4c69-aed8-b6a936c3f4a2",
   "metadata": {},
   "outputs": [
    {
     "data": {
      "text/plain": [
       "<matplotlib.legend.Legend at 0x7f5c085f68b0>"
      ]
     },
     "execution_count": 28,
     "metadata": {},
     "output_type": "execute_result"
    },
    {
     "data": {
      "image/png": "[encoded data removed]",
      "text/plain": [
       "<Figure size 640x480 with 1 Axes>"
      ]
     },
     "metadata": {},
     "output_type": "display_data"
    }
   ],
   "source": [
    "plt.plot(history.history['accuracy'], label='Train Accuracy')\n",
    "plt.plot(history.history['val_accuracy'], label='Validation Accuracy')\n",
    "plt.xlabel('Epochs')\n",
    "plt.ylabel('Accuracy')\n",
    "plt.legend()"
   ]
  },
  {
   "cell_type": "code",
   "execution_count": 29,
   "id": "70ed50db",
   "metadata": {},
   "outputs": [
    {
     "data": {
      "text/plain": [
       "Text(0, 0.5, 'Accuracy [%]')"
      ]
     },
     "execution_count": 29,
     "metadata": {},
     "output_type": "execute_result"
    },
    {
     "data": {
      "image/png": "[encoded data removed]",
      "text/plain": [
       "<Figure size 1600x600 with 2 Axes>"
      ]
     },
     "metadata": {},
     "output_type": "display_data"
    }
   ],
   "source": [
    "metrics = history.history\n",
    "plt.figure(figsize=(16,6))\n",
    "plt.subplot(1,2,1)\n",
    "plt.plot(history.epoch, metrics['loss'], metrics['val_loss'])\n",
    "plt.legend(['loss', 'val_loss'])\n",
    "plt.ylim([0, max(plt.ylim())])\n",
    "plt.xlabel('Epoch')\n",
    "plt.ylabel('Loss [CrossEntropy]')\n",
    "\n",
    "plt.subplot(1,2,2)\n",
    "plt.plot(history.epoch, 100*np.array(metrics['accuracy']), 100*np.array(metrics['val_accuracy']))\n",
    "plt.legend(['accuracy', 'val_accuracy'])\n",
    "plt.ylim([0, 100])\n",
    "plt.xlabel('Epoch')\n",
    "plt.ylabel('Accuracy [%]')"
   ]
  },
  {
   "cell_type": "markdown",
   "id": "a91cafd9-5722-4743-a5a2-79f97d5a0d1e",
   "metadata": {},
   "source": [
    "Model Test"
   ]
  },
  {
   "cell_type": "code",
   "execution_count": 30,
   "id": "7e78fcb5",
   "metadata": {},
   "outputs": [
    {
     "name": "stdout",
     "output_type": "stream",
     "text": [
      "1/1 [==============================] - 0s 426ms/step\n"
     ]
    },
    {
     "data": {
      "image/png": "[encoded data removed]",
      "text/plain": [
       "<Figure size 640x480 with 1 Axes>"
      ]
     },
     "metadata": {},
     "output_type": "display_data"
    },
    {
     "data": {
      "text/plain": [
       "array([[9.9992025e-01, 1.6448001e-06, 3.8329155e-05, 3.9748025e-05]],\n",
       "      dtype=float32)"
      ]
     },
     "execution_count": 30,
     "metadata": {},
     "output_type": "execute_result"
    }
   ],
   "source": [
    "filename = (DATA_DIR + 'Q-08.wav')\n",
    "mfcc = get_mfcc(filename)\n",
    "mfcc = np.expand_dims(mfcc, 0)\n",
    "prediction = model.predict(mfcc)\n",
    "plt.bar([\"Q\", \"W\", \"E\", \"R\"], tf.nn.softmax(prediction[0]))\n",
    "plt.title('Q')\n",
    "plt.show()\n",
    "prediction"
   ]
  },
  {
   "cell_type": "code",
   "execution_count": 31,
   "id": "57d6d372",
   "metadata": {},
   "outputs": [
    {
     "name": "stdout",
     "output_type": "stream",
     "text": [
      "1/1 [==============================] - 0s 50ms/step\n"
     ]
    },
    {
     "data": {
      "image/png": "[encoded data removed]",
      "text/plain": [
       "<Figure size 640x480 with 1 Axes>"
      ]
     },
     "metadata": {},
     "output_type": "display_data"
    },
    {
     "data": {
      "text/plain": [
       "array([[3.2284679e-05, 9.9949634e-01, 4.3753965e-04, 3.3861295e-05]],\n",
       "      dtype=float32)"
      ]
     },
     "execution_count": 31,
     "metadata": {},
     "output_type": "execute_result"
    }
   ],
   "source": [
    "filename = (DATA_DIR + 'W-08.wav')\n",
    "mfcc = get_mfcc(filename)\n",
    "mfcc = np.expand_dims(mfcc, 0)\n",
    "prediction = model.predict(mfcc)\n",
    "plt.bar([\"Q\", \"W\", \"E\", \"R\"], tf.nn.softmax(prediction[0]))\n",
    "plt.title('W')\n",
    "plt.show()\n",
    "prediction"
   ]
  },
  {
   "cell_type": "code",
   "execution_count": 32,
   "id": "1633b87b",
   "metadata": {},
   "outputs": [
    {
     "name": "stdout",
     "output_type": "stream",
     "text": [
      "1/1 [==============================] - 0s 45ms/step\n"
     ]
    },
    {
     "data": {
      "image/png": "[encoded data removed]",
      "text/plain": [
       "<Figure size 640x480 with 1 Axes>"
      ]
     },
     "metadata": {},
     "output_type": "display_data"
    },
    {
     "data": {
      "text/plain": [
       "array([[1.0688774e-05, 1.3492632e-04, 9.9941099e-01, 4.4338463e-04]],\n",
       "      dtype=float32)"
      ]
     },
     "execution_count": 32,
     "metadata": {},
     "output_type": "execute_result"
    }
   ],
   "source": [
    "filename = (DATA_DIR + 'E-30.wav')\n",
    "mfcc = get_mfcc(filename)\n",
    "mfcc = np.expand_dims(mfcc, 0)\n",
    "prediction = model.predict(mfcc)\n",
    "plt.bar([\"Q\", \"W\", \"E\", \"R\"], tf.nn.softmax(prediction[0]))\n",
    "plt.title('E')\n",
    "plt.show()\n",
    "prediction"
   ]
  },
  {
   "cell_type": "code",
   "execution_count": 33,
   "id": "ee33887a",
   "metadata": {},
   "outputs": [
    {
     "name": "stdout",
     "output_type": "stream",
     "text": [
      "1/1 [==============================] - 0s 41ms/step\n"
     ]
    },
    {
     "data": {
      "image/png": "[encoded data removed]",
      "text/plain": [
       "<Figure size 640x480 with 1 Axes>"
      ]
     },
     "metadata": {},
     "output_type": "display_data"
    },
    {
     "data": {
      "text/plain": [
       "array([[1.8083001e-04, 1.0935991e-05, 6.4599022e-02, 9.3520921e-01]],\n",
       "      dtype=float32)"
      ]
     },
     "execution_count": 33,
     "metadata": {},
     "output_type": "execute_result"
    }
   ],
   "source": [
    "filename = (DATA_DIR + 'R-08.wav')\n",
    "mfcc = get_mfcc(filename)\n",
    "mfcc = np.expand_dims(mfcc, 0)\n",
    "prediction = model.predict(mfcc)\n",
    "plt.bar([\"Q\", \"W\", \"E\", \"R\"], tf.nn.softmax(prediction[0]))\n",
    "plt.title('R')\n",
    "plt.show()\n",
    "prediction"
   ]
  },
  {
   "cell_type": "code",
   "execution_count": 34,
   "id": "6695f965-3093-4217-860c-e92765d520ae",
   "metadata": {
    "scrolled": true
   },
   "outputs": [
    {
     "name": "stdout",
     "output_type": "stream",
     "text": [
      "INFO:tensorflow:Assets written to: /home/hyochung/Keyboard_DL/assets\n"
     ]
    },
    {
     "name": "stderr",
     "output_type": "stream",
     "text": [
      "INFO:tensorflow:Assets written to: /home/hyochung/Keyboard_DL/assets\n"
     ]
    }
   ],
   "source": [
    "model.save('/home/hyochung/Keyboard_DL')"
   ]
  },
  {
   "cell_type": "markdown",
   "id": "36aedd0b-da38-4880-9fbe-1b628c0e0885",
   "metadata": {},
   "source": [
    "Long Audio testing"
   ]
  },
  {
   "cell_type": "code",
   "execution_count": 35,
   "id": "6b713789-52fd-4eeb-a0a0-2ddcc47893dc",
   "metadata": {},
   "outputs": [
    {
     "name": "stdout",
     "output_type": "stream",
     "text": [
      "sr: 44100\n",
      "wav shape: (21609,)\n",
      "length: 0.49 secs\n"
     ]
    }
   ],
   "source": [
    "\"\"\"#긴 오디오\n",
    "wav, sr = librosa.load(DATA_DIR + 'E-17.wav', sr=None)\n",
    "print('sr:', sr)\n",
    "print('wav shape:', wav.shape)\n",
    "print('length:', wav.shape[0]/float(sr), 'secs')\"\"\""
   ]
  },
  {
   "cell_type": "code",
   "execution_count": 36,
   "id": "f05e6db5-0437-4aa7-ad1d-f10d0480dc56",
   "metadata": {},
   "outputs": [
    {
     "data": {
      "text/plain": [
       "\"# raw wave\\nprint(plt.plot(wav))\\nprint(plt.plot(wav[0:500]))\\naudio, sr = librosa.load(DATA_DIR + 'R-23.wav')\\nmfcc = librosa.feature.mfcc(y=wav, sr=16000, n_mfcc=100, n_fft=400, hop_length=160)\\nmfcc = preprocessing.scale(mfcc, axis=1)\\npadded_mfcc = pad2d(mfcc, 40)\\npadded_mfcc= np.expand_dims(padded_mfcc, 0)\""
      ]
     },
     "execution_count": 36,
     "metadata": {},
     "output_type": "execute_result"
    }
   ],
   "source": [
    "\"\"\"# raw wave\n",
    "print(plt.plot(wav))\n",
    "print(plt.plot(wav[0:500]))\n",
    "audio, sr = librosa.load(DATA_DIR + 'R-23.wav')\n",
    "mfcc = librosa.feature.mfcc(y=wav, sr=16000, n_mfcc=100, n_fft=400, hop_length=160)\n",
    "mfcc = preprocessing.scale(mfcc, axis=1)\n",
    "padded_mfcc = pad2d(mfcc, 40)\n",
    "padded_mfcc= np.expand_dims(padded_mfcc, 0)\"\"\""
   ]
  },
  {
   "cell_type": "markdown",
   "id": "b49e6132",
   "metadata": {},
   "source": [
    "Spectogram"
   ]
  },
  {
   "cell_type": "code",
   "execution_count": 38,
   "id": "e9c78e31-fd53-44ff-887a-78c252587a78",
   "metadata": {},
   "outputs": [],
   "source": [
    "def get_spectrogram(filename):\n",
    "    wav, sr = librosa.load(filename, sr=16000)\n",
    "    spectrogram = np.abs(librosa.stft(wav))\n",
    "    padded_spectrogram = pad2d(spectrogram, 40)\n",
    "    return padded_spectrogram\n",
    "\n",
    "X = []\n",
    "y = []\n",
    "for filename in os.listdir(DATA_DIR):\n",
    "    if '.wav' not in filename:\n",
    "        continue\n",
    "\n",
    "    spectrogram = get_spectrogram(DATA_DIR + filename)\n",
    "    label = get_labels(filename)\n",
    "\n",
    "    X.append(spectrogram)\n",
    "    y.append(label)\n",
    "\n",
    "\n",
    "train_spectrograms, test_spectrograms, train_y, test_y = train_test_split(X, y, test_size=0.2, random_state=42)"
   ]
  },
  {
   "cell_type": "code",
   "execution_count": 39,
   "id": "48d747d9",
   "metadata": {},
   "outputs": [
    {
     "name": "stdout",
     "output_type": "stream",
     "text": [
      "train_mfccs: (104, 1025, 40)\n",
      "train_y: (104, 4)\n",
      "test_mfccs: (27, 1025, 40)\n",
      "test_y: (27, 4)\n"
     ]
    }
   ],
   "source": [
    "train_spectrograms = np.array(train_spectrograms)\n",
    "train_y = to_categorical(np.array(train_y))\n",
    "\n",
    "test_spectrograms = np.array(test_spectrograms)\n",
    "test_y = to_categorical(np.array(test_y))\n",
    "\n",
    "print('train_mfccs:', train_spectrograms.shape)\n",
    "print('train_y:', train_y.shape)\n",
    "\n",
    "print('test_mfccs:', test_spectrograms.shape)\n",
    "print('test_y:', test_y.shape)"
   ]
  },
  {
   "cell_type": "markdown",
   "id": "8128da2b",
   "metadata": {},
   "source": [
    "Spectogram feature training"
   ]
  },
  {
   "cell_type": "code",
   "execution_count": 40,
   "id": "8b645562",
   "metadata": {},
   "outputs": [
    {
     "name": "stdout",
     "output_type": "stream",
     "text": [
      "train_spectograms shape: (104, 1025, 40, 1)\n",
      "test_spectograms shape: (27, 1025, 40, 1)\n"
     ]
    }
   ],
   "source": [
    "train_spectrograms = np.expand_dims(train_spectrograms, -1)\n",
    "test_spectrograms = np.expand_dims(test_spectrograms, -1)\n",
    "print('train_spectograms shape:', train_spectrograms.shape)\n",
    "print('test_spectograms shape:', test_spectrograms.shape)"
   ]
  },
  {
   "cell_type": "code",
   "execution_count": 41,
   "id": "0a5d0994",
   "metadata": {},
   "outputs": [
    {
     "name": "stdout",
     "output_type": "stream",
     "text": [
      "Model: \"model_1\"\n",
      "_________________________________________________________________\n",
      " Layer (type)                Output Shape              Param #   \n",
      "=================================================================\n",
      " input_2 (InputLayer)        [(None, 1025, 40, 1)]     0         \n",
      "                                                                 \n",
      " conv2d_5 (Conv2D)           (None, 1022, 37, 96)      1632      \n",
      "                                                                 \n",
      " max_pooling2d_5 (MaxPoolin  (None, 255, 9, 96)        0         \n",
      " g2D)                                                            \n",
      "                                                                 \n",
      " flatten_2 (Flatten)         (None, 220320)            0         \n",
      "                                                                 \n",
      " dense_6 (Dense)             (None, 64)                14100544  \n",
      "                                                                 \n",
      " dense_7 (Dense)             (None, 32)                2080      \n",
      "                                                                 \n",
      " dense_8 (Dense)             (None, 4)                 132       \n",
      "                                                                 \n",
      "=================================================================\n",
      "Total params: 14104388 (53.80 MB)\n",
      "Trainable params: 14104388 (53.80 MB)\n",
      "Non-trainable params: 0 (0.00 Byte)\n",
      "_________________________________________________________________\n"
     ]
    }
   ],
   "source": [
    "ip = Input(shape=train_spectrograms[0].shape)\n",
    "\n",
    "m = Conv2D(32, kernel_size=(4,4), activation='relu')(ip)\n",
    "m = MaxPooling2D(pool_size=(4,4))(m)\n",
    "\n",
    "m = Conv2D(32*2, kernel_size=(4,4), activation='relu')(ip)\n",
    "m = MaxPooling2D(pool_size=(4,4))(m)\n",
    "\n",
    "m = Conv2D(32 * 3, kernel_size=(4, 4), activation='relu')(ip)\n",
    "m = MaxPooling2D(pool_size=(4,4))(m)\n",
    "\n",
    "m = Flatten()(m)\n",
    "\n",
    "m = Dense(64, activation='relu')(m)\n",
    "\n",
    "m = Dense(32, activation='relu')(m)\n",
    "\n",
    "op = Dense(4, activation='softmax')(m)\n",
    "\n",
    "model = Model(ip, op)\n",
    "\n",
    "model.summary()\n"
   ]
  },
  {
   "cell_type": "code",
   "execution_count": 42,
   "id": "afd91b9b",
   "metadata": {},
   "outputs": [
    {
     "name": "stdout",
     "output_type": "stream",
     "text": [
      "Epoch 1/100\n",
      "4/4 [==============================] - 3s 213ms/step - loss: 1.2376 - accuracy: 0.5385 - val_loss: 0.6512 - val_accuracy: 0.7037\n",
      "Epoch 2/100\n",
      "4/4 [==============================] - 0s 61ms/step - loss: 0.7117 - accuracy: 0.7115 - val_loss: 0.1822 - val_accuracy: 1.0000\n",
      "Epoch 3/100\n",
      "4/4 [==============================] - 0s 64ms/step - loss: 0.2178 - accuracy: 0.9327 - val_loss: 0.1723 - val_accuracy: 0.9630\n",
      "Epoch 4/100\n",
      "4/4 [==============================] - 0s 60ms/step - loss: 0.0738 - accuracy: 0.9808 - val_loss: 0.0543 - val_accuracy: 1.0000\n",
      "Epoch 5/100\n",
      "4/4 [==============================] - 0s 62ms/step - loss: 0.0570 - accuracy: 0.9712 - val_loss: 0.0450 - val_accuracy: 1.0000\n",
      "Epoch 6/100\n",
      "4/4 [==============================] - 0s 63ms/step - loss: 0.0408 - accuracy: 1.0000 - val_loss: 0.0254 - val_accuracy: 1.0000\n",
      "Epoch 7/100\n",
      "4/4 [==============================] - 0s 71ms/step - loss: 0.0159 - accuracy: 1.0000 - val_loss: 0.0111 - val_accuracy: 1.0000\n",
      "Epoch 8/100\n",
      "4/4 [==============================] - 0s 63ms/step - loss: 0.0111 - accuracy: 1.0000 - val_loss: 0.0060 - val_accuracy: 1.0000\n",
      "Epoch 9/100\n",
      "4/4 [==============================] - 0s 60ms/step - loss: 0.0057 - accuracy: 1.0000 - val_loss: 0.0041 - val_accuracy: 1.0000\n",
      "Epoch 10/100\n",
      "4/4 [==============================] - 0s 60ms/step - loss: 0.0037 - accuracy: 1.0000 - val_loss: 0.0033 - val_accuracy: 1.0000\n",
      "Epoch 11/100\n",
      "4/4 [==============================] - 0s 62ms/step - loss: 0.0032 - accuracy: 1.0000 - val_loss: 0.0025 - val_accuracy: 1.0000\n",
      "Epoch 12/100\n",
      "4/4 [==============================] - 0s 63ms/step - loss: 0.0023 - accuracy: 1.0000 - val_loss: 0.0019 - val_accuracy: 1.0000\n",
      "Epoch 13/100\n",
      "4/4 [==============================] - 0s 61ms/step - loss: 0.0016 - accuracy: 1.0000 - val_loss: 0.0018 - val_accuracy: 1.0000\n",
      "Epoch 14/100\n",
      "4/4 [==============================] - 0s 60ms/step - loss: 0.0014 - accuracy: 1.0000 - val_loss: 0.0020 - val_accuracy: 1.0000\n",
      "Epoch 15/100\n",
      "4/4 [==============================] - 0s 64ms/step - loss: 0.0015 - accuracy: 1.0000 - val_loss: 0.0020 - val_accuracy: 1.0000\n",
      "Epoch 16/100\n",
      "4/4 [==============================] - 0s 65ms/step - loss: 0.0012 - accuracy: 1.0000 - val_loss: 0.0015 - val_accuracy: 1.0000\n",
      "Epoch 17/100\n",
      "4/4 [==============================] - 0s 62ms/step - loss: 8.4007e-04 - accuracy: 1.0000 - val_loss: 0.0011 - val_accuracy: 1.0000\n",
      "Epoch 18/100\n",
      "4/4 [==============================] - 0s 63ms/step - loss: 6.5520e-04 - accuracy: 1.0000 - val_loss: 8.5520e-04 - val_accuracy: 1.0000\n",
      "Epoch 19/100\n",
      "4/4 [==============================] - 0s 60ms/step - loss: 8.9256e-04 - accuracy: 1.0000 - val_loss: 7.7743e-04 - val_accuracy: 1.0000\n",
      "Epoch 20/100\n",
      "4/4 [==============================] - 0s 63ms/step - loss: 5.6883e-04 - accuracy: 1.0000 - val_loss: 9.5686e-04 - val_accuracy: 1.0000\n",
      "Epoch 21/100\n",
      "4/4 [==============================] - 0s 61ms/step - loss: 5.5701e-04 - accuracy: 1.0000 - val_loss: 0.0014 - val_accuracy: 1.0000\n",
      "Epoch 22/100\n",
      "4/4 [==============================] - 0s 67ms/step - loss: 7.2676e-04 - accuracy: 1.0000 - val_loss: 0.0012 - val_accuracy: 1.0000\n",
      "Epoch 23/100\n",
      "4/4 [==============================] - 0s 64ms/step - loss: 5.4799e-04 - accuracy: 1.0000 - val_loss: 0.0011 - val_accuracy: 1.0000\n",
      "Epoch 24/100\n",
      "4/4 [==============================] - 0s 64ms/step - loss: 4.3521e-04 - accuracy: 1.0000 - val_loss: 8.4082e-04 - val_accuracy: 1.0000\n",
      "Epoch 25/100\n",
      "4/4 [==============================] - 0s 62ms/step - loss: 3.3831e-04 - accuracy: 1.0000 - val_loss: 6.6473e-04 - val_accuracy: 1.0000\n",
      "Epoch 26/100\n",
      "4/4 [==============================] - 0s 62ms/step - loss: 2.9432e-04 - accuracy: 1.0000 - val_loss: 5.6515e-04 - val_accuracy: 1.0000\n",
      "Epoch 27/100\n",
      "4/4 [==============================] - 0s 60ms/step - loss: 2.7324e-04 - accuracy: 1.0000 - val_loss: 5.1217e-04 - val_accuracy: 1.0000\n",
      "Epoch 28/100\n",
      "4/4 [==============================] - 0s 59ms/step - loss: 2.8254e-04 - accuracy: 1.0000 - val_loss: 4.6441e-04 - val_accuracy: 1.0000\n",
      "Epoch 29/100\n",
      "4/4 [==============================] - 0s 62ms/step - loss: 2.8427e-04 - accuracy: 1.0000 - val_loss: 4.4553e-04 - val_accuracy: 1.0000\n",
      "Epoch 30/100\n",
      "4/4 [==============================] - 0s 59ms/step - loss: 2.7004e-04 - accuracy: 1.0000 - val_loss: 4.4287e-04 - val_accuracy: 1.0000\n",
      "Epoch 31/100\n",
      "4/4 [==============================] - 0s 53ms/step - loss: 2.4028e-04 - accuracy: 1.0000 - val_loss: 4.6052e-04 - val_accuracy: 1.0000\n",
      "Epoch 32/100\n",
      "4/4 [==============================] - 0s 57ms/step - loss: 2.1070e-04 - accuracy: 1.0000 - val_loss: 5.0324e-04 - val_accuracy: 1.0000\n",
      "Epoch 33/100\n",
      "4/4 [==============================] - 0s 56ms/step - loss: 1.8288e-04 - accuracy: 1.0000 - val_loss: 5.5394e-04 - val_accuracy: 1.0000\n",
      "Epoch 34/100\n",
      "4/4 [==============================] - 0s 59ms/step - loss: 1.6699e-04 - accuracy: 1.0000 - val_loss: 6.0261e-04 - val_accuracy: 1.0000\n",
      "Epoch 35/100\n",
      "4/4 [==============================] - 0s 57ms/step - loss: 1.5724e-04 - accuracy: 1.0000 - val_loss: 6.3108e-04 - val_accuracy: 1.0000\n",
      "Epoch 36/100\n",
      "4/4 [==============================] - 0s 66ms/step - loss: 1.4651e-04 - accuracy: 1.0000 - val_loss: 6.2452e-04 - val_accuracy: 1.0000\n",
      "Epoch 37/100\n",
      "4/4 [==============================] - 0s 58ms/step - loss: 1.3497e-04 - accuracy: 1.0000 - val_loss: 6.0373e-04 - val_accuracy: 1.0000\n",
      "Epoch 38/100\n",
      "4/4 [==============================] - 0s 56ms/step - loss: 1.2428e-04 - accuracy: 1.0000 - val_loss: 5.7642e-04 - val_accuracy: 1.0000\n",
      "Epoch 39/100\n",
      "4/4 [==============================] - 0s 66ms/step - loss: 1.1618e-04 - accuracy: 1.0000 - val_loss: 5.3810e-04 - val_accuracy: 1.0000\n",
      "Epoch 40/100\n",
      "4/4 [==============================] - 0s 73ms/step - loss: 1.0413e-04 - accuracy: 1.0000 - val_loss: 5.0875e-04 - val_accuracy: 1.0000\n",
      "Epoch 41/100\n",
      "4/4 [==============================] - 0s 63ms/step - loss: 9.6908e-05 - accuracy: 1.0000 - val_loss: 4.8365e-04 - val_accuracy: 1.0000\n",
      "Epoch 42/100\n",
      "4/4 [==============================] - 0s 71ms/step - loss: 9.2185e-05 - accuracy: 1.0000 - val_loss: 4.6485e-04 - val_accuracy: 1.0000\n",
      "Epoch 43/100\n",
      "4/4 [==============================] - 0s 73ms/step - loss: 8.3469e-05 - accuracy: 1.0000 - val_loss: 4.5572e-04 - val_accuracy: 1.0000\n",
      "Epoch 44/100\n",
      "4/4 [==============================] - 0s 63ms/step - loss: 7.8354e-05 - accuracy: 1.0000 - val_loss: 4.5330e-04 - val_accuracy: 1.0000\n",
      "Epoch 45/100\n",
      "4/4 [==============================] - 0s 67ms/step - loss: 7.4581e-05 - accuracy: 1.0000 - val_loss: 4.3407e-04 - val_accuracy: 1.0000\n",
      "Epoch 46/100\n",
      "4/4 [==============================] - 0s 67ms/step - loss: 6.8622e-05 - accuracy: 1.0000 - val_loss: 4.2321e-04 - val_accuracy: 1.0000\n",
      "Epoch 47/100\n",
      "4/4 [==============================] - 0s 65ms/step - loss: 6.4899e-05 - accuracy: 1.0000 - val_loss: 4.1761e-04 - val_accuracy: 1.0000\n",
      "Epoch 48/100\n",
      "4/4 [==============================] - 0s 62ms/step - loss: 6.1579e-05 - accuracy: 1.0000 - val_loss: 4.1643e-04 - val_accuracy: 1.0000\n",
      "Epoch 49/100\n",
      "4/4 [==============================] - 0s 63ms/step - loss: 5.9232e-05 - accuracy: 1.0000 - val_loss: 4.1359e-04 - val_accuracy: 1.0000\n",
      "Epoch 50/100\n",
      "4/4 [==============================] - 0s 67ms/step - loss: 5.7114e-05 - accuracy: 1.0000 - val_loss: 4.0714e-04 - val_accuracy: 1.0000\n",
      "Epoch 51/100\n",
      "4/4 [==============================] - 0s 64ms/step - loss: 5.5559e-05 - accuracy: 1.0000 - val_loss: 3.9276e-04 - val_accuracy: 1.0000\n",
      "Epoch 52/100\n",
      "4/4 [==============================] - 1s 171ms/step - loss: 5.4131e-05 - accuracy: 1.0000 - val_loss: 3.8224e-04 - val_accuracy: 1.0000\n",
      "Epoch 53/100\n",
      "4/4 [==============================] - 0s 68ms/step - loss: 5.2346e-05 - accuracy: 1.0000 - val_loss: 3.7754e-04 - val_accuracy: 1.0000\n",
      "Epoch 54/100\n",
      "4/4 [==============================] - 0s 83ms/step - loss: 5.0467e-05 - accuracy: 1.0000 - val_loss: 3.7729e-04 - val_accuracy: 1.0000\n",
      "Epoch 55/100\n",
      "4/4 [==============================] - 0s 65ms/step - loss: 4.8832e-05 - accuracy: 1.0000 - val_loss: 3.8173e-04 - val_accuracy: 1.0000\n",
      "Epoch 56/100\n",
      "4/4 [==============================] - 0s 62ms/step - loss: 4.7371e-05 - accuracy: 1.0000 - val_loss: 3.7871e-04 - val_accuracy: 1.0000\n",
      "Epoch 57/100\n",
      "4/4 [==============================] - 0s 64ms/step - loss: 4.5776e-05 - accuracy: 1.0000 - val_loss: 3.6836e-04 - val_accuracy: 1.0000\n",
      "Epoch 58/100\n",
      "4/4 [==============================] - 0s 73ms/step - loss: 4.4424e-05 - accuracy: 1.0000 - val_loss: 3.4954e-04 - val_accuracy: 1.0000\n",
      "Epoch 59/100\n",
      "4/4 [==============================] - 0s 64ms/step - loss: 4.4164e-05 - accuracy: 1.0000 - val_loss: 3.3088e-04 - val_accuracy: 1.0000\n",
      "Epoch 60/100\n",
      "4/4 [==============================] - 0s 67ms/step - loss: 4.2467e-05 - accuracy: 1.0000 - val_loss: 3.2085e-04 - val_accuracy: 1.0000\n",
      "Epoch 61/100\n",
      "4/4 [==============================] - 0s 67ms/step - loss: 4.1312e-05 - accuracy: 1.0000 - val_loss: 3.1570e-04 - val_accuracy: 1.0000\n",
      "Epoch 62/100\n",
      "4/4 [==============================] - 0s 66ms/step - loss: 3.9845e-05 - accuracy: 1.0000 - val_loss: 3.1599e-04 - val_accuracy: 1.0000\n",
      "Epoch 63/100\n",
      "4/4 [==============================] - 0s 64ms/step - loss: 3.8172e-05 - accuracy: 1.0000 - val_loss: 3.2562e-04 - val_accuracy: 1.0000\n",
      "Epoch 64/100\n",
      "4/4 [==============================] - 0s 63ms/step - loss: 3.7324e-05 - accuracy: 1.0000 - val_loss: 3.3330e-04 - val_accuracy: 1.0000\n",
      "Epoch 65/100\n",
      "4/4 [==============================] - 0s 65ms/step - loss: 3.6327e-05 - accuracy: 1.0000 - val_loss: 3.3381e-04 - val_accuracy: 1.0000\n",
      "Epoch 66/100\n",
      "4/4 [==============================] - 0s 62ms/step - loss: 3.5028e-05 - accuracy: 1.0000 - val_loss: 3.4233e-04 - val_accuracy: 1.0000\n",
      "Epoch 67/100\n",
      "4/4 [==============================] - 0s 70ms/step - loss: 3.5534e-05 - accuracy: 1.0000 - val_loss: 3.5072e-04 - val_accuracy: 1.0000\n",
      "Epoch 68/100\n",
      "4/4 [==============================] - 0s 67ms/step - loss: 3.4619e-05 - accuracy: 1.0000 - val_loss: 3.4479e-04 - val_accuracy: 1.0000\n",
      "Epoch 69/100\n",
      "4/4 [==============================] - 0s 68ms/step - loss: 3.3700e-05 - accuracy: 1.0000 - val_loss: 3.3324e-04 - val_accuracy: 1.0000\n",
      "Epoch 70/100\n",
      "4/4 [==============================] - 0s 64ms/step - loss: 3.2481e-05 - accuracy: 1.0000 - val_loss: 3.1780e-04 - val_accuracy: 1.0000\n",
      "Epoch 71/100\n",
      "4/4 [==============================] - 0s 63ms/step - loss: 3.0649e-05 - accuracy: 1.0000 - val_loss: 3.0028e-04 - val_accuracy: 1.0000\n",
      "Epoch 72/100\n",
      "4/4 [==============================] - 0s 64ms/step - loss: 2.9110e-05 - accuracy: 1.0000 - val_loss: 2.7519e-04 - val_accuracy: 1.0000\n",
      "Epoch 73/100\n",
      "4/4 [==============================] - 0s 68ms/step - loss: 2.8116e-05 - accuracy: 1.0000 - val_loss: 2.6052e-04 - val_accuracy: 1.0000\n",
      "Epoch 74/100\n",
      "4/4 [==============================] - 0s 66ms/step - loss: 2.8226e-05 - accuracy: 1.0000 - val_loss: 2.4157e-04 - val_accuracy: 1.0000\n",
      "Epoch 75/100\n",
      "4/4 [==============================] - 0s 71ms/step - loss: 2.7784e-05 - accuracy: 1.0000 - val_loss: 2.3281e-04 - val_accuracy: 1.0000\n",
      "Epoch 76/100\n",
      "4/4 [==============================] - 0s 67ms/step - loss: 2.7019e-05 - accuracy: 1.0000 - val_loss: 2.3134e-04 - val_accuracy: 1.0000\n",
      "Epoch 77/100\n",
      "4/4 [==============================] - 0s 72ms/step - loss: 2.6581e-05 - accuracy: 1.0000 - val_loss: 2.4094e-04 - val_accuracy: 1.0000\n",
      "Epoch 78/100\n",
      "4/4 [==============================] - 0s 67ms/step - loss: 2.4181e-05 - accuracy: 1.0000 - val_loss: 2.4399e-04 - val_accuracy: 1.0000\n",
      "Epoch 79/100\n",
      "4/4 [==============================] - 0s 68ms/step - loss: 2.3809e-05 - accuracy: 1.0000 - val_loss: 2.5695e-04 - val_accuracy: 1.0000\n",
      "Epoch 80/100\n",
      "4/4 [==============================] - 0s 65ms/step - loss: 2.2538e-05 - accuracy: 1.0000 - val_loss: 2.6002e-04 - val_accuracy: 1.0000\n",
      "Epoch 81/100\n",
      "4/4 [==============================] - 0s 66ms/step - loss: 2.1909e-05 - accuracy: 1.0000 - val_loss: 2.5792e-04 - val_accuracy: 1.0000\n",
      "Epoch 82/100\n",
      "4/4 [==============================] - 0s 64ms/step - loss: 2.1344e-05 - accuracy: 1.0000 - val_loss: 2.5069e-04 - val_accuracy: 1.0000\n",
      "Epoch 83/100\n",
      "4/4 [==============================] - 0s 65ms/step - loss: 2.0750e-05 - accuracy: 1.0000 - val_loss: 2.3599e-04 - val_accuracy: 1.0000\n",
      "Epoch 84/100\n",
      "4/4 [==============================] - 0s 67ms/step - loss: 1.9932e-05 - accuracy: 1.0000 - val_loss: 2.2519e-04 - val_accuracy: 1.0000\n",
      "Epoch 85/100\n",
      "4/4 [==============================] - 0s 62ms/step - loss: 1.9046e-05 - accuracy: 1.0000 - val_loss: 2.2203e-04 - val_accuracy: 1.0000\n",
      "Epoch 86/100\n",
      "4/4 [==============================] - 0s 62ms/step - loss: 1.8205e-05 - accuracy: 1.0000 - val_loss: 2.1663e-04 - val_accuracy: 1.0000\n",
      "Epoch 87/100\n",
      "4/4 [==============================] - 0s 63ms/step - loss: 1.7664e-05 - accuracy: 1.0000 - val_loss: 2.0570e-04 - val_accuracy: 1.0000\n",
      "Epoch 88/100\n",
      "4/4 [==============================] - 0s 65ms/step - loss: 1.7013e-05 - accuracy: 1.0000 - val_loss: 1.9932e-04 - val_accuracy: 1.0000\n",
      "Epoch 89/100\n",
      "4/4 [==============================] - 0s 66ms/step - loss: 1.6684e-05 - accuracy: 1.0000 - val_loss: 1.9408e-04 - val_accuracy: 1.0000\n",
      "Epoch 90/100\n",
      "4/4 [==============================] - 0s 64ms/step - loss: 1.6511e-05 - accuracy: 1.0000 - val_loss: 1.8496e-04 - val_accuracy: 1.0000\n",
      "Epoch 91/100\n",
      "4/4 [==============================] - 0s 67ms/step - loss: 1.6226e-05 - accuracy: 1.0000 - val_loss: 1.8109e-04 - val_accuracy: 1.0000\n",
      "Epoch 92/100\n",
      "4/4 [==============================] - 0s 74ms/step - loss: 1.6021e-05 - accuracy: 1.0000 - val_loss: 1.8069e-04 - val_accuracy: 1.0000\n",
      "Epoch 93/100\n",
      "4/4 [==============================] - 0s 65ms/step - loss: 1.5530e-05 - accuracy: 1.0000 - val_loss: 1.8377e-04 - val_accuracy: 1.0000\n",
      "Epoch 94/100\n",
      "4/4 [==============================] - 0s 69ms/step - loss: 1.5185e-05 - accuracy: 1.0000 - val_loss: 1.8830e-04 - val_accuracy: 1.0000\n",
      "Epoch 95/100\n",
      "4/4 [==============================] - 0s 61ms/step - loss: 1.4615e-05 - accuracy: 1.0000 - val_loss: 1.9091e-04 - val_accuracy: 1.0000\n",
      "Epoch 96/100\n",
      "4/4 [==============================] - 0s 66ms/step - loss: 1.4378e-05 - accuracy: 1.0000 - val_loss: 1.9759e-04 - val_accuracy: 1.0000\n",
      "Epoch 97/100\n",
      "4/4 [==============================] - 0s 67ms/step - loss: 1.4003e-05 - accuracy: 1.0000 - val_loss: 2.0159e-04 - val_accuracy: 1.0000\n",
      "Epoch 98/100\n",
      "4/4 [==============================] - 0s 68ms/step - loss: 1.3834e-05 - accuracy: 1.0000 - val_loss: 2.0225e-04 - val_accuracy: 1.0000\n",
      "Epoch 99/100\n",
      "4/4 [==============================] - 0s 64ms/step - loss: 1.3596e-05 - accuracy: 1.0000 - val_loss: 2.0290e-04 - val_accuracy: 1.0000\n",
      "Epoch 100/100\n",
      "4/4 [==============================] - 0s 76ms/step - loss: 1.3359e-05 - accuracy: 1.0000 - val_loss: 2.0250e-04 - val_accuracy: 1.0000\n"
     ]
    }
   ],
   "source": [
    "model.compile(loss='categorical_crossentropy',\n",
    "              optimizer='adam',\n",
    "              metrics=['accuracy'])\n",
    "\n",
    "history = model.fit(train_spectrograms,\n",
    "                    train_y,\n",
    "                    epochs=100,\n",
    "                    batch_size=32,\n",
    "                    verbose=1,\n",
    "                    validation_data=(test_spectrograms, test_y))"
   ]
  },
  {
   "cell_type": "code",
   "execution_count": 43,
   "id": "526c91b2",
   "metadata": {},
   "outputs": [
    {
     "data": {
      "text/plain": [
       "<matplotlib.legend.Legend at 0x7f5c08d09b50>"
      ]
     },
     "execution_count": 43,
     "metadata": {},
     "output_type": "execute_result"
    },
    {
     "data": {
      "image/png": "[encoded data removed]",
      "text/plain": [
       "<Figure size 640x480 with 1 Axes>"
      ]
     },
     "metadata": {},
     "output_type": "display_data"
    }
   ],
   "source": [
    "plt.plot(history.history['accuracy'], label='Train Accuracy')\n",
    "plt.plot(history.history['val_accuracy'], label='Validation Accuracy')\n",
    "plt.xlabel('Epochs')\n",
    "plt.ylabel('Accuracy')\n",
    "plt.legend()"
   ]
  },
  {
   "cell_type": "code",
   "execution_count": 44,
   "id": "fe561744",
   "metadata": {},
   "outputs": [
    {
     "data": {
      "text/plain": [
       "Text(0, 0.5, 'Accuracy [%]')"
      ]
     },
     "execution_count": 44,
     "metadata": {},
     "output_type": "execute_result"
    },
    {
     "data": {
      "image/png": "[encoded data removed]",
      "text/plain": [
       "<Figure size 1600x600 with 2 Axes>"
      ]
     },
     "metadata": {},
     "output_type": "display_data"
    }
   ],
   "source": [
    "metrics = history.history\n",
    "plt.figure(figsize=(16,6))\n",
    "plt.subplot(1,2,1)\n",
    "plt.plot(history.epoch, metrics['loss'], metrics['val_loss'])\n",
    "plt.legend(['loss', 'val_loss'])\n",
    "plt.ylim([0, max(plt.ylim())])\n",
    "plt.xlabel('Epoch')\n",
    "plt.ylabel('Loss [CrossEntropy]')\n",
    "\n",
    "plt.subplot(1,2,2)\n",
    "plt.plot(history.epoch, 100*np.array(metrics['accuracy']), 100*np.array(metrics['val_accuracy']))\n",
    "plt.legend(['accuracy', 'val_accuracy'])\n",
    "plt.ylim([0, 100])\n",
    "plt.xlabel('Epoch')\n",
    "plt.ylabel('Accuracy [%]')"
   ]
  },
  {
   "cell_type": "code",
   "execution_count": 46,
   "id": "a2f3973c",
   "metadata": {},
   "outputs": [
    {
     "name": "stdout",
     "output_type": "stream",
     "text": [
      "1/1 [==============================] - 0s 369ms/step\n"
     ]
    },
    {
     "data": {
      "image/png": "[encoded data removed]",
      "text/plain": [
       "<Figure size 640x480 with 1 Axes>"
      ]
     },
     "metadata": {},
     "output_type": "display_data"
    },
    {
     "data": {
      "text/plain": [
       "array([[1.0000000e+00, 1.1470204e-10, 7.0394669e-11, 1.1081649e-18]],\n",
       "      dtype=float32)"
      ]
     },
     "execution_count": 46,
     "metadata": {},
     "output_type": "execute_result"
    }
   ],
   "source": [
    "filename = (DATA_DIR + 'Q-08.wav')\n",
    "spectrogram = get_spectrogram(filename)\n",
    "spectrogram = np.expand_dims(spectrogram, 0)\n",
    "prediction = model.predict(spectrogram)\n",
    "plt.bar([\"Q\", \"W\", \"E\", \"R\"], tf.nn.softmax(prediction[0]))\n",
    "plt.title('Q')\n",
    "plt.show()\n",
    "prediction"
   ]
  },
  {
   "cell_type": "code",
   "execution_count": 47,
   "id": "dee619ca",
   "metadata": {},
   "outputs": [
    {
     "name": "stdout",
     "output_type": "stream",
     "text": [
      "1/1 [==============================] - 0s 36ms/step\n"
     ]
    },
    {
     "data": {
      "image/png": "[encoded data removed]",
      "text/plain": [
       "<Figure size 640x480 with 1 Axes>"
      ]
     },
     "metadata": {},
     "output_type": "display_data"
    },
    {
     "data": {
      "text/plain": [
       "array([[1.4453030e-09, 9.9999928e-01, 7.0420009e-07, 7.2753905e-09]],\n",
       "      dtype=float32)"
      ]
     },
     "execution_count": 47,
     "metadata": {},
     "output_type": "execute_result"
    }
   ],
   "source": [
    "filename = (DATA_DIR + 'W-13.wav')\n",
    "spectrogram = get_spectrogram(filename)\n",
    "spectrogram = np.expand_dims(spectrogram, 0)\n",
    "prediction = model.predict(spectrogram)\n",
    "plt.bar([\"Q\", \"W\", \"E\", \"R\"], tf.nn.softmax(prediction[0]))\n",
    "plt.title('W')\n",
    "plt.show()\n",
    "prediction"
   ]
  },
  {
   "cell_type": "code",
   "execution_count": 48,
   "id": "ccd43593",
   "metadata": {},
   "outputs": [
    {
     "name": "stdout",
     "output_type": "stream",
     "text": [
      "1/1 [==============================] - 0s 34ms/step\n"
     ]
    },
    {
     "data": {
      "image/png": "[encoded data removed]",
      "text/plain": [
       "<Figure size 640x480 with 1 Axes>"
      ]
     },
     "metadata": {},
     "output_type": "display_data"
    }
   ],
   "source": [
    "filename = (DATA_DIR + 'E-13.wav')\n",
    "spectrogram = get_spectrogram(filename)\n",
    "spectrogram = np.expand_dims(spectrogram, 0)\n",
    "prediction = model.predict(spectrogram)\n",
    "plt.bar([\"Q\", \"W\", \"E\", \"R\"], tf.nn.softmax(prediction[0]))\n",
    "plt.title('E')\n",
    "plt.show()"
   ]
  },
  {
   "cell_type": "code",
   "execution_count": 49,
   "id": "b527d1e6",
   "metadata": {},
   "outputs": [
    {
     "name": "stdout",
     "output_type": "stream",
     "text": [
      "1/1 [==============================] - 0s 32ms/step\n"
     ]
    },
    {
     "data": {
      "image/png": "[encoded data removed]",
      "text/plain": [
       "<Figure size 640x480 with 1 Axes>"
      ]
     },
     "metadata": {},
     "output_type": "display_data"
    }
   ],
   "source": [
    "filename = (DATA_DIR + 'R-30.wav')\n",
    "spectrogram = get_spectrogram(filename)\n",
    "spectrogram = np.expand_dims(spectrogram, 0)\n",
    "prediction = model.predict(spectrogram)\n",
    "plt.bar([\"Q\", \"W\", \"E\", \"R\"], tf.nn.softmax(prediction[0]))\n",
    "plt.title('R')\n",
    "plt.show()"
   ]
  },
  {
   "cell_type": "code",
   "execution_count": 45,
   "id": "7eba6a47",
   "metadata": {},
   "outputs": [
    {
     "name": "stdout",
     "output_type": "stream",
     "text": [
      "1/1 [==============================] - 0s 78ms/step - loss: 0.0000e+00 - accuracy: 0.0000e+00\n"
     ]
    },
    {
     "data": {
      "text/plain": [
       "{'loss': 0.0, 'accuracy': 0.0}"
      ]
     },
     "execution_count": 45,
     "metadata": {},
     "output_type": "execute_result"
    }
   ],
   "source": [
    "model.evaluate(test_spectrograms, return_dict=True)"
   ]
  }
 ],
 "metadata": {
  "kernelspec": {
   "display_name": "base",
   "language": "python",
   "name": "python3"
  },
  "language_info": {
   "codemirror_mode": {
    "name": "ipython",
    "version": 3
   },
   "file_extension": ".py",
   "mimetype": "text/x-python",
   "name": "python",
   "nbconvert_exporter": "python",
   "pygments_lexer": "ipython3",
   "version": "3.9.17"
  }
 },
 "nbformat": 4,
 "nbformat_minor": 5
}

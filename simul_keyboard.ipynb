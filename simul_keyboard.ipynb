{
 "cells": [
  {
   "cell_type": "markdown",
   "id": "d4ab941c-53f8-467b-8ad4-0fe44d10c769",
   "metadata": {},
   "source": [
    "1. Import and Install Dependencies"
   ]
  },
  {
   "cell_type": "markdown",
   "id": "5e2a83a3-306f-4ba4-b59c-3cd7ef1709e7",
   "metadata": {},
   "source": [
    "1.1 Install Dependencies"
   ]
  },
  {
   "cell_type": "code",
   "execution_count": 2,
   "id": "974c37cf-07f2-4053-b056-79b157b4b88d",
   "metadata": {
    "scrolled": true
   },
   "outputs": [
    {
     "name": "stdout",
     "output_type": "stream",
     "text": [
      "Requirement already satisfied: tensorflow in /home/hyochung/miniconda3/envs/tf/lib/python3.9/site-packages (2.13.0)\n",
      "Requirement already satisfied: matplotlib in /home/hyochung/miniconda3/envs/tf/lib/python3.9/site-packages (3.7.2)\n",
      "Requirement already satisfied: tensorflow-io in /home/hyochung/miniconda3/envs/tf/lib/python3.9/site-packages (0.33.0)\n",
      "Requirement already satisfied: absl-py>=1.0.0 in /home/hyochung/miniconda3/envs/tf/lib/python3.9/site-packages (from tensorflow) (1.4.0)\n",
      "Requirement already satisfied: astunparse>=1.6.0 in /home/hyochung/miniconda3/envs/tf/lib/python3.9/site-packages (from tensorflow) (1.6.3)\n",
      "Requirement already satisfied: flatbuffers>=23.1.21 in /home/hyochung/miniconda3/envs/tf/lib/python3.9/site-packages (from tensorflow) (23.5.26)\n",
      "Requirement already satisfied: gast<=0.4.0,>=0.2.1 in /home/hyochung/miniconda3/envs/tf/lib/python3.9/site-packages (from tensorflow) (0.4.0)\n",
      "Requirement already satisfied: google-pasta>=0.1.1 in /home/hyochung/miniconda3/envs/tf/lib/python3.9/site-packages (from tensorflow) (0.2.0)\n",
      "Requirement already satisfied: grpcio<2.0,>=1.24.3 in /home/hyochung/miniconda3/envs/tf/lib/python3.9/site-packages (from tensorflow) (1.57.0)\n",
      "Requirement already satisfied: h5py>=2.9.0 in /home/hyochung/miniconda3/envs/tf/lib/python3.9/site-packages (from tensorflow) (3.9.0)\n",
      "Requirement already satisfied: keras<2.14,>=2.13.1 in /home/hyochung/miniconda3/envs/tf/lib/python3.9/site-packages (from tensorflow) (2.13.1)\n",
      "Requirement already satisfied: libclang>=13.0.0 in /home/hyochung/miniconda3/envs/tf/lib/python3.9/site-packages (from tensorflow) (16.0.6)\n",
      "Requirement already satisfied: numpy<=1.24.3,>=1.22 in /home/hyochung/miniconda3/envs/tf/lib/python3.9/site-packages (from tensorflow) (1.24.3)\n",
      "Requirement already satisfied: opt-einsum>=2.3.2 in /home/hyochung/miniconda3/envs/tf/lib/python3.9/site-packages (from tensorflow) (3.3.0)\n",
      "Requirement already satisfied: packaging in /home/hyochung/miniconda3/envs/tf/lib/python3.9/site-packages (from tensorflow) (23.1)\n",
      "Requirement already satisfied: protobuf!=4.21.0,!=4.21.1,!=4.21.2,!=4.21.3,!=4.21.4,!=4.21.5,<5.0.0dev,>=3.20.3 in /home/hyochung/miniconda3/envs/tf/lib/python3.9/site-packages (from tensorflow) (4.24.2)\n",
      "Requirement already satisfied: setuptools in /home/hyochung/miniconda3/envs/tf/lib/python3.9/site-packages (from tensorflow) (68.0.0)\n",
      "Requirement already satisfied: six>=1.12.0 in /home/hyochung/miniconda3/envs/tf/lib/python3.9/site-packages (from tensorflow) (1.16.0)\n",
      "Requirement already satisfied: tensorboard<2.14,>=2.13 in /home/hyochung/miniconda3/envs/tf/lib/python3.9/site-packages (from tensorflow) (2.13.0)\n",
      "Requirement already satisfied: tensorflow-estimator<2.14,>=2.13.0 in /home/hyochung/miniconda3/envs/tf/lib/python3.9/site-packages (from tensorflow) (2.13.0)\n",
      "Requirement already satisfied: termcolor>=1.1.0 in /home/hyochung/miniconda3/envs/tf/lib/python3.9/site-packages (from tensorflow) (2.3.0)\n",
      "Requirement already satisfied: typing-extensions<4.6.0,>=3.6.6 in /home/hyochung/miniconda3/envs/tf/lib/python3.9/site-packages (from tensorflow) (4.5.0)\n",
      "Requirement already satisfied: wrapt>=1.11.0 in /home/hyochung/miniconda3/envs/tf/lib/python3.9/site-packages (from tensorflow) (1.15.0)\n",
      "Requirement already satisfied: tensorflow-io-gcs-filesystem>=0.23.1 in /home/hyochung/miniconda3/envs/tf/lib/python3.9/site-packages (from tensorflow) (0.33.0)\n",
      "Requirement already satisfied: contourpy>=1.0.1 in /home/hyochung/miniconda3/envs/tf/lib/python3.9/site-packages (from matplotlib) (1.1.0)\n",
      "Requirement already satisfied: cycler>=0.10 in /home/hyochung/miniconda3/envs/tf/lib/python3.9/site-packages (from matplotlib) (0.11.0)\n",
      "Requirement already satisfied: fonttools>=4.22.0 in /home/hyochung/miniconda3/envs/tf/lib/python3.9/site-packages (from matplotlib) (4.42.1)\n",
      "Requirement already satisfied: kiwisolver>=1.0.1 in /home/hyochung/miniconda3/envs/tf/lib/python3.9/site-packages (from matplotlib) (1.4.5)\n",
      "Requirement already satisfied: pillow>=6.2.0 in /home/hyochung/miniconda3/envs/tf/lib/python3.9/site-packages (from matplotlib) (10.0.0)\n",
      "Requirement already satisfied: pyparsing<3.1,>=2.3.1 in /home/hyochung/miniconda3/envs/tf/lib/python3.9/site-packages (from matplotlib) (3.0.9)\n",
      "Requirement already satisfied: python-dateutil>=2.7 in /home/hyochung/miniconda3/envs/tf/lib/python3.9/site-packages (from matplotlib) (2.8.2)\n",
      "Requirement already satisfied: importlib-resources>=3.2.0 in /home/hyochung/miniconda3/envs/tf/lib/python3.9/site-packages (from matplotlib) (6.0.1)\n",
      "Requirement already satisfied: wheel<1.0,>=0.23.0 in /home/hyochung/miniconda3/envs/tf/lib/python3.9/site-packages (from astunparse>=1.6.0->tensorflow) (0.38.4)\n",
      "Requirement already satisfied: zipp>=3.1.0 in /home/hyochung/miniconda3/envs/tf/lib/python3.9/site-packages (from importlib-resources>=3.2.0->matplotlib) (3.16.2)\n",
      "Requirement already satisfied: google-auth<3,>=1.6.3 in /home/hyochung/miniconda3/envs/tf/lib/python3.9/site-packages (from tensorboard<2.14,>=2.13->tensorflow) (2.22.0)\n",
      "Requirement already satisfied: google-auth-oauthlib<1.1,>=0.5 in /home/hyochung/miniconda3/envs/tf/lib/python3.9/site-packages (from tensorboard<2.14,>=2.13->tensorflow) (1.0.0)\n",
      "Requirement already satisfied: markdown>=2.6.8 in /home/hyochung/miniconda3/envs/tf/lib/python3.9/site-packages (from tensorboard<2.14,>=2.13->tensorflow) (3.4.4)\n",
      "Requirement already satisfied: requests<3,>=2.21.0 in /home/hyochung/miniconda3/envs/tf/lib/python3.9/site-packages (from tensorboard<2.14,>=2.13->tensorflow) (2.31.0)\n",
      "Requirement already satisfied: tensorboard-data-server<0.8.0,>=0.7.0 in /home/hyochung/miniconda3/envs/tf/lib/python3.9/site-packages (from tensorboard<2.14,>=2.13->tensorflow) (0.7.1)\n",
      "Requirement already satisfied: werkzeug>=1.0.1 in /home/hyochung/miniconda3/envs/tf/lib/python3.9/site-packages (from tensorboard<2.14,>=2.13->tensorflow) (2.3.7)\n",
      "Requirement already satisfied: cachetools<6.0,>=2.0.0 in /home/hyochung/miniconda3/envs/tf/lib/python3.9/site-packages (from google-auth<3,>=1.6.3->tensorboard<2.14,>=2.13->tensorflow) (5.3.1)\n",
      "Requirement already satisfied: pyasn1-modules>=0.2.1 in /home/hyochung/miniconda3/envs/tf/lib/python3.9/site-packages (from google-auth<3,>=1.6.3->tensorboard<2.14,>=2.13->tensorflow) (0.3.0)\n",
      "Requirement already satisfied: rsa<5,>=3.1.4 in /home/hyochung/miniconda3/envs/tf/lib/python3.9/site-packages (from google-auth<3,>=1.6.3->tensorboard<2.14,>=2.13->tensorflow) (4.9)\n",
      "Requirement already satisfied: urllib3<2.0 in /home/hyochung/miniconda3/envs/tf/lib/python3.9/site-packages (from google-auth<3,>=1.6.3->tensorboard<2.14,>=2.13->tensorflow) (1.26.16)\n",
      "Requirement already satisfied: requests-oauthlib>=0.7.0 in /home/hyochung/miniconda3/envs/tf/lib/python3.9/site-packages (from google-auth-oauthlib<1.1,>=0.5->tensorboard<2.14,>=2.13->tensorflow) (1.3.1)\n",
      "Requirement already satisfied: importlib-metadata>=4.4 in /home/hyochung/miniconda3/envs/tf/lib/python3.9/site-packages (from markdown>=2.6.8->tensorboard<2.14,>=2.13->tensorflow) (6.8.0)\n",
      "Requirement already satisfied: charset-normalizer<4,>=2 in /home/hyochung/miniconda3/envs/tf/lib/python3.9/site-packages (from requests<3,>=2.21.0->tensorboard<2.14,>=2.13->tensorflow) (3.2.0)\n",
      "Requirement already satisfied: idna<4,>=2.5 in /home/hyochung/miniconda3/envs/tf/lib/python3.9/site-packages (from requests<3,>=2.21.0->tensorboard<2.14,>=2.13->tensorflow) (3.4)\n",
      "Requirement already satisfied: certifi>=2017.4.17 in /home/hyochung/miniconda3/envs/tf/lib/python3.9/site-packages (from requests<3,>=2.21.0->tensorboard<2.14,>=2.13->tensorflow) (2023.7.22)\n",
      "Requirement already satisfied: MarkupSafe>=2.1.1 in /home/hyochung/miniconda3/envs/tf/lib/python3.9/site-packages (from werkzeug>=1.0.1->tensorboard<2.14,>=2.13->tensorflow) (2.1.3)\n",
      "Requirement already satisfied: pyasn1<0.6.0,>=0.4.6 in /home/hyochung/miniconda3/envs/tf/lib/python3.9/site-packages (from pyasn1-modules>=0.2.1->google-auth<3,>=1.6.3->tensorboard<2.14,>=2.13->tensorflow) (0.5.0)\n",
      "Requirement already satisfied: oauthlib>=3.0.0 in /home/hyochung/miniconda3/envs/tf/lib/python3.9/site-packages (from requests-oauthlib>=0.7.0->google-auth-oauthlib<1.1,>=0.5->tensorboard<2.14,>=2.13->tensorflow) (3.2.2)\n",
      "Note: you may need to restart the kernel to use updated packages.\n"
     ]
    }
   ],
   "source": [
    "%pip install tensorflow matplotlib tensorflow-io"
   ]
  },
  {
   "cell_type": "code",
   "execution_count": 3,
   "id": "0168fc08-022c-49ca-a7ff-7874b831e0b9",
   "metadata": {
    "scrolled": true
   },
   "outputs": [
    {
     "name": "stderr",
     "output_type": "stream",
     "text": [
      "2023-11-27 00:31:12.233017: I tensorflow/core/platform/cpu_feature_guard.cc:182] This TensorFlow binary is optimized to use available CPU instructions in performance-critical operations.\n",
      "To enable the following instructions: AVX2 FMA, in other operations, rebuild TensorFlow with the appropriate compiler flags.\n",
      "2023-11-27 00:31:13.538395: W tensorflow/compiler/tf2tensorrt/utils/py_utils.cc:38] TF-TRT Warning: Could not find TensorRT\n"
     ]
    }
   ],
   "source": [
    "%matplotlib inline\n",
    "import matplotlib.pyplot as plt\n",
    "import os\n",
    "from scipy.io import wavfile\n",
    "from collections import defaultdict, Counter\n",
    "from scipy import signal\n",
    "import numpy as np\n",
    "import librosa\n",
    "from sklearn import preprocessing\n",
    "import random as rn\n",
    "from keras.layers import Dense\n",
    "from keras import Input\n",
    "from tensorflow.keras.models import Model\n",
    "from keras.utils import to_categorical\n",
    "from keras.layers import Dense, TimeDistributed, Dropout, Bidirectional, GRU, BatchNormalization, Activation, LeakyReLU, LSTM, Flatten, RepeatVector, Permute, Multiply, Conv2D, MaxPooling2D\n",
    "import tensorflow as tf\n",
    "import tensorflow_io as tfio\n",
    "import random"
   ]
  },
  {
   "cell_type": "markdown",
   "id": "fe13c47f-76c3-43c6-b048-63b80dd33ce5",
   "metadata": {},
   "source": [
    "2. Data Loading"
   ]
  },
  {
   "cell_type": "code",
   "execution_count": 4,
   "id": "bd226490-6909-4db9-8c6b-240da2158ca0",
   "metadata": {
    "tags": []
   },
   "outputs": [
    {
     "name": "stderr",
     "output_type": "stream",
     "text": [
      "2023-11-27 00:31:15.129498: I tensorflow/compiler/xla/stream_executor/cuda/cuda_gpu_executor.cc:981] could not open file to read NUMA node: /sys/bus/pci/devices/0000:01:00.0/numa_node\n",
      "Your kernel may have been built without NUMA support.\n",
      "2023-11-27 00:31:15.307460: I tensorflow/compiler/xla/stream_executor/cuda/cuda_gpu_executor.cc:981] could not open file to read NUMA node: /sys/bus/pci/devices/0000:01:00.0/numa_node\n",
      "Your kernel may have been built without NUMA support.\n",
      "2023-11-27 00:31:15.307522: I tensorflow/compiler/xla/stream_executor/cuda/cuda_gpu_executor.cc:981] could not open file to read NUMA node: /sys/bus/pci/devices/0000:01:00.0/numa_node\n",
      "Your kernel may have been built without NUMA support.\n"
     ]
    }
   ],
   "source": [
    "# Avoid OOM errors by setting GPU Memory Consumption Growth\n",
    "gpus = tf.config.experimental.list_physical_devices('GPU')\n",
    "for gpu in gpus: \n",
    "    tf.config.experimental.set_memory_growth(gpu, True)"
   ]
  },
  {
   "cell_type": "code",
   "execution_count": 5,
   "id": "94676b38-96b1-4c23-b55d-53b2cd5bbc12",
   "metadata": {
    "scrolled": true
   },
   "outputs": [
    {
     "name": "stderr",
     "output_type": "stream",
     "text": [
      "2023-11-27 00:31:15.331687: I tensorflow/compiler/xla/stream_executor/cuda/cuda_gpu_executor.cc:981] could not open file to read NUMA node: /sys/bus/pci/devices/0000:01:00.0/numa_node\n",
      "Your kernel may have been built without NUMA support.\n"
     ]
    },
    {
     "name": "stdout",
     "output_type": "stream",
     "text": [
      "1 Physical GPUs, 1 Logical GPUs\n"
     ]
    },
    {
     "name": "stderr",
     "output_type": "stream",
     "text": [
      "2023-11-27 00:31:15.331854: I tensorflow/compiler/xla/stream_executor/cuda/cuda_gpu_executor.cc:981] could not open file to read NUMA node: /sys/bus/pci/devices/0000:01:00.0/numa_node\n",
      "Your kernel may have been built without NUMA support.\n",
      "2023-11-27 00:31:15.331912: I tensorflow/compiler/xla/stream_executor/cuda/cuda_gpu_executor.cc:981] could not open file to read NUMA node: /sys/bus/pci/devices/0000:01:00.0/numa_node\n",
      "Your kernel may have been built without NUMA support.\n",
      "2023-11-27 00:31:17.841440: I tensorflow/compiler/xla/stream_executor/cuda/cuda_gpu_executor.cc:981] could not open file to read NUMA node: /sys/bus/pci/devices/0000:01:00.0/numa_node\n",
      "Your kernel may have been built without NUMA support.\n",
      "2023-11-27 00:31:17.841472: I tensorflow/core/common_runtime/gpu/gpu_device.cc:1726] Could not identify NUMA node of platform GPU id 0, defaulting to 0.  Your kernel may not have been built with NUMA support.\n",
      "2023-11-27 00:31:17.841571: I tensorflow/compiler/xla/stream_executor/cuda/cuda_gpu_executor.cc:981] could not open file to read NUMA node: /sys/bus/pci/devices/0000:01:00.0/numa_node\n",
      "Your kernel may have been built without NUMA support.\n",
      "2023-11-27 00:31:17.841613: I tensorflow/compiler/xla/stream_executor/cuda/cuda_gpu_executor.cc:981] could not open file to read NUMA node: /sys/bus/pci/devices/0000:01:00.0/numa_node\n",
      "Your kernel may have been built without NUMA support.\n",
      "2023-11-27 00:31:17.841644: I tensorflow/core/common_runtime/gpu/gpu_device.cc:1639] Created device /job:localhost/replica:0/task:0/device:GPU:0 with 3072 MB memory:  -> device: 0, name: NVIDIA GeForce GTX 1660 Ti, pci bus id: 0000:01:00.0, compute capability: 7.5\n"
     ]
    }
   ],
   "source": [
    "gpus = tf.config.list_physical_devices('GPU')\n",
    "if gpus:\n",
    "  # Restrict TensorFlow to only allocate 1GB of memory on the first GPU\n",
    "  try:\n",
    "    tf.config.set_logical_device_configuration(\n",
    "        gpus[0],\n",
    "        [tf.config.LogicalDeviceConfiguration(memory_limit=3072)])\n",
    "    logical_gpus = tf.config.list_logical_devices('GPU')\n",
    "    print(len(gpus), \"Physical GPUs,\", len(logical_gpus), \"Logical GPUs\")\n",
    "  except RuntimeError as e:\n",
    "    # Virtual devices must be set before GPUs have been initialized\n",
    "    print(e)"
   ]
  },
  {
   "cell_type": "code",
   "execution_count": 6,
   "id": "c5b7b17f-cc6e-4171-a659-dca32797a7ee",
   "metadata": {},
   "outputs": [
    {
     "data": {
      "text/plain": [
       "[PhysicalDevice(name='/physical_device:GPU:0', device_type='GPU')]"
      ]
     },
     "execution_count": 6,
     "metadata": {},
     "output_type": "execute_result"
    }
   ],
   "source": [
    "tf.config.list_physical_devices('GPU')"
   ]
  },
  {
   "cell_type": "code",
   "execution_count": 7,
   "id": "10d5b60d-6ec9-4e45-9cb6-b6ad6f4c73d9",
   "metadata": {},
   "outputs": [],
   "source": [
    "DATA_DIR = os.path.join('data', 'train/')\n",
    "def get_data_dir(label):\n",
    "    return os.path.join('data', 'train2', label, '/')"
   ]
  },
  {
   "cell_type": "code",
   "execution_count": 8,
   "metadata": {},
   "outputs": [
    {
     "name": "stdout",
     "output_type": "stream",
     "text": [
      "Mean: 0.4090203\n",
      "Min: 0.36\n",
      "Max: 0.75\n"
     ]
    }
   ],
   "source": [
    "import os\n",
    "import librosa\n",
    "\n",
    "# Directory containing the audio files\n",
    "dir_path = os.path.join('data', 'train/')\n",
    "\n",
    "# List to store the lengths of the audio files\n",
    "lengths = []\n",
    "\n",
    "# Iterate over all files in the directory\n",
    "for file in os.listdir(dir_path):\n",
    "    # Skip directories\n",
    "    if os.path.isdir(os.path.join(dir_path, file)):\n",
    "        continue\n",
    "\n",
    "    # Load the audio file\n",
    "    wav, sr = librosa.load(os.path.join(dir_path, file), sr=16000)\n",
    "    \n",
    "    # Calculate the length of the audio file in seconds and append it to the list\n",
    "    lengths.append(len(wav) / sr)\n",
    "\n",
    "# Convert the list to a TensorFlow tensor\n",
    "lengths_tensor = tf.convert_to_tensor(lengths)\n",
    "\n",
    "# Calculate and print the mean, min, and max\n",
    "print('Mean:', tf.math.reduce_mean(lengths_tensor).numpy())\n",
    "print('Min:', tf.math.reduce_min(lengths_tensor).numpy())\n",
    "print('Max:', tf.math.reduce_max(lengths_tensor).numpy())"
   ]
  },
  {
   "cell_type": "code",
   "execution_count": 9,
   "id": "19a347db-7204-4092-86cc-bbdb3b0e2274",
   "metadata": {},
   "outputs": [
    {
     "name": "stdout",
     "output_type": "stream",
     "text": [
      "sr: 16000\n",
      "wav shape: (8000,)\n",
      "length: 0.5 secs\n"
     ]
    }
   ],
   "source": [
    "check_dir = os.path.join('data', 'train/')\n",
    "\n",
    "wav, sr = librosa.load(check_dir + 'W-04.wav', sr=16000)\n",
    "print('sr:', sr)\n",
    "print('wav shape:', wav.shape)\n",
    "print('length:', wav.shape[0]/float(sr), 'secs')"
   ]
  },
  {
   "cell_type": "code",
   "execution_count": 10,
   "id": "387ed053-15fa-40ff-8290-3f32e3dd068f",
   "metadata": {},
   "outputs": [
    {
     "name": "stdout",
     "output_type": "stream",
     "text": [
      "[<matplotlib.lines.Line2D object at 0x7f7635d20610>]\n",
      "[<matplotlib.lines.Line2D object at 0x7f7635d20d60>]\n"
     ]
    },
    {
     "data": {
      "image/png": "[encoded data removed]",
      "text/plain": [
       "<Figure size 640x480 with 1 Axes>"
      ]
     },
     "metadata": {},
     "output_type": "display_data"
    }
   ],
   "source": [
    "# raw wave\n",
    "print(plt.plot(wav))\n",
    "print(plt.plot(wav[0:8000]))"
   ]
  },
  {
   "cell_type": "code",
   "execution_count": 11,
   "id": "7d5bdb87-9a60-4935-8f31-61da98c92a43",
   "metadata": {},
   "outputs": [],
   "source": [
    "train_mlp = []\n",
    "train_spectrograms = []\n",
    "train_mel_spectrograms = []\n",
    "train_mfccs = []\n",
    "train_y = []\n",
    "\n",
    "test_mlp = []\n",
    "test_spectrograms = []\n",
    "test_mel_spectrograms = []\n",
    "test_mfccs = []\n",
    "test_y = []\n",
    "\n",
    "# 모든 음성파일의 길이가 같도록 후위에 padding 처리\n",
    "pad1d = lambda a, i: a[0: i] if a.shape[0] > i else np.hstack((a, np.zeros(i-a.shape[0])))\n",
    "pad2d = lambda a, i: a[:, 0:i] if a.shape[1] > i else np.hstack((a, np.zeros((a.shape[0], i-a.shape[1]))))\n",
    "\n",
    "frame_length = 0.025\n",
    "frame_stride = 0.0010"
   ]
  },
  {
   "cell_type": "code",
   "execution_count": 12,
   "id": "f42108aa-5c3b-42d4-a27f-3c05056f6d1c",
   "metadata": {
    "scrolled": true
   },
   "outputs": [],
   "source": [
    "from sklearn.model_selection import train_test_split"
   ]
  },
  {
   "cell_type": "code",
   "execution_count": 13,
   "metadata": {},
   "outputs": [],
   "source": [
    "\n",
    "\n",
    "def load_wav_16k_mono(filename):\n",
    "    # Load encoded wav file\n",
    "    file_contents = tf.io.read_file(filename)\n",
    "    # Decode wav (tensors by channels) \n",
    "    wav, sample_rate = tf.audio.decode_wav(file_contents, desired_channels=1)\n",
    "    # Removes trailing axis\n",
    "    wav = tf.squeeze(wav, axis=-1)\n",
    "    sample_rate = tf.cast(sample_rate, dtype=tf.int64)\n",
    "    # Goes from 44100Hz to 16000hz - amplitude of the audio signal\n",
    "    wav = tfio.audio.resample(wav, rate_in=sample_rate, rate_out=16000)\n",
    "    return wav\n",
    "\n"
   ]
  },
  {
   "cell_type": "markdown",
   "id": "b49e6132",
   "metadata": {},
   "source": [
    "Spectogram and binary classification by each label"
   ]
  },
  {
   "cell_type": "code",
   "execution_count": 14,
   "metadata": {},
   "outputs": [],
   "source": [
    "def get_spectrogram(filename):\n",
    "    wav = load_wav_16k_mono(filename)\n",
    "    spectrogram = np.abs(librosa.stft(wav.numpy()))\n",
    "    padded_spectrogram = pad2d(spectrogram, 400)\n",
    "    return padded_spectrogram"
   ]
  },
  {
   "cell_type": "code",
   "execution_count": 15,
   "metadata": {},
   "outputs": [],
   "source": [
    "def get_spectrogram(filename):\n",
    "    wav = load_wav_16k_mono(filename)\n",
    "    wav = wav[:8000]\n",
    "    zero_padding = tf.zeros([8000] - tf.shape(wav), dtype=tf.float32)\n",
    "    wav = tf.concat([zero_padding, wav],0)\n",
    "    spectrogram = tf.signal.stft(wav, frame_length=320, frame_step=32)\n",
    "    spectrogram = tf.abs(spectrogram)\n",
    "    return spectrogram"
   ]
  },
  {
   "cell_type": "code",
   "execution_count": 16,
   "id": "e9c78e31-fd53-44ff-887a-78c252587a78",
   "metadata": {},
   "outputs": [],
   "source": [
    "def create_binary_class_model(key):\n",
    "    X = []\n",
    "    y = []\n",
    "    \n",
    "    data_dir = os.path.join('data', 'train/')\n",
    "    for filename in os.listdir(data_dir):\n",
    "        if '.wav' not in filename:\n",
    "            continue\n",
    "\n",
    "        spectrogram = get_spectrogram(data_dir + filename)\n",
    "        label = 1 if key == filename[0] else 0  # 'Q' is 1, 'not Q' is 0\n",
    "\n",
    "        X.append(spectrogram)\n",
    "        y.append(label)\n",
    "\n",
    "    train_spectrograms, test_spectrograms, train_y, test_y = train_test_split(X, y, test_size=0.2, random_state=42)\n",
    "\n",
    "    train_spectrograms = np.array(train_spectrograms)\n",
    "    train_y = np.array(train_y)  \n",
    "\n",
    "    test_spectrograms = np.array(test_spectrograms)\n",
    "    test_y = np.array(test_y)  \n",
    "\n",
    "    print('train_mfccs:', train_spectrograms.shape)\n",
    "    print('train_y:', train_y.shape)\n",
    "\n",
    "    print('test_mfccs:', test_spectrograms.shape)\n",
    "    print('test_y:', test_y.shape)\n",
    "    train_spectrograms = np.expand_dims(train_spectrograms, -1)\n",
    "    test_spectrograms = np.expand_dims(test_spectrograms, -1)\n",
    "    print('train_spectograms shape:', train_spectrograms.shape)\n",
    "    print('test_spectograms shape:', test_spectrograms.shape)\n",
    "    ip = Input(shape=train_spectrograms[0].shape)\n",
    "\n",
    "    m = Conv2D(32, kernel_size=(4,4), activation='relu')(ip)\n",
    "    m = MaxPooling2D(pool_size=(4,4))(m)\n",
    "\n",
    "    m = Conv2D(32*2, kernel_size=(4,4), activation='relu')(ip)\n",
    "    m = MaxPooling2D(pool_size=(4,4))(m)\n",
    "\n",
    "    m = Conv2D(32 * 3, kernel_size=(4, 4), activation='relu')(ip)\n",
    "    m = MaxPooling2D(pool_size=(4,4))(m)\n",
    "\n",
    "    m = Flatten()(m)\n",
    "\n",
    "    m = Dense(64, activation='relu')(m)\n",
    "\n",
    "    m = Dense(32, activation='relu')(m)\n",
    "\n",
    "    op = Dense(1, activation='sigmoid')(m) \n",
    "\n",
    "    model = Model(ip, op)\n",
    "\n",
    "    model.summary()\n",
    "\n",
    "    model.compile(loss='binary_crossentropy',  \n",
    "                optimizer='adam',\n",
    "                metrics=['accuracy'])\n",
    "\n",
    "    history = model.fit(train_spectrograms,\n",
    "                        train_y,\n",
    "                        epochs=100,\n",
    "                        batch_size=16,\n",
    "                        verbose=1,\n",
    "                        validation_data=(test_spectrograms, test_y))\n",
    "    return model, history"
   ]
  },
  {
   "cell_type": "markdown",
   "metadata": {},
   "source": [
    "Q"
   ]
  },
  {
   "cell_type": "code",
   "execution_count": 17,
   "metadata": {},
   "outputs": [
    {
     "name": "stderr",
     "output_type": "stream",
     "text": [
      "2023-11-27 00:31:23.447898: I tensorflow_io/core/kernels/cpu_check.cc:128] Your CPU supports instructions that this TensorFlow IO binary was not compiled to use: AVX AVX2 FMA\n"
     ]
    },
    {
     "name": "stdout",
     "output_type": "stream",
     "text": [
      "WARNING:tensorflow:5 out of the last 5 calls to <function pfor.<locals>.f at 0x7f7635008f70> triggered tf.function retracing. Tracing is expensive and the excessive number of tracings could be due to (1) creating @tf.function repeatedly in a loop, (2) passing tensors with different shapes, (3) passing Python objects instead of tensors. For (1), please define your @tf.function outside of the loop. For (2), @tf.function has reduce_retracing=True option that can avoid unnecessary retracing. For (3), please refer to https://www.tensorflow.org/guide/function#controlling_retracing and https://www.tensorflow.org/api_docs/python/tf/function for  more details.\n",
      "WARNING:tensorflow:6 out of the last 6 calls to <function pfor.<locals>.f at 0x7f7635008af0> triggered tf.function retracing. Tracing is expensive and the excessive number of tracings could be due to (1) creating @tf.function repeatedly in a loop, (2) passing tensors with different shapes, (3) passing Python objects instead of tensors. For (1), please define your @tf.function outside of the loop. For (2), @tf.function has reduce_retracing=True option that can avoid unnecessary retracing. For (3), please refer to https://www.tensorflow.org/guide/function#controlling_retracing and https://www.tensorflow.org/api_docs/python/tf/function for  more details.\n",
      "train_mfccs: (1184, 241, 257)\n",
      "train_y: (1184,)\n",
      "test_mfccs: (296, 241, 257)\n",
      "test_y: (296,)\n",
      "train_spectograms shape: (1184, 241, 257, 1)\n",
      "test_spectograms shape: (296, 241, 257, 1)\n",
      "Model: \"model\"\n",
      "_________________________________________________________________\n",
      " Layer (type)                Output Shape              Param #   \n",
      "=================================================================\n",
      " input_1 (InputLayer)        [(None, 241, 257, 1)]     0         \n",
      "                                                                 \n",
      " conv2d_2 (Conv2D)           (None, 238, 254, 96)      1632      \n",
      "                                                                 \n",
      " max_pooling2d_2 (MaxPoolin  (None, 59, 63, 96)        0         \n",
      " g2D)                                                            \n",
      "                                                                 \n",
      " flatten (Flatten)           (None, 356832)            0         \n",
      "                                                                 \n",
      " dense (Dense)               (None, 64)                22837312  \n",
      "                                                                 \n",
      " dense_1 (Dense)             (None, 32)                2080      \n",
      "                                                                 \n",
      " dense_2 (Dense)             (None, 1)                 33        \n",
      "                                                                 \n",
      "=================================================================\n",
      "Total params: 22841057 (87.13 MB)\n",
      "Trainable params: 22841057 (87.13 MB)\n",
      "Non-trainable params: 0 (0.00 Byte)\n",
      "_________________________________________________________________\n",
      "Epoch 1/100\n"
     ]
    },
    {
     "name": "stderr",
     "output_type": "stream",
     "text": [
      "2023-11-27 00:32:21.471234: I tensorflow/compiler/xla/stream_executor/cuda/cuda_dnn.cc:432] Loaded cuDNN version 8600\n",
      "2023-11-27 00:32:22.465999: I tensorflow/compiler/xla/service/service.cc:168] XLA service 0x7f73737010f0 initialized for platform CUDA (this does not guarantee that XLA will be used). Devices:\n",
      "2023-11-27 00:32:22.466074: I tensorflow/compiler/xla/service/service.cc:176]   StreamExecutor device (0): NVIDIA GeForce GTX 1660 Ti, Compute Capability 7.5\n",
      "2023-11-27 00:32:22.477456: I tensorflow/compiler/mlir/tensorflow/utils/dump_mlir_util.cc:255] disabling MLIR crash reproducer, set env var `MLIR_CRASH_REPRODUCER_DIRECTORY` to enable.\n",
      "2023-11-27 00:32:22.607002: I ./tensorflow/compiler/jit/device_compiler.h:186] Compiled cluster using XLA!  This line is logged at most once for the lifetime of the process.\n"
     ]
    },
    {
     "name": "stdout",
     "output_type": "stream",
     "text": [
      "74/74 [==============================] - 6s 40ms/step - loss: 0.1104 - accuracy: 0.9519 - val_loss: 0.0320 - val_accuracy: 0.9899\n",
      "Epoch 2/100\n",
      "74/74 [==============================] - 3s 36ms/step - loss: 0.0107 - accuracy: 0.9975 - val_loss: 0.0698 - val_accuracy: 0.9764\n",
      "Epoch 3/100\n",
      "74/74 [==============================] - 3s 36ms/step - loss: 0.0023 - accuracy: 1.0000 - val_loss: 0.0046 - val_accuracy: 1.0000\n",
      "Epoch 4/100\n",
      "74/74 [==============================] - 3s 36ms/step - loss: 3.0097e-04 - accuracy: 1.0000 - val_loss: 0.0057 - val_accuracy: 0.9966\n",
      "Epoch 5/100\n",
      "74/74 [==============================] - 3s 36ms/step - loss: 1.6369e-04 - accuracy: 1.0000 - val_loss: 0.0061 - val_accuracy: 0.9966\n",
      "Epoch 6/100\n",
      "74/74 [==============================] - 3s 36ms/step - loss: 9.6047e-05 - accuracy: 1.0000 - val_loss: 0.0066 - val_accuracy: 0.9966\n",
      "Epoch 7/100\n",
      "74/74 [==============================] - 3s 36ms/step - loss: 7.0237e-05 - accuracy: 1.0000 - val_loss: 0.0070 - val_accuracy: 0.9966\n",
      "Epoch 8/100\n",
      "74/74 [==============================] - 3s 36ms/step - loss: 4.9912e-05 - accuracy: 1.0000 - val_loss: 0.0072 - val_accuracy: 0.9966\n",
      "Epoch 9/100\n",
      "74/74 [==============================] - 3s 36ms/step - loss: 3.8130e-05 - accuracy: 1.0000 - val_loss: 0.0071 - val_accuracy: 0.9966\n",
      "Epoch 10/100\n",
      "74/74 [==============================] - 3s 36ms/step - loss: 3.1326e-05 - accuracy: 1.0000 - val_loss: 0.0071 - val_accuracy: 0.9966\n",
      "Epoch 11/100\n",
      "74/74 [==============================] - 3s 36ms/step - loss: 2.5880e-05 - accuracy: 1.0000 - val_loss: 0.0075 - val_accuracy: 0.9966\n",
      "Epoch 12/100\n",
      "74/74 [==============================] - 3s 36ms/step - loss: 2.0945e-05 - accuracy: 1.0000 - val_loss: 0.0078 - val_accuracy: 0.9966\n",
      "Epoch 13/100\n",
      "74/74 [==============================] - 3s 36ms/step - loss: 1.7383e-05 - accuracy: 1.0000 - val_loss: 0.0080 - val_accuracy: 0.9966\n",
      "Epoch 14/100\n",
      "74/74 [==============================] - 3s 36ms/step - loss: 1.4888e-05 - accuracy: 1.0000 - val_loss: 0.0082 - val_accuracy: 0.9966\n",
      "Epoch 15/100\n",
      "74/74 [==============================] - 3s 36ms/step - loss: 1.2937e-05 - accuracy: 1.0000 - val_loss: 0.0084 - val_accuracy: 0.9966\n",
      "Epoch 16/100\n",
      "74/74 [==============================] - 3s 36ms/step - loss: 1.1281e-05 - accuracy: 1.0000 - val_loss: 0.0082 - val_accuracy: 0.9966\n",
      "Epoch 17/100\n",
      "74/74 [==============================] - 3s 36ms/step - loss: 9.9124e-06 - accuracy: 1.0000 - val_loss: 0.0085 - val_accuracy: 0.9966\n",
      "Epoch 18/100\n",
      "74/74 [==============================] - 3s 36ms/step - loss: 8.7736e-06 - accuracy: 1.0000 - val_loss: 0.0088 - val_accuracy: 0.9966\n",
      "Epoch 19/100\n",
      "74/74 [==============================] - 3s 36ms/step - loss: 7.7846e-06 - accuracy: 1.0000 - val_loss: 0.0089 - val_accuracy: 0.9966\n",
      "Epoch 20/100\n",
      "74/74 [==============================] - 3s 36ms/step - loss: 6.9625e-06 - accuracy: 1.0000 - val_loss: 0.0090 - val_accuracy: 0.9966\n",
      "Epoch 21/100\n",
      "74/74 [==============================] - 3s 36ms/step - loss: 6.4286e-06 - accuracy: 1.0000 - val_loss: 0.0089 - val_accuracy: 0.9966\n",
      "Epoch 22/100\n",
      "74/74 [==============================] - 3s 36ms/step - loss: 5.8037e-06 - accuracy: 1.0000 - val_loss: 0.0091 - val_accuracy: 0.9966\n",
      "Epoch 23/100\n",
      "74/74 [==============================] - 3s 36ms/step - loss: 5.1482e-06 - accuracy: 1.0000 - val_loss: 0.0092 - val_accuracy: 0.9966\n",
      "Epoch 24/100\n",
      "74/74 [==============================] - 3s 36ms/step - loss: 4.6956e-06 - accuracy: 1.0000 - val_loss: 0.0093 - val_accuracy: 0.9966\n",
      "Epoch 25/100\n",
      "74/74 [==============================] - 3s 36ms/step - loss: 4.4054e-06 - accuracy: 1.0000 - val_loss: 0.0096 - val_accuracy: 0.9966\n",
      "Epoch 26/100\n",
      "74/74 [==============================] - 3s 36ms/step - loss: 3.9333e-06 - accuracy: 1.0000 - val_loss: 0.0095 - val_accuracy: 0.9966\n",
      "Epoch 27/100\n",
      "74/74 [==============================] - 3s 36ms/step - loss: 3.5862e-06 - accuracy: 1.0000 - val_loss: 0.0096 - val_accuracy: 0.9966\n",
      "Epoch 28/100\n",
      "74/74 [==============================] - 3s 36ms/step - loss: 3.2713e-06 - accuracy: 1.0000 - val_loss: 0.0096 - val_accuracy: 0.9966\n",
      "Epoch 29/100\n",
      "74/74 [==============================] - 3s 36ms/step - loss: 3.0500e-06 - accuracy: 1.0000 - val_loss: 0.0098 - val_accuracy: 0.9966\n",
      "Epoch 30/100\n",
      "74/74 [==============================] - 3s 36ms/step - loss: 2.7829e-06 - accuracy: 1.0000 - val_loss: 0.0098 - val_accuracy: 0.9966\n",
      "Epoch 31/100\n",
      "74/74 [==============================] - 3s 36ms/step - loss: 2.6099e-06 - accuracy: 1.0000 - val_loss: 0.0099 - val_accuracy: 0.9966\n",
      "Epoch 32/100\n",
      "74/74 [==============================] - 3s 36ms/step - loss: 2.3935e-06 - accuracy: 1.0000 - val_loss: 0.0101 - val_accuracy: 0.9966\n",
      "Epoch 33/100\n",
      "74/74 [==============================] - 3s 36ms/step - loss: 2.2619e-06 - accuracy: 1.0000 - val_loss: 0.0102 - val_accuracy: 0.9966\n",
      "Epoch 34/100\n",
      "74/74 [==============================] - 3s 36ms/step - loss: 2.0712e-06 - accuracy: 1.0000 - val_loss: 0.0102 - val_accuracy: 0.9966\n",
      "Epoch 35/100\n",
      "74/74 [==============================] - 3s 36ms/step - loss: 1.9577e-06 - accuracy: 1.0000 - val_loss: 0.0103 - val_accuracy: 0.9966\n",
      "Epoch 36/100\n",
      "74/74 [==============================] - 3s 36ms/step - loss: 1.8080e-06 - accuracy: 1.0000 - val_loss: 0.0104 - val_accuracy: 0.9966\n",
      "Epoch 37/100\n",
      "74/74 [==============================] - 3s 36ms/step - loss: 1.6777e-06 - accuracy: 1.0000 - val_loss: 0.0105 - val_accuracy: 0.9966\n",
      "Epoch 38/100\n",
      "74/74 [==============================] - 3s 36ms/step - loss: 1.5760e-06 - accuracy: 1.0000 - val_loss: 0.0105 - val_accuracy: 0.9966\n",
      "Epoch 39/100\n",
      "74/74 [==============================] - 3s 36ms/step - loss: 1.4783e-06 - accuracy: 1.0000 - val_loss: 0.0106 - val_accuracy: 0.9966\n",
      "Epoch 40/100\n",
      "74/74 [==============================] - 3s 36ms/step - loss: 1.3600e-06 - accuracy: 1.0000 - val_loss: 0.0106 - val_accuracy: 0.9966\n",
      "Epoch 41/100\n",
      "74/74 [==============================] - 3s 36ms/step - loss: 1.2771e-06 - accuracy: 1.0000 - val_loss: 0.0108 - val_accuracy: 0.9966\n",
      "Epoch 42/100\n",
      "74/74 [==============================] - 3s 36ms/step - loss: 1.2129e-06 - accuracy: 1.0000 - val_loss: 0.0109 - val_accuracy: 0.9966\n",
      "Epoch 43/100\n",
      "74/74 [==============================] - 3s 36ms/step - loss: 1.1412e-06 - accuracy: 1.0000 - val_loss: 0.0109 - val_accuracy: 0.9966\n",
      "Epoch 44/100\n",
      "74/74 [==============================] - 3s 36ms/step - loss: 1.0867e-06 - accuracy: 1.0000 - val_loss: 0.0112 - val_accuracy: 0.9966\n",
      "Epoch 45/100\n",
      "74/74 [==============================] - 3s 36ms/step - loss: 1.0001e-06 - accuracy: 1.0000 - val_loss: 0.0112 - val_accuracy: 0.9966\n",
      "Epoch 46/100\n",
      "74/74 [==============================] - 3s 36ms/step - loss: 9.3811e-07 - accuracy: 1.0000 - val_loss: 0.0112 - val_accuracy: 0.9966\n",
      "Epoch 47/100\n",
      "74/74 [==============================] - 3s 36ms/step - loss: 8.8505e-07 - accuracy: 1.0000 - val_loss: 0.0113 - val_accuracy: 0.9966\n",
      "Epoch 48/100\n",
      "74/74 [==============================] - 3s 36ms/step - loss: 8.4152e-07 - accuracy: 1.0000 - val_loss: 0.0114 - val_accuracy: 0.9966\n",
      "Epoch 49/100\n",
      "74/74 [==============================] - 3s 36ms/step - loss: 7.9513e-07 - accuracy: 1.0000 - val_loss: 0.0114 - val_accuracy: 0.9966\n",
      "Epoch 50/100\n",
      "74/74 [==============================] - 3s 36ms/step - loss: 7.4448e-07 - accuracy: 1.0000 - val_loss: 0.0116 - val_accuracy: 0.9966\n",
      "Epoch 51/100\n",
      "74/74 [==============================] - 3s 36ms/step - loss: 7.0654e-07 - accuracy: 1.0000 - val_loss: 0.0116 - val_accuracy: 0.9966\n",
      "Epoch 52/100\n",
      "74/74 [==============================] - 3s 36ms/step - loss: 6.5881e-07 - accuracy: 1.0000 - val_loss: 0.0117 - val_accuracy: 0.9966\n",
      "Epoch 53/100\n",
      "74/74 [==============================] - 3s 36ms/step - loss: 6.2911e-07 - accuracy: 1.0000 - val_loss: 0.0118 - val_accuracy: 0.9966\n",
      "Epoch 54/100\n",
      "74/74 [==============================] - 3s 36ms/step - loss: 5.8629e-07 - accuracy: 1.0000 - val_loss: 0.0119 - val_accuracy: 0.9966\n",
      "Epoch 55/100\n",
      "74/74 [==============================] - 3s 36ms/step - loss: 5.6369e-07 - accuracy: 1.0000 - val_loss: 0.0121 - val_accuracy: 0.9966\n",
      "Epoch 56/100\n",
      "74/74 [==============================] - 3s 36ms/step - loss: 5.2356e-07 - accuracy: 1.0000 - val_loss: 0.0122 - val_accuracy: 0.9966\n",
      "Epoch 57/100\n",
      "74/74 [==============================] - 3s 36ms/step - loss: 5.0159e-07 - accuracy: 1.0000 - val_loss: 0.0124 - val_accuracy: 0.9966\n",
      "Epoch 58/100\n",
      "74/74 [==============================] - 3s 36ms/step - loss: 4.6730e-07 - accuracy: 1.0000 - val_loss: 0.0124 - val_accuracy: 0.9966\n",
      "Epoch 59/100\n",
      "74/74 [==============================] - 3s 36ms/step - loss: 4.5210e-07 - accuracy: 1.0000 - val_loss: 0.0125 - val_accuracy: 0.9966\n",
      "Epoch 60/100\n",
      "74/74 [==============================] - 3s 36ms/step - loss: 4.2333e-07 - accuracy: 1.0000 - val_loss: 0.0126 - val_accuracy: 0.9966\n",
      "Epoch 61/100\n",
      "74/74 [==============================] - 3s 36ms/step - loss: 4.0143e-07 - accuracy: 1.0000 - val_loss: 0.0127 - val_accuracy: 0.9966\n",
      "Epoch 62/100\n",
      "74/74 [==============================] - 3s 36ms/step - loss: 3.7872e-07 - accuracy: 1.0000 - val_loss: 0.0127 - val_accuracy: 0.9966\n",
      "Epoch 63/100\n",
      "74/74 [==============================] - 3s 36ms/step - loss: 3.5970e-07 - accuracy: 1.0000 - val_loss: 0.0129 - val_accuracy: 0.9966\n",
      "Epoch 64/100\n",
      "74/74 [==============================] - 3s 36ms/step - loss: 3.4199e-07 - accuracy: 1.0000 - val_loss: 0.0129 - val_accuracy: 0.9966\n",
      "Epoch 65/100\n",
      "74/74 [==============================] - 3s 36ms/step - loss: 3.2419e-07 - accuracy: 1.0000 - val_loss: 0.0130 - val_accuracy: 0.9966\n",
      "Epoch 66/100\n",
      "74/74 [==============================] - 3s 36ms/step - loss: 3.0708e-07 - accuracy: 1.0000 - val_loss: 0.0132 - val_accuracy: 0.9966\n",
      "Epoch 67/100\n",
      "74/74 [==============================] - 3s 36ms/step - loss: 2.9078e-07 - accuracy: 1.0000 - val_loss: 0.0132 - val_accuracy: 0.9966\n",
      "Epoch 68/100\n",
      "74/74 [==============================] - 3s 36ms/step - loss: 2.7920e-07 - accuracy: 1.0000 - val_loss: 0.0131 - val_accuracy: 0.9966\n",
      "Epoch 69/100\n",
      "74/74 [==============================] - 3s 36ms/step - loss: 2.6434e-07 - accuracy: 1.0000 - val_loss: 0.0134 - val_accuracy: 0.9966\n",
      "Epoch 70/100\n",
      "74/74 [==============================] - 3s 36ms/step - loss: 2.4689e-07 - accuracy: 1.0000 - val_loss: 0.0135 - val_accuracy: 0.9966\n",
      "Epoch 71/100\n",
      "74/74 [==============================] - 3s 36ms/step - loss: 2.3733e-07 - accuracy: 1.0000 - val_loss: 0.0136 - val_accuracy: 0.9966\n",
      "Epoch 72/100\n",
      "74/74 [==============================] - 3s 36ms/step - loss: 2.2446e-07 - accuracy: 1.0000 - val_loss: 0.0137 - val_accuracy: 0.9966\n",
      "Epoch 73/100\n",
      "74/74 [==============================] - 3s 36ms/step - loss: 2.1990e-07 - accuracy: 1.0000 - val_loss: 0.0138 - val_accuracy: 0.9966\n",
      "Epoch 74/100\n",
      "74/74 [==============================] - 3s 36ms/step - loss: 2.0267e-07 - accuracy: 1.0000 - val_loss: 0.0138 - val_accuracy: 0.9966\n",
      "Epoch 75/100\n",
      "74/74 [==============================] - 3s 36ms/step - loss: 1.9352e-07 - accuracy: 1.0000 - val_loss: 0.0140 - val_accuracy: 0.9966\n",
      "Epoch 76/100\n",
      "74/74 [==============================] - 3s 36ms/step - loss: 1.8507e-07 - accuracy: 1.0000 - val_loss: 0.0141 - val_accuracy: 0.9966\n",
      "Epoch 77/100\n",
      "74/74 [==============================] - 3s 36ms/step - loss: 1.7651e-07 - accuracy: 1.0000 - val_loss: 0.0142 - val_accuracy: 0.9966\n",
      "Epoch 78/100\n",
      "74/74 [==============================] - 3s 36ms/step - loss: 1.6804e-07 - accuracy: 1.0000 - val_loss: 0.0142 - val_accuracy: 0.9966\n",
      "Epoch 79/100\n",
      "74/74 [==============================] - 3s 36ms/step - loss: 1.6074e-07 - accuracy: 1.0000 - val_loss: 0.0143 - val_accuracy: 0.9966\n",
      "Epoch 80/100\n",
      "74/74 [==============================] - 3s 36ms/step - loss: 1.5185e-07 - accuracy: 1.0000 - val_loss: 0.0144 - val_accuracy: 0.9966\n",
      "Epoch 81/100\n",
      "74/74 [==============================] - 3s 36ms/step - loss: 1.4547e-07 - accuracy: 1.0000 - val_loss: 0.0145 - val_accuracy: 0.9966\n",
      "Epoch 82/100\n",
      "74/74 [==============================] - 3s 36ms/step - loss: 1.3995e-07 - accuracy: 1.0000 - val_loss: 0.0147 - val_accuracy: 0.9966\n",
      "Epoch 83/100\n",
      "74/74 [==============================] - 3s 36ms/step - loss: 1.3143e-07 - accuracy: 1.0000 - val_loss: 0.0148 - val_accuracy: 0.9966\n",
      "Epoch 84/100\n",
      "74/74 [==============================] - 3s 36ms/step - loss: 1.2848e-07 - accuracy: 1.0000 - val_loss: 0.0148 - val_accuracy: 0.9966\n",
      "Epoch 85/100\n",
      "74/74 [==============================] - 3s 36ms/step - loss: 1.1950e-07 - accuracy: 1.0000 - val_loss: 0.0150 - val_accuracy: 0.9966\n",
      "Epoch 86/100\n",
      "74/74 [==============================] - 3s 36ms/step - loss: 1.1563e-07 - accuracy: 1.0000 - val_loss: 0.0149 - val_accuracy: 0.9966\n",
      "Epoch 87/100\n",
      "74/74 [==============================] - 3s 36ms/step - loss: 1.0810e-07 - accuracy: 1.0000 - val_loss: 0.0151 - val_accuracy: 0.9966\n",
      "Epoch 88/100\n",
      "74/74 [==============================] - 3s 36ms/step - loss: 1.0542e-07 - accuracy: 1.0000 - val_loss: 0.0154 - val_accuracy: 0.9966\n",
      "Epoch 89/100\n",
      "74/74 [==============================] - 3s 36ms/step - loss: 9.9531e-08 - accuracy: 1.0000 - val_loss: 0.0154 - val_accuracy: 0.9966\n",
      "Epoch 90/100\n",
      "74/74 [==============================] - 3s 36ms/step - loss: 9.5230e-08 - accuracy: 1.0000 - val_loss: 0.0154 - val_accuracy: 0.9966\n",
      "Epoch 91/100\n",
      "74/74 [==============================] - 3s 36ms/step - loss: 8.9326e-08 - accuracy: 1.0000 - val_loss: 0.0154 - val_accuracy: 0.9966\n",
      "Epoch 92/100\n",
      "74/74 [==============================] - 3s 36ms/step - loss: 8.5634e-08 - accuracy: 1.0000 - val_loss: 0.0155 - val_accuracy: 0.9966\n",
      "Epoch 93/100\n",
      "74/74 [==============================] - 3s 36ms/step - loss: 8.1642e-08 - accuracy: 1.0000 - val_loss: 0.0156 - val_accuracy: 0.9966\n",
      "Epoch 94/100\n",
      "74/74 [==============================] - 3s 36ms/step - loss: 7.9848e-08 - accuracy: 1.0000 - val_loss: 0.0158 - val_accuracy: 0.9966\n",
      "Epoch 95/100\n",
      "74/74 [==============================] - 3s 36ms/step - loss: 7.5023e-08 - accuracy: 1.0000 - val_loss: 0.0159 - val_accuracy: 0.9966\n",
      "Epoch 96/100\n",
      "74/74 [==============================] - 3s 36ms/step - loss: 7.2225e-08 - accuracy: 1.0000 - val_loss: 0.0160 - val_accuracy: 0.9966\n",
      "Epoch 97/100\n",
      "74/74 [==============================] - 3s 36ms/step - loss: 6.8833e-08 - accuracy: 1.0000 - val_loss: 0.0161 - val_accuracy: 0.9966\n",
      "Epoch 98/100\n",
      "74/74 [==============================] - 3s 36ms/step - loss: 6.5412e-08 - accuracy: 1.0000 - val_loss: 0.0162 - val_accuracy: 0.9966\n",
      "Epoch 99/100\n",
      "74/74 [==============================] - 3s 36ms/step - loss: 6.2090e-08 - accuracy: 1.0000 - val_loss: 0.0162 - val_accuracy: 0.9966\n",
      "Epoch 100/100\n",
      "74/74 [==============================] - 3s 36ms/step - loss: 6.0084e-08 - accuracy: 1.0000 - val_loss: 0.0163 - val_accuracy: 0.9966\n"
     ]
    }
   ],
   "source": [
    "Q_model, Q_history = create_binary_class_model('Q')"
   ]
  },
  {
   "cell_type": "code",
   "execution_count": 18,
   "id": "526c91b2",
   "metadata": {},
   "outputs": [
    {
     "data": {
      "text/plain": [
       "<matplotlib.legend.Legend at 0x7f761344c610>"
      ]
     },
     "execution_count": 18,
     "metadata": {},
     "output_type": "execute_result"
    },
    {
     "data": {
      "image/png": "[encoded data removed]",
      "text/plain": [
       "<Figure size 640x480 with 1 Axes>"
      ]
     },
     "metadata": {},
     "output_type": "display_data"
    }
   ],
   "source": [
    "plt.plot(Q_history.history['accuracy'], label='Train Accuracy')\n",
    "plt.plot(Q_history.history['val_accuracy'], label='Validation Accuracy')\n",
    "plt.xlabel('Epochs')\n",
    "plt.ylabel('Accuracy')\n",
    "plt.legend()"
   ]
  },
  {
   "cell_type": "code",
   "execution_count": 19,
   "id": "fe561744",
   "metadata": {},
   "outputs": [
    {
     "data": {
      "text/plain": [
       "Text(0, 0.5, 'Accuracy [%]')"
      ]
     },
     "execution_count": 19,
     "metadata": {},
     "output_type": "execute_result"
    },
    {
     "data": {
      "image/png": "[encoded data removed]",
      "text/plain": [
       "<Figure size 1600x600 with 2 Axes>"
      ]
     },
     "metadata": {},
     "output_type": "display_data"
    }
   ],
   "source": [
    "metrics = Q_history.history\n",
    "plt.figure(figsize=(16,6))\n",
    "plt.subplot(1,2,1)\n",
    "plt.plot(Q_history.epoch, metrics['loss'], metrics['val_loss'])\n",
    "plt.legend(['loss', 'val_loss'])\n",
    "plt.ylim([0, max(plt.ylim())])\n",
    "plt.xlabel('Epoch')\n",
    "plt.ylabel('Loss [CrossEntropy]')\n",
    "\n",
    "plt.subplot(1,2,2)\n",
    "plt.plot(Q_history.epoch, 100*np.array(metrics['accuracy']), 100*np.array(metrics['val_accuracy']))\n",
    "plt.legend(['accuracy', 'val_accuracy'])\n",
    "plt.ylim([0, 100])\n",
    "plt.xlabel('Epoch')\n",
    "plt.ylabel('Accuracy [%]')"
   ]
  },
  {
   "cell_type": "code",
   "execution_count": 20,
   "id": "a2f3973c",
   "metadata": {},
   "outputs": [
    {
     "name": "stdout",
     "output_type": "stream",
     "text": [
      "1/1 [==============================] - 0s 202ms/step\n",
      "The input file is 'data/train/R-192.wav' and this is not Q.\n",
      "The model thinks it has 0.00%  chacne of being Q.\n"
     ]
    }
   ],
   "source": [
    "import random\n",
    "\n",
    "def test_random_file():\n",
    "    key = random.choice(['Q', 'W', 'E', 'R'])\n",
    "    number = random.randint(0, 200)\n",
    "    filename = f\"{DATA_DIR}{key}-{number}.wav\"\n",
    "\n",
    "    try:\n",
    "        spectrogram = get_spectrogram(filename)\n",
    "    except FileNotFoundError:\n",
    "        print(f\"The file '{filename}' does not exist.\")\n",
    "        return\n",
    "\n",
    "    spectrogram = np.expand_dims(spectrogram, 0)\n",
    "    prediction = Q_model.predict(spectrogram)\n",
    "    is_q = prediction[0] > 0.5\n",
    "\n",
    "    print(f\"The input file is '{filename}' and this is {'Q' if is_q else 'not Q'}.\")\n",
    "    print(f\"The model thinks it has {prediction[0][0]*100:.2f}%  chacne of being Q.\")\n",
    "\n",
    "# Call the function to test a random file\n",
    "test_random_file()"
   ]
  },
  {
   "cell_type": "code",
   "execution_count": 21,
   "id": "7eba6a47",
   "metadata": {},
   "outputs": [
    {
     "name": "stdout",
     "output_type": "stream",
     "text": [
      "INFO:tensorflow:Assets written to: /home/hyochung/Keyboard_DL/assets\n"
     ]
    },
    {
     "name": "stderr",
     "output_type": "stream",
     "text": [
      "INFO:tensorflow:Assets written to: /home/hyochung/Keyboard_DL/assets\n"
     ]
    }
   ],
   "source": [
    "Q_model.save('/home/hyochung/Keyboard_DL') #save mdoel"
   ]
  },
  {
   "cell_type": "code",
   "execution_count": 22,
   "metadata": {},
   "outputs": [
    {
     "name": "stdout",
     "output_type": "stream",
     "text": [
      "train_mfccs: (1184, 241, 257)\n",
      "train_y: (1184,)\n",
      "test_mfccs: (296, 241, 257)\n",
      "test_y: (296,)\n",
      "train_spectograms shape: (1184, 241, 257, 1)\n",
      "test_spectograms shape: (296, 241, 257, 1)\n",
      "Model: \"model_1\"\n",
      "_________________________________________________________________\n",
      " Layer (type)                Output Shape              Param #   \n",
      "=================================================================\n",
      " input_2 (InputLayer)        [(None, 241, 257, 1)]     0         \n",
      "                                                                 \n",
      " conv2d_5 (Conv2D)           (None, 238, 254, 96)      1632      \n",
      "                                                                 \n",
      " max_pooling2d_5 (MaxPoolin  (None, 59, 63, 96)        0         \n",
      " g2D)                                                            \n",
      "                                                                 \n",
      " flatten_1 (Flatten)         (None, 356832)            0         \n",
      "                                                                 \n",
      " dense_3 (Dense)             (None, 64)                22837312  \n",
      "                                                                 \n",
      " dense_4 (Dense)             (None, 32)                2080      \n",
      "                                                                 \n",
      " dense_5 (Dense)             (None, 1)                 33        \n",
      "                                                                 \n",
      "=================================================================\n",
      "Total params: 22841057 (87.13 MB)\n",
      "Trainable params: 22841057 (87.13 MB)\n",
      "Non-trainable params: 0 (0.00 Byte)\n",
      "_________________________________________________________________\n",
      "Epoch 1/100\n",
      "74/74 [==============================] - 4s 39ms/step - loss: 0.1829 - accuracy: 0.9443 - val_loss: 0.0885 - val_accuracy: 0.9797\n",
      "Epoch 2/100\n",
      "74/74 [==============================] - 3s 36ms/step - loss: 0.0434 - accuracy: 0.9890 - val_loss: 0.0477 - val_accuracy: 0.9797\n",
      "Epoch 3/100\n",
      "74/74 [==============================] - 3s 36ms/step - loss: 0.0206 - accuracy: 0.9924 - val_loss: 0.0721 - val_accuracy: 0.9865\n",
      "Epoch 4/100\n",
      "74/74 [==============================] - 3s 36ms/step - loss: 0.0159 - accuracy: 0.9983 - val_loss: 0.0609 - val_accuracy: 0.9932\n",
      "Epoch 5/100\n",
      "74/74 [==============================] - 3s 36ms/step - loss: 0.0013 - accuracy: 1.0000 - val_loss: 0.0717 - val_accuracy: 0.9932\n",
      "Epoch 6/100\n",
      "74/74 [==============================] - 3s 36ms/step - loss: 4.7808e-04 - accuracy: 1.0000 - val_loss: 0.0884 - val_accuracy: 0.9899\n",
      "Epoch 7/100\n",
      "74/74 [==============================] - 3s 36ms/step - loss: 3.2111e-04 - accuracy: 1.0000 - val_loss: 0.0739 - val_accuracy: 0.9899\n",
      "Epoch 8/100\n",
      "74/74 [==============================] - 3s 36ms/step - loss: 2.1707e-04 - accuracy: 1.0000 - val_loss: 0.0783 - val_accuracy: 0.9899\n",
      "Epoch 9/100\n",
      "74/74 [==============================] - 3s 36ms/step - loss: 1.3550e-04 - accuracy: 1.0000 - val_loss: 0.0931 - val_accuracy: 0.9865\n",
      "Epoch 10/100\n",
      "74/74 [==============================] - 3s 36ms/step - loss: 1.1525e-04 - accuracy: 1.0000 - val_loss: 0.0879 - val_accuracy: 0.9865\n",
      "Epoch 11/100\n",
      "74/74 [==============================] - 3s 36ms/step - loss: 9.3779e-05 - accuracy: 1.0000 - val_loss: 0.0968 - val_accuracy: 0.9865\n",
      "Epoch 12/100\n",
      "74/74 [==============================] - 3s 36ms/step - loss: 7.6152e-05 - accuracy: 1.0000 - val_loss: 0.0958 - val_accuracy: 0.9865\n",
      "Epoch 13/100\n",
      "74/74 [==============================] - 3s 36ms/step - loss: 6.2567e-05 - accuracy: 1.0000 - val_loss: 0.0925 - val_accuracy: 0.9865\n",
      "Epoch 14/100\n",
      "74/74 [==============================] - 3s 36ms/step - loss: 5.4065e-05 - accuracy: 1.0000 - val_loss: 0.0977 - val_accuracy: 0.9865\n",
      "Epoch 15/100\n",
      "74/74 [==============================] - 3s 36ms/step - loss: 4.3653e-05 - accuracy: 1.0000 - val_loss: 0.0954 - val_accuracy: 0.9865\n",
      "Epoch 16/100\n",
      "74/74 [==============================] - 3s 36ms/step - loss: 3.6071e-05 - accuracy: 1.0000 - val_loss: 0.0982 - val_accuracy: 0.9865\n",
      "Epoch 17/100\n",
      "74/74 [==============================] - 3s 36ms/step - loss: 2.9980e-05 - accuracy: 1.0000 - val_loss: 0.0982 - val_accuracy: 0.9865\n",
      "Epoch 18/100\n",
      "74/74 [==============================] - 3s 36ms/step - loss: 2.6806e-05 - accuracy: 1.0000 - val_loss: 0.1016 - val_accuracy: 0.9865\n",
      "Epoch 19/100\n",
      "74/74 [==============================] - 3s 36ms/step - loss: 2.3372e-05 - accuracy: 1.0000 - val_loss: 0.0997 - val_accuracy: 0.9865\n",
      "Epoch 20/100\n",
      "74/74 [==============================] - 3s 36ms/step - loss: 2.3887e-05 - accuracy: 1.0000 - val_loss: 0.0992 - val_accuracy: 0.9865\n",
      "Epoch 21/100\n",
      "74/74 [==============================] - 3s 36ms/step - loss: 1.6836e-05 - accuracy: 1.0000 - val_loss: 0.1040 - val_accuracy: 0.9865\n",
      "Epoch 22/100\n",
      "74/74 [==============================] - 3s 36ms/step - loss: 1.6357e-05 - accuracy: 1.0000 - val_loss: 0.1004 - val_accuracy: 0.9865\n",
      "Epoch 23/100\n",
      "74/74 [==============================] - 3s 36ms/step - loss: 1.4319e-05 - accuracy: 1.0000 - val_loss: 0.1005 - val_accuracy: 0.9865\n",
      "Epoch 24/100\n",
      "74/74 [==============================] - 3s 36ms/step - loss: 1.2095e-05 - accuracy: 1.0000 - val_loss: 0.0964 - val_accuracy: 0.9899\n",
      "Epoch 25/100\n",
      "74/74 [==============================] - 3s 36ms/step - loss: 1.0039e-05 - accuracy: 1.0000 - val_loss: 0.0972 - val_accuracy: 0.9865\n",
      "Epoch 26/100\n",
      "74/74 [==============================] - 3s 36ms/step - loss: 8.5753e-06 - accuracy: 1.0000 - val_loss: 0.0952 - val_accuracy: 0.9865\n",
      "Epoch 27/100\n",
      "74/74 [==============================] - 3s 36ms/step - loss: 7.6985e-06 - accuracy: 1.0000 - val_loss: 0.0908 - val_accuracy: 0.9865\n",
      "Epoch 28/100\n",
      "74/74 [==============================] - 3s 36ms/step - loss: 6.4062e-06 - accuracy: 1.0000 - val_loss: 0.0839 - val_accuracy: 0.9899\n",
      "Epoch 29/100\n",
      "74/74 [==============================] - 3s 36ms/step - loss: 6.0042e-06 - accuracy: 1.0000 - val_loss: 0.0929 - val_accuracy: 0.9865\n",
      "Epoch 30/100\n",
      "74/74 [==============================] - 3s 36ms/step - loss: 5.0344e-06 - accuracy: 1.0000 - val_loss: 0.0806 - val_accuracy: 0.9899\n",
      "Epoch 31/100\n",
      "74/74 [==============================] - 3s 36ms/step - loss: 4.6447e-06 - accuracy: 1.0000 - val_loss: 0.0817 - val_accuracy: 0.9865\n",
      "Epoch 32/100\n",
      "74/74 [==============================] - 3s 36ms/step - loss: 3.6351e-06 - accuracy: 1.0000 - val_loss: 0.0790 - val_accuracy: 0.9865\n",
      "Epoch 33/100\n",
      "74/74 [==============================] - 3s 36ms/step - loss: 3.2804e-06 - accuracy: 1.0000 - val_loss: 0.0777 - val_accuracy: 0.9899\n",
      "Epoch 34/100\n",
      "74/74 [==============================] - 3s 36ms/step - loss: 3.1472e-06 - accuracy: 1.0000 - val_loss: 0.0710 - val_accuracy: 0.9865\n",
      "Epoch 35/100\n",
      "74/74 [==============================] - 3s 36ms/step - loss: 2.4625e-06 - accuracy: 1.0000 - val_loss: 0.0705 - val_accuracy: 0.9899\n",
      "Epoch 36/100\n",
      "74/74 [==============================] - 3s 36ms/step - loss: 2.0129e-06 - accuracy: 1.0000 - val_loss: 0.0588 - val_accuracy: 0.9899\n",
      "Epoch 37/100\n",
      "74/74 [==============================] - 3s 36ms/step - loss: 2.0350e-06 - accuracy: 1.0000 - val_loss: 0.0595 - val_accuracy: 0.9899\n",
      "Epoch 38/100\n",
      "74/74 [==============================] - 3s 36ms/step - loss: 1.6220e-06 - accuracy: 1.0000 - val_loss: 0.0563 - val_accuracy: 0.9865\n",
      "Epoch 39/100\n",
      "74/74 [==============================] - 3s 36ms/step - loss: 1.5123e-06 - accuracy: 1.0000 - val_loss: 0.0488 - val_accuracy: 0.9899\n",
      "Epoch 40/100\n",
      "74/74 [==============================] - 3s 36ms/step - loss: 1.3542e-06 - accuracy: 1.0000 - val_loss: 0.0485 - val_accuracy: 0.9899\n",
      "Epoch 41/100\n",
      "74/74 [==============================] - 3s 36ms/step - loss: 1.2139e-06 - accuracy: 1.0000 - val_loss: 0.0445 - val_accuracy: 0.9865\n",
      "Epoch 42/100\n",
      "74/74 [==============================] - 3s 36ms/step - loss: 1.0642e-06 - accuracy: 1.0000 - val_loss: 0.0471 - val_accuracy: 0.9899\n",
      "Epoch 43/100\n",
      "74/74 [==============================] - 3s 36ms/step - loss: 9.9373e-07 - accuracy: 1.0000 - val_loss: 0.0327 - val_accuracy: 0.9932\n",
      "Epoch 44/100\n",
      "74/74 [==============================] - 3s 36ms/step - loss: 8.8742e-07 - accuracy: 1.0000 - val_loss: 0.0296 - val_accuracy: 0.9932\n",
      "Epoch 45/100\n",
      "74/74 [==============================] - 3s 36ms/step - loss: 7.3207e-07 - accuracy: 1.0000 - val_loss: 0.0242 - val_accuracy: 0.9899\n",
      "Epoch 46/100\n",
      "74/74 [==============================] - 3s 36ms/step - loss: 7.3298e-07 - accuracy: 1.0000 - val_loss: 0.0247 - val_accuracy: 0.9865\n",
      "Epoch 47/100\n",
      "74/74 [==============================] - 3s 36ms/step - loss: 6.1584e-07 - accuracy: 1.0000 - val_loss: 0.0217 - val_accuracy: 0.9899\n",
      "Epoch 48/100\n",
      "74/74 [==============================] - 3s 36ms/step - loss: 5.5747e-07 - accuracy: 1.0000 - val_loss: 0.0192 - val_accuracy: 0.9966\n",
      "Epoch 49/100\n",
      "74/74 [==============================] - 3s 36ms/step - loss: 5.0734e-07 - accuracy: 1.0000 - val_loss: 0.0181 - val_accuracy: 0.9966\n",
      "Epoch 50/100\n",
      "74/74 [==============================] - 3s 36ms/step - loss: 5.0762e-07 - accuracy: 1.0000 - val_loss: 0.0168 - val_accuracy: 0.9966\n",
      "Epoch 51/100\n",
      "74/74 [==============================] - 3s 36ms/step - loss: 4.2952e-07 - accuracy: 1.0000 - val_loss: 0.0170 - val_accuracy: 0.9932\n",
      "Epoch 52/100\n",
      "74/74 [==============================] - 3s 36ms/step - loss: 4.0370e-07 - accuracy: 1.0000 - val_loss: 0.0170 - val_accuracy: 0.9932\n",
      "Epoch 53/100\n",
      "74/74 [==============================] - 3s 36ms/step - loss: 3.5487e-07 - accuracy: 1.0000 - val_loss: 0.0163 - val_accuracy: 0.9966\n",
      "Epoch 54/100\n",
      "74/74 [==============================] - 3s 36ms/step - loss: 3.3323e-07 - accuracy: 1.0000 - val_loss: 0.0156 - val_accuracy: 0.9966\n",
      "Epoch 55/100\n",
      "74/74 [==============================] - 3s 36ms/step - loss: 3.2690e-07 - accuracy: 1.0000 - val_loss: 0.0150 - val_accuracy: 0.9966\n",
      "Epoch 56/100\n",
      "74/74 [==============================] - 3s 36ms/step - loss: 2.9778e-07 - accuracy: 1.0000 - val_loss: 0.0151 - val_accuracy: 0.9966\n",
      "Epoch 57/100\n",
      "74/74 [==============================] - 3s 36ms/step - loss: 2.8008e-07 - accuracy: 1.0000 - val_loss: 0.0145 - val_accuracy: 0.9966\n",
      "Epoch 58/100\n",
      "74/74 [==============================] - 3s 36ms/step - loss: 2.4641e-07 - accuracy: 1.0000 - val_loss: 0.0145 - val_accuracy: 0.9966\n",
      "Epoch 59/100\n",
      "74/74 [==============================] - 3s 36ms/step - loss: 2.3642e-07 - accuracy: 1.0000 - val_loss: 0.0145 - val_accuracy: 0.9966\n",
      "Epoch 60/100\n",
      "74/74 [==============================] - 3s 36ms/step - loss: 2.1761e-07 - accuracy: 1.0000 - val_loss: 0.0145 - val_accuracy: 0.9966\n",
      "Epoch 61/100\n",
      "74/74 [==============================] - 3s 36ms/step - loss: 2.1090e-07 - accuracy: 1.0000 - val_loss: 0.0153 - val_accuracy: 0.9932\n",
      "Epoch 62/100\n",
      "74/74 [==============================] - 3s 36ms/step - loss: 2.3179e-07 - accuracy: 1.0000 - val_loss: 0.0133 - val_accuracy: 0.9966\n",
      "Epoch 63/100\n",
      "74/74 [==============================] - 3s 36ms/step - loss: 1.7906e-07 - accuracy: 1.0000 - val_loss: 0.0136 - val_accuracy: 0.9966\n",
      "Epoch 64/100\n",
      "74/74 [==============================] - 3s 36ms/step - loss: 1.6526e-07 - accuracy: 1.0000 - val_loss: 0.0135 - val_accuracy: 0.9966\n",
      "Epoch 65/100\n",
      "74/74 [==============================] - 3s 36ms/step - loss: 1.5900e-07 - accuracy: 1.0000 - val_loss: 0.0133 - val_accuracy: 0.9966\n",
      "Epoch 66/100\n",
      "74/74 [==============================] - 3s 36ms/step - loss: 1.5077e-07 - accuracy: 1.0000 - val_loss: 0.0135 - val_accuracy: 0.9966\n",
      "Epoch 67/100\n",
      "74/74 [==============================] - 3s 36ms/step - loss: 1.4167e-07 - accuracy: 1.0000 - val_loss: 0.0134 - val_accuracy: 0.9966\n",
      "Epoch 68/100\n",
      "74/74 [==============================] - 3s 36ms/step - loss: 1.2754e-07 - accuracy: 1.0000 - val_loss: 0.0139 - val_accuracy: 0.9932\n",
      "Epoch 69/100\n",
      "74/74 [==============================] - 3s 36ms/step - loss: 1.2696e-07 - accuracy: 1.0000 - val_loss: 0.0132 - val_accuracy: 0.9932\n",
      "Epoch 70/100\n",
      "74/74 [==============================] - 3s 36ms/step - loss: 1.1462e-07 - accuracy: 1.0000 - val_loss: 0.0135 - val_accuracy: 0.9932\n",
      "Epoch 71/100\n",
      "74/74 [==============================] - 3s 36ms/step - loss: 1.1508e-07 - accuracy: 1.0000 - val_loss: 0.0129 - val_accuracy: 0.9966\n",
      "Epoch 72/100\n",
      "74/74 [==============================] - 3s 36ms/step - loss: 1.0419e-07 - accuracy: 1.0000 - val_loss: 0.0123 - val_accuracy: 0.9966\n",
      "Epoch 73/100\n",
      "74/74 [==============================] - 3s 36ms/step - loss: 1.0240e-07 - accuracy: 1.0000 - val_loss: 0.0120 - val_accuracy: 0.9966\n",
      "Epoch 74/100\n",
      "74/74 [==============================] - 3s 36ms/step - loss: 9.2706e-08 - accuracy: 1.0000 - val_loss: 0.0126 - val_accuracy: 0.9932\n",
      "Epoch 75/100\n",
      "74/74 [==============================] - 3s 36ms/step - loss: 8.7386e-08 - accuracy: 1.0000 - val_loss: 0.0118 - val_accuracy: 0.9966\n",
      "Epoch 76/100\n",
      "74/74 [==============================] - 3s 36ms/step - loss: 8.2242e-08 - accuracy: 1.0000 - val_loss: 0.0115 - val_accuracy: 0.9966\n",
      "Epoch 77/100\n",
      "74/74 [==============================] - 3s 36ms/step - loss: 8.0680e-08 - accuracy: 1.0000 - val_loss: 0.0118 - val_accuracy: 0.9966\n",
      "Epoch 78/100\n",
      "74/74 [==============================] - 3s 36ms/step - loss: 7.8472e-08 - accuracy: 1.0000 - val_loss: 0.0113 - val_accuracy: 0.9966\n",
      "Epoch 79/100\n",
      "74/74 [==============================] - 3s 36ms/step - loss: 6.9990e-08 - accuracy: 1.0000 - val_loss: 0.0113 - val_accuracy: 0.9966\n",
      "Epoch 80/100\n",
      "74/74 [==============================] - 3s 36ms/step - loss: 6.6990e-08 - accuracy: 1.0000 - val_loss: 0.0113 - val_accuracy: 0.9966\n",
      "Epoch 81/100\n",
      "74/74 [==============================] - 3s 36ms/step - loss: 6.3763e-08 - accuracy: 1.0000 - val_loss: 0.0112 - val_accuracy: 0.9966\n",
      "Epoch 82/100\n",
      "74/74 [==============================] - 3s 36ms/step - loss: 6.0802e-08 - accuracy: 1.0000 - val_loss: 0.0111 - val_accuracy: 0.9966\n",
      "Epoch 83/100\n",
      "74/74 [==============================] - 3s 36ms/step - loss: 6.0578e-08 - accuracy: 1.0000 - val_loss: 0.0118 - val_accuracy: 0.9932\n",
      "Epoch 84/100\n",
      "74/74 [==============================] - 3s 36ms/step - loss: 5.6386e-08 - accuracy: 1.0000 - val_loss: 0.0106 - val_accuracy: 0.9966\n",
      "Epoch 85/100\n",
      "74/74 [==============================] - 3s 36ms/step - loss: 5.3467e-08 - accuracy: 1.0000 - val_loss: 0.0105 - val_accuracy: 0.9966\n",
      "Epoch 86/100\n",
      "74/74 [==============================] - 3s 36ms/step - loss: 5.1386e-08 - accuracy: 1.0000 - val_loss: 0.0106 - val_accuracy: 0.9966\n",
      "Epoch 87/100\n",
      "74/74 [==============================] - 3s 36ms/step - loss: 4.8097e-08 - accuracy: 1.0000 - val_loss: 0.0105 - val_accuracy: 0.9966\n",
      "Epoch 88/100\n",
      "74/74 [==============================] - 3s 36ms/step - loss: 4.5828e-08 - accuracy: 1.0000 - val_loss: 0.0107 - val_accuracy: 0.9966\n",
      "Epoch 89/100\n",
      "74/74 [==============================] - 3s 36ms/step - loss: 4.4813e-08 - accuracy: 1.0000 - val_loss: 0.0105 - val_accuracy: 0.9966\n",
      "Epoch 90/100\n",
      "74/74 [==============================] - 3s 36ms/step - loss: 4.2314e-08 - accuracy: 1.0000 - val_loss: 0.0104 - val_accuracy: 0.9966\n",
      "Epoch 91/100\n",
      "74/74 [==============================] - 3s 36ms/step - loss: 4.0117e-08 - accuracy: 1.0000 - val_loss: 0.0107 - val_accuracy: 0.9966\n",
      "Epoch 92/100\n",
      "74/74 [==============================] - 3s 36ms/step - loss: 3.9026e-08 - accuracy: 1.0000 - val_loss: 0.0102 - val_accuracy: 0.9966\n",
      "Epoch 93/100\n",
      "74/74 [==============================] - 3s 36ms/step - loss: 3.7399e-08 - accuracy: 1.0000 - val_loss: 0.0106 - val_accuracy: 0.9966\n",
      "Epoch 94/100\n",
      "74/74 [==============================] - 3s 36ms/step - loss: 3.5165e-08 - accuracy: 1.0000 - val_loss: 0.0102 - val_accuracy: 0.9966\n",
      "Epoch 95/100\n",
      "74/74 [==============================] - 3s 36ms/step - loss: 3.7071e-08 - accuracy: 1.0000 - val_loss: 0.0102 - val_accuracy: 0.9966\n",
      "Epoch 96/100\n",
      "74/74 [==============================] - 3s 36ms/step - loss: 3.2692e-08 - accuracy: 1.0000 - val_loss: 0.0104 - val_accuracy: 0.9966\n",
      "Epoch 97/100\n",
      "74/74 [==============================] - 3s 36ms/step - loss: 3.0833e-08 - accuracy: 1.0000 - val_loss: 0.0101 - val_accuracy: 0.9966\n",
      "Epoch 98/100\n",
      "74/74 [==============================] - 3s 36ms/step - loss: 3.0410e-08 - accuracy: 1.0000 - val_loss: 0.0102 - val_accuracy: 0.9966\n",
      "Epoch 99/100\n",
      "74/74 [==============================] - 3s 36ms/step - loss: 2.8646e-08 - accuracy: 1.0000 - val_loss: 0.0099 - val_accuracy: 0.9966\n",
      "Epoch 100/100\n",
      "74/74 [==============================] - 3s 36ms/step - loss: 2.7255e-08 - accuracy: 1.0000 - val_loss: 0.0098 - val_accuracy: 0.9966\n"
     ]
    }
   ],
   "source": [
    "R_model, R_history = create_binary_class_model('R')"
   ]
  },
  {
   "cell_type": "code",
   "execution_count": 84,
   "metadata": {},
   "outputs": [
    {
     "name": "stdout",
     "output_type": "stream",
     "text": [
      "1/1 [==============================] - 0s 17ms/step\n",
      "The input file is 'data/train/E-144.wav' and this is not R.\n",
      "The model thinks it has 0.00%  chacne of being R.\n"
     ]
    }
   ],
   "source": [
    "def test_random_file():\n",
    "    key = random.choice(['Q', 'W', 'E', 'R'])\n",
    "    number = random.randint(0, 200)\n",
    "    filename = f\"{DATA_DIR}{key}-{number}.wav\"\n",
    "\n",
    "    try:\n",
    "        spectrogram = get_spectrogram(filename)\n",
    "    except FileNotFoundError:\n",
    "        print(f\"The file '{filename}' does not exist.\")\n",
    "        return\n",
    "\n",
    "    spectrogram = np.expand_dims(spectrogram, 0)\n",
    "    prediction = R_model.predict(spectrogram)\n",
    "    is_q = prediction[0] > 0.5\n",
    "\n",
    "    print(f\"The input file is '{filename}' and this is {'R' if is_q else 'not R'}.\")\n",
    "    print(f\"The model thinks it has {prediction[0][0]*100:.2f}%  chacne of being R.\")\n",
    "# Call the function to test a random file\n",
    "test_random_file()"
   ]
  },
  {
   "cell_type": "markdown",
   "metadata": {},
   "source": [
    "Long recording predictions"
   ]
  },
  {
   "cell_type": "code",
   "execution_count": 85,
   "metadata": {},
   "outputs": [],
   "source": [
    "long_record_QQ = load_wav_16k_mono(os.path.join('data', 'test', 'Qqwweerr_2.wav'))\n",
    "audio_slices = tf.keras.utils.timeseries_dataset_from_array(long_record_QQ, long_record_QQ, sequence_length=8000, sequence_stride=8000, batch_size=1)"
   ]
  },
  {
   "cell_type": "code",
   "execution_count": 86,
   "metadata": {},
   "outputs": [],
   "source": [
    "samples, index = audio_slices.as_numpy_iterator().next()"
   ]
  },
  {
   "cell_type": "code",
   "execution_count": 87,
   "metadata": {},
   "outputs": [],
   "source": [
    "def preprocess_spectogram(samples, index):\n",
    "    samples = samples[0]\n",
    "    zero_padding = tf.zeros([8000] - tf.shape(samples), dtype=tf.float32)\n",
    "    wav = tf.concat([zero_padding, samples],0)\n",
    "    spectrogram = tf.signal.stft(wav, frame_length=320, frame_step=32)\n",
    "    spectrogram = tf.abs(spectrogram)\n",
    "    spectrogram = tf.expand_dims(spectrogram, axis = 2)\n",
    "    return spectrogram"
   ]
  },
  {
   "cell_type": "code",
   "execution_count": 88,
   "metadata": {},
   "outputs": [],
   "source": [
    "audio_slices = tf.keras.utils.timeseries_dataset_from_array(long_record_QQ, long_record_QQ, sequence_length=8000, sequence_stride=8000, batch_size=1)\n",
    "audio_slices = audio_slices.map(preprocess_spectogram)  \n",
    "audio_slices = audio_slices.batch(64)"
   ]
  },
  {
   "cell_type": "code",
   "execution_count": 90,
   "metadata": {},
   "outputs": [
    {
     "name": "stdout",
     "output_type": "stream",
     "text": [
      "1/1 [==============================] - 0s 134ms/step\n"
     ]
    }
   ],
   "source": [
    "yhat = Q_model.predict(audio_slices)\n",
    "yhat = [1 if prediction > 0.70 else 0 for prediction in yhat]"
   ]
  },
  {
   "cell_type": "code",
   "execution_count": 79,
   "metadata": {},
   "outputs": [
    {
     "data": {
      "text/plain": [
       "[0,\n",
       " 0,\n",
       " 0,\n",
       " 0,\n",
       " 0,\n",
       " 0,\n",
       " 0,\n",
       " 0,\n",
       " 0,\n",
       " 0,\n",
       " 0,\n",
       " 1,\n",
       " 0,\n",
       " 0,\n",
       " 1,\n",
       " 1,\n",
       " 0,\n",
       " 0,\n",
       " 0,\n",
       " 1,\n",
       " 1,\n",
       " 1,\n",
       " 1,\n",
       " 1,\n",
       " 1,\n",
       " 1,\n",
       " 1,\n",
       " 0,\n",
       " 1,\n",
       " 0,\n",
       " 0,\n",
       " 0,\n",
       " 0,\n",
       " 0,\n",
       " 0,\n",
       " 0,\n",
       " 1,\n",
       " 1,\n",
       " 0,\n",
       " 1,\n",
       " 0,\n",
       " 0,\n",
       " 1,\n",
       " 0,\n",
       " 0]"
      ]
     },
     "execution_count": 79,
     "metadata": {},
     "output_type": "execute_result"
    }
   ],
   "source": [
    "yhat"
   ]
  },
  {
   "cell_type": "code",
   "execution_count": 77,
   "metadata": {},
   "outputs": [
    {
     "name": "stderr",
     "output_type": "stream",
     "text": [
      "2023-11-27 01:25:25.601547: W tensorflow/tsl/framework/bfc_allocator.cc:296] Allocator (GPU_0_bfc) ran out of memory trying to allocate 1012.22MiB with freed_by_count=0. The caller indicates that this is not a failure, but this may mean that there could be performance gains if more memory were available.\n"
     ]
    },
    {
     "name": "stdout",
     "output_type": "stream",
     "text": [
      "1/1 [==============================] - 1s 543ms/step\n"
     ]
    },
    {
     "data": {
      "text/plain": [
       "[0,\n",
       " 0,\n",
       " 0,\n",
       " 0,\n",
       " 0,\n",
       " 0,\n",
       " 0,\n",
       " 0,\n",
       " 0,\n",
       " 0,\n",
       " 0,\n",
       " 1,\n",
       " 0,\n",
       " 0,\n",
       " 1,\n",
       " 1,\n",
       " 0,\n",
       " 0,\n",
       " 0,\n",
       " 1,\n",
       " 1,\n",
       " 1,\n",
       " 1,\n",
       " 1,\n",
       " 1,\n",
       " 1,\n",
       " 1,\n",
       " 0,\n",
       " 1,\n",
       " 0,\n",
       " 0,\n",
       " 0,\n",
       " 0,\n",
       " 0,\n",
       " 0,\n",
       " 0,\n",
       " 1,\n",
       " 1,\n",
       " 0,\n",
       " 1,\n",
       " 0,\n",
       " 0,\n",
       " 1,\n",
       " 0,\n",
       " 1]"
      ]
     },
     "execution_count": 77,
     "metadata": {},
     "output_type": "execute_result"
    }
   ],
   "source": [
    "long_record_QW = load_wav_16k_mono(os.path.join('data', 'test', 'QWERQWER.wav'))\n",
    "audio_slices = tf.keras.utils.timeseries_dataset_from_array(long_record_QW, long_record_QW, sequence_length=8000, sequence_stride=8000, batch_size=1)\n",
    "samples, index = audio_slices.as_numpy_iterator().next()\n",
    "def preprocess_spectogram(samples, index):\n",
    "    samples = samples[0]\n",
    "    zero_padding = tf.zeros([8000] - tf.shape(samples), dtype=tf.float32)\n",
    "    wav = tf.concat([zero_padding, samples],0)\n",
    "    spectrogram = tf.signal.stft(wav, frame_length=320, frame_step=32)\n",
    "    spectrogram = tf.abs(spectrogram)\n",
    "    spectrogram = tf.expand_dims(spectrogram, axis = 2)\n",
    "    return spectrogram\n",
    "audio_slices = tf.keras.utils.timeseries_dataset_from_array(long_record_QW, long_record_QW, sequence_length=8000, sequence_stride=8000, batch_size=1)\n",
    "audio_slices = audio_slices.map(preprocess_spectogram)  \n",
    "audio_slices = audio_slices.batch(64)\n",
    "yhat = Q_model.predict(audio_slices)\n",
    "yhat = [1 if prediction > 0.90 else 0 for prediction in yhat]\n",
    "yhat"
   ]
  },
  {
   "cell_type": "code",
   "execution_count": 82,
   "metadata": {},
   "outputs": [
    {
     "name": "stdout",
     "output_type": "stream",
     "text": [
      "1/1 [==============================] - 0s 140ms/step\n"
     ]
    },
    {
     "data": {
      "text/plain": [
       "[0,\n",
       " 0,\n",
       " 0,\n",
       " 0,\n",
       " 0,\n",
       " 1,\n",
       " 1,\n",
       " 1,\n",
       " 0,\n",
       " 1,\n",
       " 1,\n",
       " 0,\n",
       " 0,\n",
       " 0,\n",
       " 0,\n",
       " 1,\n",
       " 0,\n",
       " 1,\n",
       " 1,\n",
       " 0,\n",
       " 0,\n",
       " 0,\n",
       " 0,\n",
       " 0,\n",
       " 0,\n",
       " 0,\n",
       " 0,\n",
       " 0,\n",
       " 0,\n",
       " 0,\n",
       " 0,\n",
       " 0,\n",
       " 0,\n",
       " 1,\n",
       " 1,\n",
       " 0,\n",
       " 0,\n",
       " 0,\n",
       " 0,\n",
       " 0,\n",
       " 0,\n",
       " 0,\n",
       " 1,\n",
       " 1,\n",
       " 1]"
      ]
     },
     "execution_count": 82,
     "metadata": {},
     "output_type": "execute_result"
    }
   ],
   "source": [
    "long_record_QW = load_wav_16k_mono(os.path.join('data', 'test', 'QWERQWER.wav'))\n",
    "audio_slices = tf.keras.utils.timeseries_dataset_from_array(long_record_QW, long_record_QW, sequence_length=8000, sequence_stride=8000, batch_size=1)\n",
    "samples, index = audio_slices.as_numpy_iterator().next()\n",
    "def preprocess_spectogram(samples, index):\n",
    "    samples = samples[0]\n",
    "    zero_padding = tf.zeros([8000] - tf.shape(samples), dtype=tf.float32)\n",
    "    wav = tf.concat([zero_padding, samples],0)\n",
    "    spectrogram = tf.signal.stft(wav, frame_length=320, frame_step=32)\n",
    "    spectrogram = tf.abs(spectrogram)\n",
    "    spectrogram = tf.expand_dims(spectrogram, axis = 2)\n",
    "    return spectrogram\n",
    "audio_slices = tf.keras.utils.timeseries_dataset_from_array(long_record_QW, long_record_QW, sequence_length=8000, sequence_stride=8000, batch_size=1)\n",
    "audio_slices = audio_slices.map(preprocess_spectogram)  \n",
    "audio_slices = audio_slices.batch(64)\n",
    "yhat = R_model.predict(audio_slices)\n",
    "yhat = [1 if prediction > 0.90 else 0 for prediction in yhat]\n",
    "yhat"
   ]
  },
  {
   "cell_type": "code",
   "execution_count": null,
   "metadata": {},
   "outputs": [],
   "source": []
  }
 ],
 "metadata": {
  "kernelspec": {
   "display_name": "base",
   "language": "python",
   "name": "python3"
  },
  "language_info": {
   "codemirror_mode": {
    "name": "ipython",
    "version": 3
   },
   "file_extension": ".py",
   "mimetype": "text/x-python",
   "name": "python",
   "nbconvert_exporter": "python",
   "pygments_lexer": "ipython3",
   "version": "3.9.17"
  }
 },
 "nbformat": 4,
 "nbformat_minor": 5
}

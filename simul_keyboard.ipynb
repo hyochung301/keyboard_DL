{
 "cells": [
  {
   "cell_type": "markdown",
   "id": "d4ab941c-53f8-467b-8ad4-0fe44d10c769",
   "metadata": {},
   "source": [
    "1. Import and Install Dependencies"
   ]
  },
  {
   "cell_type": "markdown",
   "id": "5e2a83a3-306f-4ba4-b59c-3cd7ef1709e7",
   "metadata": {},
   "source": [
    "1.1 Install Dependencies"
   ]
  },
  {
   "cell_type": "code",
   "execution_count": 4,
   "id": "974c37cf-07f2-4053-b056-79b157b4b88d",
   "metadata": {
    "scrolled": true
   },
   "outputs": [
    {
     "name": "stdout",
     "output_type": "stream",
     "text": [
      "Requirement already satisfied: tensorflow in /home/hyochung/miniconda3/envs/tf/lib/python3.9/site-packages (2.13.0)\n",
      "Requirement already satisfied: matplotlib in /home/hyochung/miniconda3/envs/tf/lib/python3.9/site-packages (3.7.2)\n",
      "Requirement already satisfied: tensorflow-io in /home/hyochung/miniconda3/envs/tf/lib/python3.9/site-packages (0.33.0)\n",
      "Requirement already satisfied: absl-py>=1.0.0 in /home/hyochung/miniconda3/envs/tf/lib/python3.9/site-packages (from tensorflow) (1.4.0)\n",
      "Requirement already satisfied: astunparse>=1.6.0 in /home/hyochung/miniconda3/envs/tf/lib/python3.9/site-packages (from tensorflow) (1.6.3)\n",
      "Requirement already satisfied: flatbuffers>=23.1.21 in /home/hyochung/miniconda3/envs/tf/lib/python3.9/site-packages (from tensorflow) (23.5.26)\n",
      "Requirement already satisfied: gast<=0.4.0,>=0.2.1 in /home/hyochung/miniconda3/envs/tf/lib/python3.9/site-packages (from tensorflow) (0.4.0)\n",
      "Requirement already satisfied: google-pasta>=0.1.1 in /home/hyochung/miniconda3/envs/tf/lib/python3.9/site-packages (from tensorflow) (0.2.0)\n",
      "Requirement already satisfied: grpcio<2.0,>=1.24.3 in /home/hyochung/miniconda3/envs/tf/lib/python3.9/site-packages (from tensorflow) (1.57.0)\n",
      "Requirement already satisfied: h5py>=2.9.0 in /home/hyochung/miniconda3/envs/tf/lib/python3.9/site-packages (from tensorflow) (3.9.0)\n",
      "Requirement already satisfied: keras<2.14,>=2.13.1 in /home/hyochung/miniconda3/envs/tf/lib/python3.9/site-packages (from tensorflow) (2.13.1)\n",
      "Requirement already satisfied: libclang>=13.0.0 in /home/hyochung/miniconda3/envs/tf/lib/python3.9/site-packages (from tensorflow) (16.0.6)\n",
      "Requirement already satisfied: numpy<=1.24.3,>=1.22 in /home/hyochung/miniconda3/envs/tf/lib/python3.9/site-packages (from tensorflow) (1.24.3)\n",
      "Requirement already satisfied: opt-einsum>=2.3.2 in /home/hyochung/miniconda3/envs/tf/lib/python3.9/site-packages (from tensorflow) (3.3.0)\n",
      "Requirement already satisfied: packaging in /home/hyochung/miniconda3/envs/tf/lib/python3.9/site-packages (from tensorflow) (23.1)\n",
      "Requirement already satisfied: protobuf!=4.21.0,!=4.21.1,!=4.21.2,!=4.21.3,!=4.21.4,!=4.21.5,<5.0.0dev,>=3.20.3 in /home/hyochung/miniconda3/envs/tf/lib/python3.9/site-packages (from tensorflow) (4.24.2)\n",
      "Requirement already satisfied: setuptools in /home/hyochung/miniconda3/envs/tf/lib/python3.9/site-packages (from tensorflow) (68.0.0)\n",
      "Requirement already satisfied: six>=1.12.0 in /home/hyochung/miniconda3/envs/tf/lib/python3.9/site-packages (from tensorflow) (1.16.0)\n",
      "Requirement already satisfied: tensorboard<2.14,>=2.13 in /home/hyochung/miniconda3/envs/tf/lib/python3.9/site-packages (from tensorflow) (2.13.0)\n",
      "Requirement already satisfied: tensorflow-estimator<2.14,>=2.13.0 in /home/hyochung/miniconda3/envs/tf/lib/python3.9/site-packages (from tensorflow) (2.13.0)\n",
      "Requirement already satisfied: termcolor>=1.1.0 in /home/hyochung/miniconda3/envs/tf/lib/python3.9/site-packages (from tensorflow) (2.3.0)\n",
      "Requirement already satisfied: typing-extensions<4.6.0,>=3.6.6 in /home/hyochung/miniconda3/envs/tf/lib/python3.9/site-packages (from tensorflow) (4.5.0)\n",
      "Requirement already satisfied: wrapt>=1.11.0 in /home/hyochung/miniconda3/envs/tf/lib/python3.9/site-packages (from tensorflow) (1.15.0)\n",
      "Requirement already satisfied: tensorflow-io-gcs-filesystem>=0.23.1 in /home/hyochung/miniconda3/envs/tf/lib/python3.9/site-packages (from tensorflow) (0.33.0)\n",
      "Requirement already satisfied: contourpy>=1.0.1 in /home/hyochung/miniconda3/envs/tf/lib/python3.9/site-packages (from matplotlib) (1.1.0)\n",
      "Requirement already satisfied: cycler>=0.10 in /home/hyochung/miniconda3/envs/tf/lib/python3.9/site-packages (from matplotlib) (0.11.0)\n",
      "Requirement already satisfied: fonttools>=4.22.0 in /home/hyochung/miniconda3/envs/tf/lib/python3.9/site-packages (from matplotlib) (4.42.1)\n",
      "Requirement already satisfied: kiwisolver>=1.0.1 in /home/hyochung/miniconda3/envs/tf/lib/python3.9/site-packages (from matplotlib) (1.4.5)\n",
      "Requirement already satisfied: pillow>=6.2.0 in /home/hyochung/miniconda3/envs/tf/lib/python3.9/site-packages (from matplotlib) (10.0.0)\n",
      "Requirement already satisfied: pyparsing<3.1,>=2.3.1 in /home/hyochung/miniconda3/envs/tf/lib/python3.9/site-packages (from matplotlib) (3.0.9)\n",
      "Requirement already satisfied: python-dateutil>=2.7 in /home/hyochung/miniconda3/envs/tf/lib/python3.9/site-packages (from matplotlib) (2.8.2)\n",
      "Requirement already satisfied: importlib-resources>=3.2.0 in /home/hyochung/miniconda3/envs/tf/lib/python3.9/site-packages (from matplotlib) (6.0.1)\n",
      "Requirement already satisfied: wheel<1.0,>=0.23.0 in /home/hyochung/miniconda3/envs/tf/lib/python3.9/site-packages (from astunparse>=1.6.0->tensorflow) (0.38.4)\n",
      "Requirement already satisfied: zipp>=3.1.0 in /home/hyochung/miniconda3/envs/tf/lib/python3.9/site-packages (from importlib-resources>=3.2.0->matplotlib) (3.16.2)\n",
      "Requirement already satisfied: google-auth<3,>=1.6.3 in /home/hyochung/miniconda3/envs/tf/lib/python3.9/site-packages (from tensorboard<2.14,>=2.13->tensorflow) (2.22.0)\n",
      "Requirement already satisfied: google-auth-oauthlib<1.1,>=0.5 in /home/hyochung/miniconda3/envs/tf/lib/python3.9/site-packages (from tensorboard<2.14,>=2.13->tensorflow) (1.0.0)\n",
      "Requirement already satisfied: markdown>=2.6.8 in /home/hyochung/miniconda3/envs/tf/lib/python3.9/site-packages (from tensorboard<2.14,>=2.13->tensorflow) (3.4.4)\n",
      "Requirement already satisfied: requests<3,>=2.21.0 in /home/hyochung/miniconda3/envs/tf/lib/python3.9/site-packages (from tensorboard<2.14,>=2.13->tensorflow) (2.31.0)\n",
      "Requirement already satisfied: tensorboard-data-server<0.8.0,>=0.7.0 in /home/hyochung/miniconda3/envs/tf/lib/python3.9/site-packages (from tensorboard<2.14,>=2.13->tensorflow) (0.7.1)\n",
      "Requirement already satisfied: werkzeug>=1.0.1 in /home/hyochung/miniconda3/envs/tf/lib/python3.9/site-packages (from tensorboard<2.14,>=2.13->tensorflow) (2.3.7)\n",
      "Requirement already satisfied: cachetools<6.0,>=2.0.0 in /home/hyochung/miniconda3/envs/tf/lib/python3.9/site-packages (from google-auth<3,>=1.6.3->tensorboard<2.14,>=2.13->tensorflow) (5.3.1)\n",
      "Requirement already satisfied: pyasn1-modules>=0.2.1 in /home/hyochung/miniconda3/envs/tf/lib/python3.9/site-packages (from google-auth<3,>=1.6.3->tensorboard<2.14,>=2.13->tensorflow) (0.3.0)\n",
      "Requirement already satisfied: rsa<5,>=3.1.4 in /home/hyochung/miniconda3/envs/tf/lib/python3.9/site-packages (from google-auth<3,>=1.6.3->tensorboard<2.14,>=2.13->tensorflow) (4.9)\n",
      "Requirement already satisfied: urllib3<2.0 in /home/hyochung/miniconda3/envs/tf/lib/python3.9/site-packages (from google-auth<3,>=1.6.3->tensorboard<2.14,>=2.13->tensorflow) (1.26.16)\n",
      "Requirement already satisfied: requests-oauthlib>=0.7.0 in /home/hyochung/miniconda3/envs/tf/lib/python3.9/site-packages (from google-auth-oauthlib<1.1,>=0.5->tensorboard<2.14,>=2.13->tensorflow) (1.3.1)\n",
      "Requirement already satisfied: importlib-metadata>=4.4 in /home/hyochung/miniconda3/envs/tf/lib/python3.9/site-packages (from markdown>=2.6.8->tensorboard<2.14,>=2.13->tensorflow) (6.8.0)\n",
      "Requirement already satisfied: charset-normalizer<4,>=2 in /home/hyochung/miniconda3/envs/tf/lib/python3.9/site-packages (from requests<3,>=2.21.0->tensorboard<2.14,>=2.13->tensorflow) (3.2.0)\n",
      "Requirement already satisfied: idna<4,>=2.5 in /home/hyochung/miniconda3/envs/tf/lib/python3.9/site-packages (from requests<3,>=2.21.0->tensorboard<2.14,>=2.13->tensorflow) (3.4)\n",
      "Requirement already satisfied: certifi>=2017.4.17 in /home/hyochung/miniconda3/envs/tf/lib/python3.9/site-packages (from requests<3,>=2.21.0->tensorboard<2.14,>=2.13->tensorflow) (2023.7.22)\n",
      "Requirement already satisfied: MarkupSafe>=2.1.1 in /home/hyochung/miniconda3/envs/tf/lib/python3.9/site-packages (from werkzeug>=1.0.1->tensorboard<2.14,>=2.13->tensorflow) (2.1.3)\n",
      "Requirement already satisfied: pyasn1<0.6.0,>=0.4.6 in /home/hyochung/miniconda3/envs/tf/lib/python3.9/site-packages (from pyasn1-modules>=0.2.1->google-auth<3,>=1.6.3->tensorboard<2.14,>=2.13->tensorflow) (0.5.0)\n",
      "Requirement already satisfied: oauthlib>=3.0.0 in /home/hyochung/miniconda3/envs/tf/lib/python3.9/site-packages (from requests-oauthlib>=0.7.0->google-auth-oauthlib<1.1,>=0.5->tensorboard<2.14,>=2.13->tensorflow) (3.2.2)\n",
      "Note: you may need to restart the kernel to use updated packages.\n"
     ]
    }
   ],
   "source": [
    "%pip install tensorflow matplotlib tensorflow-io"
   ]
  },
  {
   "cell_type": "code",
   "execution_count": 5,
   "id": "0168fc08-022c-49ca-a7ff-7874b831e0b9",
   "metadata": {
    "scrolled": true
   },
   "outputs": [
    {
     "name": "stderr",
     "output_type": "stream",
     "text": [
      "2023-11-27 10:17:36.416629: I tensorflow/core/platform/cpu_feature_guard.cc:182] This TensorFlow binary is optimized to use available CPU instructions in performance-critical operations.\n",
      "To enable the following instructions: AVX2 FMA, in other operations, rebuild TensorFlow with the appropriate compiler flags.\n",
      "2023-11-27 10:17:38.113392: W tensorflow/compiler/tf2tensorrt/utils/py_utils.cc:38] TF-TRT Warning: Could not find TensorRT\n"
     ]
    }
   ],
   "source": [
    "%matplotlib inline\n",
    "import matplotlib.pyplot as plt\n",
    "import os\n",
    "from scipy.io import wavfile\n",
    "from collections import defaultdict, Counter\n",
    "from scipy import signal\n",
    "import numpy as np\n",
    "import librosa\n",
    "from sklearn import preprocessing\n",
    "import random as rn\n",
    "from keras.layers import Dense\n",
    "from keras import Input\n",
    "from tensorflow.keras.models import Model\n",
    "from keras.utils import to_categorical\n",
    "from keras.layers import Dense, TimeDistributed, Dropout, Bidirectional, GRU, BatchNormalization, Activation, LeakyReLU, LSTM, Flatten, RepeatVector, Permute, Multiply, Conv2D, MaxPooling2D\n",
    "import tensorflow as tf\n",
    "import tensorflow_io as tfio\n",
    "import random"
   ]
  },
  {
   "cell_type": "markdown",
   "id": "fe13c47f-76c3-43c6-b048-63b80dd33ce5",
   "metadata": {},
   "source": [
    "2. Data Loading"
   ]
  },
  {
   "cell_type": "code",
   "execution_count": 6,
   "id": "bd226490-6909-4db9-8c6b-240da2158ca0",
   "metadata": {
    "tags": []
   },
   "outputs": [
    {
     "name": "stderr",
     "output_type": "stream",
     "text": [
      "2023-11-27 10:17:40.147650: I tensorflow/compiler/xla/stream_executor/cuda/cuda_gpu_executor.cc:981] could not open file to read NUMA node: /sys/bus/pci/devices/0000:01:00.0/numa_node\n",
      "Your kernel may have been built without NUMA support.\n",
      "2023-11-27 10:17:40.344794: I tensorflow/compiler/xla/stream_executor/cuda/cuda_gpu_executor.cc:981] could not open file to read NUMA node: /sys/bus/pci/devices/0000:01:00.0/numa_node\n",
      "Your kernel may have been built without NUMA support.\n",
      "2023-11-27 10:17:40.344898: I tensorflow/compiler/xla/stream_executor/cuda/cuda_gpu_executor.cc:981] could not open file to read NUMA node: /sys/bus/pci/devices/0000:01:00.0/numa_node\n",
      "Your kernel may have been built without NUMA support.\n"
     ]
    }
   ],
   "source": [
    "# Avoid OOM errors by setting GPU Memory Consumption Growth\n",
    "gpus = tf.config.experimental.list_physical_devices('GPU')\n",
    "for gpu in gpus: \n",
    "    tf.config.experimental.set_memory_growth(gpu, True)"
   ]
  },
  {
   "cell_type": "code",
   "execution_count": 7,
   "id": "94676b38-96b1-4c23-b55d-53b2cd5bbc12",
   "metadata": {
    "scrolled": true
   },
   "outputs": [
    {
     "name": "stderr",
     "output_type": "stream",
     "text": [
      "2023-11-27 10:17:40.427353: I tensorflow/compiler/xla/stream_executor/cuda/cuda_gpu_executor.cc:981] could not open file to read NUMA node: /sys/bus/pci/devices/0000:01:00.0/numa_node\n",
      "Your kernel may have been built without NUMA support.\n"
     ]
    },
    {
     "name": "stdout",
     "output_type": "stream",
     "text": [
      "1 Physical GPUs, 1 Logical GPUs\n"
     ]
    },
    {
     "name": "stderr",
     "output_type": "stream",
     "text": [
      "2023-11-27 10:17:40.427892: I tensorflow/compiler/xla/stream_executor/cuda/cuda_gpu_executor.cc:981] could not open file to read NUMA node: /sys/bus/pci/devices/0000:01:00.0/numa_node\n",
      "Your kernel may have been built without NUMA support.\n",
      "2023-11-27 10:17:40.428167: I tensorflow/compiler/xla/stream_executor/cuda/cuda_gpu_executor.cc:981] could not open file to read NUMA node: /sys/bus/pci/devices/0000:01:00.0/numa_node\n",
      "Your kernel may have been built without NUMA support.\n",
      "2023-11-27 10:17:43.241010: I tensorflow/compiler/xla/stream_executor/cuda/cuda_gpu_executor.cc:981] could not open file to read NUMA node: /sys/bus/pci/devices/0000:01:00.0/numa_node\n",
      "Your kernel may have been built without NUMA support.\n",
      "2023-11-27 10:17:43.241166: I tensorflow/core/common_runtime/gpu/gpu_device.cc:1726] Could not identify NUMA node of platform GPU id 0, defaulting to 0.  Your kernel may not have been built with NUMA support.\n",
      "2023-11-27 10:17:43.241719: I tensorflow/compiler/xla/stream_executor/cuda/cuda_gpu_executor.cc:981] could not open file to read NUMA node: /sys/bus/pci/devices/0000:01:00.0/numa_node\n",
      "Your kernel may have been built without NUMA support.\n",
      "2023-11-27 10:17:43.241809: I tensorflow/compiler/xla/stream_executor/cuda/cuda_gpu_executor.cc:981] could not open file to read NUMA node: /sys/bus/pci/devices/0000:01:00.0/numa_node\n",
      "Your kernel may have been built without NUMA support.\n",
      "2023-11-27 10:17:43.241907: I tensorflow/core/common_runtime/gpu/gpu_device.cc:1639] Created device /job:localhost/replica:0/task:0/device:GPU:0 with 3072 MB memory:  -> device: 0, name: NVIDIA GeForce GTX 1660 Ti, pci bus id: 0000:01:00.0, compute capability: 7.5\n"
     ]
    }
   ],
   "source": [
    "gpus = tf.config.list_physical_devices('GPU')\n",
    "if gpus:\n",
    "  # Restrict TensorFlow to only allocate 1GB of memory on the first GPU\n",
    "  try:\n",
    "    tf.config.set_logical_device_configuration(\n",
    "        gpus[0],\n",
    "        [tf.config.LogicalDeviceConfiguration(memory_limit=3072)])\n",
    "    logical_gpus = tf.config.list_logical_devices('GPU')\n",
    "    print(len(gpus), \"Physical GPUs,\", len(logical_gpus), \"Logical GPUs\")\n",
    "  except RuntimeError as e:\n",
    "    # Virtual devices must be set before GPUs have been initialized\n",
    "    print(e)"
   ]
  },
  {
   "cell_type": "code",
   "execution_count": 8,
   "id": "c5b7b17f-cc6e-4171-a659-dca32797a7ee",
   "metadata": {},
   "outputs": [
    {
     "data": {
      "text/plain": [
       "[PhysicalDevice(name='/physical_device:GPU:0', device_type='GPU')]"
      ]
     },
     "execution_count": 8,
     "metadata": {},
     "output_type": "execute_result"
    }
   ],
   "source": [
    "tf.config.list_physical_devices('GPU')"
   ]
  },
  {
   "cell_type": "code",
   "execution_count": 9,
   "id": "10d5b60d-6ec9-4e45-9cb6-b6ad6f4c73d9",
   "metadata": {},
   "outputs": [],
   "source": [
    "DATA_DIR = os.path.join('data', 'train/')\n",
    "def get_data_dir(label):\n",
    "    return os.path.join('data', 'train2', label, '/')"
   ]
  },
  {
   "cell_type": "code",
   "execution_count": 10,
   "metadata": {},
   "outputs": [
    {
     "name": "stdout",
     "output_type": "stream",
     "text": [
      "Mean: 0.40892664\n",
      "Min: 0.36\n",
      "Max: 0.75\n"
     ]
    }
   ],
   "source": [
    "import os\n",
    "import librosa\n",
    "\n",
    "# Directory containing the audio files\n",
    "dir_path = os.path.join('data', 'train/')\n",
    "\n",
    "# List to store the lengths of the audio files\n",
    "lengths = []\n",
    "\n",
    "# Iterate over all files in the directory\n",
    "for file in os.listdir(dir_path):\n",
    "    # Skip directories\n",
    "    if os.path.isdir(os.path.join(dir_path, file)):\n",
    "        continue\n",
    "\n",
    "    # Load the audio file\n",
    "    wav, sr = librosa.load(os.path.join(dir_path, file), sr=16000)\n",
    "    \n",
    "    # Calculate the length of the audio file in seconds and append it to the list\n",
    "    lengths.append(len(wav) / sr)\n",
    "\n",
    "# Convert the list to a TensorFlow tensor\n",
    "lengths_tensor = tf.convert_to_tensor(lengths)\n",
    "\n",
    "# Calculate and print the mean, min, and max\n",
    "print('Mean:', tf.math.reduce_mean(lengths_tensor).numpy())\n",
    "print('Min:', tf.math.reduce_min(lengths_tensor).numpy())\n",
    "print('Max:', tf.math.reduce_max(lengths_tensor).numpy())"
   ]
  },
  {
   "cell_type": "code",
   "execution_count": 11,
   "id": "19a347db-7204-4092-86cc-bbdb3b0e2274",
   "metadata": {},
   "outputs": [
    {
     "name": "stdout",
     "output_type": "stream",
     "text": [
      "sr: 16000\n",
      "wav shape: (8000,)\n",
      "length: 0.5 secs\n"
     ]
    }
   ],
   "source": [
    "check_dir = os.path.join('data', 'train/')\n",
    "\n",
    "wav, sr = librosa.load(check_dir + 'W-04.wav', sr=16000)\n",
    "print('sr:', sr)\n",
    "print('wav shape:', wav.shape)\n",
    "print('length:', wav.shape[0]/float(sr), 'secs')"
   ]
  },
  {
   "cell_type": "code",
   "execution_count": 12,
   "id": "387ed053-15fa-40ff-8290-3f32e3dd068f",
   "metadata": {},
   "outputs": [
    {
     "name": "stdout",
     "output_type": "stream",
     "text": [
      "[<matplotlib.lines.Line2D object at 0x7ff280e51e20>]\n",
      "[<matplotlib.lines.Line2D object at 0x7ff280e6c100>]\n"
     ]
    },
    {
     "data": {
      "image/png": "[encoded data removed]",
      "text/plain": [
       "<Figure size 640x480 with 1 Axes>"
      ]
     },
     "metadata": {},
     "output_type": "display_data"
    }
   ],
   "source": [
    "# raw wave\n",
    "print(plt.plot(wav))\n",
    "print(plt.plot(wav[0:8000]))"
   ]
  },
  {
   "cell_type": "code",
   "execution_count": 13,
   "id": "7d5bdb87-9a60-4935-8f31-61da98c92a43",
   "metadata": {},
   "outputs": [],
   "source": [
    "train_mlp = []\n",
    "train_spectrograms = []\n",
    "train_mel_spectrograms = []\n",
    "train_mfccs = []\n",
    "train_y = []\n",
    "\n",
    "test_mlp = []\n",
    "test_spectrograms = []\n",
    "test_mel_spectrograms = []\n",
    "test_mfccs = []\n",
    "test_y = []\n",
    "\n",
    "# 모든 음성파일의 길이가 같도록 후위에 padding 처리\n",
    "pad1d = lambda a, i: a[0: i] if a.shape[0] > i else np.hstack((a, np.zeros(i-a.shape[0])))\n",
    "pad2d = lambda a, i: a[:, 0:i] if a.shape[1] > i else np.hstack((a, np.zeros((a.shape[0], i-a.shape[1]))))\n",
    "\n",
    "frame_length = 0.025\n",
    "frame_stride = 0.0010"
   ]
  },
  {
   "cell_type": "code",
   "execution_count": 14,
   "id": "f42108aa-5c3b-42d4-a27f-3c05056f6d1c",
   "metadata": {
    "scrolled": true
   },
   "outputs": [],
   "source": [
    "from sklearn.model_selection import train_test_split"
   ]
  },
  {
   "cell_type": "code",
   "execution_count": 15,
   "metadata": {},
   "outputs": [],
   "source": [
    "\n",
    "\n",
    "def load_wav_16k_mono(filename):\n",
    "    # Load encoded wav file\n",
    "    file_contents = tf.io.read_file(filename)\n",
    "    # Decode wav (tensors by channels) \n",
    "    wav, sample_rate = tf.audio.decode_wav(file_contents, desired_channels=1)\n",
    "    # Removes trailing axis\n",
    "    wav = tf.squeeze(wav, axis=-1)\n",
    "    sample_rate = tf.cast(sample_rate, dtype=tf.int64)\n",
    "    # Goes from 44100Hz to 16000hz - amplitude of the audio signal\n",
    "    wav = tfio.audio.resample(wav, rate_in=sample_rate, rate_out=16000)\n",
    "    return wav\n",
    "\n"
   ]
  },
  {
   "cell_type": "markdown",
   "id": "b49e6132",
   "metadata": {},
   "source": [
    "Spectogram and binary classification by each label"
   ]
  },
  {
   "cell_type": "code",
   "execution_count": 16,
   "metadata": {},
   "outputs": [],
   "source": [
    "def get_spectrogram(filename):\n",
    "    wav = load_wav_16k_mono(filename)\n",
    "    spectrogram = np.abs(librosa.stft(wav.numpy()))\n",
    "    padded_spectrogram = pad2d(spectrogram, 400)\n",
    "    return padded_spectrogram"
   ]
  },
  {
   "cell_type": "code",
   "execution_count": 17,
   "metadata": {},
   "outputs": [],
   "source": [
    "def get_spectrogram(filename):\n",
    "    wav = load_wav_16k_mono(filename)\n",
    "    wav = wav[:8000]\n",
    "    zero_padding = tf.zeros([8000] - tf.shape(wav), dtype=tf.float32)\n",
    "    wav = tf.concat([zero_padding, wav],0)\n",
    "    spectrogram = tf.signal.stft(wav, frame_length=320, frame_step=32)\n",
    "    spectrogram = tf.abs(spectrogram)\n",
    "    return spectrogram"
   ]
  },
  {
   "cell_type": "code",
   "execution_count": 18,
   "id": "e9c78e31-fd53-44ff-887a-78c252587a78",
   "metadata": {},
   "outputs": [],
   "source": [
    "def create_binary_class_model(key):\n",
    "    X = []\n",
    "    y = []\n",
    "    \n",
    "    data_dir = os.path.join('data', 'train/')\n",
    "    for filename in os.listdir(data_dir):\n",
    "        if '.wav' not in filename:\n",
    "            continue\n",
    "\n",
    "        spectrogram = get_spectrogram(data_dir + filename)\n",
    "        label = 1 if key == filename[0] else 0  # 'Q' is 1, 'not Q' is 0\n",
    "\n",
    "        X.append(spectrogram)\n",
    "        y.append(label)\n",
    "\n",
    "    train_spectrograms, test_spectrograms, train_y, test_y = train_test_split(X, y, test_size=0.2, random_state=42)\n",
    "\n",
    "    train_spectrograms = np.array(train_spectrograms)\n",
    "    train_y = np.array(train_y)  \n",
    "\n",
    "    test_spectrograms = np.array(test_spectrograms)\n",
    "    test_y = np.array(test_y)  \n",
    "\n",
    "    print('train_mfccs:', train_spectrograms.shape)\n",
    "    print('train_y:', train_y.shape)\n",
    "\n",
    "    print('test_mfccs:', test_spectrograms.shape)\n",
    "    print('test_y:', test_y.shape)\n",
    "    train_spectrograms = np.expand_dims(train_spectrograms, -1)\n",
    "    test_spectrograms = np.expand_dims(test_spectrograms, -1)\n",
    "    print('train_spectograms shape:', train_spectrograms.shape)\n",
    "    print('test_spectograms shape:', test_spectrograms.shape)\n",
    "    ip = Input(shape=train_spectrograms[0].shape)\n",
    "\n",
    "    m = Conv2D(32, kernel_size=(4,4), activation='relu')(ip)\n",
    "    m = MaxPooling2D(pool_size=(4,4))(m)\n",
    "\n",
    "    m = Conv2D(32*2, kernel_size=(4,4), activation='relu')(ip)\n",
    "    m = MaxPooling2D(pool_size=(4,4))(m)\n",
    "\n",
    "    m = Conv2D(32 * 3, kernel_size=(4, 4), activation='relu')(ip)\n",
    "    m = MaxPooling2D(pool_size=(4,4))(m)\n",
    "\n",
    "    m = Flatten()(m)\n",
    "\n",
    "    m = Dense(64, activation='relu')(m)\n",
    "\n",
    "    m = Dense(32, activation='relu')(m)\n",
    "\n",
    "    op = Dense(1, activation='sigmoid')(m) \n",
    "\n",
    "    model = Model(ip, op)\n",
    "\n",
    "    model.summary()\n",
    "\n",
    "    model.compile(loss='binary_crossentropy',  \n",
    "                optimizer='adam',\n",
    "                metrics=['accuracy'])\n",
    "\n",
    "    history = model.fit(train_spectrograms,\n",
    "                        train_y,\n",
    "                        epochs=100,\n",
    "                        batch_size=16,\n",
    "                        verbose=1,\n",
    "                        validation_data=(test_spectrograms, test_y))\n",
    "    \n",
    "    \n",
    "    loss, accuracy = model.evaluate(test_spectrograms, test_y)\n",
    "    print(f\"Test Loss: {loss}\")\n",
    "    print(f\"Test Accuracy: {accuracy}\")\n",
    "    return model, history"
   ]
  },
  {
   "cell_type": "markdown",
   "metadata": {},
   "source": [
    "Q"
   ]
  },
  {
   "cell_type": "code",
   "execution_count": 19,
   "metadata": {},
   "outputs": [
    {
     "name": "stderr",
     "output_type": "stream",
     "text": [
      "2023-11-27 10:17:51.529074: I tensorflow_io/core/kernels/cpu_check.cc:128] Your CPU supports instructions that this TensorFlow IO binary was not compiled to use: AVX AVX2 FMA\n"
     ]
    },
    {
     "name": "stdout",
     "output_type": "stream",
     "text": [
      "WARNING:tensorflow:5 out of the last 5 calls to <function pfor.<locals>.f at 0x7ff280e7c280> triggered tf.function retracing. Tracing is expensive and the excessive number of tracings could be due to (1) creating @tf.function repeatedly in a loop, (2) passing tensors with different shapes, (3) passing Python objects instead of tensors. For (1), please define your @tf.function outside of the loop. For (2), @tf.function has reduce_retracing=True option that can avoid unnecessary retracing. For (3), please refer to https://www.tensorflow.org/guide/function#controlling_retracing and https://www.tensorflow.org/api_docs/python/tf/function for  more details.\n",
      "WARNING:tensorflow:6 out of the last 6 calls to <function pfor.<locals>.f at 0x7ff280e7c280> triggered tf.function retracing. Tracing is expensive and the excessive number of tracings could be due to (1) creating @tf.function repeatedly in a loop, (2) passing tensors with different shapes, (3) passing Python objects instead of tensors. For (1), please define your @tf.function outside of the loop. For (2), @tf.function has reduce_retracing=True option that can avoid unnecessary retracing. For (3), please refer to https://www.tensorflow.org/guide/function#controlling_retracing and https://www.tensorflow.org/api_docs/python/tf/function for  more details.\n",
      "train_mfccs: (1177, 241, 257)\n",
      "train_y: (1177,)\n",
      "test_mfccs: (295, 241, 257)\n",
      "test_y: (295,)\n",
      "train_spectograms shape: (1177, 241, 257, 1)\n",
      "test_spectograms shape: (295, 241, 257, 1)\n",
      "Model: \"model\"\n",
      "_________________________________________________________________\n",
      " Layer (type)                Output Shape              Param #   \n",
      "=================================================================\n",
      " input_1 (InputLayer)        [(None, 241, 257, 1)]     0         \n",
      "                                                                 \n",
      " conv2d_2 (Conv2D)           (None, 238, 254, 96)      1632      \n",
      "                                                                 \n",
      " max_pooling2d_2 (MaxPoolin  (None, 59, 63, 96)        0         \n",
      " g2D)                                                            \n",
      "                                                                 \n",
      " flatten (Flatten)           (None, 356832)            0         \n",
      "                                                                 \n",
      " dense (Dense)               (None, 64)                22837312  \n",
      "                                                                 \n",
      " dense_1 (Dense)             (None, 32)                2080      \n",
      "                                                                 \n",
      " dense_2 (Dense)             (None, 1)                 33        \n",
      "                                                                 \n",
      "=================================================================\n",
      "Total params: 22841057 (87.13 MB)\n",
      "Trainable params: 22841057 (87.13 MB)\n",
      "Non-trainable params: 0 (0.00 Byte)\n",
      "_________________________________________________________________\n"
     ]
    },
    {
     "name": "stderr",
     "output_type": "stream",
     "text": [
      "2023-11-27 10:19:14.317661: W tensorflow/tsl/framework/cpu_allocator_impl.cc:83] Allocation of 291599396 exceeds 10% of free system memory.\n",
      "2023-11-27 10:19:14.695233: W tensorflow/tsl/framework/cpu_allocator_impl.cc:83] Allocation of 291599396 exceeds 10% of free system memory.\n"
     ]
    },
    {
     "name": "stdout",
     "output_type": "stream",
     "text": [
      "Epoch 1/100\n"
     ]
    },
    {
     "name": "stderr",
     "output_type": "stream",
     "text": [
      "2023-11-27 10:19:18.274177: I tensorflow/compiler/xla/stream_executor/cuda/cuda_dnn.cc:432] Loaded cuDNN version 8600\n",
      "2023-11-27 10:19:21.854099: I tensorflow/compiler/xla/service/service.cc:168] XLA service 0x7fefba3e24f0 initialized for platform CUDA (this does not guarantee that XLA will be used). Devices:\n",
      "2023-11-27 10:19:21.854158: I tensorflow/compiler/xla/service/service.cc:176]   StreamExecutor device (0): NVIDIA GeForce GTX 1660 Ti, Compute Capability 7.5\n",
      "2023-11-27 10:19:22.012110: I tensorflow/compiler/mlir/tensorflow/utils/dump_mlir_util.cc:255] disabling MLIR crash reproducer, set env var `MLIR_CRASH_REPRODUCER_DIRECTORY` to enable.\n",
      "2023-11-27 10:19:22.403433: I ./tensorflow/compiler/jit/device_compiler.h:186] Compiled cluster using XLA!  This line is logged at most once for the lifetime of the process.\n"
     ]
    },
    {
     "name": "stdout",
     "output_type": "stream",
     "text": [
      "74/74 [==============================] - ETA: 0s - loss: 0.1158 - accuracy: 0.9567"
     ]
    },
    {
     "name": "stderr",
     "output_type": "stream",
     "text": [
      "2023-11-27 10:19:27.754104: W tensorflow/tsl/framework/cpu_allocator_impl.cc:83] Allocation of 73085660 exceeds 10% of free system memory.\n",
      "2023-11-27 10:19:28.985937: W tensorflow/tsl/framework/cpu_allocator_impl.cc:83] Allocation of 73085660 exceeds 10% of free system memory.\n"
     ]
    },
    {
     "name": "stdout",
     "output_type": "stream",
     "text": [
      "74/74 [==============================] - 15s 78ms/step - loss: 0.1158 - accuracy: 0.9567 - val_loss: 0.0389 - val_accuracy: 0.9797\n",
      "Epoch 2/100\n",
      "74/74 [==============================] - 3s 40ms/step - loss: 0.0128 - accuracy: 0.9941 - val_loss: 0.0218 - val_accuracy: 0.9932\n",
      "Epoch 3/100\n",
      "74/74 [==============================] - 3s 43ms/step - loss: 0.0084 - accuracy: 0.9983 - val_loss: 0.0019 - val_accuracy: 1.0000\n",
      "Epoch 4/100\n",
      "74/74 [==============================] - 3s 39ms/step - loss: 3.3940e-04 - accuracy: 1.0000 - val_loss: 0.0039 - val_accuracy: 0.9966\n",
      "Epoch 5/100\n",
      "74/74 [==============================] - 3s 39ms/step - loss: 1.0696e-04 - accuracy: 1.0000 - val_loss: 9.0142e-04 - val_accuracy: 1.0000\n",
      "Epoch 6/100\n",
      "74/74 [==============================] - 3s 40ms/step - loss: 4.6482e-05 - accuracy: 1.0000 - val_loss: 8.3779e-04 - val_accuracy: 1.0000\n",
      "Epoch 7/100\n",
      "74/74 [==============================] - 3s 39ms/step - loss: 3.5008e-05 - accuracy: 1.0000 - val_loss: 8.7453e-04 - val_accuracy: 1.0000\n",
      "Epoch 8/100\n",
      "74/74 [==============================] - 3s 40ms/step - loss: 2.3444e-05 - accuracy: 1.0000 - val_loss: 8.3250e-04 - val_accuracy: 1.0000\n",
      "Epoch 9/100\n",
      "74/74 [==============================] - 3s 40ms/step - loss: 1.8446e-05 - accuracy: 1.0000 - val_loss: 7.6609e-04 - val_accuracy: 1.0000\n",
      "Epoch 10/100\n",
      "74/74 [==============================] - 3s 39ms/step - loss: 1.5450e-05 - accuracy: 1.0000 - val_loss: 7.0854e-04 - val_accuracy: 1.0000\n",
      "Epoch 11/100\n",
      "74/74 [==============================] - 3s 40ms/step - loss: 1.2579e-05 - accuracy: 1.0000 - val_loss: 6.5760e-04 - val_accuracy: 1.0000\n",
      "Epoch 12/100\n",
      "74/74 [==============================] - 3s 40ms/step - loss: 1.0336e-05 - accuracy: 1.0000 - val_loss: 6.2218e-04 - val_accuracy: 1.0000\n",
      "Epoch 13/100\n",
      "74/74 [==============================] - 3s 39ms/step - loss: 8.8727e-06 - accuracy: 1.0000 - val_loss: 5.7503e-04 - val_accuracy: 1.0000\n",
      "Epoch 14/100\n",
      "74/74 [==============================] - 3s 40ms/step - loss: 7.7890e-06 - accuracy: 1.0000 - val_loss: 5.5754e-04 - val_accuracy: 1.0000\n",
      "Epoch 15/100\n",
      "74/74 [==============================] - 3s 40ms/step - loss: 6.6911e-06 - accuracy: 1.0000 - val_loss: 5.3202e-04 - val_accuracy: 1.0000\n",
      "Epoch 16/100\n",
      "74/74 [==============================] - 3s 40ms/step - loss: 5.8956e-06 - accuracy: 1.0000 - val_loss: 5.1809e-04 - val_accuracy: 1.0000\n",
      "Epoch 17/100\n",
      "74/74 [==============================] - 3s 40ms/step - loss: 5.1368e-06 - accuracy: 1.0000 - val_loss: 4.9030e-04 - val_accuracy: 1.0000\n",
      "Epoch 18/100\n",
      "74/74 [==============================] - 3s 39ms/step - loss: 4.5278e-06 - accuracy: 1.0000 - val_loss: 4.6358e-04 - val_accuracy: 1.0000\n",
      "Epoch 19/100\n",
      "74/74 [==============================] - 3s 39ms/step - loss: 4.0231e-06 - accuracy: 1.0000 - val_loss: 4.5532e-04 - val_accuracy: 1.0000\n",
      "Epoch 20/100\n",
      "74/74 [==============================] - 3s 39ms/step - loss: 3.5676e-06 - accuracy: 1.0000 - val_loss: 4.2867e-04 - val_accuracy: 1.0000\n",
      "Epoch 21/100\n",
      "74/74 [==============================] - 3s 40ms/step - loss: 3.2087e-06 - accuracy: 1.0000 - val_loss: 4.2370e-04 - val_accuracy: 1.0000\n",
      "Epoch 22/100\n",
      "74/74 [==============================] - 3s 40ms/step - loss: 2.9045e-06 - accuracy: 1.0000 - val_loss: 4.0848e-04 - val_accuracy: 1.0000\n",
      "Epoch 23/100\n",
      "74/74 [==============================] - 3s 39ms/step - loss: 2.6532e-06 - accuracy: 1.0000 - val_loss: 3.9507e-04 - val_accuracy: 1.0000\n",
      "Epoch 24/100\n",
      "74/74 [==============================] - 3s 40ms/step - loss: 2.4268e-06 - accuracy: 1.0000 - val_loss: 3.8324e-04 - val_accuracy: 1.0000\n",
      "Epoch 25/100\n",
      "74/74 [==============================] - 3s 39ms/step - loss: 2.2054e-06 - accuracy: 1.0000 - val_loss: 3.6905e-04 - val_accuracy: 1.0000\n",
      "Epoch 26/100\n",
      "74/74 [==============================] - 3s 39ms/step - loss: 2.0226e-06 - accuracy: 1.0000 - val_loss: 3.6884e-04 - val_accuracy: 1.0000\n",
      "Epoch 27/100\n",
      "74/74 [==============================] - 3s 39ms/step - loss: 1.8561e-06 - accuracy: 1.0000 - val_loss: 3.5192e-04 - val_accuracy: 1.0000\n",
      "Epoch 28/100\n",
      "74/74 [==============================] - 3s 39ms/step - loss: 1.7190e-06 - accuracy: 1.0000 - val_loss: 3.5406e-04 - val_accuracy: 1.0000\n",
      "Epoch 29/100\n",
      "74/74 [==============================] - 3s 39ms/step - loss: 1.5959e-06 - accuracy: 1.0000 - val_loss: 3.3228e-04 - val_accuracy: 1.0000\n",
      "Epoch 30/100\n",
      "74/74 [==============================] - 3s 39ms/step - loss: 1.4620e-06 - accuracy: 1.0000 - val_loss: 3.2297e-04 - val_accuracy: 1.0000\n",
      "Epoch 31/100\n",
      "74/74 [==============================] - 3s 39ms/step - loss: 1.3577e-06 - accuracy: 1.0000 - val_loss: 3.1018e-04 - val_accuracy: 1.0000\n",
      "Epoch 32/100\n",
      "74/74 [==============================] - 3s 39ms/step - loss: 1.2585e-06 - accuracy: 1.0000 - val_loss: 3.1017e-04 - val_accuracy: 1.0000\n",
      "Epoch 33/100\n",
      "74/74 [==============================] - 3s 40ms/step - loss: 1.1705e-06 - accuracy: 1.0000 - val_loss: 3.0043e-04 - val_accuracy: 1.0000\n",
      "Epoch 34/100\n",
      "74/74 [==============================] - 3s 40ms/step - loss: 1.0929e-06 - accuracy: 1.0000 - val_loss: 3.0040e-04 - val_accuracy: 1.0000\n",
      "Epoch 35/100\n",
      "74/74 [==============================] - 3s 39ms/step - loss: 1.0147e-06 - accuracy: 1.0000 - val_loss: 2.9402e-04 - val_accuracy: 1.0000\n",
      "Epoch 36/100\n",
      "74/74 [==============================] - 3s 39ms/step - loss: 9.5147e-07 - accuracy: 1.0000 - val_loss: 2.9126e-04 - val_accuracy: 1.0000\n",
      "Epoch 37/100\n",
      "74/74 [==============================] - 3s 39ms/step - loss: 8.9839e-07 - accuracy: 1.0000 - val_loss: 2.8548e-04 - val_accuracy: 1.0000\n",
      "Epoch 38/100\n",
      "74/74 [==============================] - 3s 40ms/step - loss: 8.2950e-07 - accuracy: 1.0000 - val_loss: 2.8481e-04 - val_accuracy: 1.0000\n",
      "Epoch 39/100\n",
      "74/74 [==============================] - 3s 39ms/step - loss: 7.7803e-07 - accuracy: 1.0000 - val_loss: 2.7527e-04 - val_accuracy: 1.0000\n",
      "Epoch 40/100\n",
      "74/74 [==============================] - 3s 39ms/step - loss: 7.2991e-07 - accuracy: 1.0000 - val_loss: 2.7006e-04 - val_accuracy: 1.0000\n",
      "Epoch 41/100\n",
      "74/74 [==============================] - 3s 39ms/step - loss: 6.9024e-07 - accuracy: 1.0000 - val_loss: 2.6346e-04 - val_accuracy: 1.0000\n",
      "Epoch 42/100\n",
      "74/74 [==============================] - 3s 39ms/step - loss: 6.4318e-07 - accuracy: 1.0000 - val_loss: 2.5950e-04 - val_accuracy: 1.0000\n",
      "Epoch 43/100\n",
      "74/74 [==============================] - 3s 39ms/step - loss: 6.0861e-07 - accuracy: 1.0000 - val_loss: 2.5466e-04 - val_accuracy: 1.0000\n",
      "Epoch 44/100\n",
      "74/74 [==============================] - 3s 40ms/step - loss: 5.7491e-07 - accuracy: 1.0000 - val_loss: 2.5083e-04 - val_accuracy: 1.0000\n",
      "Epoch 45/100\n",
      "74/74 [==============================] - 3s 39ms/step - loss: 5.3669e-07 - accuracy: 1.0000 - val_loss: 2.4903e-04 - val_accuracy: 1.0000\n",
      "Epoch 46/100\n",
      "74/74 [==============================] - 3s 39ms/step - loss: 5.1056e-07 - accuracy: 1.0000 - val_loss: 2.4393e-04 - val_accuracy: 1.0000\n",
      "Epoch 47/100\n",
      "74/74 [==============================] - 3s 39ms/step - loss: 4.8339e-07 - accuracy: 1.0000 - val_loss: 2.4114e-04 - val_accuracy: 1.0000\n",
      "Epoch 48/100\n",
      "74/74 [==============================] - 3s 40ms/step - loss: 4.5868e-07 - accuracy: 1.0000 - val_loss: 2.3914e-04 - val_accuracy: 1.0000\n",
      "Epoch 49/100\n",
      "74/74 [==============================] - 3s 39ms/step - loss: 4.2858e-07 - accuracy: 1.0000 - val_loss: 2.3179e-04 - val_accuracy: 1.0000\n",
      "Epoch 50/100\n",
      "74/74 [==============================] - 3s 40ms/step - loss: 4.0674e-07 - accuracy: 1.0000 - val_loss: 2.2826e-04 - val_accuracy: 1.0000\n",
      "Epoch 51/100\n",
      "74/74 [==============================] - 3s 40ms/step - loss: 3.8493e-07 - accuracy: 1.0000 - val_loss: 2.2430e-04 - val_accuracy: 1.0000\n",
      "Epoch 52/100\n",
      "74/74 [==============================] - 3s 39ms/step - loss: 3.6449e-07 - accuracy: 1.0000 - val_loss: 2.2094e-04 - val_accuracy: 1.0000\n",
      "Epoch 53/100\n",
      "74/74 [==============================] - 3s 40ms/step - loss: 3.4568e-07 - accuracy: 1.0000 - val_loss: 2.1655e-04 - val_accuracy: 1.0000\n",
      "Epoch 54/100\n",
      "74/74 [==============================] - 3s 40ms/step - loss: 3.2829e-07 - accuracy: 1.0000 - val_loss: 2.1242e-04 - val_accuracy: 1.0000\n",
      "Epoch 55/100\n",
      "74/74 [==============================] - 3s 40ms/step - loss: 3.1133e-07 - accuracy: 1.0000 - val_loss: 2.0797e-04 - val_accuracy: 1.0000\n",
      "Epoch 56/100\n",
      "74/74 [==============================] - 3s 39ms/step - loss: 2.9713e-07 - accuracy: 1.0000 - val_loss: 2.0654e-04 - val_accuracy: 1.0000\n",
      "Epoch 57/100\n",
      "74/74 [==============================] - 3s 40ms/step - loss: 2.8102e-07 - accuracy: 1.0000 - val_loss: 2.0250e-04 - val_accuracy: 1.0000\n",
      "Epoch 58/100\n",
      "74/74 [==============================] - 3s 39ms/step - loss: 2.6894e-07 - accuracy: 1.0000 - val_loss: 1.9797e-04 - val_accuracy: 1.0000\n",
      "Epoch 59/100\n",
      "74/74 [==============================] - 3s 40ms/step - loss: 2.5581e-07 - accuracy: 1.0000 - val_loss: 1.9505e-04 - val_accuracy: 1.0000\n",
      "Epoch 60/100\n",
      "74/74 [==============================] - 3s 40ms/step - loss: 2.4169e-07 - accuracy: 1.0000 - val_loss: 1.9089e-04 - val_accuracy: 1.0000\n",
      "Epoch 61/100\n",
      "74/74 [==============================] - 3s 39ms/step - loss: 2.3041e-07 - accuracy: 1.0000 - val_loss: 1.8990e-04 - val_accuracy: 1.0000\n",
      "Epoch 62/100\n",
      "74/74 [==============================] - 3s 39ms/step - loss: 2.1873e-07 - accuracy: 1.0000 - val_loss: 1.8739e-04 - val_accuracy: 1.0000\n",
      "Epoch 63/100\n",
      "74/74 [==============================] - 3s 39ms/step - loss: 2.0785e-07 - accuracy: 1.0000 - val_loss: 1.8718e-04 - val_accuracy: 1.0000\n",
      "Epoch 64/100\n",
      "74/74 [==============================] - 3s 40ms/step - loss: 1.9742e-07 - accuracy: 1.0000 - val_loss: 1.7991e-04 - val_accuracy: 1.0000\n",
      "Epoch 65/100\n",
      "74/74 [==============================] - 3s 40ms/step - loss: 1.9041e-07 - accuracy: 1.0000 - val_loss: 1.7498e-04 - val_accuracy: 1.0000\n",
      "Epoch 66/100\n",
      "74/74 [==============================] - 3s 39ms/step - loss: 1.8043e-07 - accuracy: 1.0000 - val_loss: 1.7657e-04 - val_accuracy: 1.0000\n",
      "Epoch 67/100\n",
      "74/74 [==============================] - 3s 39ms/step - loss: 1.7361e-07 - accuracy: 1.0000 - val_loss: 1.7447e-04 - val_accuracy: 1.0000\n",
      "Epoch 68/100\n",
      "74/74 [==============================] - 3s 40ms/step - loss: 1.6327e-07 - accuracy: 1.0000 - val_loss: 1.7093e-04 - val_accuracy: 1.0000\n",
      "Epoch 69/100\n",
      "74/74 [==============================] - 3s 39ms/step - loss: 1.5574e-07 - accuracy: 1.0000 - val_loss: 1.6782e-04 - val_accuracy: 1.0000\n",
      "Epoch 70/100\n",
      "74/74 [==============================] - 3s 39ms/step - loss: 1.4906e-07 - accuracy: 1.0000 - val_loss: 1.6844e-04 - val_accuracy: 1.0000\n",
      "Epoch 71/100\n",
      "74/74 [==============================] - 3s 39ms/step - loss: 1.4171e-07 - accuracy: 1.0000 - val_loss: 1.6436e-04 - val_accuracy: 1.0000\n",
      "Epoch 72/100\n",
      "74/74 [==============================] - 3s 40ms/step - loss: 1.3705e-07 - accuracy: 1.0000 - val_loss: 1.6250e-04 - val_accuracy: 1.0000\n",
      "Epoch 73/100\n",
      "74/74 [==============================] - 3s 39ms/step - loss: 1.3032e-07 - accuracy: 1.0000 - val_loss: 1.6063e-04 - val_accuracy: 1.0000\n",
      "Epoch 74/100\n",
      "74/74 [==============================] - 3s 40ms/step - loss: 1.2419e-07 - accuracy: 1.0000 - val_loss: 1.5559e-04 - val_accuracy: 1.0000\n",
      "Epoch 75/100\n",
      "74/74 [==============================] - 3s 40ms/step - loss: 1.1784e-07 - accuracy: 1.0000 - val_loss: 1.5311e-04 - val_accuracy: 1.0000\n",
      "Epoch 76/100\n",
      "74/74 [==============================] - 3s 39ms/step - loss: 1.1246e-07 - accuracy: 1.0000 - val_loss: 1.5158e-04 - val_accuracy: 1.0000\n",
      "Epoch 77/100\n",
      "74/74 [==============================] - 3s 39ms/step - loss: 1.0756e-07 - accuracy: 1.0000 - val_loss: 1.4965e-04 - val_accuracy: 1.0000\n",
      "Epoch 78/100\n",
      "74/74 [==============================] - 3s 39ms/step - loss: 1.0280e-07 - accuracy: 1.0000 - val_loss: 1.4794e-04 - val_accuracy: 1.0000\n",
      "Epoch 79/100\n",
      "74/74 [==============================] - 3s 39ms/step - loss: 9.8544e-08 - accuracy: 1.0000 - val_loss: 1.4520e-04 - val_accuracy: 1.0000\n",
      "Epoch 80/100\n",
      "74/74 [==============================] - 3s 40ms/step - loss: 9.3911e-08 - accuracy: 1.0000 - val_loss: 1.4386e-04 - val_accuracy: 1.0000\n",
      "Epoch 81/100\n",
      "74/74 [==============================] - 3s 40ms/step - loss: 9.0208e-08 - accuracy: 1.0000 - val_loss: 1.4273e-04 - val_accuracy: 1.0000\n",
      "Epoch 82/100\n",
      "74/74 [==============================] - 3s 39ms/step - loss: 8.6974e-08 - accuracy: 1.0000 - val_loss: 1.4108e-04 - val_accuracy: 1.0000\n",
      "Epoch 83/100\n",
      "74/74 [==============================] - 3s 39ms/step - loss: 8.2805e-08 - accuracy: 1.0000 - val_loss: 1.3935e-04 - val_accuracy: 1.0000\n",
      "Epoch 84/100\n",
      "74/74 [==============================] - 3s 39ms/step - loss: 7.9324e-08 - accuracy: 1.0000 - val_loss: 1.3627e-04 - val_accuracy: 1.0000\n",
      "Epoch 85/100\n",
      "74/74 [==============================] - 3s 40ms/step - loss: 7.5819e-08 - accuracy: 1.0000 - val_loss: 1.3549e-04 - val_accuracy: 1.0000\n",
      "Epoch 86/100\n",
      "74/74 [==============================] - 3s 39ms/step - loss: 7.2475e-08 - accuracy: 1.0000 - val_loss: 1.3366e-04 - val_accuracy: 1.0000\n",
      "Epoch 87/100\n",
      "74/74 [==============================] - 3s 39ms/step - loss: 6.9289e-08 - accuracy: 1.0000 - val_loss: 1.3151e-04 - val_accuracy: 1.0000\n",
      "Epoch 88/100\n",
      "74/74 [==============================] - 3s 39ms/step - loss: 6.6365e-08 - accuracy: 1.0000 - val_loss: 1.3062e-04 - val_accuracy: 1.0000\n",
      "Epoch 89/100\n",
      "74/74 [==============================] - 3s 39ms/step - loss: 6.3752e-08 - accuracy: 1.0000 - val_loss: 1.2979e-04 - val_accuracy: 1.0000\n",
      "Epoch 90/100\n",
      "74/74 [==============================] - 3s 40ms/step - loss: 6.1702e-08 - accuracy: 1.0000 - val_loss: 1.2782e-04 - val_accuracy: 1.0000\n",
      "Epoch 91/100\n",
      "74/74 [==============================] - 3s 39ms/step - loss: 5.8670e-08 - accuracy: 1.0000 - val_loss: 1.2682e-04 - val_accuracy: 1.0000\n",
      "Epoch 92/100\n",
      "74/74 [==============================] - 3s 39ms/step - loss: 5.6172e-08 - accuracy: 1.0000 - val_loss: 1.2612e-04 - val_accuracy: 1.0000\n",
      "Epoch 93/100\n",
      "74/74 [==============================] - 3s 40ms/step - loss: 5.4024e-08 - accuracy: 1.0000 - val_loss: 1.2383e-04 - val_accuracy: 1.0000\n",
      "Epoch 94/100\n",
      "74/74 [==============================] - 3s 39ms/step - loss: 5.1771e-08 - accuracy: 1.0000 - val_loss: 1.2361e-04 - val_accuracy: 1.0000\n",
      "Epoch 95/100\n",
      "74/74 [==============================] - 3s 39ms/step - loss: 4.9496e-08 - accuracy: 1.0000 - val_loss: 1.2225e-04 - val_accuracy: 1.0000\n",
      "Epoch 96/100\n",
      "74/74 [==============================] - 3s 39ms/step - loss: 4.7384e-08 - accuracy: 1.0000 - val_loss: 1.2081e-04 - val_accuracy: 1.0000\n",
      "Epoch 97/100\n",
      "74/74 [==============================] - 3s 40ms/step - loss: 4.5649e-08 - accuracy: 1.0000 - val_loss: 1.2022e-04 - val_accuracy: 1.0000\n",
      "Epoch 98/100\n",
      "74/74 [==============================] - 3s 40ms/step - loss: 4.4321e-08 - accuracy: 1.0000 - val_loss: 1.1984e-04 - val_accuracy: 1.0000\n",
      "Epoch 99/100\n",
      "74/74 [==============================] - 3s 39ms/step - loss: 4.2118e-08 - accuracy: 1.0000 - val_loss: 1.1905e-04 - val_accuracy: 1.0000\n",
      "Epoch 100/100\n",
      "74/74 [==============================] - 3s 39ms/step - loss: 4.0422e-08 - accuracy: 1.0000 - val_loss: 1.1800e-04 - val_accuracy: 1.0000\n"
     ]
    },
    {
     "name": "stderr",
     "output_type": "stream",
     "text": [
      "2023-11-27 10:24:19.706088: W tensorflow/tsl/framework/cpu_allocator_impl.cc:83] Allocation of 73085660 exceeds 10% of free system memory.\n"
     ]
    },
    {
     "name": "stdout",
     "output_type": "stream",
     "text": [
      "10/10 [==============================] - 0s 14ms/step - loss: 1.1800e-04 - accuracy: 1.0000\n",
      "Test Loss: 0.0001179955797852017\n",
      "Test Accuracy: 1.0\n"
     ]
    }
   ],
   "source": [
    "Q_model, Q_history = create_binary_class_model('Q')"
   ]
  },
  {
   "cell_type": "code",
   "execution_count": 20,
   "id": "526c91b2",
   "metadata": {},
   "outputs": [
    {
     "data": {
      "text/plain": [
       "<matplotlib.legend.Legend at 0x7ff2562ee9a0>"
      ]
     },
     "execution_count": 20,
     "metadata": {},
     "output_type": "execute_result"
    },
    {
     "data": {
      "image/png": "[encoded data removed]",
      "text/plain": [
       "<Figure size 640x480 with 1 Axes>"
      ]
     },
     "metadata": {},
     "output_type": "display_data"
    }
   ],
   "source": [
    "plt.plot(Q_history.history['accuracy'], label='Train Accuracy')\n",
    "plt.plot(Q_history.history['val_accuracy'], label='Validation Accuracy')\n",
    "plt.xlabel('Epochs')\n",
    "plt.ylabel('Accuracy')\n",
    "plt.legend()"
   ]
  },
  {
   "cell_type": "code",
   "execution_count": 21,
   "id": "fe561744",
   "metadata": {},
   "outputs": [
    {
     "data": {
      "text/plain": [
       "Text(0, 0.5, 'Accuracy [%]')"
      ]
     },
     "execution_count": 21,
     "metadata": {},
     "output_type": "execute_result"
    },
    {
     "data": {
      "image/png": "[encoded data removed]",
      "text/plain": [
       "<Figure size 1600x600 with 2 Axes>"
      ]
     },
     "metadata": {},
     "output_type": "display_data"
    }
   ],
   "source": [
    "metrics = Q_history.history\n",
    "plt.figure(figsize=(16,6))\n",
    "plt.subplot(1,2,1)\n",
    "plt.plot(Q_history.epoch, metrics['loss'], metrics['val_loss'])\n",
    "plt.legend(['loss', 'val_loss'])\n",
    "plt.ylim([0, max(plt.ylim())])\n",
    "plt.xlabel('Epoch')\n",
    "plt.ylabel('Loss [CrossEntropy]')\n",
    "\n",
    "plt.subplot(1,2,2)\n",
    "plt.plot(Q_history.epoch, 100*np.array(metrics['accuracy']), 100*np.array(metrics['val_accuracy']))\n",
    "plt.legend(['accuracy', 'val_accuracy'])\n",
    "plt.ylim([0, 100])\n",
    "plt.xlabel('Epoch')\n",
    "plt.ylabel('Accuracy [%]')"
   ]
  },
  {
   "cell_type": "code",
   "execution_count": 22,
   "id": "a2f3973c",
   "metadata": {},
   "outputs": [
    {
     "name": "stderr",
     "output_type": "stream",
     "text": [
      "2023-11-27 10:24:20.878047: W tensorflow/core/framework/op_kernel.cc:1828] OP_REQUIRES failed at whole_file_read_ops.cc:116 : NOT_FOUND: data/train/Q-3.wav; No such file or directory\n"
     ]
    },
    {
     "ename": "NotFoundError",
     "evalue": "{{function_node __wrapped__ReadFile_device_/job:localhost/replica:0/task:0/device:CPU:0}} data/train/Q-3.wav; No such file or directory [Op:ReadFile]",
     "output_type": "error",
     "traceback": [
      "\u001b[0;31m---------------------------------------------------------------------------\u001b[0m",
      "\u001b[0;31mNotFoundError\u001b[0m                             Traceback (most recent call last)",
      "\u001b[1;32m/home/hyochung/Keyboard_DL/simul_keyboard.ipynb Cell 24\u001b[0m line \u001b[0;36m2\n\u001b[1;32m     <a href='vscode-notebook-cell://wsl%2Bubuntu/home/hyochung/Keyboard_DL/simul_keyboard.ipynb#X32sdnNjb2RlLXJlbW90ZQ%3D%3D?line=18'>19</a>\u001b[0m     \u001b[39mprint\u001b[39m(\u001b[39mf\u001b[39m\u001b[39m\"\u001b[39m\u001b[39mThe model thinks it has \u001b[39m\u001b[39m{\u001b[39;00mprediction[\u001b[39m0\u001b[39m][\u001b[39m0\u001b[39m]\u001b[39m*\u001b[39m\u001b[39m100\u001b[39m\u001b[39m:\u001b[39;00m\u001b[39m.2f\u001b[39m\u001b[39m}\u001b[39;00m\u001b[39m%  chacne of being Q.\u001b[39m\u001b[39m\"\u001b[39m)\n\u001b[1;32m     <a href='vscode-notebook-cell://wsl%2Bubuntu/home/hyochung/Keyboard_DL/simul_keyboard.ipynb#X32sdnNjb2RlLXJlbW90ZQ%3D%3D?line=20'>21</a>\u001b[0m \u001b[39m# Call the function to test a random file\u001b[39;00m\n\u001b[0;32m---> <a href='vscode-notebook-cell://wsl%2Bubuntu/home/hyochung/Keyboard_DL/simul_keyboard.ipynb#X32sdnNjb2RlLXJlbW90ZQ%3D%3D?line=21'>22</a>\u001b[0m test_random_file()\n",
      "\u001b[1;32m/home/hyochung/Keyboard_DL/simul_keyboard.ipynb Cell 24\u001b[0m line \u001b[0;36m9\n\u001b[1;32m      <a href='vscode-notebook-cell://wsl%2Bubuntu/home/hyochung/Keyboard_DL/simul_keyboard.ipynb#X32sdnNjb2RlLXJlbW90ZQ%3D%3D?line=5'>6</a>\u001b[0m filename \u001b[39m=\u001b[39m \u001b[39mf\u001b[39m\u001b[39m\"\u001b[39m\u001b[39m{\u001b[39;00mDATA_DIR\u001b[39m}\u001b[39;00m\u001b[39m{\u001b[39;00mkey\u001b[39m}\u001b[39;00m\u001b[39m-\u001b[39m\u001b[39m{\u001b[39;00mnumber\u001b[39m}\u001b[39;00m\u001b[39m.wav\u001b[39m\u001b[39m\"\u001b[39m\n\u001b[1;32m      <a href='vscode-notebook-cell://wsl%2Bubuntu/home/hyochung/Keyboard_DL/simul_keyboard.ipynb#X32sdnNjb2RlLXJlbW90ZQ%3D%3D?line=7'>8</a>\u001b[0m \u001b[39mtry\u001b[39;00m:\n\u001b[0;32m----> <a href='vscode-notebook-cell://wsl%2Bubuntu/home/hyochung/Keyboard_DL/simul_keyboard.ipynb#X32sdnNjb2RlLXJlbW90ZQ%3D%3D?line=8'>9</a>\u001b[0m     spectrogram \u001b[39m=\u001b[39m get_spectrogram(filename)\n\u001b[1;32m     <a href='vscode-notebook-cell://wsl%2Bubuntu/home/hyochung/Keyboard_DL/simul_keyboard.ipynb#X32sdnNjb2RlLXJlbW90ZQ%3D%3D?line=9'>10</a>\u001b[0m \u001b[39mexcept\u001b[39;00m \u001b[39mFileNotFoundError\u001b[39;00m:\n\u001b[1;32m     <a href='vscode-notebook-cell://wsl%2Bubuntu/home/hyochung/Keyboard_DL/simul_keyboard.ipynb#X32sdnNjb2RlLXJlbW90ZQ%3D%3D?line=10'>11</a>\u001b[0m     \u001b[39mprint\u001b[39m(\u001b[39mf\u001b[39m\u001b[39m\"\u001b[39m\u001b[39mThe file \u001b[39m\u001b[39m'\u001b[39m\u001b[39m{\u001b[39;00mfilename\u001b[39m}\u001b[39;00m\u001b[39m'\u001b[39m\u001b[39m does not exist.\u001b[39m\u001b[39m\"\u001b[39m)\n",
      "\u001b[1;32m/home/hyochung/Keyboard_DL/simul_keyboard.ipynb Cell 24\u001b[0m line \u001b[0;36m2\n\u001b[1;32m      <a href='vscode-notebook-cell://wsl%2Bubuntu/home/hyochung/Keyboard_DL/simul_keyboard.ipynb#X32sdnNjb2RlLXJlbW90ZQ%3D%3D?line=0'>1</a>\u001b[0m \u001b[39mdef\u001b[39;00m \u001b[39mget_spectrogram\u001b[39m(filename):\n\u001b[0;32m----> <a href='vscode-notebook-cell://wsl%2Bubuntu/home/hyochung/Keyboard_DL/simul_keyboard.ipynb#X32sdnNjb2RlLXJlbW90ZQ%3D%3D?line=1'>2</a>\u001b[0m     wav \u001b[39m=\u001b[39m load_wav_16k_mono(filename)\n\u001b[1;32m      <a href='vscode-notebook-cell://wsl%2Bubuntu/home/hyochung/Keyboard_DL/simul_keyboard.ipynb#X32sdnNjb2RlLXJlbW90ZQ%3D%3D?line=2'>3</a>\u001b[0m     wav \u001b[39m=\u001b[39m wav[:\u001b[39m8000\u001b[39m]\n\u001b[1;32m      <a href='vscode-notebook-cell://wsl%2Bubuntu/home/hyochung/Keyboard_DL/simul_keyboard.ipynb#X32sdnNjb2RlLXJlbW90ZQ%3D%3D?line=3'>4</a>\u001b[0m     zero_padding \u001b[39m=\u001b[39m tf\u001b[39m.\u001b[39mzeros([\u001b[39m8000\u001b[39m] \u001b[39m-\u001b[39m tf\u001b[39m.\u001b[39mshape(wav), dtype\u001b[39m=\u001b[39mtf\u001b[39m.\u001b[39mfloat32)\n",
      "\u001b[1;32m/home/hyochung/Keyboard_DL/simul_keyboard.ipynb Cell 24\u001b[0m line \u001b[0;36m3\n\u001b[1;32m      <a href='vscode-notebook-cell://wsl%2Bubuntu/home/hyochung/Keyboard_DL/simul_keyboard.ipynb#X32sdnNjb2RlLXJlbW90ZQ%3D%3D?line=0'>1</a>\u001b[0m \u001b[39mdef\u001b[39;00m \u001b[39mload_wav_16k_mono\u001b[39m(filename):\n\u001b[1;32m      <a href='vscode-notebook-cell://wsl%2Bubuntu/home/hyochung/Keyboard_DL/simul_keyboard.ipynb#X32sdnNjb2RlLXJlbW90ZQ%3D%3D?line=1'>2</a>\u001b[0m     \u001b[39m# Load encoded wav file\u001b[39;00m\n\u001b[0;32m----> <a href='vscode-notebook-cell://wsl%2Bubuntu/home/hyochung/Keyboard_DL/simul_keyboard.ipynb#X32sdnNjb2RlLXJlbW90ZQ%3D%3D?line=2'>3</a>\u001b[0m     file_contents \u001b[39m=\u001b[39m tf\u001b[39m.\u001b[39;49mio\u001b[39m.\u001b[39;49mread_file(filename)\n\u001b[1;32m      <a href='vscode-notebook-cell://wsl%2Bubuntu/home/hyochung/Keyboard_DL/simul_keyboard.ipynb#X32sdnNjb2RlLXJlbW90ZQ%3D%3D?line=3'>4</a>\u001b[0m     \u001b[39m# Decode wav (tensors by channels) \u001b[39;00m\n\u001b[1;32m      <a href='vscode-notebook-cell://wsl%2Bubuntu/home/hyochung/Keyboard_DL/simul_keyboard.ipynb#X32sdnNjb2RlLXJlbW90ZQ%3D%3D?line=4'>5</a>\u001b[0m     wav, sample_rate \u001b[39m=\u001b[39m tf\u001b[39m.\u001b[39maudio\u001b[39m.\u001b[39mdecode_wav(file_contents, desired_channels\u001b[39m=\u001b[39m\u001b[39m1\u001b[39m)\n",
      "File \u001b[0;32m~/miniconda3/envs/tf/lib/python3.9/site-packages/tensorflow/python/ops/io_ops.py:133\u001b[0m, in \u001b[0;36mread_file\u001b[0;34m(filename, name)\u001b[0m\n\u001b[1;32m     96\u001b[0m \u001b[39m@tf_export\u001b[39m(\u001b[39m\"\u001b[39m\u001b[39mio.read_file\u001b[39m\u001b[39m\"\u001b[39m, v1\u001b[39m=\u001b[39m[\u001b[39m\"\u001b[39m\u001b[39mio.read_file\u001b[39m\u001b[39m\"\u001b[39m, \u001b[39m\"\u001b[39m\u001b[39mread_file\u001b[39m\u001b[39m\"\u001b[39m])\n\u001b[1;32m     97\u001b[0m \u001b[39mdef\u001b[39;00m \u001b[39mread_file\u001b[39m(filename, name\u001b[39m=\u001b[39m\u001b[39mNone\u001b[39;00m):\n\u001b[1;32m     98\u001b[0m \u001b[39m  \u001b[39m\u001b[39m\"\"\"Reads the contents of file.\u001b[39;00m\n\u001b[1;32m     99\u001b[0m \n\u001b[1;32m    100\u001b[0m \u001b[39m  This operation returns a tensor with the entire contents of the input\u001b[39;00m\n\u001b[0;32m   (...)\u001b[0m\n\u001b[1;32m    131\u001b[0m \u001b[39m    A tensor of dtype \"string\", with the file contents.\u001b[39;00m\n\u001b[1;32m    132\u001b[0m \u001b[39m  \"\"\"\u001b[39;00m\n\u001b[0;32m--> 133\u001b[0m   \u001b[39mreturn\u001b[39;00m gen_io_ops\u001b[39m.\u001b[39;49mread_file(filename, name)\n",
      "File \u001b[0;32m~/miniconda3/envs/tf/lib/python3.9/site-packages/tensorflow/python/ops/gen_io_ops.py:582\u001b[0m, in \u001b[0;36mread_file\u001b[0;34m(filename, name)\u001b[0m\n\u001b[1;32m    580\u001b[0m   \u001b[39mpass\u001b[39;00m\n\u001b[1;32m    581\u001b[0m \u001b[39mtry\u001b[39;00m:\n\u001b[0;32m--> 582\u001b[0m   \u001b[39mreturn\u001b[39;00m read_file_eager_fallback(\n\u001b[1;32m    583\u001b[0m       filename, name\u001b[39m=\u001b[39;49mname, ctx\u001b[39m=\u001b[39;49m_ctx)\n\u001b[1;32m    584\u001b[0m \u001b[39mexcept\u001b[39;00m _core\u001b[39m.\u001b[39m_SymbolicException:\n\u001b[1;32m    585\u001b[0m   \u001b[39mpass\u001b[39;00m  \u001b[39m# Add nodes to the TensorFlow graph.\u001b[39;00m\n",
      "File \u001b[0;32m~/miniconda3/envs/tf/lib/python3.9/site-packages/tensorflow/python/ops/gen_io_ops.py:605\u001b[0m, in \u001b[0;36mread_file_eager_fallback\u001b[0;34m(filename, name, ctx)\u001b[0m\n\u001b[1;32m    603\u001b[0m _inputs_flat \u001b[39m=\u001b[39m [filename]\n\u001b[1;32m    604\u001b[0m _attrs \u001b[39m=\u001b[39m \u001b[39mNone\u001b[39;00m\n\u001b[0;32m--> 605\u001b[0m _result \u001b[39m=\u001b[39m _execute\u001b[39m.\u001b[39;49mexecute(\u001b[39mb\u001b[39;49m\u001b[39m\"\u001b[39;49m\u001b[39mReadFile\u001b[39;49m\u001b[39m\"\u001b[39;49m, \u001b[39m1\u001b[39;49m, inputs\u001b[39m=\u001b[39;49m_inputs_flat,\n\u001b[1;32m    606\u001b[0m                            attrs\u001b[39m=\u001b[39;49m_attrs, ctx\u001b[39m=\u001b[39;49mctx, name\u001b[39m=\u001b[39;49mname)\n\u001b[1;32m    607\u001b[0m \u001b[39mif\u001b[39;00m _execute\u001b[39m.\u001b[39mmust_record_gradient():\n\u001b[1;32m    608\u001b[0m   _execute\u001b[39m.\u001b[39mrecord_gradient(\n\u001b[1;32m    609\u001b[0m       \u001b[39m\"\u001b[39m\u001b[39mReadFile\u001b[39m\u001b[39m\"\u001b[39m, _inputs_flat, _attrs, _result)\n",
      "File \u001b[0;32m~/miniconda3/envs/tf/lib/python3.9/site-packages/tensorflow/python/eager/execute.py:53\u001b[0m, in \u001b[0;36mquick_execute\u001b[0;34m(op_name, num_outputs, inputs, attrs, ctx, name)\u001b[0m\n\u001b[1;32m     51\u001b[0m \u001b[39mtry\u001b[39;00m:\n\u001b[1;32m     52\u001b[0m   ctx\u001b[39m.\u001b[39mensure_initialized()\n\u001b[0;32m---> 53\u001b[0m   tensors \u001b[39m=\u001b[39m pywrap_tfe\u001b[39m.\u001b[39;49mTFE_Py_Execute(ctx\u001b[39m.\u001b[39;49m_handle, device_name, op_name,\n\u001b[1;32m     54\u001b[0m                                       inputs, attrs, num_outputs)\n\u001b[1;32m     55\u001b[0m \u001b[39mexcept\u001b[39;00m core\u001b[39m.\u001b[39m_NotOkStatusException \u001b[39mas\u001b[39;00m e:\n\u001b[1;32m     56\u001b[0m   \u001b[39mif\u001b[39;00m name \u001b[39mis\u001b[39;00m \u001b[39mnot\u001b[39;00m \u001b[39mNone\u001b[39;00m:\n",
      "\u001b[0;31mNotFoundError\u001b[0m: {{function_node __wrapped__ReadFile_device_/job:localhost/replica:0/task:0/device:CPU:0}} data/train/Q-3.wav; No such file or directory [Op:ReadFile]"
     ]
    }
   ],
   "source": [
    "import random\n",
    "\n",
    "def test_random_file():\n",
    "    key = random.choice(['Q', 'W', 'E', 'R'])\n",
    "    number = random.randint(0, 200)\n",
    "    filename = f\"{DATA_DIR}{key}-{number}.wav\"\n",
    "\n",
    "    try:\n",
    "        spectrogram = get_spectrogram(filename)\n",
    "    except FileNotFoundError:\n",
    "        print(f\"The file '{filename}' does not exist.\")\n",
    "        return\n",
    "\n",
    "    spectrogram = np.expand_dims(spectrogram, 0)\n",
    "    prediction = Q_model.predict(spectrogram)\n",
    "    is_q = prediction[0] > 0.5\n",
    "\n",
    "    print(f\"The input file is '{filename}' and this is {'Q' if is_q else 'not Q'}.\")\n",
    "    print(f\"The model thinks it has {prediction[0][0]*100:.2f}%  chacne of being Q.\")\n",
    "\n",
    "# Call the function to test a random file\n",
    "test_random_file()"
   ]
  },
  {
   "cell_type": "code",
   "execution_count": null,
   "id": "7eba6a47",
   "metadata": {},
   "outputs": [],
   "source": [
    "Q_model.save('/home/hyochung/Keyboard_DL') #save mdoel"
   ]
  },
  {
   "cell_type": "code",
   "execution_count": null,
   "metadata": {},
   "outputs": [],
   "source": [
    "R_model, R_history = create_binary_class_model('R')"
   ]
  },
  {
   "cell_type": "code",
   "execution_count": null,
   "metadata": {},
   "outputs": [
    {
     "name": "stdout",
     "output_type": "stream",
     "text": [
      "1/1 [==============================] - 0s 23ms/step\n",
      "The input file is 'data/test/seperate/R-116.wav' and this is not R.\n",
      "The model thinks it has 0.00%  chacne of being R.\n"
     ]
    }
   ],
   "source": [
    "def test_random_file():\n",
    "    key = random.choice(['Q', 'W', 'E', 'R'])\n",
    "    number = random.randint(0, 200)\n",
    "    \n",
    "    key = 'R'\n",
    "    number = 116\n",
    "    DATA_DIR = os.path.join('data', 'test', 'seperate/')\n",
    "    \n",
    "    filename = f\"{DATA_DIR}{key}-{number}.wav\"\n",
    "\n",
    "    try:\n",
    "        spectrogram = get_spectrogram(filename)\n",
    "    except FileNotFoundError:\n",
    "        print(f\"The file '{filename}' does not exist.\")\n",
    "        return\n",
    "\n",
    "    spectrogram = np.expand_dims(spectrogram, 0)\n",
    "    prediction = Q_model.predict(spectrogram)\n",
    "    is_q = prediction[0] > 0.9\n",
    "\n",
    "    print(f\"The input file is '{filename}' and this is {'R' if is_q else 'not R'}.\")\n",
    "    print(f\"The model thinks it has {prediction[0][0]*100:.2f}%  chacne of being R.\")\n",
    "# Call the function to test a random file\n",
    "test_random_file()"
   ]
  },
  {
   "cell_type": "code",
   "execution_count": null,
   "metadata": {},
   "outputs": [],
   "source": [
    "def test_random_file():\n",
    "    key = random.choice(['Q', 'W', 'E', 'R'])\n",
    "    number = random.randint(0, 200)\n",
    "    filename = f\"{DATA_DIR}{key}-{number}.wav\"\n",
    "\n",
    "    try:\n",
    "        spectrogram = get_spectrogram(filename)\n",
    "    except FileNotFoundError:\n",
    "        print(f\"The file '{filename}' does not exist.\")\n",
    "        return\n",
    "\n",
    "    spectrogram = np.expand_dims(spectrogram, 0)\n",
    "    prediction = R_model.predict(spectrogram)\n",
    "    is_q = prediction[0] > 0.5\n",
    "\n",
    "    print(f\"The input file is '{filename}' and this is {'R' if is_q else 'not R'}.\")\n",
    "    print(f\"The model thinks it has {prediction[0][0]*100:.2f}%  chacne of being R.\")\n",
    "# Call the function to test a random file\n",
    "test_random_file()"
   ]
  },
  {
   "cell_type": "markdown",
   "metadata": {},
   "source": [
    "Long recording predictions"
   ]
  },
  {
   "cell_type": "code",
   "execution_count": null,
   "metadata": {},
   "outputs": [],
   "source": [
    "long_record_QQ = load_wav_16k_mono(os.path.join('data', 'test', 'Qqwweerr_2.wav'))\n",
    "audio_slices = tf.keras.utils.timeseries_dataset_from_array(long_record_QQ, long_record_QQ, sequence_length=8000, sequence_stride=8000, batch_size=1)"
   ]
  },
  {
   "cell_type": "code",
   "execution_count": null,
   "metadata": {},
   "outputs": [],
   "source": [
    "samples, index = audio_slices.as_numpy_iterator().next()"
   ]
  },
  {
   "cell_type": "code",
   "execution_count": null,
   "metadata": {},
   "outputs": [],
   "source": [
    "def preprocess_spectogram(samples, index):\n",
    "    samples = samples[0]\n",
    "    zero_padding = tf.zeros([8000] - tf.shape(samples), dtype=tf.float32)\n",
    "    wav = tf.concat([zero_padding, samples],0)\n",
    "    spectrogram = tf.signal.stft(wav, frame_length=320, frame_step=32)\n",
    "    spectrogram = tf.abs(spectrogram)\n",
    "    spectrogram = tf.expand_dims(spectrogram, axis = 2)\n",
    "    return spectrogram"
   ]
  },
  {
   "cell_type": "code",
   "execution_count": null,
   "metadata": {},
   "outputs": [],
   "source": [
    "audio_slices = tf.keras.utils.timeseries_dataset_from_array(long_record_QQ, long_record_QQ, sequence_length=8000, sequence_stride=8000, batch_size=1)\n",
    "audio_slices = audio_slices.map(preprocess_spectogram)  \n",
    "audio_slices = audio_slices.batch(64)"
   ]
  },
  {
   "cell_type": "code",
   "execution_count": null,
   "metadata": {},
   "outputs": [],
   "source": [
    "yhat = Q_model.predict(audio_slices)\n",
    "yhat = [1 if prediction > 0.70 else 0 for prediction in yhat]"
   ]
  },
  {
   "cell_type": "code",
   "execution_count": null,
   "metadata": {},
   "outputs": [],
   "source": [
    "yhat"
   ]
  },
  {
   "cell_type": "code",
   "execution_count": null,
   "metadata": {},
   "outputs": [],
   "source": [
    "long_record_QW = load_wav_16k_mono(os.path.join('data', 'test', 'Qwer-2.wav'))\n",
    "audio_slices = tf.keras.utils.timeseries_dataset_from_array(long_record_QW, long_record_QW, sequence_length=8000, sequence_stride=8000, batch_size=1)\n",
    "samples, index = audio_slices.as_numpy_iterator().next()\n",
    "def preprocess_spectogram(samples, index):\n",
    "    samples = samples[0]\n",
    "    zero_padding = tf.zeros([8000] - tf.shape(samples), dtype=tf.float32)\n",
    "    wav = tf.concat([zero_padding, samples],0)\n",
    "    spectrogram = tf.signal.stft(wav, frame_length=320, frame_step=32)\n",
    "    spectrogram = tf.abs(spectrogram)\n",
    "    spectrogram = tf.expand_dims(spectrogram, axis = 2)\n",
    "    return spectrogram\n",
    "audio_slices = tf.keras.utils.timeseries_dataset_from_array(long_record_QW, long_record_QW, sequence_length=8000, sequence_stride=8000, batch_size=1)\n",
    "audio_slices = audio_slices.map(preprocess_spectogram)  \n",
    "audio_slices = audio_slices.batch(64)\n",
    "yhat = Q_model.predict(audio_slices)\n",
    "yhat = [1 if prediction > 0.90 else 0 for prediction in yhat]\n",
    "yhat"
   ]
  },
  {
   "cell_type": "code",
   "execution_count": null,
   "metadata": {},
   "outputs": [],
   "source": [
    "long_record_QW = load_wav_16k_mono(os.path.join('data', 'test', 'Qwer-2.wav'))\n",
    "audio_slices = tf.keras.utils.timeseries_dataset_from_array(long_record_QW, long_record_QW, sequence_length=8000, sequence_stride=8000, batch_size=1)\n",
    "samples, index = audio_slices.as_numpy_iterator().next()\n",
    "def preprocess_spectogram(samples, index):\n",
    "    samples = samples[0]\n",
    "    zero_padding = tf.zeros([8000] - tf.shape(samples), dtype=tf.float32)\n",
    "    wav = tf.concat([zero_padding, samples],0)\n",
    "    spectrogram = tf.signal.stft(wav, frame_length=320, frame_step=32)\n",
    "    spectrogram = tf.abs(spectrogram)\n",
    "    spectrogram = tf.expand_dims(spectrogram, axis = 2)\n",
    "    return spectrogram\n",
    "audio_slices = tf.keras.utils.timeseries_dataset_from_array(long_record_QW, long_record_QW, sequence_length=8000, sequence_stride=8000, batch_size=1)\n",
    "audio_slices = audio_slices.map(preprocess_spectogram)  \n",
    "audio_slices = audio_slices.batch(64)\n",
    "yhat = R_model.predict(audio_slices)\n",
    "yhat = [1 if prediction > 0.90 else 0 for prediction in yhat]\n",
    "yhat"
   ]
  },
  {
   "cell_type": "code",
   "execution_count": null,
   "metadata": {},
   "outputs": [],
   "source": []
  }
 ],
 "metadata": {
  "kernelspec": {
   "display_name": "base",
   "language": "python",
   "name": "python3"
  },
  "language_info": {
   "codemirror_mode": {
    "name": "ipython",
    "version": 3
   },
   "file_extension": ".py",
   "mimetype": "text/x-python",
   "name": "python",
   "nbconvert_exporter": "python",
   "pygments_lexer": "ipython3",
   "version": "3.9.17"
  }
 },
 "nbformat": 4,
 "nbformat_minor": 5
}

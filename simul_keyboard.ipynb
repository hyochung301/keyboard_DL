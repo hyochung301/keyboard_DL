{
 "cells": [
  {
   "cell_type": "markdown",
   "id": "d4ab941c-53f8-467b-8ad4-0fe44d10c769",
   "metadata": {},
   "source": [
    "1. Import and Install Dependencies"
   ]
  },
  {
   "cell_type": "markdown",
   "id": "5e2a83a3-306f-4ba4-b59c-3cd7ef1709e7",
   "metadata": {},
   "source": [
    "1.1 Install Dependencies"
   ]
  },
  {
   "cell_type": "code",
   "execution_count": null,
   "id": "974c37cf-07f2-4053-b056-79b157b4b88d",
   "metadata": {
    "scrolled": true
   },
   "outputs": [],
   "source": [
    "%pip install tensorflow matplotlib tensorflow-io"
   ]
  },
  {
   "cell_type": "code",
   "execution_count": 1,
   "id": "0168fc08-022c-49ca-a7ff-7874b831e0b9",
   "metadata": {
    "scrolled": true
   },
   "outputs": [
    {
     "name": "stderr",
     "output_type": "stream",
     "text": [
      "2023-11-22 16:31:32.170319: I tensorflow/core/platform/cpu_feature_guard.cc:182] This TensorFlow binary is optimized to use available CPU instructions in performance-critical operations.\n",
      "To enable the following instructions: AVX2 FMA, in other operations, rebuild TensorFlow with the appropriate compiler flags.\n",
      "2023-11-22 16:31:33.421334: W tensorflow/compiler/tf2tensorrt/utils/py_utils.cc:38] TF-TRT Warning: Could not find TensorRT\n"
     ]
    }
   ],
   "source": [
    "%matplotlib inline\n",
    "import matplotlib.pyplot as plt\n",
    "import os\n",
    "from scipy.io import wavfile\n",
    "from collections import defaultdict, Counter\n",
    "from scipy import signal\n",
    "import numpy as np\n",
    "import librosa\n",
    "from sklearn import preprocessing\n",
    "import random as rn\n",
    "from keras.layers import Dense\n",
    "from keras import Input\n",
    "from tensorflow.keras.models import Model\n",
    "from keras.utils import to_categorical\n",
    "from keras.layers import Dense, TimeDistributed, Dropout, Bidirectional, GRU, BatchNormalization, Activation, LeakyReLU, LSTM, Flatten, RepeatVector, Permute, Multiply, Conv2D, MaxPooling2D\n",
    "import tensorflow as tf\n",
    "import random"
   ]
  },
  {
   "cell_type": "markdown",
   "id": "fe13c47f-76c3-43c6-b048-63b80dd33ce5",
   "metadata": {},
   "source": [
    "2. Data Loading"
   ]
  },
  {
   "cell_type": "code",
   "execution_count": 2,
   "id": "bd226490-6909-4db9-8c6b-240da2158ca0",
   "metadata": {
    "tags": []
   },
   "outputs": [
    {
     "name": "stderr",
     "output_type": "stream",
     "text": [
      "2023-11-22 16:31:37.522752: I tensorflow/compiler/xla/stream_executor/cuda/cuda_gpu_executor.cc:981] could not open file to read NUMA node: /sys/bus/pci/devices/0000:01:00.0/numa_node\n",
      "Your kernel may have been built without NUMA support.\n",
      "2023-11-22 16:31:37.914193: I tensorflow/compiler/xla/stream_executor/cuda/cuda_gpu_executor.cc:981] could not open file to read NUMA node: /sys/bus/pci/devices/0000:01:00.0/numa_node\n",
      "Your kernel may have been built without NUMA support.\n",
      "2023-11-22 16:31:37.914252: I tensorflow/compiler/xla/stream_executor/cuda/cuda_gpu_executor.cc:981] could not open file to read NUMA node: /sys/bus/pci/devices/0000:01:00.0/numa_node\n",
      "Your kernel may have been built without NUMA support.\n"
     ]
    }
   ],
   "source": [
    "# Avoid OOM errors by setting GPU Memory Consumption Growth\n",
    "gpus = tf.config.experimental.list_physical_devices('GPU')\n",
    "for gpu in gpus: \n",
    "    tf.config.experimental.set_memory_growth(gpu, True)"
   ]
  },
  {
   "cell_type": "code",
   "execution_count": 3,
   "id": "94676b38-96b1-4c23-b55d-53b2cd5bbc12",
   "metadata": {
    "scrolled": true
   },
   "outputs": [
    {
     "name": "stdout",
     "output_type": "stream",
     "text": [
      "1 Physical GPUs, 1 Logical GPUs\n"
     ]
    },
    {
     "name": "stderr",
     "output_type": "stream",
     "text": [
      "2023-11-22 16:31:38.071075: I tensorflow/compiler/xla/stream_executor/cuda/cuda_gpu_executor.cc:981] could not open file to read NUMA node: /sys/bus/pci/devices/0000:01:00.0/numa_node\n",
      "Your kernel may have been built without NUMA support.\n",
      "2023-11-22 16:31:38.071202: I tensorflow/compiler/xla/stream_executor/cuda/cuda_gpu_executor.cc:981] could not open file to read NUMA node: /sys/bus/pci/devices/0000:01:00.0/numa_node\n",
      "Your kernel may have been built without NUMA support.\n",
      "2023-11-22 16:31:38.071241: I tensorflow/compiler/xla/stream_executor/cuda/cuda_gpu_executor.cc:981] could not open file to read NUMA node: /sys/bus/pci/devices/0000:01:00.0/numa_node\n",
      "Your kernel may have been built without NUMA support.\n",
      "2023-11-22 16:31:40.202277: I tensorflow/compiler/xla/stream_executor/cuda/cuda_gpu_executor.cc:981] could not open file to read NUMA node: /sys/bus/pci/devices/0000:01:00.0/numa_node\n",
      "Your kernel may have been built without NUMA support.\n",
      "2023-11-22 16:31:40.202304: I tensorflow/core/common_runtime/gpu/gpu_device.cc:1726] Could not identify NUMA node of platform GPU id 0, defaulting to 0.  Your kernel may not have been built with NUMA support.\n",
      "2023-11-22 16:31:40.202374: I tensorflow/compiler/xla/stream_executor/cuda/cuda_gpu_executor.cc:981] could not open file to read NUMA node: /sys/bus/pci/devices/0000:01:00.0/numa_node\n",
      "Your kernel may have been built without NUMA support.\n",
      "2023-11-22 16:31:40.202413: I tensorflow/compiler/xla/stream_executor/cuda/cuda_gpu_executor.cc:981] could not open file to read NUMA node: /sys/bus/pci/devices/0000:01:00.0/numa_node\n",
      "Your kernel may have been built without NUMA support.\n",
      "2023-11-22 16:31:40.202453: I tensorflow/core/common_runtime/gpu/gpu_device.cc:1639] Created device /job:localhost/replica:0/task:0/device:GPU:0 with 3072 MB memory:  -> device: 0, name: NVIDIA GeForce GTX 1660 Ti, pci bus id: 0000:01:00.0, compute capability: 7.5\n"
     ]
    }
   ],
   "source": [
    "gpus = tf.config.list_physical_devices('GPU')\n",
    "if gpus:\n",
    "  # Restrict TensorFlow to only allocate 1GB of memory on the first GPU\n",
    "  try:\n",
    "    tf.config.set_logical_device_configuration(\n",
    "        gpus[0],\n",
    "        [tf.config.LogicalDeviceConfiguration(memory_limit=3072)])\n",
    "    logical_gpus = tf.config.list_logical_devices('GPU')\n",
    "    print(len(gpus), \"Physical GPUs,\", len(logical_gpus), \"Logical GPUs\")\n",
    "  except RuntimeError as e:\n",
    "    # Virtual devices must be set before GPUs have been initialized\n",
    "    print(e)"
   ]
  },
  {
   "cell_type": "code",
   "execution_count": 4,
   "id": "c5b7b17f-cc6e-4171-a659-dca32797a7ee",
   "metadata": {},
   "outputs": [
    {
     "data": {
      "text/plain": [
       "[PhysicalDevice(name='/physical_device:GPU:0', device_type='GPU')]"
      ]
     },
     "execution_count": 4,
     "metadata": {},
     "output_type": "execute_result"
    }
   ],
   "source": [
    "tf.config.list_physical_devices('GPU')"
   ]
  },
  {
   "cell_type": "code",
   "execution_count": 19,
   "id": "10d5b60d-6ec9-4e45-9cb6-b6ad6f4c73d9",
   "metadata": {},
   "outputs": [],
   "source": [
    "DATA_DIR = os.path.join('data', 'train/')\n",
    "def get_data_dir(label):\n",
    "    return os.path.join('data', 'train2', label, '/')"
   ]
  },
  {
   "cell_type": "code",
   "execution_count": 7,
   "id": "19a347db-7204-4092-86cc-bbdb3b0e2274",
   "metadata": {},
   "outputs": [
    {
     "name": "stdout",
     "output_type": "stream",
     "text": [
      "sr: 16000\n",
      "wav shape: (7040,)\n",
      "length: 0.44 secs\n"
     ]
    }
   ],
   "source": [
    "check_dir = os.path.join('data', 'train/')\n",
    "\n",
    "wav, sr = librosa.load(check_dir + 'Q-01.wav', sr=16000)\n",
    "print('sr:', sr)\n",
    "print('wav shape:', wav.shape)\n",
    "print('length:', wav.shape[0]/float(sr), 'secs')"
   ]
  },
  {
   "cell_type": "code",
   "execution_count": 8,
   "id": "387ed053-15fa-40ff-8290-3f32e3dd068f",
   "metadata": {},
   "outputs": [
    {
     "name": "stdout",
     "output_type": "stream",
     "text": [
      "[<matplotlib.lines.Line2D object at 0x7f1878e9a490>]\n",
      "[<matplotlib.lines.Line2D object at 0x7f1878e9a880>]\n"
     ]
    },
    {
     "data": {
      "image/png": "[encoded data removed]",
      "text/plain": [
       "<Figure size 640x480 with 1 Axes>"
      ]
     },
     "metadata": {},
     "output_type": "display_data"
    }
   ],
   "source": [
    "# raw wave\n",
    "print(plt.plot(wav))\n",
    "print(plt.plot(wav[0:500]))"
   ]
  },
  {
   "cell_type": "code",
   "execution_count": 9,
   "id": "7d5bdb87-9a60-4935-8f31-61da98c92a43",
   "metadata": {},
   "outputs": [],
   "source": [
    "train_mlp = []\n",
    "train_spectrograms = []\n",
    "train_mel_spectrograms = []\n",
    "train_mfccs = []\n",
    "train_y = []\n",
    "\n",
    "test_mlp = []\n",
    "test_spectrograms = []\n",
    "test_mel_spectrograms = []\n",
    "test_mfccs = []\n",
    "test_y = []\n",
    "\n",
    "# 모든 음성파일의 길이가 같도록 후위에 padding 처리\n",
    "pad1d = lambda a, i: a[0: i] if a.shape[0] > i else np.hstack((a, np.zeros(i-a.shape[0])))\n",
    "pad2d = lambda a, i: a[:, 0:i] if a.shape[1] > i else np.hstack((a, np.zeros((a.shape[0], i-a.shape[1]))))\n",
    "\n",
    "frame_length = 0.025\n",
    "frame_stride = 0.0010"
   ]
  },
  {
   "cell_type": "code",
   "execution_count": 10,
   "id": "f42108aa-5c3b-42d4-a27f-3c05056f6d1c",
   "metadata": {
    "scrolled": true
   },
   "outputs": [],
   "source": [
    "from sklearn.model_selection import train_test_split"
   ]
  },
  {
   "cell_type": "markdown",
   "id": "b49e6132",
   "metadata": {},
   "source": [
    "Spectogram and binary classification by each label"
   ]
  },
  {
   "cell_type": "code",
   "execution_count": 11,
   "metadata": {},
   "outputs": [],
   "source": [
    "def get_spectrogram(filename):\n",
    "    wav, sr = librosa.load(filename, sr=16000)\n",
    "    spectrogram = np.abs(librosa.stft(wav))\n",
    "    padded_spectrogram = pad2d(spectrogram, 40)\n",
    "    return padded_spectrogram"
   ]
  },
  {
   "cell_type": "code",
   "execution_count": 15,
   "id": "e9c78e31-fd53-44ff-887a-78c252587a78",
   "metadata": {},
   "outputs": [],
   "source": [
    "def create_binary_class_model(key):\n",
    "    X = []\n",
    "    y = []\n",
    "    \n",
    "    data_dir = os.path.join('data', 'train/')\n",
    "    for filename in os.listdir(data_dir):\n",
    "        if '.wav' not in filename:\n",
    "            continue\n",
    "\n",
    "        spectrogram = get_spectrogram(data_dir + filename)\n",
    "        label = 1 if key == filename[0] else 0  # 'Q' is 1, 'not Q' is 0\n",
    "\n",
    "        X.append(spectrogram)\n",
    "        y.append(label)\n",
    "\n",
    "    train_spectrograms, test_spectrograms, train_y, test_y = train_test_split(X, y, test_size=0.2, random_state=42)\n",
    "\n",
    "    train_spectrograms = np.array(train_spectrograms)\n",
    "    train_y = np.array(train_y)  \n",
    "\n",
    "    test_spectrograms = np.array(test_spectrograms)\n",
    "    test_y = np.array(test_y)  \n",
    "\n",
    "    print('train_mfccs:', train_spectrograms.shape)\n",
    "    print('train_y:', train_y.shape)\n",
    "\n",
    "    print('test_mfccs:', test_spectrograms.shape)\n",
    "    print('test_y:', test_y.shape)\n",
    "    train_spectrograms = np.expand_dims(train_spectrograms, -1)\n",
    "    test_spectrograms = np.expand_dims(test_spectrograms, -1)\n",
    "    print('train_spectograms shape:', train_spectrograms.shape)\n",
    "    print('test_spectograms shape:', test_spectrograms.shape)\n",
    "    ip = Input(shape=train_spectrograms[0].shape)\n",
    "\n",
    "    m = Conv2D(32, kernel_size=(4,4), activation='relu')(ip)\n",
    "    m = MaxPooling2D(pool_size=(4,4))(m)\n",
    "\n",
    "    m = Conv2D(32*2, kernel_size=(4,4), activation='relu')(ip)\n",
    "    m = MaxPooling2D(pool_size=(4,4))(m)\n",
    "\n",
    "    m = Conv2D(32 * 3, kernel_size=(4, 4), activation='relu')(ip)\n",
    "    m = MaxPooling2D(pool_size=(4,4))(m)\n",
    "\n",
    "    m = Flatten()(m)\n",
    "\n",
    "    m = Dense(64, activation='relu')(m)\n",
    "\n",
    "    m = Dense(32, activation='relu')(m)\n",
    "\n",
    "    op = Dense(1, activation='sigmoid')(m) \n",
    "\n",
    "    model = Model(ip, op)\n",
    "\n",
    "    model.summary()\n",
    "\n",
    "    model.compile(loss='binary_crossentropy',  \n",
    "                optimizer='adam',\n",
    "                metrics=['accuracy'])\n",
    "\n",
    "    history = model.fit(train_spectrograms,\n",
    "                        train_y,\n",
    "                        epochs=100,\n",
    "                        batch_size=32,\n",
    "                        verbose=1,\n",
    "                        validation_data=(test_spectrograms, test_y))\n",
    "    return model, history"
   ]
  },
  {
   "cell_type": "markdown",
   "metadata": {},
   "source": [
    "Q"
   ]
  },
  {
   "cell_type": "code",
   "execution_count": 16,
   "metadata": {},
   "outputs": [
    {
     "name": "stdout",
     "output_type": "stream",
     "text": [
      "train_mfccs: (1184, 1025, 40)\n",
      "train_y: (1184,)\n",
      "test_mfccs: (296, 1025, 40)\n",
      "test_y: (296,)\n",
      "train_spectograms shape: (1184, 1025, 40, 1)\n",
      "test_spectograms shape: (296, 1025, 40, 1)\n",
      "Model: \"model_1\"\n",
      "_________________________________________________________________\n",
      " Layer (type)                Output Shape              Param #   \n",
      "=================================================================\n",
      " input_2 (InputLayer)        [(None, 1025, 40, 1)]     0         \n",
      "                                                                 \n",
      " conv2d_5 (Conv2D)           (None, 1022, 37, 96)      1632      \n",
      "                                                                 \n",
      " max_pooling2d_5 (MaxPoolin  (None, 255, 9, 96)        0         \n",
      " g2D)                                                            \n",
      "                                                                 \n",
      " flatten_1 (Flatten)         (None, 220320)            0         \n",
      "                                                                 \n",
      " dense_3 (Dense)             (None, 64)                14100544  \n",
      "                                                                 \n",
      " dense_4 (Dense)             (None, 32)                2080      \n",
      "                                                                 \n",
      " dense_5 (Dense)             (None, 1)                 33        \n",
      "                                                                 \n",
      "=================================================================\n",
      "Total params: 14104289 (53.80 MB)\n",
      "Trainable params: 14104289 (53.80 MB)\n",
      "Non-trainable params: 0 (0.00 Byte)\n",
      "_________________________________________________________________\n",
      "Epoch 1/100\n"
     ]
    },
    {
     "name": "stderr",
     "output_type": "stream",
     "text": [
      "2023-11-22 16:42:27.853597: W tensorflow/tsl/framework/cpu_allocator_impl.cc:83] Allocation of 194176000 exceeds 10% of free system memory.\n",
      "2023-11-22 16:42:28.008255: W tensorflow/tsl/framework/cpu_allocator_impl.cc:83] Allocation of 194176000 exceeds 10% of free system memory.\n"
     ]
    },
    {
     "name": "stdout",
     "output_type": "stream",
     "text": [
      "37/37 [==============================] - 3s 48ms/step - loss: 0.2782 - accuracy: 0.9003 - val_loss: 0.0474 - val_accuracy: 0.9865\n",
      "Epoch 2/100\n",
      "37/37 [==============================] - 2s 43ms/step - loss: 0.0115 - accuracy: 0.9992 - val_loss: 0.0064 - val_accuracy: 0.9966\n",
      "Epoch 3/100\n",
      "37/37 [==============================] - 2s 42ms/step - loss: 0.0017 - accuracy: 1.0000 - val_loss: 0.0048 - val_accuracy: 0.9966\n",
      "Epoch 4/100\n",
      "37/37 [==============================] - 2s 42ms/step - loss: 8.6049e-04 - accuracy: 1.0000 - val_loss: 0.0038 - val_accuracy: 1.0000\n",
      "Epoch 5/100\n",
      "37/37 [==============================] - 2s 41ms/step - loss: 5.5149e-04 - accuracy: 1.0000 - val_loss: 0.0013 - val_accuracy: 1.0000\n",
      "Epoch 6/100\n",
      "37/37 [==============================] - 2s 42ms/step - loss: 3.3785e-04 - accuracy: 1.0000 - val_loss: 0.0015 - val_accuracy: 1.0000\n",
      "Epoch 7/100\n",
      "37/37 [==============================] - 2s 42ms/step - loss: 2.1727e-04 - accuracy: 1.0000 - val_loss: 0.0021 - val_accuracy: 1.0000\n",
      "Epoch 8/100\n",
      "37/37 [==============================] - 2s 41ms/step - loss: 1.7262e-04 - accuracy: 1.0000 - val_loss: 5.4789e-04 - val_accuracy: 1.0000\n",
      "Epoch 9/100\n",
      "37/37 [==============================] - 2s 42ms/step - loss: 1.0487e-04 - accuracy: 1.0000 - val_loss: 6.7362e-04 - val_accuracy: 1.0000\n",
      "Epoch 10/100\n",
      "37/37 [==============================] - 2s 42ms/step - loss: 8.2520e-05 - accuracy: 1.0000 - val_loss: 2.8006e-04 - val_accuracy: 1.0000\n",
      "Epoch 11/100\n",
      "37/37 [==============================] - 2s 42ms/step - loss: 6.4532e-05 - accuracy: 1.0000 - val_loss: 3.3692e-04 - val_accuracy: 1.0000\n",
      "Epoch 12/100\n",
      "37/37 [==============================] - 2s 42ms/step - loss: 4.9197e-05 - accuracy: 1.0000 - val_loss: 2.1566e-04 - val_accuracy: 1.0000\n",
      "Epoch 13/100\n",
      "37/37 [==============================] - 2s 42ms/step - loss: 4.0388e-05 - accuracy: 1.0000 - val_loss: 3.5759e-04 - val_accuracy: 1.0000\n",
      "Epoch 14/100\n",
      "37/37 [==============================] - 2s 42ms/step - loss: 3.3639e-05 - accuracy: 1.0000 - val_loss: 2.4967e-04 - val_accuracy: 1.0000\n",
      "Epoch 15/100\n",
      "37/37 [==============================] - 2s 42ms/step - loss: 2.7424e-05 - accuracy: 1.0000 - val_loss: 1.5157e-04 - val_accuracy: 1.0000\n",
      "Epoch 16/100\n",
      "37/37 [==============================] - 2s 42ms/step - loss: 2.5099e-05 - accuracy: 1.0000 - val_loss: 1.6392e-04 - val_accuracy: 1.0000\n",
      "Epoch 17/100\n",
      "37/37 [==============================] - 2s 42ms/step - loss: 2.3336e-05 - accuracy: 1.0000 - val_loss: 1.9502e-04 - val_accuracy: 1.0000\n",
      "Epoch 18/100\n",
      "37/37 [==============================] - 2s 42ms/step - loss: 1.7522e-05 - accuracy: 1.0000 - val_loss: 1.8512e-04 - val_accuracy: 1.0000\n",
      "Epoch 19/100\n",
      "37/37 [==============================] - 2s 42ms/step - loss: 1.4959e-05 - accuracy: 1.0000 - val_loss: 1.4548e-04 - val_accuracy: 1.0000\n",
      "Epoch 20/100\n",
      "37/37 [==============================] - 2s 42ms/step - loss: 1.3371e-05 - accuracy: 1.0000 - val_loss: 1.1480e-04 - val_accuracy: 1.0000\n",
      "Epoch 21/100\n",
      "37/37 [==============================] - 2s 43ms/step - loss: 1.1872e-05 - accuracy: 1.0000 - val_loss: 1.1214e-04 - val_accuracy: 1.0000\n",
      "Epoch 22/100\n",
      "37/37 [==============================] - 2s 42ms/step - loss: 1.0735e-05 - accuracy: 1.0000 - val_loss: 9.2989e-05 - val_accuracy: 1.0000\n",
      "Epoch 23/100\n",
      "37/37 [==============================] - 2s 42ms/step - loss: 9.3918e-06 - accuracy: 1.0000 - val_loss: 1.1047e-04 - val_accuracy: 1.0000\n",
      "Epoch 24/100\n",
      "37/37 [==============================] - 2s 42ms/step - loss: 8.5630e-06 - accuracy: 1.0000 - val_loss: 1.0433e-04 - val_accuracy: 1.0000\n",
      "Epoch 25/100\n",
      "37/37 [==============================] - 2s 42ms/step - loss: 7.8709e-06 - accuracy: 1.0000 - val_loss: 8.1471e-05 - val_accuracy: 1.0000\n",
      "Epoch 26/100\n",
      "37/37 [==============================] - 2s 42ms/step - loss: 7.2254e-06 - accuracy: 1.0000 - val_loss: 9.0783e-05 - val_accuracy: 1.0000\n",
      "Epoch 27/100\n",
      "37/37 [==============================] - 2s 42ms/step - loss: 6.5682e-06 - accuracy: 1.0000 - val_loss: 8.7642e-05 - val_accuracy: 1.0000\n",
      "Epoch 28/100\n",
      "37/37 [==============================] - 2s 42ms/step - loss: 5.9883e-06 - accuracy: 1.0000 - val_loss: 6.6681e-05 - val_accuracy: 1.0000\n",
      "Epoch 29/100\n",
      "37/37 [==============================] - 2s 42ms/step - loss: 5.5594e-06 - accuracy: 1.0000 - val_loss: 7.1431e-05 - val_accuracy: 1.0000\n",
      "Epoch 30/100\n",
      "37/37 [==============================] - 2s 43ms/step - loss: 5.0373e-06 - accuracy: 1.0000 - val_loss: 7.5827e-05 - val_accuracy: 1.0000\n",
      "Epoch 31/100\n",
      "37/37 [==============================] - 2s 42ms/step - loss: 4.6698e-06 - accuracy: 1.0000 - val_loss: 6.4671e-05 - val_accuracy: 1.0000\n",
      "Epoch 32/100\n",
      "37/37 [==============================] - 2s 42ms/step - loss: 4.3202e-06 - accuracy: 1.0000 - val_loss: 7.5723e-05 - val_accuracy: 1.0000\n",
      "Epoch 33/100\n",
      "37/37 [==============================] - 2s 42ms/step - loss: 4.0451e-06 - accuracy: 1.0000 - val_loss: 5.4686e-05 - val_accuracy: 1.0000\n",
      "Epoch 34/100\n",
      "37/37 [==============================] - 2s 43ms/step - loss: 3.8037e-06 - accuracy: 1.0000 - val_loss: 6.3503e-05 - val_accuracy: 1.0000\n",
      "Epoch 35/100\n",
      "37/37 [==============================] - 2s 43ms/step - loss: 3.4880e-06 - accuracy: 1.0000 - val_loss: 6.1907e-05 - val_accuracy: 1.0000\n",
      "Epoch 36/100\n",
      "37/37 [==============================] - 2s 42ms/step - loss: 3.3054e-06 - accuracy: 1.0000 - val_loss: 5.8643e-05 - val_accuracy: 1.0000\n",
      "Epoch 37/100\n",
      "37/37 [==============================] - 2s 43ms/step - loss: 3.0732e-06 - accuracy: 1.0000 - val_loss: 5.9731e-05 - val_accuracy: 1.0000\n",
      "Epoch 38/100\n",
      "37/37 [==============================] - 2s 43ms/step - loss: 2.8969e-06 - accuracy: 1.0000 - val_loss: 5.8691e-05 - val_accuracy: 1.0000\n",
      "Epoch 39/100\n",
      "37/37 [==============================] - 2s 42ms/step - loss: 2.7186e-06 - accuracy: 1.0000 - val_loss: 5.2581e-05 - val_accuracy: 1.0000\n",
      "Epoch 40/100\n",
      "37/37 [==============================] - 2s 42ms/step - loss: 2.5976e-06 - accuracy: 1.0000 - val_loss: 5.3665e-05 - val_accuracy: 1.0000\n",
      "Epoch 41/100\n",
      "37/37 [==============================] - 2s 43ms/step - loss: 2.4408e-06 - accuracy: 1.0000 - val_loss: 4.5321e-05 - val_accuracy: 1.0000\n",
      "Epoch 42/100\n",
      "37/37 [==============================] - 2s 42ms/step - loss: 2.2506e-06 - accuracy: 1.0000 - val_loss: 4.6261e-05 - val_accuracy: 1.0000\n",
      "Epoch 43/100\n",
      "37/37 [==============================] - 2s 42ms/step - loss: 2.1675e-06 - accuracy: 1.0000 - val_loss: 4.4825e-05 - val_accuracy: 1.0000\n",
      "Epoch 44/100\n",
      "37/37 [==============================] - 2s 42ms/step - loss: 2.0669e-06 - accuracy: 1.0000 - val_loss: 4.3318e-05 - val_accuracy: 1.0000\n",
      "Epoch 45/100\n",
      "37/37 [==============================] - 2s 42ms/step - loss: 1.9177e-06 - accuracy: 1.0000 - val_loss: 4.0857e-05 - val_accuracy: 1.0000\n",
      "Epoch 46/100\n",
      "37/37 [==============================] - 2s 43ms/step - loss: 1.8112e-06 - accuracy: 1.0000 - val_loss: 4.4867e-05 - val_accuracy: 1.0000\n",
      "Epoch 47/100\n",
      "37/37 [==============================] - 2s 42ms/step - loss: 1.7278e-06 - accuracy: 1.0000 - val_loss: 4.2471e-05 - val_accuracy: 1.0000\n",
      "Epoch 48/100\n",
      "37/37 [==============================] - 2s 42ms/step - loss: 1.6393e-06 - accuracy: 1.0000 - val_loss: 4.0673e-05 - val_accuracy: 1.0000\n",
      "Epoch 49/100\n",
      "37/37 [==============================] - 2s 42ms/step - loss: 1.5974e-06 - accuracy: 1.0000 - val_loss: 3.8807e-05 - val_accuracy: 1.0000\n",
      "Epoch 50/100\n",
      "37/37 [==============================] - 2s 42ms/step - loss: 1.4829e-06 - accuracy: 1.0000 - val_loss: 3.2745e-05 - val_accuracy: 1.0000\n",
      "Epoch 51/100\n",
      "37/37 [==============================] - 2s 42ms/step - loss: 1.4162e-06 - accuracy: 1.0000 - val_loss: 3.6450e-05 - val_accuracy: 1.0000\n",
      "Epoch 52/100\n",
      "37/37 [==============================] - 2s 43ms/step - loss: 1.3783e-06 - accuracy: 1.0000 - val_loss: 3.3168e-05 - val_accuracy: 1.0000\n",
      "Epoch 53/100\n",
      "37/37 [==============================] - 2s 42ms/step - loss: 1.2791e-06 - accuracy: 1.0000 - val_loss: 3.8371e-05 - val_accuracy: 1.0000\n",
      "Epoch 54/100\n",
      "37/37 [==============================] - 2s 43ms/step - loss: 1.2289e-06 - accuracy: 1.0000 - val_loss: 3.2504e-05 - val_accuracy: 1.0000\n",
      "Epoch 55/100\n",
      "37/37 [==============================] - 2s 42ms/step - loss: 1.1812e-06 - accuracy: 1.0000 - val_loss: 3.2893e-05 - val_accuracy: 1.0000\n",
      "Epoch 56/100\n",
      "37/37 [==============================] - 2s 42ms/step - loss: 1.1262e-06 - accuracy: 1.0000 - val_loss: 3.5320e-05 - val_accuracy: 1.0000\n",
      "Epoch 57/100\n",
      "37/37 [==============================] - 2s 42ms/step - loss: 1.0820e-06 - accuracy: 1.0000 - val_loss: 3.2369e-05 - val_accuracy: 1.0000\n",
      "Epoch 58/100\n",
      "37/37 [==============================] - 2s 42ms/step - loss: 1.0330e-06 - accuracy: 1.0000 - val_loss: 3.3758e-05 - val_accuracy: 1.0000\n",
      "Epoch 59/100\n",
      "37/37 [==============================] - 2s 43ms/step - loss: 9.9660e-07 - accuracy: 1.0000 - val_loss: 2.9635e-05 - val_accuracy: 1.0000\n",
      "Epoch 60/100\n",
      "37/37 [==============================] - 2s 42ms/step - loss: 9.5587e-07 - accuracy: 1.0000 - val_loss: 2.7961e-05 - val_accuracy: 1.0000\n",
      "Epoch 61/100\n",
      "37/37 [==============================] - 2s 42ms/step - loss: 9.0798e-07 - accuracy: 1.0000 - val_loss: 3.0129e-05 - val_accuracy: 1.0000\n",
      "Epoch 62/100\n",
      "37/37 [==============================] - 2s 43ms/step - loss: 8.7956e-07 - accuracy: 1.0000 - val_loss: 3.0240e-05 - val_accuracy: 1.0000\n",
      "Epoch 63/100\n",
      "37/37 [==============================] - 2s 42ms/step - loss: 8.5901e-07 - accuracy: 1.0000 - val_loss: 2.7306e-05 - val_accuracy: 1.0000\n",
      "Epoch 64/100\n",
      "37/37 [==============================] - 2s 42ms/step - loss: 8.2013e-07 - accuracy: 1.0000 - val_loss: 2.8912e-05 - val_accuracy: 1.0000\n",
      "Epoch 65/100\n",
      "37/37 [==============================] - 2s 42ms/step - loss: 7.7943e-07 - accuracy: 1.0000 - val_loss: 2.6957e-05 - val_accuracy: 1.0000\n",
      "Epoch 66/100\n",
      "37/37 [==============================] - 2s 42ms/step - loss: 7.4625e-07 - accuracy: 1.0000 - val_loss: 2.7192e-05 - val_accuracy: 1.0000\n",
      "Epoch 67/100\n",
      "37/37 [==============================] - 2s 43ms/step - loss: 7.1395e-07 - accuracy: 1.0000 - val_loss: 2.8095e-05 - val_accuracy: 1.0000\n",
      "Epoch 68/100\n",
      "37/37 [==============================] - 2s 43ms/step - loss: 6.8508e-07 - accuracy: 1.0000 - val_loss: 2.3902e-05 - val_accuracy: 1.0000\n",
      "Epoch 69/100\n",
      "37/37 [==============================] - 2s 42ms/step - loss: 6.7273e-07 - accuracy: 1.0000 - val_loss: 2.4165e-05 - val_accuracy: 1.0000\n",
      "Epoch 70/100\n",
      "37/37 [==============================] - 2s 43ms/step - loss: 6.4454e-07 - accuracy: 1.0000 - val_loss: 2.5595e-05 - val_accuracy: 1.0000\n",
      "Epoch 71/100\n",
      "37/37 [==============================] - 2s 42ms/step - loss: 6.2447e-07 - accuracy: 1.0000 - val_loss: 2.3783e-05 - val_accuracy: 1.0000\n",
      "Epoch 72/100\n",
      "37/37 [==============================] - 2s 42ms/step - loss: 6.0105e-07 - accuracy: 1.0000 - val_loss: 2.3040e-05 - val_accuracy: 1.0000\n",
      "Epoch 73/100\n",
      "37/37 [==============================] - 2s 42ms/step - loss: 5.7724e-07 - accuracy: 1.0000 - val_loss: 2.4625e-05 - val_accuracy: 1.0000\n",
      "Epoch 74/100\n",
      "37/37 [==============================] - 2s 42ms/step - loss: 5.5902e-07 - accuracy: 1.0000 - val_loss: 2.5217e-05 - val_accuracy: 1.0000\n",
      "Epoch 75/100\n",
      "37/37 [==============================] - 2s 42ms/step - loss: 5.4912e-07 - accuracy: 1.0000 - val_loss: 2.1721e-05 - val_accuracy: 1.0000\n",
      "Epoch 76/100\n",
      "37/37 [==============================] - 2s 42ms/step - loss: 5.1900e-07 - accuracy: 1.0000 - val_loss: 2.4064e-05 - val_accuracy: 1.0000\n",
      "Epoch 77/100\n",
      "37/37 [==============================] - 2s 42ms/step - loss: 5.0491e-07 - accuracy: 1.0000 - val_loss: 2.1743e-05 - val_accuracy: 1.0000\n",
      "Epoch 78/100\n",
      "37/37 [==============================] - 2s 43ms/step - loss: 4.9416e-07 - accuracy: 1.0000 - val_loss: 2.1464e-05 - val_accuracy: 1.0000\n",
      "Epoch 79/100\n",
      "37/37 [==============================] - 2s 42ms/step - loss: 4.7140e-07 - accuracy: 1.0000 - val_loss: 2.2409e-05 - val_accuracy: 1.0000\n",
      "Epoch 80/100\n",
      "37/37 [==============================] - 2s 42ms/step - loss: 4.5711e-07 - accuracy: 1.0000 - val_loss: 2.3074e-05 - val_accuracy: 1.0000\n",
      "Epoch 81/100\n",
      "37/37 [==============================] - 2s 42ms/step - loss: 4.3681e-07 - accuracy: 1.0000 - val_loss: 2.1399e-05 - val_accuracy: 1.0000\n",
      "Epoch 82/100\n",
      "37/37 [==============================] - 2s 43ms/step - loss: 4.2942e-07 - accuracy: 1.0000 - val_loss: 2.1163e-05 - val_accuracy: 1.0000\n",
      "Epoch 83/100\n",
      "37/37 [==============================] - 2s 42ms/step - loss: 4.1277e-07 - accuracy: 1.0000 - val_loss: 2.0930e-05 - val_accuracy: 1.0000\n",
      "Epoch 84/100\n",
      "37/37 [==============================] - 2s 43ms/step - loss: 3.9844e-07 - accuracy: 1.0000 - val_loss: 2.0108e-05 - val_accuracy: 1.0000\n",
      "Epoch 85/100\n",
      "37/37 [==============================] - 2s 42ms/step - loss: 3.8755e-07 - accuracy: 1.0000 - val_loss: 2.0545e-05 - val_accuracy: 1.0000\n",
      "Epoch 86/100\n",
      "37/37 [==============================] - 2s 43ms/step - loss: 3.7519e-07 - accuracy: 1.0000 - val_loss: 1.8971e-05 - val_accuracy: 1.0000\n",
      "Epoch 87/100\n",
      "37/37 [==============================] - 2s 43ms/step - loss: 3.6535e-07 - accuracy: 1.0000 - val_loss: 1.8991e-05 - val_accuracy: 1.0000\n",
      "Epoch 88/100\n",
      "37/37 [==============================] - 2s 43ms/step - loss: 3.4912e-07 - accuracy: 1.0000 - val_loss: 1.8823e-05 - val_accuracy: 1.0000\n",
      "Epoch 89/100\n",
      "37/37 [==============================] - 2s 43ms/step - loss: 3.3531e-07 - accuracy: 1.0000 - val_loss: 1.9137e-05 - val_accuracy: 1.0000\n",
      "Epoch 90/100\n",
      "37/37 [==============================] - 2s 42ms/step - loss: 3.3238e-07 - accuracy: 1.0000 - val_loss: 1.7461e-05 - val_accuracy: 1.0000\n",
      "Epoch 91/100\n",
      "37/37 [==============================] - 2s 43ms/step - loss: 3.1976e-07 - accuracy: 1.0000 - val_loss: 1.7679e-05 - val_accuracy: 1.0000\n",
      "Epoch 92/100\n",
      "37/37 [==============================] - 2s 42ms/step - loss: 3.0238e-07 - accuracy: 1.0000 - val_loss: 2.0695e-05 - val_accuracy: 1.0000\n",
      "Epoch 93/100\n",
      "37/37 [==============================] - 2s 42ms/step - loss: 2.9025e-07 - accuracy: 1.0000 - val_loss: 2.0058e-05 - val_accuracy: 1.0000\n",
      "Epoch 94/100\n",
      "37/37 [==============================] - 2s 42ms/step - loss: 2.7995e-07 - accuracy: 1.0000 - val_loss: 1.7069e-05 - val_accuracy: 1.0000\n",
      "Epoch 95/100\n",
      "37/37 [==============================] - 2s 42ms/step - loss: 2.6611e-07 - accuracy: 1.0000 - val_loss: 1.9876e-05 - val_accuracy: 1.0000\n",
      "Epoch 96/100\n",
      "37/37 [==============================] - 2s 43ms/step - loss: 2.6368e-07 - accuracy: 1.0000 - val_loss: 1.4530e-05 - val_accuracy: 1.0000\n",
      "Epoch 97/100\n",
      "37/37 [==============================] - 2s 42ms/step - loss: 2.5151e-07 - accuracy: 1.0000 - val_loss: 1.6347e-05 - val_accuracy: 1.0000\n",
      "Epoch 98/100\n",
      "37/37 [==============================] - 2s 42ms/step - loss: 2.3624e-07 - accuracy: 1.0000 - val_loss: 1.8576e-05 - val_accuracy: 1.0000\n",
      "Epoch 99/100\n",
      "37/37 [==============================] - 2s 42ms/step - loss: 2.3703e-07 - accuracy: 1.0000 - val_loss: 1.3705e-05 - val_accuracy: 1.0000\n",
      "Epoch 100/100\n",
      "37/37 [==============================] - 2s 42ms/step - loss: 2.2664e-07 - accuracy: 1.0000 - val_loss: 1.7952e-05 - val_accuracy: 1.0000\n"
     ]
    }
   ],
   "source": [
    "Q_model, Q_history = create_binary_class_model('Q')"
   ]
  },
  {
   "cell_type": "code",
   "execution_count": 17,
   "id": "526c91b2",
   "metadata": {},
   "outputs": [
    {
     "data": {
      "text/plain": [
       "<matplotlib.legend.Legend at 0x7f18509487f0>"
      ]
     },
     "execution_count": 17,
     "metadata": {},
     "output_type": "execute_result"
    },
    {
     "data": {
      "image/png": "[encoded data removed]",
      "text/plain": [
       "<Figure size 640x480 with 1 Axes>"
      ]
     },
     "metadata": {},
     "output_type": "display_data"
    }
   ],
   "source": [
    "plt.plot(Q_history.history['accuracy'], label='Train Accuracy')\n",
    "plt.plot(Q_history.history['val_accuracy'], label='Validation Accuracy')\n",
    "plt.xlabel('Epochs')\n",
    "plt.ylabel('Accuracy')\n",
    "plt.legend()"
   ]
  },
  {
   "cell_type": "code",
   "execution_count": 18,
   "id": "fe561744",
   "metadata": {},
   "outputs": [
    {
     "data": {
      "text/plain": [
       "Text(0, 0.5, 'Accuracy [%]')"
      ]
     },
     "execution_count": 18,
     "metadata": {},
     "output_type": "execute_result"
    },
    {
     "data": {
      "image/png": "[encoded data removed]",
      "text/plain": [
       "<Figure size 1600x600 with 2 Axes>"
      ]
     },
     "metadata": {},
     "output_type": "display_data"
    }
   ],
   "source": [
    "metrics = Q_history.history\n",
    "plt.figure(figsize=(16,6))\n",
    "plt.subplot(1,2,1)\n",
    "plt.plot(Q_history.epoch, metrics['loss'], metrics['val_loss'])\n",
    "plt.legend(['loss', 'val_loss'])\n",
    "plt.ylim([0, max(plt.ylim())])\n",
    "plt.xlabel('Epoch')\n",
    "plt.ylabel('Loss [CrossEntropy]')\n",
    "\n",
    "plt.subplot(1,2,2)\n",
    "plt.plot(Q_history.epoch, 100*np.array(metrics['accuracy']), 100*np.array(metrics['val_accuracy']))\n",
    "plt.legend(['accuracy', 'val_accuracy'])\n",
    "plt.ylim([0, 100])\n",
    "plt.xlabel('Epoch')\n",
    "plt.ylabel('Accuracy [%]')"
   ]
  },
  {
   "cell_type": "code",
   "execution_count": 62,
   "id": "a2f3973c",
   "metadata": {},
   "outputs": [
    {
     "name": "stdout",
     "output_type": "stream",
     "text": [
      "1/1 [==============================] - 0s 18ms/step\n",
      "The input file is 'data/train/E-142.wav' and this is not Q.\n",
      "The model thinks it has 0.00%  chacne of being Q.\n"
     ]
    }
   ],
   "source": [
    "import random\n",
    "\n",
    "def test_random_file():\n",
    "    key = random.choice(['Q', 'W', 'E', 'R'])\n",
    "    number = random.randint(0, 200)\n",
    "    filename = f\"{DATA_DIR}{key}-{number}.wav\"\n",
    "\n",
    "    try:\n",
    "        spectrogram = get_spectrogram(filename)\n",
    "    except FileNotFoundError:\n",
    "        print(f\"The file '{filename}' does not exist.\")\n",
    "        return\n",
    "\n",
    "    spectrogram = np.expand_dims(spectrogram, 0)\n",
    "    prediction = Q_model.predict(spectrogram)\n",
    "    is_q = prediction[0] > 0.5\n",
    "\n",
    "    print(f\"The input file is '{filename}' and this is {'Q' if is_q else 'not Q'}.\")\n",
    "    print(f\"The model thinks it has {prediction[0][0]*100:.2f}%  chacne of being Q.\")\n",
    "\n",
    "# Call the function to test a random file\n",
    "test_random_file()"
   ]
  },
  {
   "cell_type": "code",
   "execution_count": null,
   "id": "7eba6a47",
   "metadata": {},
   "outputs": [],
   "source": [
    "model.save('/home/hyochung/Keyboard_DL') #save mdoel"
   ]
  },
  {
   "cell_type": "code",
   "execution_count": 31,
   "metadata": {},
   "outputs": [
    {
     "name": "stdout",
     "output_type": "stream",
     "text": [
      "train_mfccs: (1184, 1025, 40)\n",
      "train_y: (1184,)\n",
      "test_mfccs: (296, 1025, 40)\n",
      "test_y: (296,)\n",
      "train_spectograms shape: (1184, 1025, 40, 1)\n",
      "test_spectograms shape: (296, 1025, 40, 1)\n",
      "Model: \"model_2\"\n",
      "_________________________________________________________________\n",
      " Layer (type)                Output Shape              Param #   \n",
      "=================================================================\n",
      " input_3 (InputLayer)        [(None, 1025, 40, 1)]     0         \n",
      "                                                                 \n",
      " conv2d_8 (Conv2D)           (None, 1022, 37, 96)      1632      \n",
      "                                                                 \n",
      " max_pooling2d_8 (MaxPoolin  (None, 255, 9, 96)        0         \n",
      " g2D)                                                            \n",
      "                                                                 \n",
      " flatten_2 (Flatten)         (None, 220320)            0         \n",
      "                                                                 \n",
      " dense_6 (Dense)             (None, 64)                14100544  \n",
      "                                                                 \n",
      " dense_7 (Dense)             (None, 32)                2080      \n",
      "                                                                 \n",
      " dense_8 (Dense)             (None, 1)                 33        \n",
      "                                                                 \n",
      "=================================================================\n",
      "Total params: 14104289 (53.80 MB)\n",
      "Trainable params: 14104289 (53.80 MB)\n",
      "Non-trainable params: 0 (0.00 Byte)\n",
      "_________________________________________________________________\n",
      "Epoch 1/100\n"
     ]
    },
    {
     "name": "stderr",
     "output_type": "stream",
     "text": [
      "2023-11-22 17:20:06.892184: W tensorflow/tsl/framework/cpu_allocator_impl.cc:83] Allocation of 194176000 exceeds 10% of free system memory.\n"
     ]
    },
    {
     "name": "stdout",
     "output_type": "stream",
     "text": [
      "37/37 [==============================] - 3s 51ms/step - loss: 0.2824 - accuracy: 0.8826 - val_loss: 0.1079 - val_accuracy: 0.9831\n",
      "Epoch 2/100\n",
      "37/37 [==============================] - 2s 45ms/step - loss: 0.0392 - accuracy: 0.9899 - val_loss: 0.0888 - val_accuracy: 0.9932\n",
      "Epoch 3/100\n",
      "37/37 [==============================] - 2s 44ms/step - loss: 0.0093 - accuracy: 0.9966 - val_loss: 0.0885 - val_accuracy: 0.9966\n",
      "Epoch 4/100\n",
      "37/37 [==============================] - 2s 44ms/step - loss: 0.0066 - accuracy: 0.9992 - val_loss: 0.1173 - val_accuracy: 0.9932\n",
      "Epoch 5/100\n",
      "37/37 [==============================] - 2s 44ms/step - loss: 0.0038 - accuracy: 0.9992 - val_loss: 0.0989 - val_accuracy: 0.9966\n",
      "Epoch 6/100\n",
      "37/37 [==============================] - 2s 44ms/step - loss: 0.0026 - accuracy: 0.9992 - val_loss: 0.1132 - val_accuracy: 0.9966\n",
      "Epoch 7/100\n",
      "37/37 [==============================] - 2s 44ms/step - loss: 0.0019 - accuracy: 0.9992 - val_loss: 0.1380 - val_accuracy: 0.9966\n",
      "Epoch 8/100\n",
      "37/37 [==============================] - 2s 44ms/step - loss: 0.0012 - accuracy: 1.0000 - val_loss: 0.1200 - val_accuracy: 0.9966\n",
      "Epoch 9/100\n",
      "37/37 [==============================] - 2s 45ms/step - loss: 9.6580e-04 - accuracy: 1.0000 - val_loss: 0.1415 - val_accuracy: 0.9966\n",
      "Epoch 10/100\n",
      "37/37 [==============================] - 2s 45ms/step - loss: 8.1693e-04 - accuracy: 1.0000 - val_loss: 0.1589 - val_accuracy: 0.9966\n",
      "Epoch 11/100\n",
      "37/37 [==============================] - 2s 44ms/step - loss: 8.6114e-04 - accuracy: 1.0000 - val_loss: 0.1762 - val_accuracy: 0.9932\n",
      "Epoch 12/100\n",
      "37/37 [==============================] - 2s 44ms/step - loss: 4.8510e-04 - accuracy: 1.0000 - val_loss: 0.1654 - val_accuracy: 0.9966\n",
      "Epoch 13/100\n",
      "37/37 [==============================] - 2s 44ms/step - loss: 3.8189e-04 - accuracy: 1.0000 - val_loss: 0.1690 - val_accuracy: 0.9966\n",
      "Epoch 14/100\n",
      "37/37 [==============================] - 2s 44ms/step - loss: 2.7054e-04 - accuracy: 1.0000 - val_loss: 0.1722 - val_accuracy: 0.9966\n",
      "Epoch 15/100\n",
      "37/37 [==============================] - 2s 45ms/step - loss: 1.9933e-04 - accuracy: 1.0000 - val_loss: 0.1694 - val_accuracy: 0.9966\n",
      "Epoch 16/100\n",
      "37/37 [==============================] - 2s 44ms/step - loss: 1.6740e-04 - accuracy: 1.0000 - val_loss: 0.1761 - val_accuracy: 0.9966\n",
      "Epoch 17/100\n",
      "37/37 [==============================] - 2s 45ms/step - loss: 1.5445e-04 - accuracy: 1.0000 - val_loss: 0.1847 - val_accuracy: 0.9966\n",
      "Epoch 18/100\n",
      "37/37 [==============================] - 2s 44ms/step - loss: 1.8367e-04 - accuracy: 1.0000 - val_loss: 0.1832 - val_accuracy: 0.9966\n",
      "Epoch 19/100\n",
      "37/37 [==============================] - 2s 44ms/step - loss: 1.1809e-04 - accuracy: 1.0000 - val_loss: 0.1904 - val_accuracy: 0.9966\n",
      "Epoch 20/100\n",
      "37/37 [==============================] - 2s 45ms/step - loss: 1.0653e-04 - accuracy: 1.0000 - val_loss: 0.1903 - val_accuracy: 0.9966\n",
      "Epoch 21/100\n",
      "37/37 [==============================] - 2s 44ms/step - loss: 8.8184e-05 - accuracy: 1.0000 - val_loss: 0.1868 - val_accuracy: 0.9966\n",
      "Epoch 22/100\n",
      "37/37 [==============================] - 2s 45ms/step - loss: 7.5448e-05 - accuracy: 1.0000 - val_loss: 0.1886 - val_accuracy: 0.9966\n",
      "Epoch 23/100\n",
      "37/37 [==============================] - 2s 45ms/step - loss: 6.7616e-05 - accuracy: 1.0000 - val_loss: 0.1838 - val_accuracy: 0.9966\n",
      "Epoch 24/100\n",
      "37/37 [==============================] - 2s 45ms/step - loss: 5.5552e-05 - accuracy: 1.0000 - val_loss: 0.1932 - val_accuracy: 0.9966\n",
      "Epoch 25/100\n",
      "37/37 [==============================] - 2s 45ms/step - loss: 6.1045e-05 - accuracy: 1.0000 - val_loss: 0.1830 - val_accuracy: 0.9966\n",
      "Epoch 26/100\n",
      "37/37 [==============================] - 2s 45ms/step - loss: 4.7720e-05 - accuracy: 1.0000 - val_loss: 0.1893 - val_accuracy: 0.9966\n",
      "Epoch 27/100\n",
      "37/37 [==============================] - 2s 45ms/step - loss: 4.4255e-05 - accuracy: 1.0000 - val_loss: 0.1893 - val_accuracy: 0.9966\n",
      "Epoch 28/100\n",
      "37/37 [==============================] - 2s 44ms/step - loss: 4.0187e-05 - accuracy: 1.0000 - val_loss: 0.1917 - val_accuracy: 0.9966\n",
      "Epoch 29/100\n",
      "37/37 [==============================] - 2s 45ms/step - loss: 3.5587e-05 - accuracy: 1.0000 - val_loss: 0.1907 - val_accuracy: 0.9966\n",
      "Epoch 30/100\n",
      "37/37 [==============================] - 2s 45ms/step - loss: 3.2792e-05 - accuracy: 1.0000 - val_loss: 0.1930 - val_accuracy: 0.9966\n",
      "Epoch 31/100\n",
      "37/37 [==============================] - 2s 45ms/step - loss: 3.1164e-05 - accuracy: 1.0000 - val_loss: 0.1901 - val_accuracy: 0.9966\n",
      "Epoch 32/100\n",
      "37/37 [==============================] - 2s 45ms/step - loss: 2.8614e-05 - accuracy: 1.0000 - val_loss: 0.1910 - val_accuracy: 0.9966\n",
      "Epoch 33/100\n",
      "37/37 [==============================] - 2s 46ms/step - loss: 2.6458e-05 - accuracy: 1.0000 - val_loss: 0.1930 - val_accuracy: 0.9966\n",
      "Epoch 34/100\n",
      "37/37 [==============================] - 2s 46ms/step - loss: 2.4656e-05 - accuracy: 1.0000 - val_loss: 0.1930 - val_accuracy: 0.9966\n",
      "Epoch 35/100\n",
      "37/37 [==============================] - 2s 47ms/step - loss: 2.4998e-05 - accuracy: 1.0000 - val_loss: 0.1934 - val_accuracy: 0.9966\n",
      "Epoch 36/100\n",
      "37/37 [==============================] - 2s 49ms/step - loss: 2.1687e-05 - accuracy: 1.0000 - val_loss: 0.1949 - val_accuracy: 0.9966\n",
      "Epoch 37/100\n",
      "37/37 [==============================] - 2s 47ms/step - loss: 2.1652e-05 - accuracy: 1.0000 - val_loss: 0.1955 - val_accuracy: 0.9966\n",
      "Epoch 38/100\n",
      "37/37 [==============================] - 2s 46ms/step - loss: 2.3329e-05 - accuracy: 1.0000 - val_loss: 0.1940 - val_accuracy: 0.9966\n",
      "Epoch 39/100\n",
      "37/37 [==============================] - 2s 49ms/step - loss: 1.8225e-05 - accuracy: 1.0000 - val_loss: 0.1974 - val_accuracy: 0.9966\n",
      "Epoch 40/100\n",
      "37/37 [==============================] - 2s 47ms/step - loss: 1.6142e-05 - accuracy: 1.0000 - val_loss: 0.1974 - val_accuracy: 0.9966\n",
      "Epoch 41/100\n",
      "37/37 [==============================] - 2s 49ms/step - loss: 1.4942e-05 - accuracy: 1.0000 - val_loss: 0.1979 - val_accuracy: 0.9966\n",
      "Epoch 42/100\n",
      "37/37 [==============================] - 2s 47ms/step - loss: 1.4289e-05 - accuracy: 1.0000 - val_loss: 0.1987 - val_accuracy: 0.9966\n",
      "Epoch 43/100\n",
      "37/37 [==============================] - 2s 46ms/step - loss: 1.3222e-05 - accuracy: 1.0000 - val_loss: 0.1971 - val_accuracy: 0.9966\n",
      "Epoch 44/100\n",
      "37/37 [==============================] - 2s 45ms/step - loss: 1.2709e-05 - accuracy: 1.0000 - val_loss: 0.1988 - val_accuracy: 0.9966\n",
      "Epoch 45/100\n",
      "37/37 [==============================] - 2s 45ms/step - loss: 1.1749e-05 - accuracy: 1.0000 - val_loss: 0.1993 - val_accuracy: 0.9966\n",
      "Epoch 46/100\n",
      "37/37 [==============================] - 2s 48ms/step - loss: 1.0982e-05 - accuracy: 1.0000 - val_loss: 0.1999 - val_accuracy: 0.9966\n",
      "Epoch 47/100\n",
      "37/37 [==============================] - 2s 47ms/step - loss: 1.0629e-05 - accuracy: 1.0000 - val_loss: 0.1990 - val_accuracy: 0.9966\n",
      "Epoch 48/100\n",
      "37/37 [==============================] - 2s 45ms/step - loss: 1.0819e-05 - accuracy: 1.0000 - val_loss: 0.1999 - val_accuracy: 0.9966\n",
      "Epoch 49/100\n",
      "37/37 [==============================] - 2s 45ms/step - loss: 9.2262e-06 - accuracy: 1.0000 - val_loss: 0.2014 - val_accuracy: 0.9966\n",
      "Epoch 50/100\n",
      "37/37 [==============================] - 2s 46ms/step - loss: 8.5709e-06 - accuracy: 1.0000 - val_loss: 0.2031 - val_accuracy: 0.9966\n",
      "Epoch 51/100\n",
      "37/37 [==============================] - 2s 45ms/step - loss: 8.2070e-06 - accuracy: 1.0000 - val_loss: 0.2004 - val_accuracy: 0.9966\n",
      "Epoch 52/100\n",
      "37/37 [==============================] - 2s 47ms/step - loss: 8.2922e-06 - accuracy: 1.0000 - val_loss: 0.2025 - val_accuracy: 0.9966\n",
      "Epoch 53/100\n",
      "37/37 [==============================] - 2s 44ms/step - loss: 7.7042e-06 - accuracy: 1.0000 - val_loss: 0.2033 - val_accuracy: 0.9966\n",
      "Epoch 54/100\n",
      "37/37 [==============================] - 2s 51ms/step - loss: 7.1301e-06 - accuracy: 1.0000 - val_loss: 0.2038 - val_accuracy: 0.9966\n",
      "Epoch 55/100\n",
      "37/37 [==============================] - 2s 49ms/step - loss: 6.5233e-06 - accuracy: 1.0000 - val_loss: 0.2040 - val_accuracy: 0.9966\n",
      "Epoch 56/100\n",
      "37/37 [==============================] - 2s 54ms/step - loss: 6.1231e-06 - accuracy: 1.0000 - val_loss: 0.2060 - val_accuracy: 0.9966\n",
      "Epoch 57/100\n",
      "37/37 [==============================] - 2s 52ms/step - loss: 5.8250e-06 - accuracy: 1.0000 - val_loss: 0.2061 - val_accuracy: 0.9966\n",
      "Epoch 58/100\n",
      "37/37 [==============================] - 2s 54ms/step - loss: 5.4337e-06 - accuracy: 1.0000 - val_loss: 0.2066 - val_accuracy: 0.9966\n",
      "Epoch 59/100\n",
      "37/37 [==============================] - 2s 52ms/step - loss: 5.2096e-06 - accuracy: 1.0000 - val_loss: 0.2074 - val_accuracy: 0.9966\n",
      "Epoch 60/100\n",
      "37/37 [==============================] - 2s 53ms/step - loss: 4.9860e-06 - accuracy: 1.0000 - val_loss: 0.2070 - val_accuracy: 0.9966\n",
      "Epoch 61/100\n",
      "37/37 [==============================] - 2s 50ms/step - loss: 4.7508e-06 - accuracy: 1.0000 - val_loss: 0.2067 - val_accuracy: 0.9966\n",
      "Epoch 62/100\n",
      "37/37 [==============================] - 2s 53ms/step - loss: 4.6670e-06 - accuracy: 1.0000 - val_loss: 0.2072 - val_accuracy: 0.9966\n",
      "Epoch 63/100\n",
      "37/37 [==============================] - 2s 51ms/step - loss: 4.3025e-06 - accuracy: 1.0000 - val_loss: 0.2085 - val_accuracy: 0.9966\n",
      "Epoch 64/100\n",
      "37/37 [==============================] - 2s 53ms/step - loss: 4.1814e-06 - accuracy: 1.0000 - val_loss: 0.2089 - val_accuracy: 0.9966\n",
      "Epoch 65/100\n",
      "37/37 [==============================] - 2s 51ms/step - loss: 3.8079e-06 - accuracy: 1.0000 - val_loss: 0.2093 - val_accuracy: 0.9966\n",
      "Epoch 66/100\n",
      "37/37 [==============================] - 2s 48ms/step - loss: 3.6340e-06 - accuracy: 1.0000 - val_loss: 0.2092 - val_accuracy: 0.9966\n",
      "Epoch 67/100\n",
      "37/37 [==============================] - 2s 51ms/step - loss: 3.5030e-06 - accuracy: 1.0000 - val_loss: 0.2102 - val_accuracy: 0.9966\n",
      "Epoch 68/100\n",
      "37/37 [==============================] - 2s 53ms/step - loss: 3.3606e-06 - accuracy: 1.0000 - val_loss: 0.2097 - val_accuracy: 0.9966\n",
      "Epoch 69/100\n",
      "37/37 [==============================] - 2s 50ms/step - loss: 3.3927e-06 - accuracy: 1.0000 - val_loss: 0.2112 - val_accuracy: 0.9966\n",
      "Epoch 70/100\n",
      "37/37 [==============================] - 2s 49ms/step - loss: 3.0997e-06 - accuracy: 1.0000 - val_loss: 0.2107 - val_accuracy: 0.9966\n",
      "Epoch 71/100\n",
      "37/37 [==============================] - 2s 49ms/step - loss: 2.9378e-06 - accuracy: 1.0000 - val_loss: 0.2120 - val_accuracy: 0.9966\n",
      "Epoch 72/100\n",
      "37/37 [==============================] - 2s 49ms/step - loss: 2.8102e-06 - accuracy: 1.0000 - val_loss: 0.2107 - val_accuracy: 0.9966\n",
      "Epoch 73/100\n",
      "37/37 [==============================] - 2s 50ms/step - loss: 2.7123e-06 - accuracy: 1.0000 - val_loss: 0.2124 - val_accuracy: 0.9966\n",
      "Epoch 74/100\n",
      "37/37 [==============================] - 2s 47ms/step - loss: 2.6144e-06 - accuracy: 1.0000 - val_loss: 0.2133 - val_accuracy: 0.9966\n",
      "Epoch 75/100\n",
      "37/37 [==============================] - 2s 51ms/step - loss: 2.5060e-06 - accuracy: 1.0000 - val_loss: 0.2130 - val_accuracy: 0.9966\n",
      "Epoch 76/100\n",
      "37/37 [==============================] - 2s 48ms/step - loss: 2.3173e-06 - accuracy: 1.0000 - val_loss: 0.2129 - val_accuracy: 0.9966\n",
      "Epoch 77/100\n",
      "37/37 [==============================] - 2s 49ms/step - loss: 2.2722e-06 - accuracy: 1.0000 - val_loss: 0.2135 - val_accuracy: 0.9966\n",
      "Epoch 78/100\n",
      "37/37 [==============================] - 2s 50ms/step - loss: 2.2057e-06 - accuracy: 1.0000 - val_loss: 0.2131 - val_accuracy: 0.9966\n",
      "Epoch 79/100\n",
      "37/37 [==============================] - 2s 52ms/step - loss: 2.0698e-06 - accuracy: 1.0000 - val_loss: 0.2134 - val_accuracy: 0.9966\n",
      "Epoch 80/100\n",
      "37/37 [==============================] - 2s 52ms/step - loss: 2.0113e-06 - accuracy: 1.0000 - val_loss: 0.2141 - val_accuracy: 0.9966\n",
      "Epoch 81/100\n",
      "37/37 [==============================] - 2s 49ms/step - loss: 1.8504e-06 - accuracy: 1.0000 - val_loss: 0.2139 - val_accuracy: 0.9966\n",
      "Epoch 82/100\n",
      "37/37 [==============================] - 2s 53ms/step - loss: 1.8075e-06 - accuracy: 1.0000 - val_loss: 0.2146 - val_accuracy: 0.9966\n",
      "Epoch 83/100\n",
      "37/37 [==============================] - 2s 52ms/step - loss: 1.7821e-06 - accuracy: 1.0000 - val_loss: 0.2164 - val_accuracy: 0.9966\n",
      "Epoch 84/100\n",
      "37/37 [==============================] - 2s 51ms/step - loss: 1.7032e-06 - accuracy: 1.0000 - val_loss: 0.2151 - val_accuracy: 0.9966\n",
      "Epoch 85/100\n",
      "37/37 [==============================] - 2s 52ms/step - loss: 1.6470e-06 - accuracy: 1.0000 - val_loss: 0.2152 - val_accuracy: 0.9966\n",
      "Epoch 86/100\n",
      "37/37 [==============================] - 2s 52ms/step - loss: 1.5431e-06 - accuracy: 1.0000 - val_loss: 0.2154 - val_accuracy: 0.9966\n",
      "Epoch 87/100\n",
      "37/37 [==============================] - 2s 53ms/step - loss: 1.4964e-06 - accuracy: 1.0000 - val_loss: 0.2172 - val_accuracy: 0.9966\n",
      "Epoch 88/100\n",
      "37/37 [==============================] - 2s 54ms/step - loss: 1.3859e-06 - accuracy: 1.0000 - val_loss: 0.2167 - val_accuracy: 0.9966\n",
      "Epoch 89/100\n",
      "37/37 [==============================] - 2s 51ms/step - loss: 1.3746e-06 - accuracy: 1.0000 - val_loss: 0.2153 - val_accuracy: 0.9966\n",
      "Epoch 90/100\n",
      "37/37 [==============================] - 2s 51ms/step - loss: 1.3100e-06 - accuracy: 1.0000 - val_loss: 0.2164 - val_accuracy: 0.9966\n",
      "Epoch 91/100\n",
      "37/37 [==============================] - 2s 51ms/step - loss: 1.2730e-06 - accuracy: 1.0000 - val_loss: 0.2166 - val_accuracy: 0.9966\n",
      "Epoch 92/100\n",
      "37/37 [==============================] - 2s 53ms/step - loss: 1.2368e-06 - accuracy: 1.0000 - val_loss: 0.2178 - val_accuracy: 0.9966\n",
      "Epoch 93/100\n",
      "37/37 [==============================] - 2s 52ms/step - loss: 1.1636e-06 - accuracy: 1.0000 - val_loss: 0.2171 - val_accuracy: 0.9966\n",
      "Epoch 94/100\n",
      "37/37 [==============================] - 2s 53ms/step - loss: 1.1193e-06 - accuracy: 1.0000 - val_loss: 0.2188 - val_accuracy: 0.9966\n",
      "Epoch 95/100\n",
      "37/37 [==============================] - 2s 52ms/step - loss: 1.1150e-06 - accuracy: 1.0000 - val_loss: 0.2193 - val_accuracy: 0.9966\n",
      "Epoch 96/100\n",
      "37/37 [==============================] - 2s 52ms/step - loss: 1.0403e-06 - accuracy: 1.0000 - val_loss: 0.2183 - val_accuracy: 0.9966\n",
      "Epoch 97/100\n",
      "37/37 [==============================] - 2s 52ms/step - loss: 1.0260e-06 - accuracy: 1.0000 - val_loss: 0.2199 - val_accuracy: 0.9966\n",
      "Epoch 98/100\n",
      "37/37 [==============================] - 2s 53ms/step - loss: 9.8474e-07 - accuracy: 1.0000 - val_loss: 0.2194 - val_accuracy: 0.9966\n",
      "Epoch 99/100\n",
      "37/37 [==============================] - 2s 53ms/step - loss: 9.7332e-07 - accuracy: 1.0000 - val_loss: 0.2206 - val_accuracy: 0.9966\n",
      "Epoch 100/100\n",
      "37/37 [==============================] - 2s 45ms/step - loss: 9.3925e-07 - accuracy: 1.0000 - val_loss: 0.2200 - val_accuracy: 0.9966\n"
     ]
    }
   ],
   "source": [
    "R_model, R_history = create_binary_class_model('R')"
   ]
  },
  {
   "cell_type": "code",
   "execution_count": 61,
   "metadata": {},
   "outputs": [
    {
     "name": "stdout",
     "output_type": "stream",
     "text": [
      "1/1 [==============================] - 0s 38ms/step\n",
      "The input file is 'data/train/R-137.wav' and this is R.\n",
      "The model thinks it has 100.00%  chacne of being R.\n"
     ]
    }
   ],
   "source": [
    "def test_random_file():\n",
    "    key = random.choice(['Q', 'W', 'E', 'R'])\n",
    "    number = random.randint(0, 200)\n",
    "    filename = f\"{DATA_DIR}{key}-{number}.wav\"\n",
    "\n",
    "    try:\n",
    "        spectrogram = get_spectrogram(filename)\n",
    "    except FileNotFoundError:\n",
    "        print(f\"The file '{filename}' does not exist.\")\n",
    "        return\n",
    "\n",
    "    spectrogram = np.expand_dims(spectrogram, 0)\n",
    "    prediction = R_model.predict(spectrogram)\n",
    "    is_q = prediction[0] > 0.5\n",
    "\n",
    "    print(f\"The input file is '{filename}' and this is {'R' if is_q else 'not R'}.\")\n",
    "    print(f\"The model thinks it has {prediction[0][0]*100:.2f}%  chacne of being R.\")\n",
    "# Call the function to test a random file\n",
    "test_random_file()"
   ]
  },
  {
   "cell_type": "code",
   "execution_count": null,
   "metadata": {},
   "outputs": [],
   "source": []
  },
  {
   "cell_type": "code",
   "execution_count": null,
   "metadata": {},
   "outputs": [],
   "source": []
  }
 ],
 "metadata": {
  "kernelspec": {
   "display_name": "base",
   "language": "python",
   "name": "python3"
  },
  "language_info": {
   "codemirror_mode": {
    "name": "ipython",
    "version": 3
   },
   "file_extension": ".py",
   "mimetype": "text/x-python",
   "name": "python",
   "nbconvert_exporter": "python",
   "pygments_lexer": "ipython3",
   "version": "3.9.17"
  }
 },
 "nbformat": 4,
 "nbformat_minor": 5
}

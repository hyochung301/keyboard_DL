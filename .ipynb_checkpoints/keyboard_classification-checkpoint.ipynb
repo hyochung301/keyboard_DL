{
 "cells": [
  {
   "cell_type": "markdown",
   "id": "d4ab941c-53f8-467b-8ad4-0fe44d10c769",
   "metadata": {},
   "source": [
    "1. Import and Install Dependencies"
   ]
  },
  {
   "cell_type": "markdown",
   "id": "5e2a83a3-306f-4ba4-b59c-3cd7ef1709e7",
   "metadata": {},
   "source": [
    "1.1 Install Dependencies"
   ]
  },
  {
   "cell_type": "code",
   "execution_count": null,
   "id": "974c37cf-07f2-4053-b056-79b157b4b88d",
   "metadata": {},
   "outputs": [],
   "source": [
    "!pip install tensorflow matplotlib tensorflow-io"
   ]
  },
  {
   "cell_type": "code",
   "execution_count": 41,
   "id": "0168fc08-022c-49ca-a7ff-7874b831e0b9",
   "metadata": {
    "scrolled": true
   },
   "outputs": [],
   "source": [
    "%matplotlib inline\n",
    "import matplotlib.pyplot as plt\n",
    "import os\n",
    "from scipy.io import wavfile\n",
    "from collections import defaultdict, Counter\n",
    "from scipy import signal\n",
    "import numpy as np\n",
    "import librosa\n",
    "from sklearn import preprocessing\n",
    "import random as rn\n",
    "from keras.layers import Dense\n",
    "from keras import Input\n",
    "from tensorflow.keras.models import Model\n",
    "from keras.utils import to_categorical\n",
    "from keras.layers import Dense, TimeDistributed, Dropout, Bidirectional, GRU, BatchNormalization, Activation, LeakyReLU, LSTM, Flatten, RepeatVector, Permute, Multiply, Conv2D, MaxPooling2D\n",
    "import tensorflow as tf\n",
    "import random"
   ]
  },
  {
   "cell_type": "markdown",
   "id": "fe13c47f-76c3-43c6-b048-63b80dd33ce5",
   "metadata": {},
   "source": [
    "2. Data Loading"
   ]
  },
  {
   "cell_type": "code",
   "execution_count": 3,
   "id": "bd226490-6909-4db9-8c6b-240da2158ca0",
   "metadata": {
    "tags": []
   },
   "outputs": [
    {
     "name": "stderr",
     "output_type": "stream",
     "text": [
      "2023-10-22 15:12:59.186137: I tensorflow/compiler/xla/stream_executor/cuda/cuda_gpu_executor.cc:981] could not open file to read NUMA node: /sys/bus/pci/devices/0000:01:00.0/numa_node\n",
      "Your kernel may have been built without NUMA support.\n",
      "2023-10-22 15:12:59.384077: I tensorflow/compiler/xla/stream_executor/cuda/cuda_gpu_executor.cc:981] could not open file to read NUMA node: /sys/bus/pci/devices/0000:01:00.0/numa_node\n",
      "Your kernel may have been built without NUMA support.\n",
      "2023-10-22 15:12:59.384140: I tensorflow/compiler/xla/stream_executor/cuda/cuda_gpu_executor.cc:981] could not open file to read NUMA node: /sys/bus/pci/devices/0000:01:00.0/numa_node\n",
      "Your kernel may have been built without NUMA support.\n"
     ]
    }
   ],
   "source": [
    "# Avoid OOM errors by setting GPU Memory Consumption Growth\n",
    "gpus = tf.config.experimental.list_physical_devices('GPU')\n",
    "for gpu in gpus: \n",
    "    tf.config.experimental.set_memory_growth(gpu, True)"
   ]
  },
  {
   "cell_type": "code",
   "execution_count": 4,
   "id": "94676b38-96b1-4c23-b55d-53b2cd5bbc12",
   "metadata": {
    "scrolled": true
   },
   "outputs": [
    {
     "name": "stdout",
     "output_type": "stream",
     "text": [
      "1 Physical GPUs, 1 Logical GPUs\n"
     ]
    },
    {
     "name": "stderr",
     "output_type": "stream",
     "text": [
      "2023-10-22 15:13:02.005220: I tensorflow/compiler/xla/stream_executor/cuda/cuda_gpu_executor.cc:981] could not open file to read NUMA node: /sys/bus/pci/devices/0000:01:00.0/numa_node\n",
      "Your kernel may have been built without NUMA support.\n",
      "2023-10-22 15:13:02.005400: I tensorflow/compiler/xla/stream_executor/cuda/cuda_gpu_executor.cc:981] could not open file to read NUMA node: /sys/bus/pci/devices/0000:01:00.0/numa_node\n",
      "Your kernel may have been built without NUMA support.\n",
      "2023-10-22 15:13:02.005437: I tensorflow/compiler/xla/stream_executor/cuda/cuda_gpu_executor.cc:981] could not open file to read NUMA node: /sys/bus/pci/devices/0000:01:00.0/numa_node\n",
      "Your kernel may have been built without NUMA support.\n",
      "2023-10-22 15:13:03.402158: I tensorflow/compiler/xla/stream_executor/cuda/cuda_gpu_executor.cc:981] could not open file to read NUMA node: /sys/bus/pci/devices/0000:01:00.0/numa_node\n",
      "Your kernel may have been built without NUMA support.\n",
      "2023-10-22 15:13:03.402185: I tensorflow/core/common_runtime/gpu/gpu_device.cc:1726] Could not identify NUMA node of platform GPU id 0, defaulting to 0.  Your kernel may not have been built with NUMA support.\n",
      "2023-10-22 15:13:03.402247: I tensorflow/compiler/xla/stream_executor/cuda/cuda_gpu_executor.cc:981] could not open file to read NUMA node: /sys/bus/pci/devices/0000:01:00.0/numa_node\n",
      "Your kernel may have been built without NUMA support.\n",
      "2023-10-22 15:13:03.402285: I tensorflow/compiler/xla/stream_executor/cuda/cuda_gpu_executor.cc:981] could not open file to read NUMA node: /sys/bus/pci/devices/0000:01:00.0/numa_node\n",
      "Your kernel may have been built without NUMA support.\n",
      "2023-10-22 15:13:03.402324: I tensorflow/core/common_runtime/gpu/gpu_device.cc:1639] Created device /job:localhost/replica:0/task:0/device:GPU:0 with 3072 MB memory:  -> device: 0, name: NVIDIA GeForce GTX 1660 Ti, pci bus id: 0000:01:00.0, compute capability: 7.5\n"
     ]
    }
   ],
   "source": [
    "gpus = tf.config.list_physical_devices('GPU')\n",
    "if gpus:\n",
    "  # Restrict TensorFlow to only allocate 1GB of memory on the first GPU\n",
    "  try:\n",
    "    tf.config.set_logical_device_configuration(\n",
    "        gpus[0],\n",
    "        [tf.config.LogicalDeviceConfiguration(memory_limit=3072)])\n",
    "    logical_gpus = tf.config.list_logical_devices('GPU')\n",
    "    print(len(gpus), \"Physical GPUs,\", len(logical_gpus), \"Logical GPUs\")\n",
    "  except RuntimeError as e:\n",
    "    # Virtual devices must be set before GPUs have been initialized\n",
    "    print(e)"
   ]
  },
  {
   "cell_type": "code",
   "execution_count": 5,
   "id": "c5b7b17f-cc6e-4171-a659-dca32797a7ee",
   "metadata": {},
   "outputs": [
    {
     "data": {
      "text/plain": [
       "[PhysicalDevice(name='/physical_device:GPU:0', device_type='GPU')]"
      ]
     },
     "execution_count": 5,
     "metadata": {},
     "output_type": "execute_result"
    }
   ],
   "source": [
    "tf.config.list_physical_devices('GPU')\n"
   ]
  },
  {
   "cell_type": "code",
   "execution_count": 16,
   "id": "10d5b60d-6ec9-4e45-9cb6-b6ad6f4c73d9",
   "metadata": {},
   "outputs": [],
   "source": [
    "DATA_DIR = os.path.join('data', 'train/')"
   ]
  },
  {
   "cell_type": "code",
   "execution_count": 17,
   "id": "19a347db-7204-4092-86cc-bbdb3b0e2274",
   "metadata": {},
   "outputs": [
    {
     "name": "stdout",
     "output_type": "stream",
     "text": [
      "sr: 16000\n",
      "wav shape: (7040,)\n",
      "length: 0.44 secs\n"
     ]
    }
   ],
   "source": [
    "wav, sr = librosa.load(DATA_DIR + 'Q-01.wav', sr=16000)\n",
    "print('sr:', sr)\n",
    "print('wav shape:', wav.shape)\n",
    "print('length:', wav.shape[0]/float(sr), 'secs')"
   ]
  },
  {
   "cell_type": "code",
   "execution_count": 18,
   "id": "387ed053-15fa-40ff-8290-3f32e3dd068f",
   "metadata": {},
   "outputs": [
    {
     "name": "stdout",
     "output_type": "stream",
     "text": [
      "[<matplotlib.lines.Line2D object at 0x7f7968cd5070>]\n",
      "[<matplotlib.lines.Line2D object at 0x7f7968cd5250>]\n"
     ]
    },
    {
     "data": {
      "image/png": "[encoded data removed]",
      "text/plain": [
       "<Figure size 640x480 with 1 Axes>"
      ]
     },
     "metadata": {},
     "output_type": "display_data"
    }
   ],
   "source": [
    "# raw wave\n",
    "print(plt.plot(wav))\n",
    "print(plt.plot(wav[0:500]))"
   ]
  },
  {
   "cell_type": "code",
   "execution_count": 19,
   "id": "7d5bdb87-9a60-4935-8f31-61da98c92a43",
   "metadata": {},
   "outputs": [],
   "source": [
    "# Data set list, include (raw data, mfcc data, y data)\n",
    "trainset = []\n",
    "testset = []\n",
    "\n",
    "# split each set into raw data, mfcc data, and y data\n",
    "# STFT 한 것, CNN 분석하기 위해 Spectogram으로 만든 것, MF한 것, mel0spectogram 한 것\n",
    "train_X = []\n",
    "train_mfccs = []\n",
    "train_y = []\n",
    "\n",
    "test_X = []\n",
    "test_mfccs = []\n",
    "test_y = []\n",
    "\n",
    "# 모든 음성파일의 길이가 같도록 후위에 padding 처리\n",
    "pad1d = lambda a, i: a[0: i] if a.shape[0] > i else np.hstack((a, np.zeros(i-a.shape[0])))\n",
    "pad2d = lambda a, i: a[:, 0:i] if a.shape[1] > i else np.hstack((a, np.zeros((a.shape[0], i-a.shape[1]))))\n",
    "\n",
    "frame_length = 0.025\n",
    "frame_stride = 0.0010"
   ]
  },
  {
   "cell_type": "code",
   "execution_count": 137,
   "id": "f42108aa-5c3b-42d4-a27f-3c05056f6d1c",
   "metadata": {
    "scrolled": true
   },
   "outputs": [],
   "source": [
    "from sklearn.model_selection import train_test_split\n",
    "\n",
    "def get_mfcc(filename):\n",
    "  wav, sr = librosa.load(filename, sr=16000)\n",
    "  mfcc = librosa.feature.mfcc(y=wav, sr=16000, n_mfcc=100, n_fft=400, hop_length=160)\n",
    "  mfcc = mfcc/ 1000000\n",
    "  mfcc = sklearn.preprocessing.scale(mfcc, axis=1)\n",
    "  padded_mfcc = pad2d(mfcc, 40)\n",
    "  return padded_mfcc\n",
    "\n",
    "\n",
    "def get_labels(filename):\n",
    "  if filename[0] == 'Q':\n",
    "    return 0\n",
    "  elif filename[0] == 'W':\n",
    "    return 1\n",
    "  elif filename[0] == 'E':\n",
    "    return 2\n",
    "  elif filename[0] == 'R':\n",
    "    return 3\n",
    "\n",
    "\n",
    "X = []\n",
    "y = []\n",
    "\n",
    "for filename in os.listdir(DATA_DIR):\n",
    "  # wav 포맷 데이터만 사용\n",
    "  if '.wav' not in filename:\n",
    "    continue\n",
    "  mfcc = get_mfcc(DATA_DIR + filename)\n",
    "  label = get_labels(filename)\n",
    "  X.append(mfcc)\n",
    "  y.append(label)\n",
    "\n",
    "train_mfccs, test_mfccs, train_y, test_y = train_test_split(X, y, test_size=0.2, random_state=42)\n"
   ]
  },
  {
   "cell_type": "code",
   "execution_count": 138,
   "id": "5030dd2b-6510-488f-b63a-0b46bb87eabd",
   "metadata": {
    "scrolled": true
   },
   "outputs": [
    {
     "name": "stdout",
     "output_type": "stream",
     "text": [
      "train_mfccs: (104, 100, 40)\n",
      "train_y: (104, 4)\n",
      "test_mfccs: (27, 100, 40)\n",
      "test_y: (27, 4)\n"
     ]
    }
   ],
   "source": [
    "train_mfccs = np.array(train_mfccs)\n",
    "train_y = to_categorical(np.array(train_y))\n",
    "\n",
    "test_mfccs = np.array(test_mfccs)\n",
    "test_y = to_categorical(np.array(test_y))\n",
    "\n",
    "print('train_mfccs:', train_mfccs.shape)\n",
    "print('train_y:', train_y.shape)\n",
    "\n",
    "print('test_mfccs:', test_mfccs.shape)\n",
    "print('test_y:', test_y.shape)"
   ]
  },
  {
   "cell_type": "markdown",
   "id": "31a5ab84-d59b-4df9-ac49-8eec2476dc01",
   "metadata": {},
   "source": [
    "MFCC feature로 학습"
   ]
  },
  {
   "cell_type": "code",
   "execution_count": 139,
   "id": "ec9e87fd-05cc-4e06-8dd7-ceb1b40e0091",
   "metadata": {},
   "outputs": [
    {
     "name": "stdout",
     "output_type": "stream",
     "text": [
      "train X shape: (104, 100, 40, 1)\n",
      "test X shape: (27, 100, 40, 1)\n"
     ]
    }
   ],
   "source": [
    "train_X_ex = np.expand_dims(train_mfccs, -1)\n",
    "test_X_ex = np.expand_dims(test_mfccs, -1)\n",
    "print('train X shape:', train_X_ex.shape)\n",
    "print('test X shape:', test_X_ex.shape)"
   ]
  },
  {
   "cell_type": "code",
   "execution_count": 140,
   "id": "83693709-78cd-4482-a607-6a8c4f7f58ac",
   "metadata": {
    "scrolled": true
   },
   "outputs": [
    {
     "name": "stdout",
     "output_type": "stream",
     "text": [
      "Model: \"model_5\"\n",
      "_________________________________________________________________\n",
      " Layer (type)                Output Shape              Param #   \n",
      "=================================================================\n",
      " input_9 (InputLayer)        [(None, 100, 40, 1)]      0         \n",
      "                                                                 \n",
      " conv2d_25 (Conv2D)          (None, 97, 37, 64)        1088      \n",
      "                                                                 \n",
      " max_pooling2d_23 (MaxPooli  (None, 24, 9, 64)         0         \n",
      " ng2D)                                                           \n",
      "                                                                 \n",
      " conv2d_26 (Conv2D)          (None, 21, 6, 96)         98400     \n",
      "                                                                 \n",
      " max_pooling2d_24 (MaxPooli  (None, 5, 1, 96)          0         \n",
      " ng2D)                                                           \n",
      "                                                                 \n",
      " flatten_6 (Flatten)         (None, 480)               0         \n",
      "                                                                 \n",
      " dense_18 (Dense)            (None, 64)                30784     \n",
      "                                                                 \n",
      " dense_19 (Dense)            (None, 32)                2080      \n",
      "                                                                 \n",
      " dense_20 (Dense)            (None, 4)                 132       \n",
      "                                                                 \n",
      "=================================================================\n",
      "Total params: 132484 (517.52 KB)\n",
      "Trainable params: 132484 (517.52 KB)\n",
      "Non-trainable params: 0 (0.00 Byte)\n",
      "_________________________________________________________________\n"
     ]
    }
   ],
   "source": [
    "ip = Input(shape=train_X_ex[0].shape)\n",
    "\n",
    "m = Conv2D(32, kernel_size=(4,4), activation='relu')(ip)\n",
    "m = MaxPooling2D(pool_size=(4,4))(m)\n",
    "\n",
    "m = Conv2D(32*2, kernel_size=(4,4), activation='relu')(ip)\n",
    "m = MaxPooling2D(pool_size=(4,4))(m)\n",
    "\n",
    "m = Conv2D(32 * 3, kernel_size=(4, 4), activation='relu', input_shape=(10, 1, 64))(m)\n",
    "m = MaxPooling2D(pool_size=(4,4))(m)\n",
    "\n",
    "m = Flatten()(m)\n",
    "\n",
    "m = Dense(64, activation='relu')(m)\n",
    "\n",
    "m = Dense(32, activation='relu')(m)\n",
    "\n",
    "op = Dense(4, activation='softmax')(m)\n",
    "\n",
    "model = Model(ip, op)\n",
    "\n",
    "model.summary()\n",
    "     "
   ]
  },
  {
   "cell_type": "code",
   "execution_count": 141,
   "id": "e8ffb8b8-9ff6-44ab-bdc0-4388ba96fb1f",
   "metadata": {
    "scrolled": true
   },
   "outputs": [
    {
     "name": "stdout",
     "output_type": "stream",
     "text": [
      "Epoch 1/100\n",
      "4/4 [==============================] - 2s 99ms/step - loss: 1.5046 - accuracy: 0.2212 - val_loss: 1.3998 - val_accuracy: 0.2963\n",
      "Epoch 2/100\n",
      "4/4 [==============================] - 0s 44ms/step - loss: 1.3946 - accuracy: 0.2596 - val_loss: 1.3791 - val_accuracy: 0.2963\n",
      "Epoch 3/100\n",
      "4/4 [==============================] - 0s 19ms/step - loss: 1.3926 - accuracy: 0.2404 - val_loss: 1.3763 - val_accuracy: 0.2222\n",
      "Epoch 4/100\n",
      "4/4 [==============================] - 0s 18ms/step - loss: 1.3748 - accuracy: 0.3173 - val_loss: 1.4027 - val_accuracy: 0.2222\n",
      "Epoch 5/100\n",
      "4/4 [==============================] - 0s 18ms/step - loss: 1.3802 - accuracy: 0.3846 - val_loss: 1.4080 - val_accuracy: 0.2222\n",
      "Epoch 6/100\n",
      "4/4 [==============================] - 0s 19ms/step - loss: 1.3600 - accuracy: 0.3654 - val_loss: 1.3668 - val_accuracy: 0.2963\n",
      "Epoch 7/100\n",
      "4/4 [==============================] - 0s 20ms/step - loss: 1.3557 - accuracy: 0.2404 - val_loss: 1.3691 - val_accuracy: 0.2963\n",
      "Epoch 8/100\n",
      "4/4 [==============================] - 0s 18ms/step - loss: 1.3585 - accuracy: 0.2500 - val_loss: 1.3651 - val_accuracy: 0.4074\n",
      "Epoch 9/100\n",
      "4/4 [==============================] - 0s 18ms/step - loss: 1.3388 - accuracy: 0.5192 - val_loss: 1.3679 - val_accuracy: 0.3333\n",
      "Epoch 10/100\n",
      "4/4 [==============================] - 0s 19ms/step - loss: 1.3338 - accuracy: 0.6538 - val_loss: 1.3696 - val_accuracy: 0.4074\n",
      "Epoch 11/100\n",
      "4/4 [==============================] - 0s 19ms/step - loss: 1.3110 - accuracy: 0.4423 - val_loss: 1.3610 - val_accuracy: 0.3704\n",
      "Epoch 12/100\n",
      "4/4 [==============================] - 0s 20ms/step - loss: 1.2909 - accuracy: 0.6923 - val_loss: 1.3470 - val_accuracy: 0.2593\n",
      "Epoch 13/100\n",
      "4/4 [==============================] - 0s 19ms/step - loss: 1.2853 - accuracy: 0.3558 - val_loss: 1.3382 - val_accuracy: 0.4815\n",
      "Epoch 14/100\n",
      "4/4 [==============================] - 0s 18ms/step - loss: 1.2559 - accuracy: 0.7404 - val_loss: 1.3447 - val_accuracy: 0.3704\n",
      "Epoch 15/100\n",
      "4/4 [==============================] - 0s 18ms/step - loss: 1.2395 - accuracy: 0.4808 - val_loss: 1.3208 - val_accuracy: 0.3333\n",
      "Epoch 16/100\n",
      "4/4 [==============================] - 0s 17ms/step - loss: 1.2073 - accuracy: 0.8654 - val_loss: 1.2936 - val_accuracy: 0.5556\n",
      "Epoch 17/100\n",
      "4/4 [==============================] - 0s 18ms/step - loss: 1.1735 - accuracy: 0.9423 - val_loss: 1.2822 - val_accuracy: 0.5926\n",
      "Epoch 18/100\n",
      "4/4 [==============================] - 0s 19ms/step - loss: 1.1361 - accuracy: 0.8077 - val_loss: 1.2691 - val_accuracy: 0.4815\n",
      "Epoch 19/100\n",
      "4/4 [==============================] - 0s 20ms/step - loss: 1.0966 - accuracy: 0.6923 - val_loss: 1.2280 - val_accuracy: 0.5556\n",
      "Epoch 20/100\n",
      "4/4 [==============================] - 0s 17ms/step - loss: 1.0142 - accuracy: 0.9519 - val_loss: 1.2851 - val_accuracy: 0.2963\n",
      "Epoch 21/100\n",
      "4/4 [==============================] - 0s 19ms/step - loss: 0.9916 - accuracy: 0.6154 - val_loss: 1.1551 - val_accuracy: 0.5926\n",
      "Epoch 22/100\n",
      "4/4 [==============================] - 0s 18ms/step - loss: 0.8592 - accuracy: 0.9904 - val_loss: 1.1007 - val_accuracy: 0.7037\n",
      "Epoch 23/100\n",
      "4/4 [==============================] - 0s 19ms/step - loss: 0.7887 - accuracy: 0.9135 - val_loss: 1.0212 - val_accuracy: 0.7407\n",
      "Epoch 24/100\n",
      "4/4 [==============================] - 0s 19ms/step - loss: 0.7252 - accuracy: 0.9135 - val_loss: 1.1337 - val_accuracy: 0.5185\n",
      "Epoch 25/100\n",
      "4/4 [==============================] - 0s 18ms/step - loss: 0.6559 - accuracy: 0.9615 - val_loss: 0.9983 - val_accuracy: 0.4074\n",
      "Epoch 26/100\n",
      "4/4 [==============================] - 0s 19ms/step - loss: 0.5781 - accuracy: 0.8750 - val_loss: 0.9834 - val_accuracy: 0.5556\n",
      "Epoch 27/100\n",
      "4/4 [==============================] - 0s 18ms/step - loss: 0.5435 - accuracy: 0.9519 - val_loss: 0.8240 - val_accuracy: 0.8519\n",
      "Epoch 28/100\n",
      "4/4 [==============================] - 0s 18ms/step - loss: 0.4576 - accuracy: 0.8558 - val_loss: 0.7801 - val_accuracy: 0.8148\n",
      "Epoch 29/100\n",
      "4/4 [==============================] - 0s 21ms/step - loss: 0.3760 - accuracy: 0.9519 - val_loss: 0.7269 - val_accuracy: 0.6667\n",
      "Epoch 30/100\n",
      "4/4 [==============================] - 0s 20ms/step - loss: 0.2667 - accuracy: 1.0000 - val_loss: 0.8793 - val_accuracy: 0.4815\n",
      "Epoch 31/100\n",
      "4/4 [==============================] - 0s 19ms/step - loss: 0.2802 - accuracy: 0.9423 - val_loss: 0.6141 - val_accuracy: 0.7407\n",
      "Epoch 32/100\n",
      "4/4 [==============================] - 0s 19ms/step - loss: 0.2491 - accuracy: 0.9712 - val_loss: 0.5456 - val_accuracy: 0.9630\n",
      "Epoch 33/100\n",
      "4/4 [==============================] - 0s 19ms/step - loss: 0.1694 - accuracy: 1.0000 - val_loss: 0.7012 - val_accuracy: 0.6667\n",
      "Epoch 34/100\n",
      "4/4 [==============================] - 0s 20ms/step - loss: 0.1365 - accuracy: 1.0000 - val_loss: 0.5552 - val_accuracy: 0.7037\n",
      "Epoch 35/100\n",
      "4/4 [==============================] - 0s 19ms/step - loss: 0.1232 - accuracy: 1.0000 - val_loss: 0.4512 - val_accuracy: 0.9259\n",
      "Epoch 36/100\n",
      "4/4 [==============================] - 0s 21ms/step - loss: 0.0941 - accuracy: 1.0000 - val_loss: 0.5323 - val_accuracy: 0.8889\n",
      "Epoch 37/100\n",
      "4/4 [==============================] - 0s 19ms/step - loss: 0.0749 - accuracy: 1.0000 - val_loss: 0.5020 - val_accuracy: 0.8889\n",
      "Epoch 38/100\n",
      "4/4 [==============================] - 0s 21ms/step - loss: 0.0607 - accuracy: 1.0000 - val_loss: 0.4216 - val_accuracy: 0.9259\n",
      "Epoch 39/100\n",
      "4/4 [==============================] - 0s 21ms/step - loss: 0.0563 - accuracy: 1.0000 - val_loss: 0.3908 - val_accuracy: 0.9259\n",
      "Epoch 40/100\n",
      "4/4 [==============================] - 0s 21ms/step - loss: 0.0443 - accuracy: 1.0000 - val_loss: 0.4993 - val_accuracy: 0.7778\n",
      "Epoch 41/100\n",
      "4/4 [==============================] - 0s 21ms/step - loss: 0.0435 - accuracy: 1.0000 - val_loss: 0.3922 - val_accuracy: 0.9259\n",
      "Epoch 42/100\n",
      "4/4 [==============================] - 0s 22ms/step - loss: 0.0380 - accuracy: 1.0000 - val_loss: 0.3393 - val_accuracy: 0.9259\n",
      "Epoch 43/100\n",
      "4/4 [==============================] - 0s 22ms/step - loss: 0.0298 - accuracy: 1.0000 - val_loss: 0.4088 - val_accuracy: 0.8519\n",
      "Epoch 44/100\n",
      "4/4 [==============================] - 0s 22ms/step - loss: 0.0297 - accuracy: 1.0000 - val_loss: 0.3751 - val_accuracy: 0.9630\n",
      "Epoch 45/100\n",
      "4/4 [==============================] - 0s 21ms/step - loss: 0.0213 - accuracy: 1.0000 - val_loss: 0.3728 - val_accuracy: 0.9259\n",
      "Epoch 46/100\n",
      "4/4 [==============================] - 0s 23ms/step - loss: 0.0203 - accuracy: 1.0000 - val_loss: 0.3146 - val_accuracy: 0.9259\n",
      "Epoch 47/100\n",
      "4/4 [==============================] - 0s 20ms/step - loss: 0.0167 - accuracy: 1.0000 - val_loss: 0.2945 - val_accuracy: 0.9630\n",
      "Epoch 48/100\n",
      "4/4 [==============================] - 0s 22ms/step - loss: 0.0154 - accuracy: 1.0000 - val_loss: 0.2919 - val_accuracy: 0.9630\n",
      "Epoch 49/100\n",
      "4/4 [==============================] - 0s 20ms/step - loss: 0.0139 - accuracy: 1.0000 - val_loss: 0.3053 - val_accuracy: 0.9259\n",
      "Epoch 50/100\n",
      "4/4 [==============================] - 0s 22ms/step - loss: 0.0129 - accuracy: 1.0000 - val_loss: 0.3122 - val_accuracy: 0.9630\n",
      "Epoch 51/100\n",
      "4/4 [==============================] - 0s 23ms/step - loss: 0.0114 - accuracy: 1.0000 - val_loss: 0.3003 - val_accuracy: 0.9630\n",
      "Epoch 52/100\n",
      "4/4 [==============================] - 0s 20ms/step - loss: 0.0107 - accuracy: 1.0000 - val_loss: 0.2804 - val_accuracy: 0.9630\n",
      "Epoch 53/100\n",
      "4/4 [==============================] - 0s 19ms/step - loss: 0.0097 - accuracy: 1.0000 - val_loss: 0.2743 - val_accuracy: 0.9259\n",
      "Epoch 54/100\n",
      "4/4 [==============================] - 0s 21ms/step - loss: 0.0093 - accuracy: 1.0000 - val_loss: 0.2722 - val_accuracy: 0.9630\n",
      "Epoch 55/100\n",
      "4/4 [==============================] - 0s 20ms/step - loss: 0.0084 - accuracy: 1.0000 - val_loss: 0.2688 - val_accuracy: 0.9630\n",
      "Epoch 56/100\n",
      "4/4 [==============================] - 0s 20ms/step - loss: 0.0080 - accuracy: 1.0000 - val_loss: 0.2625 - val_accuracy: 0.9630\n",
      "Epoch 57/100\n",
      "4/4 [==============================] - 0s 22ms/step - loss: 0.0075 - accuracy: 1.0000 - val_loss: 0.2680 - val_accuracy: 0.9259\n",
      "Epoch 58/100\n",
      "4/4 [==============================] - 0s 22ms/step - loss: 0.0070 - accuracy: 1.0000 - val_loss: 0.2682 - val_accuracy: 0.9630\n",
      "Epoch 59/100\n",
      "4/4 [==============================] - 0s 19ms/step - loss: 0.0064 - accuracy: 1.0000 - val_loss: 0.2592 - val_accuracy: 0.9630\n",
      "Epoch 60/100\n",
      "4/4 [==============================] - 0s 22ms/step - loss: 0.0060 - accuracy: 1.0000 - val_loss: 0.2551 - val_accuracy: 0.9630\n",
      "Epoch 61/100\n",
      "4/4 [==============================] - 0s 23ms/step - loss: 0.0057 - accuracy: 1.0000 - val_loss: 0.2517 - val_accuracy: 0.9630\n",
      "Epoch 62/100\n",
      "4/4 [==============================] - 0s 22ms/step - loss: 0.0054 - accuracy: 1.0000 - val_loss: 0.2509 - val_accuracy: 0.9630\n",
      "Epoch 63/100\n",
      "4/4 [==============================] - 0s 20ms/step - loss: 0.0051 - accuracy: 1.0000 - val_loss: 0.2531 - val_accuracy: 0.9630\n",
      "Epoch 64/100\n",
      "4/4 [==============================] - 0s 20ms/step - loss: 0.0049 - accuracy: 1.0000 - val_loss: 0.2501 - val_accuracy: 0.9630\n",
      "Epoch 65/100\n",
      "4/4 [==============================] - 0s 20ms/step - loss: 0.0046 - accuracy: 1.0000 - val_loss: 0.2486 - val_accuracy: 0.9630\n",
      "Epoch 66/100\n",
      "4/4 [==============================] - 0s 20ms/step - loss: 0.0044 - accuracy: 1.0000 - val_loss: 0.2474 - val_accuracy: 0.9630\n",
      "Epoch 67/100\n",
      "4/4 [==============================] - 0s 21ms/step - loss: 0.0042 - accuracy: 1.0000 - val_loss: 0.2435 - val_accuracy: 0.9630\n",
      "Epoch 68/100\n",
      "4/4 [==============================] - 0s 20ms/step - loss: 0.0039 - accuracy: 1.0000 - val_loss: 0.2351 - val_accuracy: 0.9630\n",
      "Epoch 69/100\n",
      "4/4 [==============================] - 0s 21ms/step - loss: 0.0038 - accuracy: 1.0000 - val_loss: 0.2314 - val_accuracy: 0.9630\n",
      "Epoch 70/100\n",
      "4/4 [==============================] - 0s 21ms/step - loss: 0.0036 - accuracy: 1.0000 - val_loss: 0.2275 - val_accuracy: 0.9630\n",
      "Epoch 71/100\n",
      "4/4 [==============================] - 0s 22ms/step - loss: 0.0034 - accuracy: 1.0000 - val_loss: 0.2250 - val_accuracy: 0.9630\n",
      "Epoch 72/100\n",
      "4/4 [==============================] - 0s 21ms/step - loss: 0.0033 - accuracy: 1.0000 - val_loss: 0.2237 - val_accuracy: 0.9630\n",
      "Epoch 73/100\n",
      "4/4 [==============================] - 0s 21ms/step - loss: 0.0031 - accuracy: 1.0000 - val_loss: 0.2208 - val_accuracy: 0.9630\n",
      "Epoch 74/100\n",
      "4/4 [==============================] - 0s 23ms/step - loss: 0.0030 - accuracy: 1.0000 - val_loss: 0.2208 - val_accuracy: 0.9630\n",
      "Epoch 75/100\n",
      "4/4 [==============================] - 0s 23ms/step - loss: 0.0029 - accuracy: 1.0000 - val_loss: 0.2203 - val_accuracy: 0.9630\n",
      "Epoch 76/100\n",
      "4/4 [==============================] - 0s 22ms/step - loss: 0.0028 - accuracy: 1.0000 - val_loss: 0.2195 - val_accuracy: 0.9630\n",
      "Epoch 77/100\n",
      "4/4 [==============================] - 0s 22ms/step - loss: 0.0027 - accuracy: 1.0000 - val_loss: 0.2207 - val_accuracy: 0.9630\n",
      "Epoch 78/100\n",
      "4/4 [==============================] - 0s 23ms/step - loss: 0.0026 - accuracy: 1.0000 - val_loss: 0.2206 - val_accuracy: 0.9630\n",
      "Epoch 79/100\n",
      "4/4 [==============================] - 0s 24ms/step - loss: 0.0025 - accuracy: 1.0000 - val_loss: 0.2170 - val_accuracy: 0.9630\n",
      "Epoch 80/100\n",
      "4/4 [==============================] - 0s 22ms/step - loss: 0.0024 - accuracy: 1.0000 - val_loss: 0.2127 - val_accuracy: 0.9630\n",
      "Epoch 81/100\n",
      "4/4 [==============================] - 0s 24ms/step - loss: 0.0023 - accuracy: 1.0000 - val_loss: 0.2060 - val_accuracy: 0.9630\n",
      "Epoch 82/100\n",
      "4/4 [==============================] - 0s 23ms/step - loss: 0.0022 - accuracy: 1.0000 - val_loss: 0.2042 - val_accuracy: 0.9630\n",
      "Epoch 83/100\n",
      "4/4 [==============================] - 0s 23ms/step - loss: 0.0022 - accuracy: 1.0000 - val_loss: 0.2041 - val_accuracy: 0.9630\n",
      "Epoch 84/100\n",
      "4/4 [==============================] - 0s 22ms/step - loss: 0.0021 - accuracy: 1.0000 - val_loss: 0.2026 - val_accuracy: 0.9630\n",
      "Epoch 85/100\n",
      "4/4 [==============================] - 0s 22ms/step - loss: 0.0020 - accuracy: 1.0000 - val_loss: 0.2009 - val_accuracy: 0.9630\n",
      "Epoch 86/100\n",
      "4/4 [==============================] - 0s 20ms/step - loss: 0.0020 - accuracy: 1.0000 - val_loss: 0.2023 - val_accuracy: 0.9630\n",
      "Epoch 87/100\n",
      "4/4 [==============================] - 0s 21ms/step - loss: 0.0019 - accuracy: 1.0000 - val_loss: 0.2075 - val_accuracy: 0.9630\n",
      "Epoch 88/100\n",
      "4/4 [==============================] - 0s 23ms/step - loss: 0.0018 - accuracy: 1.0000 - val_loss: 0.2070 - val_accuracy: 0.9630\n",
      "Epoch 89/100\n",
      "4/4 [==============================] - 0s 22ms/step - loss: 0.0018 - accuracy: 1.0000 - val_loss: 0.2007 - val_accuracy: 0.9630\n",
      "Epoch 90/100\n",
      "4/4 [==============================] - 0s 23ms/step - loss: 0.0017 - accuracy: 1.0000 - val_loss: 0.1929 - val_accuracy: 0.9630\n",
      "Epoch 91/100\n",
      "4/4 [==============================] - 0s 21ms/step - loss: 0.0017 - accuracy: 1.0000 - val_loss: 0.1891 - val_accuracy: 0.9630\n",
      "Epoch 92/100\n",
      "4/4 [==============================] - 0s 21ms/step - loss: 0.0016 - accuracy: 1.0000 - val_loss: 0.1898 - val_accuracy: 0.9630\n",
      "Epoch 93/100\n",
      "4/4 [==============================] - 0s 19ms/step - loss: 0.0016 - accuracy: 1.0000 - val_loss: 0.1961 - val_accuracy: 0.9630\n",
      "Epoch 94/100\n",
      "4/4 [==============================] - 0s 22ms/step - loss: 0.0015 - accuracy: 1.0000 - val_loss: 0.1983 - val_accuracy: 0.9630\n",
      "Epoch 95/100\n",
      "4/4 [==============================] - 0s 21ms/step - loss: 0.0015 - accuracy: 1.0000 - val_loss: 0.1982 - val_accuracy: 0.9630\n",
      "Epoch 96/100\n",
      "4/4 [==============================] - 0s 19ms/step - loss: 0.0015 - accuracy: 1.0000 - val_loss: 0.1955 - val_accuracy: 0.9630\n",
      "Epoch 97/100\n",
      "4/4 [==============================] - 0s 21ms/step - loss: 0.0014 - accuracy: 1.0000 - val_loss: 0.1920 - val_accuracy: 0.9630\n",
      "Epoch 98/100\n",
      "4/4 [==============================] - 0s 20ms/step - loss: 0.0014 - accuracy: 1.0000 - val_loss: 0.1893 - val_accuracy: 0.9630\n",
      "Epoch 99/100\n",
      "4/4 [==============================] - 0s 23ms/step - loss: 0.0013 - accuracy: 1.0000 - val_loss: 0.1885 - val_accuracy: 0.9630\n",
      "Epoch 100/100\n",
      "4/4 [==============================] - 0s 20ms/step - loss: 0.0013 - accuracy: 1.0000 - val_loss: 0.1875 - val_accuracy: 0.9630\n"
     ]
    }
   ],
   "source": [
    "model.compile(loss='categorical_crossentropy',\n",
    "              optimizer='adam',\n",
    "              metrics=['accuracy'])\n",
    "\n",
    "history = model.fit(train_X_ex,\n",
    "                    train_y,\n",
    "                    epochs=100,\n",
    "                    batch_size=32,\n",
    "                    verbose=1,\n",
    "                    validation_data=(test_X_ex, test_y))\n"
   ]
  },
  {
   "cell_type": "code",
   "execution_count": 142,
   "id": "ad9110f1-67f2-4c69-aed8-b6a936c3f4a2",
   "metadata": {},
   "outputs": [
    {
     "data": {
      "text/plain": [
       "<matplotlib.legend.Legend at 0x7f77f0361880>"
      ]
     },
     "execution_count": 142,
     "metadata": {},
     "output_type": "execute_result"
    },
    {
     "data": {
      "image/png": "[encoded data removed]",
      "text/plain": [
       "<Figure size 640x480 with 1 Axes>"
      ]
     },
     "metadata": {},
     "output_type": "display_data"
    }
   ],
   "source": [
    "plt.plot(history.history['accuracy'], label='Train Accuracy')\n",
    "plt.plot(history.history['val_accuracy'], label='Validation Accuracy')\n",
    "plt.xlabel('Epochs')\n",
    "plt.ylabel('Accuracy')\n",
    "plt.legend()"
   ]
  },
  {
   "cell_type": "code",
   "execution_count": 143,
   "id": "6695f965-3093-4217-860c-e92765d520ae",
   "metadata": {
    "scrolled": true
   },
   "outputs": [
    {
     "name": "stdout",
     "output_type": "stream",
     "text": [
      "INFO:tensorflow:Assets written to: /home/hyochung/Keyboard_DL/assets\n"
     ]
    },
    {
     "name": "stderr",
     "output_type": "stream",
     "text": [
      "INFO:tensorflow:Assets written to: /home/hyochung/Keyboard_DL/assets\n"
     ]
    }
   ],
   "source": [
    "model.save('/home/hyochung/Keyboard_DL')"
   ]
  },
  {
   "cell_type": "markdown",
   "id": "a91cafd9-5722-4743-a5a2-79f97d5a0d1e",
   "metadata": {},
   "source": [
    "Model Test"
   ]
  },
  {
   "cell_type": "code",
   "execution_count": 146,
   "id": "1f94ec07-78ac-4e88-bf8a-7a3483225e96",
   "metadata": {},
   "outputs": [
    {
     "name": "stdout",
     "output_type": "stream",
     "text": [
      "1/1 [==============================] - 0s 35ms/step\n",
      "[[0.05293833 0.13107142 0.03161101 0.78437924]]\n",
      "3\n"
     ]
    }
   ],
   "source": [
    "audio, sr = librosa.load(DATA_DIR + 'R-03.wav')\n",
    "\n",
    "mfcc = librosa.feature.mfcc(y=audio, sr=16000, n_mfcc=100, n_fft=400, hop_length=160)\n",
    "mfcc = mfcc/ 1000000\n",
    "mfcc = sklearn.preprocessing.scale(mfcc, axis=1)\n",
    "padded_mfcc = pad2d(mfcc, 40)\n",
    "padded_mfcc= np.expand_dims(padded_mfcc, 0)\n",
    "\n",
    "result = model.predict(padded_mfcc)\n",
    "print(result)\n",
    "print(np.argmax(result))"
   ]
  },
  {
   "cell_type": "code",
   "execution_count": null,
   "id": "7fc352ba-389c-49d2-a0b6-f28f1c3e80d7",
   "metadata": {},
   "outputs": [],
   "source": []
  },
  {
   "cell_type": "code",
   "execution_count": null,
   "id": "af96de90-dda4-43b8-83d7-3d7d5ee7063f",
   "metadata": {},
   "outputs": [],
   "source": []
  },
  {
   "cell_type": "markdown",
   "id": "36aedd0b-da38-4880-9fbe-1b628c0e0885",
   "metadata": {},
   "source": [
    "Long Audio testing"
   ]
  },
  {
   "cell_type": "code",
   "execution_count": 57,
   "id": "6b713789-52fd-4eeb-a0a0-2ddcc47893dc",
   "metadata": {},
   "outputs": [
    {
     "name": "stdout",
     "output_type": "stream",
     "text": [
      "sr: 44100\n",
      "wav shape: (21609,)\n",
      "length: 0.49 secs\n"
     ]
    }
   ],
   "source": [
    "#긴 오디오\n",
    "wav, sr = librosa.load(DATA_DIR + 'E-17.wav', sr=None)\n",
    "print('sr:', sr)\n",
    "print('wav shape:', wav.shape)\n",
    "print('length:', wav.shape[0]/float(sr), 'secs')"
   ]
  },
  {
   "cell_type": "code",
   "execution_count": 58,
   "id": "f05e6db5-0437-4aa7-ad1d-f10d0480dc56",
   "metadata": {},
   "outputs": [
    {
     "name": "stdout",
     "output_type": "stream",
     "text": [
      "[<matplotlib.lines.Line2D object at 0x7f77f03a2fd0>]\n",
      "[<matplotlib.lines.Line2D object at 0x7f77f02e3fa0>]\n"
     ]
    },
    {
     "data": {
      "image/png": "[encoded data removed]",
      "text/plain": [
       "<Figure size 640x480 with 1 Axes>"
      ]
     },
     "metadata": {},
     "output_type": "display_data"
    }
   ],
   "source": [
    "# raw wave\n",
    "print(plt.plot(wav))\n",
    "print(plt.plot(wav[0:500]))"
   ]
  },
  {
   "cell_type": "code",
   "execution_count": 96,
   "id": "460fd330-2324-4506-a766-79297a720b46",
   "metadata": {},
   "outputs": [
    {
     "name": "stderr",
     "output_type": "stream",
     "text": [
      "/home/hyochung/miniconda3/envs/tf/lib/python3.9/site-packages/sklearn/preprocessing/_data.py:246: UserWarning: Numerical issues were encountered when centering the data and might not be solved. Dataset may contain too large values. You may need to prescale your features.\n",
      "  warnings.warn(\n",
      "/home/hyochung/miniconda3/envs/tf/lib/python3.9/site-packages/sklearn/preprocessing/_data.py:265: UserWarning: Numerical issues were encountered when scaling the data and might not be solved. The standard deviation of the data is probably very close to 0. \n",
      "  warnings.warn(\n"
     ]
    }
   ],
   "source": [
    "audio, sr = librosa.load(DATA_DIR + 'R-23.wav')\n",
    "mfcc = librosa.feature.mfcc(y=wav, sr=16000, n_mfcc=100, n_fft=400, hop_length=160)\n",
    "mfcc = sklearn.preprocessing.scale(mfcc, axis=1)\n",
    "padded_mfcc = pad2d(mfcc, 40)\n",
    "padded_mfcc= np.expand_dims(padded_mfcc, 0)\n",
    "     "
   ]
  },
  {
   "cell_type": "code",
   "execution_count": 97,
   "id": "a6c52c95-7c9d-4a2d-bb42-a63040d182bf",
   "metadata": {},
   "outputs": [
    {
     "name": "stdout",
     "output_type": "stream",
     "text": [
      "1/1 [==============================] - 0s 17ms/step\n",
      "[[8.5005569e-01 1.1545413e-03 5.3924767e-05 1.4873590e-01]]\n",
      "The model predicts the label: Q\n"
     ]
    }
   ],
   "source": [
    "def get_prediction(prediction_value):\n",
    "  if prediction_value == 0:\n",
    "    return 'Q'\n",
    "  elif prediction_value == 1:\n",
    "    return 'W'\n",
    "  elif prediction_value == 2:\n",
    "    return 'E'\n",
    "  elif prediction_value == 3:\n",
    "    return 'R'\n",
    "\n",
    "prediction = model.predict(padded_mfcc)\n",
    "print(prediction)\n",
    "prediction_value = np.argmax(prediction)\n",
    "\n",
    "print(f\"The model predicts the label: {get_prediction(prediction_value)}\")"
   ]
  },
  {
   "cell_type": "code",
   "execution_count": null,
   "id": "e9c78e31-fd53-44ff-887a-78c252587a78",
   "metadata": {},
   "outputs": [],
   "source": []
  }
 ],
 "metadata": {
  "kernelspec": {
   "display_name": "tf",
   "language": "python",
   "name": "tf"
  },
  "language_info": {
   "codemirror_mode": {
    "name": "ipython",
    "version": 3
   },
   "file_extension": ".py",
   "mimetype": "text/x-python",
   "name": "python",
   "nbconvert_exporter": "python",
   "pygments_lexer": "ipython3",
   "version": "3.9.17"
  }
 },
 "nbformat": 4,
 "nbformat_minor": 5
}

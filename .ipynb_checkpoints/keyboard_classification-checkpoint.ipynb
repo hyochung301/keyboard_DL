{
 "cells": [
  {
   "cell_type": "markdown",
   "id": "d4ab941c-53f8-467b-8ad4-0fe44d10c769",
   "metadata": {},
   "source": [
    "1. Import and Install Dependencies"
   ]
  },
  {
   "cell_type": "markdown",
   "id": "5e2a83a3-306f-4ba4-b59c-3cd7ef1709e7",
   "metadata": {},
   "source": [
    "1.1 Install Dependencies"
   ]
  },
  {
   "cell_type": "code",
   "execution_count": 1,
   "id": "974c37cf-07f2-4053-b056-79b157b4b88d",
   "metadata": {
    "scrolled": true
   },
   "outputs": [
    {
     "name": "stdout",
     "output_type": "stream",
     "text": [
      "Requirement already satisfied: tensorflow in /home/hyochung/miniconda3/envs/tf/lib/python3.9/site-packages (2.13.0)\n",
      "Requirement already satisfied: matplotlib in /home/hyochung/miniconda3/envs/tf/lib/python3.9/site-packages (3.7.2)\n",
      "Requirement already satisfied: tensorflow-io in /home/hyochung/miniconda3/envs/tf/lib/python3.9/site-packages (0.33.0)\n",
      "Requirement already satisfied: absl-py>=1.0.0 in /home/hyochung/miniconda3/envs/tf/lib/python3.9/site-packages (from tensorflow) (1.4.0)\n",
      "Requirement already satisfied: astunparse>=1.6.0 in /home/hyochung/miniconda3/envs/tf/lib/python3.9/site-packages (from tensorflow) (1.6.3)\n",
      "Requirement already satisfied: flatbuffers>=23.1.21 in /home/hyochung/miniconda3/envs/tf/lib/python3.9/site-packages (from tensorflow) (23.5.26)\n",
      "Requirement already satisfied: gast<=0.4.0,>=0.2.1 in /home/hyochung/miniconda3/envs/tf/lib/python3.9/site-packages (from tensorflow) (0.4.0)\n",
      "Requirement already satisfied: google-pasta>=0.1.1 in /home/hyochung/miniconda3/envs/tf/lib/python3.9/site-packages (from tensorflow) (0.2.0)\n",
      "Requirement already satisfied: grpcio<2.0,>=1.24.3 in /home/hyochung/miniconda3/envs/tf/lib/python3.9/site-packages (from tensorflow) (1.57.0)\n",
      "Requirement already satisfied: h5py>=2.9.0 in /home/hyochung/miniconda3/envs/tf/lib/python3.9/site-packages (from tensorflow) (3.9.0)\n",
      "Requirement already satisfied: keras<2.14,>=2.13.1 in /home/hyochung/miniconda3/envs/tf/lib/python3.9/site-packages (from tensorflow) (2.13.1)\n",
      "Requirement already satisfied: libclang>=13.0.0 in /home/hyochung/miniconda3/envs/tf/lib/python3.9/site-packages (from tensorflow) (16.0.6)\n",
      "Requirement already satisfied: numpy<=1.24.3,>=1.22 in /home/hyochung/miniconda3/envs/tf/lib/python3.9/site-packages (from tensorflow) (1.24.3)\n",
      "Requirement already satisfied: opt-einsum>=2.3.2 in /home/hyochung/miniconda3/envs/tf/lib/python3.9/site-packages (from tensorflow) (3.3.0)\n",
      "Requirement already satisfied: packaging in /home/hyochung/miniconda3/envs/tf/lib/python3.9/site-packages (from tensorflow) (23.1)\n",
      "Requirement already satisfied: protobuf!=4.21.0,!=4.21.1,!=4.21.2,!=4.21.3,!=4.21.4,!=4.21.5,<5.0.0dev,>=3.20.3 in /home/hyochung/miniconda3/envs/tf/lib/python3.9/site-packages (from tensorflow) (4.24.2)\n",
      "Requirement already satisfied: setuptools in /home/hyochung/miniconda3/envs/tf/lib/python3.9/site-packages (from tensorflow) (68.0.0)\n",
      "Requirement already satisfied: six>=1.12.0 in /home/hyochung/miniconda3/envs/tf/lib/python3.9/site-packages (from tensorflow) (1.16.0)\n",
      "Requirement already satisfied: tensorboard<2.14,>=2.13 in /home/hyochung/miniconda3/envs/tf/lib/python3.9/site-packages (from tensorflow) (2.13.0)\n",
      "Requirement already satisfied: tensorflow-estimator<2.14,>=2.13.0 in /home/hyochung/miniconda3/envs/tf/lib/python3.9/site-packages (from tensorflow) (2.13.0)\n",
      "Requirement already satisfied: termcolor>=1.1.0 in /home/hyochung/miniconda3/envs/tf/lib/python3.9/site-packages (from tensorflow) (2.3.0)\n",
      "Requirement already satisfied: typing-extensions<4.6.0,>=3.6.6 in /home/hyochung/miniconda3/envs/tf/lib/python3.9/site-packages (from tensorflow) (4.5.0)\n",
      "Requirement already satisfied: wrapt>=1.11.0 in /home/hyochung/miniconda3/envs/tf/lib/python3.9/site-packages (from tensorflow) (1.15.0)\n",
      "Requirement already satisfied: tensorflow-io-gcs-filesystem>=0.23.1 in /home/hyochung/miniconda3/envs/tf/lib/python3.9/site-packages (from tensorflow) (0.33.0)\n",
      "Requirement already satisfied: contourpy>=1.0.1 in /home/hyochung/miniconda3/envs/tf/lib/python3.9/site-packages (from matplotlib) (1.1.0)\n",
      "Requirement already satisfied: cycler>=0.10 in /home/hyochung/miniconda3/envs/tf/lib/python3.9/site-packages (from matplotlib) (0.11.0)\n",
      "Requirement already satisfied: fonttools>=4.22.0 in /home/hyochung/miniconda3/envs/tf/lib/python3.9/site-packages (from matplotlib) (4.42.1)\n",
      "Requirement already satisfied: kiwisolver>=1.0.1 in /home/hyochung/miniconda3/envs/tf/lib/python3.9/site-packages (from matplotlib) (1.4.5)\n",
      "Requirement already satisfied: pillow>=6.2.0 in /home/hyochung/miniconda3/envs/tf/lib/python3.9/site-packages (from matplotlib) (10.0.0)\n",
      "Requirement already satisfied: pyparsing<3.1,>=2.3.1 in /home/hyochung/miniconda3/envs/tf/lib/python3.9/site-packages (from matplotlib) (3.0.9)\n",
      "Requirement already satisfied: python-dateutil>=2.7 in /home/hyochung/miniconda3/envs/tf/lib/python3.9/site-packages (from matplotlib) (2.8.2)\n",
      "Requirement already satisfied: importlib-resources>=3.2.0 in /home/hyochung/miniconda3/envs/tf/lib/python3.9/site-packages (from matplotlib) (6.0.1)\n",
      "Requirement already satisfied: wheel<1.0,>=0.23.0 in /home/hyochung/miniconda3/envs/tf/lib/python3.9/site-packages (from astunparse>=1.6.0->tensorflow) (0.38.4)\n",
      "Requirement already satisfied: zipp>=3.1.0 in /home/hyochung/miniconda3/envs/tf/lib/python3.9/site-packages (from importlib-resources>=3.2.0->matplotlib) (3.16.2)\n",
      "Requirement already satisfied: google-auth<3,>=1.6.3 in /home/hyochung/miniconda3/envs/tf/lib/python3.9/site-packages (from tensorboard<2.14,>=2.13->tensorflow) (2.22.0)\n",
      "Requirement already satisfied: google-auth-oauthlib<1.1,>=0.5 in /home/hyochung/miniconda3/envs/tf/lib/python3.9/site-packages (from tensorboard<2.14,>=2.13->tensorflow) (1.0.0)\n",
      "Requirement already satisfied: markdown>=2.6.8 in /home/hyochung/miniconda3/envs/tf/lib/python3.9/site-packages (from tensorboard<2.14,>=2.13->tensorflow) (3.4.4)\n",
      "Requirement already satisfied: requests<3,>=2.21.0 in /home/hyochung/miniconda3/envs/tf/lib/python3.9/site-packages (from tensorboard<2.14,>=2.13->tensorflow) (2.31.0)\n",
      "Requirement already satisfied: tensorboard-data-server<0.8.0,>=0.7.0 in /home/hyochung/miniconda3/envs/tf/lib/python3.9/site-packages (from tensorboard<2.14,>=2.13->tensorflow) (0.7.1)\n",
      "Requirement already satisfied: werkzeug>=1.0.1 in /home/hyochung/miniconda3/envs/tf/lib/python3.9/site-packages (from tensorboard<2.14,>=2.13->tensorflow) (2.3.7)\n",
      "Requirement already satisfied: cachetools<6.0,>=2.0.0 in /home/hyochung/miniconda3/envs/tf/lib/python3.9/site-packages (from google-auth<3,>=1.6.3->tensorboard<2.14,>=2.13->tensorflow) (5.3.1)\n",
      "Requirement already satisfied: pyasn1-modules>=0.2.1 in /home/hyochung/miniconda3/envs/tf/lib/python3.9/site-packages (from google-auth<3,>=1.6.3->tensorboard<2.14,>=2.13->tensorflow) (0.3.0)\n",
      "Requirement already satisfied: rsa<5,>=3.1.4 in /home/hyochung/miniconda3/envs/tf/lib/python3.9/site-packages (from google-auth<3,>=1.6.3->tensorboard<2.14,>=2.13->tensorflow) (4.9)\n",
      "Requirement already satisfied: urllib3<2.0 in /home/hyochung/miniconda3/envs/tf/lib/python3.9/site-packages (from google-auth<3,>=1.6.3->tensorboard<2.14,>=2.13->tensorflow) (1.26.16)\n",
      "Requirement already satisfied: requests-oauthlib>=0.7.0 in /home/hyochung/miniconda3/envs/tf/lib/python3.9/site-packages (from google-auth-oauthlib<1.1,>=0.5->tensorboard<2.14,>=2.13->tensorflow) (1.3.1)\n",
      "Requirement already satisfied: importlib-metadata>=4.4 in /home/hyochung/miniconda3/envs/tf/lib/python3.9/site-packages (from markdown>=2.6.8->tensorboard<2.14,>=2.13->tensorflow) (6.8.0)\n",
      "Requirement already satisfied: charset-normalizer<4,>=2 in /home/hyochung/miniconda3/envs/tf/lib/python3.9/site-packages (from requests<3,>=2.21.0->tensorboard<2.14,>=2.13->tensorflow) (3.2.0)\n",
      "Requirement already satisfied: idna<4,>=2.5 in /home/hyochung/miniconda3/envs/tf/lib/python3.9/site-packages (from requests<3,>=2.21.0->tensorboard<2.14,>=2.13->tensorflow) (3.4)\n",
      "Requirement already satisfied: certifi>=2017.4.17 in /home/hyochung/miniconda3/envs/tf/lib/python3.9/site-packages (from requests<3,>=2.21.0->tensorboard<2.14,>=2.13->tensorflow) (2023.7.22)\n",
      "Requirement already satisfied: MarkupSafe>=2.1.1 in /home/hyochung/miniconda3/envs/tf/lib/python3.9/site-packages (from werkzeug>=1.0.1->tensorboard<2.14,>=2.13->tensorflow) (2.1.3)\n",
      "Requirement already satisfied: pyasn1<0.6.0,>=0.4.6 in /home/hyochung/miniconda3/envs/tf/lib/python3.9/site-packages (from pyasn1-modules>=0.2.1->google-auth<3,>=1.6.3->tensorboard<2.14,>=2.13->tensorflow) (0.5.0)\n",
      "Requirement already satisfied: oauthlib>=3.0.0 in /home/hyochung/miniconda3/envs/tf/lib/python3.9/site-packages (from requests-oauthlib>=0.7.0->google-auth-oauthlib<1.1,>=0.5->tensorboard<2.14,>=2.13->tensorflow) (3.2.2)\n"
     ]
    }
   ],
   "source": [
    "!pip install tensorflow matplotlib tensorflow-io"
   ]
  },
  {
   "cell_type": "code",
   "execution_count": 2,
   "id": "0168fc08-022c-49ca-a7ff-7874b831e0b9",
   "metadata": {
    "scrolled": true
   },
   "outputs": [
    {
     "name": "stderr",
     "output_type": "stream",
     "text": [
      "2023-10-23 23:23:13.977489: I tensorflow/core/platform/cpu_feature_guard.cc:182] This TensorFlow binary is optimized to use available CPU instructions in performance-critical operations.\n",
      "To enable the following instructions: AVX2 FMA, in other operations, rebuild TensorFlow with the appropriate compiler flags.\n",
      "2023-10-23 23:23:14.511111: W tensorflow/compiler/tf2tensorrt/utils/py_utils.cc:38] TF-TRT Warning: Could not find TensorRT\n"
     ]
    }
   ],
   "source": [
    "%matplotlib inline\n",
    "import matplotlib.pyplot as plt\n",
    "import os\n",
    "from scipy.io import wavfile\n",
    "from collections import defaultdict, Counter\n",
    "from scipy import signal\n",
    "import numpy as np\n",
    "import librosa\n",
    "from sklearn import preprocessing\n",
    "import random as rn\n",
    "from keras.layers import Dense\n",
    "from keras import Input\n",
    "from tensorflow.keras.models import Model\n",
    "from keras.utils import to_categorical\n",
    "from keras.layers import Dense, TimeDistributed, Dropout, Bidirectional, GRU, BatchNormalization, Activation, LeakyReLU, LSTM, Flatten, RepeatVector, Permute, Multiply, Conv2D, MaxPooling2D\n",
    "import tensorflow as tf\n",
    "import random"
   ]
  },
  {
   "cell_type": "markdown",
   "id": "fe13c47f-76c3-43c6-b048-63b80dd33ce5",
   "metadata": {},
   "source": [
    "2. Data Loading"
   ]
  },
  {
   "cell_type": "code",
   "execution_count": 3,
   "id": "bd226490-6909-4db9-8c6b-240da2158ca0",
   "metadata": {
    "tags": []
   },
   "outputs": [
    {
     "name": "stderr",
     "output_type": "stream",
     "text": [
      "2023-10-23 23:23:16.214806: I tensorflow/compiler/xla/stream_executor/cuda/cuda_gpu_executor.cc:981] could not open file to read NUMA node: /sys/bus/pci/devices/0000:01:00.0/numa_node\n",
      "Your kernel may have been built without NUMA support.\n",
      "2023-10-23 23:23:16.406413: I tensorflow/compiler/xla/stream_executor/cuda/cuda_gpu_executor.cc:981] could not open file to read NUMA node: /sys/bus/pci/devices/0000:01:00.0/numa_node\n",
      "Your kernel may have been built without NUMA support.\n",
      "2023-10-23 23:23:16.406469: I tensorflow/compiler/xla/stream_executor/cuda/cuda_gpu_executor.cc:981] could not open file to read NUMA node: /sys/bus/pci/devices/0000:01:00.0/numa_node\n",
      "Your kernel may have been built without NUMA support.\n"
     ]
    }
   ],
   "source": [
    "# Avoid OOM errors by setting GPU Memory Consumption Growth\n",
    "gpus = tf.config.experimental.list_physical_devices('GPU')\n",
    "for gpu in gpus: \n",
    "    tf.config.experimental.set_memory_growth(gpu, True)"
   ]
  },
  {
   "cell_type": "code",
   "execution_count": 4,
   "id": "94676b38-96b1-4c23-b55d-53b2cd5bbc12",
   "metadata": {
    "scrolled": true
   },
   "outputs": [
    {
     "name": "stderr",
     "output_type": "stream",
     "text": [
      "2023-10-23 23:23:16.422709: I tensorflow/compiler/xla/stream_executor/cuda/cuda_gpu_executor.cc:981] could not open file to read NUMA node: /sys/bus/pci/devices/0000:01:00.0/numa_node\n",
      "Your kernel may have been built without NUMA support.\n"
     ]
    },
    {
     "name": "stdout",
     "output_type": "stream",
     "text": [
      "1 Physical GPUs, 1 Logical GPUs\n"
     ]
    },
    {
     "name": "stderr",
     "output_type": "stream",
     "text": [
      "2023-10-23 23:23:16.422827: I tensorflow/compiler/xla/stream_executor/cuda/cuda_gpu_executor.cc:981] could not open file to read NUMA node: /sys/bus/pci/devices/0000:01:00.0/numa_node\n",
      "Your kernel may have been built without NUMA support.\n",
      "2023-10-23 23:23:16.422862: I tensorflow/compiler/xla/stream_executor/cuda/cuda_gpu_executor.cc:981] could not open file to read NUMA node: /sys/bus/pci/devices/0000:01:00.0/numa_node\n",
      "Your kernel may have been built without NUMA support.\n",
      "2023-10-23 23:23:17.770500: I tensorflow/compiler/xla/stream_executor/cuda/cuda_gpu_executor.cc:981] could not open file to read NUMA node: /sys/bus/pci/devices/0000:01:00.0/numa_node\n",
      "Your kernel may have been built without NUMA support.\n",
      "2023-10-23 23:23:17.770542: I tensorflow/core/common_runtime/gpu/gpu_device.cc:1726] Could not identify NUMA node of platform GPU id 0, defaulting to 0.  Your kernel may not have been built with NUMA support.\n",
      "2023-10-23 23:23:17.770768: I tensorflow/compiler/xla/stream_executor/cuda/cuda_gpu_executor.cc:981] could not open file to read NUMA node: /sys/bus/pci/devices/0000:01:00.0/numa_node\n",
      "Your kernel may have been built without NUMA support.\n",
      "2023-10-23 23:23:17.770848: I tensorflow/compiler/xla/stream_executor/cuda/cuda_gpu_executor.cc:981] could not open file to read NUMA node: /sys/bus/pci/devices/0000:01:00.0/numa_node\n",
      "Your kernel may have been built without NUMA support.\n",
      "2023-10-23 23:23:17.770902: I tensorflow/core/common_runtime/gpu/gpu_device.cc:1639] Created device /job:localhost/replica:0/task:0/device:GPU:0 with 3072 MB memory:  -> device: 0, name: NVIDIA GeForce GTX 1660 Ti, pci bus id: 0000:01:00.0, compute capability: 7.5\n"
     ]
    }
   ],
   "source": [
    "gpus = tf.config.list_physical_devices('GPU')\n",
    "if gpus:\n",
    "  # Restrict TensorFlow to only allocate 1GB of memory on the first GPU\n",
    "  try:\n",
    "    tf.config.set_logical_device_configuration(\n",
    "        gpus[0],\n",
    "        [tf.config.LogicalDeviceConfiguration(memory_limit=3072)])\n",
    "    logical_gpus = tf.config.list_logical_devices('GPU')\n",
    "    print(len(gpus), \"Physical GPUs,\", len(logical_gpus), \"Logical GPUs\")\n",
    "  except RuntimeError as e:\n",
    "    # Virtual devices must be set before GPUs have been initialized\n",
    "    print(e)"
   ]
  },
  {
   "cell_type": "code",
   "execution_count": 5,
   "id": "c5b7b17f-cc6e-4171-a659-dca32797a7ee",
   "metadata": {},
   "outputs": [
    {
     "data": {
      "text/plain": [
       "[PhysicalDevice(name='/physical_device:GPU:0', device_type='GPU')]"
      ]
     },
     "execution_count": 5,
     "metadata": {},
     "output_type": "execute_result"
    }
   ],
   "source": [
    "tf.config.list_physical_devices('GPU')\n"
   ]
  },
  {
   "cell_type": "code",
   "execution_count": 6,
   "id": "10d5b60d-6ec9-4e45-9cb6-b6ad6f4c73d9",
   "metadata": {},
   "outputs": [],
   "source": [
    "DATA_DIR = os.path.join('data', 'train/')"
   ]
  },
  {
   "cell_type": "code",
   "execution_count": 7,
   "id": "19a347db-7204-4092-86cc-bbdb3b0e2274",
   "metadata": {},
   "outputs": [
    {
     "name": "stdout",
     "output_type": "stream",
     "text": [
      "sr: 16000\n",
      "wav shape: (7040,)\n",
      "length: 0.44 secs\n"
     ]
    }
   ],
   "source": [
    "wav, sr = librosa.load(DATA_DIR + 'Q-01.wav', sr=16000)\n",
    "print('sr:', sr)\n",
    "print('wav shape:', wav.shape)\n",
    "print('length:', wav.shape[0]/float(sr), 'secs')"
   ]
  },
  {
   "cell_type": "code",
   "execution_count": 8,
   "id": "387ed053-15fa-40ff-8290-3f32e3dd068f",
   "metadata": {},
   "outputs": [
    {
     "name": "stdout",
     "output_type": "stream",
     "text": [
      "[<matplotlib.lines.Line2D object at 0x7f4e474b8670>]\n",
      "[<matplotlib.lines.Line2D object at 0x7f4e474b88e0>]\n"
     ]
    },
    {
     "data": {
      "image/png": "[encoded data removed]",
      "text/plain": [
       "<Figure size 640x480 with 1 Axes>"
      ]
     },
     "metadata": {},
     "output_type": "display_data"
    }
   ],
   "source": [
    "# raw wave\n",
    "print(plt.plot(wav))\n",
    "print(plt.plot(wav[0:500]))"
   ]
  },
  {
   "cell_type": "code",
   "execution_count": 9,
   "id": "7d5bdb87-9a60-4935-8f31-61da98c92a43",
   "metadata": {},
   "outputs": [],
   "source": [
    "train_X = []\n",
    "train_spectrograms = []\n",
    "train_mel_spectrograms = []\n",
    "train_mfccs = []\n",
    "train_y = []\n",
    "\n",
    "test_X = []\n",
    "test_spectrograms = []\n",
    "test_mel_spectrograms = []\n",
    "test_mfccs = []\n",
    "test_y = []\n",
    "\n",
    "# 모든 음성파일의 길이가 같도록 후위에 padding 처리\n",
    "pad1d = lambda a, i: a[0: i] if a.shape[0] > i else np.hstack((a, np.zeros(i-a.shape[0])))\n",
    "pad2d = lambda a, i: a[:, 0:i] if a.shape[1] > i else np.hstack((a, np.zeros((a.shape[0], i-a.shape[1]))))\n",
    "\n",
    "frame_length = 0.025\n",
    "frame_stride = 0.0010"
   ]
  },
  {
   "cell_type": "code",
   "execution_count": 10,
   "id": "f42108aa-5c3b-42d4-a27f-3c05056f6d1c",
   "metadata": {
    "scrolled": true
   },
   "outputs": [],
   "source": [
    "from sklearn.model_selection import train_test_split\n",
    "\n",
    "def get_mfcc(filename):\n",
    "  wav, sr = librosa.load(filename, sr=16000)\n",
    "  mfcc = librosa.feature.mfcc(y=wav, sr=16000, n_mfcc=100, n_fft=400, hop_length=160)\n",
    "  mfcc = mfcc/ 1000000\n",
    "  mfcc = sklearn.preprocessing.scale(mfcc, axis=1)\n",
    "  padded_mfcc = pad2d(mfcc, 40)\n",
    "  return padded_mfcc\n",
    "\n",
    "def get_spectrogram(filename):\n",
    "    wav, sr = librosa.load(filename, sr=16000)\n",
    "    spectrogram = np.abs(librosa.stft(wav))\n",
    "    spectrogram = sklearn.preprocessing.scale(spectrogram, axis=1)\n",
    "    padded_spectrogram = pad2d(spectrogram, 40)\n",
    "    return padded_spectrogram\n",
    "\n",
    "def get_labels(filename):\n",
    "  if filename[0] == 'Q':\n",
    "    return 0\n",
    "  elif filename[0] == 'W':\n",
    "    return 1\n",
    "  elif filename[0] == 'E':\n",
    "    return 2\n",
    "  elif filename[0] == 'R':\n",
    "    return 3\n"
   ]
  },
  {
   "cell_type": "code",
   "execution_count": 11,
   "id": "e2a0ebf4-1bbf-4623-8b3c-c9004e4eadfc",
   "metadata": {
    "scrolled": true
   },
   "outputs": [],
   "source": [
    "for filename in os.listdir(DATA_DIR):\n",
    "    if '.wav' not in filename:\n",
    "        continue\n",
    "\n",
    "    try:\n",
    "        number = int(filename[3:4])\n",
    "        wav, sr = librosa.load(DATA_DIR + filename)\n",
    "        padded_x = pad1d(wav, 30000)\n",
    "        spectrogram = np.abs(librosa.stft(wav))\n",
    "        padded_spectrogram = pad2d(spectrogram, 40)\n",
    "        mel_spectrogram = librosa.feature.melspectrogram(y=wav)\n",
    "        padded_mel_spectrogram = pad2d(mel_spectrogram, 40)\n",
    "        mfcc = librosa.feature.mfcc(y=wav)\n",
    "        padded_mfcc = pad2d(mfcc, 40)\n",
    "        label = get_labels(filename)\n",
    "\n",
    "        if number % 5 == 0:\n",
    "            test_X.append(padded_x)\n",
    "            test_spectrograms.append(padded_spectrogram)\n",
    "            test_mel_spectrograms.append(padded_mel_spectrogram)\n",
    "            test_mfccs.append(padded_mfcc)\n",
    "            test_y.append(label)\n",
    "        else:\n",
    "            train_X.append(padded_x)\n",
    "            train_spectrograms.append(padded_spectrogram)\n",
    "            train_mel_spectrograms.append(padded_mel_spectrogram)\n",
    "            train_mfccs.append(padded_mfcc)\n",
    "            train_y.append(label)\n",
    "    except Exception as e:\n",
    "        print(filename, e)"
   ]
  },
  {
   "cell_type": "code",
   "execution_count": 12,
   "id": "5030dd2b-6510-488f-b63a-0b46bb87eabd",
   "metadata": {
    "scrolled": true
   },
   "outputs": [
    {
     "name": "stdout",
     "output_type": "stream",
     "text": [
      "train_X: (107, 30000)\n",
      "train_spectrograms: (107, 1025, 40)\n",
      "train_mel_spectrograms: (107, 128, 40)\n",
      "train_mfccs: (107, 20, 40)\n",
      "train_y: (107, 4)\n",
      "test_X: (24, 30000)\n",
      "test_spectrograms: (24, 1025, 40)\n",
      "test_mel_spectrograms: (24, 128, 40)\n",
      "test_mfccs: (24, 20, 40)\n",
      "test_y: (24, 4)\n"
     ]
    }
   ],
   "source": [
    "train_X = np.vstack(train_X)\n",
    "train_spectrograms = np.array(train_spectrograms)\n",
    "train_mel_spectrograms = np.array(train_mel_spectrograms)\n",
    "train_mfccs = np.array(train_mfccs)\n",
    "train_y = to_categorical(np.array(train_y))\n",
    "\n",
    "test_X = np.vstack(test_X)\n",
    "test_spectrograms = np.array(test_spectrograms)\n",
    "test_mel_spectrograms = np.array(test_mel_spectrograms)\n",
    "test_mfccs = np.array(test_mfccs)\n",
    "test_y = to_categorical(np.array(test_y))\n",
    "\n",
    "\n",
    "print('train_X:', train_X.shape)\n",
    "print('train_spectrograms:', train_spectrograms.shape)\n",
    "print('train_mel_spectrograms:', train_mel_spectrograms.shape)\n",
    "print('train_mfccs:', train_mfccs.shape)\n",
    "print('train_y:', train_y.shape)\n",
    "\n",
    "print('test_X:', test_X.shape)\n",
    "print('test_spectrograms:', test_spectrograms.shape)\n",
    "print('test_mel_spectrograms:', test_mel_spectrograms.shape)\n",
    "print('test_mfccs:', test_mfccs.shape)\n",
    "print('test_y:', test_y.shape) "
   ]
  },
  {
   "cell_type": "markdown",
   "id": "31a5ab84-d59b-4df9-ac49-8eec2476dc01",
   "metadata": {},
   "source": [
    "MFCC feature로 학습"
   ]
  },
  {
   "cell_type": "code",
   "execution_count": null,
   "id": "ec9e87fd-05cc-4e06-8dd7-ceb1b40e0091",
   "metadata": {},
   "outputs": [],
   "source": [
    "train_X_ex = np.expand_dims(train_mfccs, -1)\n",
    "test_X_ex = np.expand_dims(test_mfccs, -1)\n",
    "print('train X shape:', train_X_ex.shape)\n",
    "print('test X shape:', test_X_ex.shape)"
   ]
  },
  {
   "cell_type": "code",
   "execution_count": null,
   "id": "83693709-78cd-4482-a607-6a8c4f7f58ac",
   "metadata": {
    "scrolled": true
   },
   "outputs": [],
   "source": [
    "ip = Input(shape=train_X_ex[0].shape)\n",
    "\n",
    "m = Conv2D(32, kernel_size=(4,4), activation='relu')(ip)\n",
    "m = MaxPooling2D(pool_size=(4,4))(m)\n",
    "\n",
    "m = Conv2D(32*2, kernel_size=(4,4), activation='relu')(ip)\n",
    "m = MaxPooling2D(pool_size=(4,4))(m)\n",
    "\n",
    "m = Conv2D(32 * 3, kernel_size=(4, 4), activation='relu', input_shape=(1, 20, 40))(m)\n",
    "m = MaxPooling2D(pool_size=(4,4))(m)\n",
    "\n",
    "m = Flatten()(m)\n",
    "\n",
    "m = Dense(64, activation='relu')(m)\n",
    "\n",
    "m = Dense(32, activation='relu')(m)\n",
    "\n",
    "op = Dense(4, activation='softmax')(m)\n",
    "\n",
    "model = Model(ip, op)\n",
    "\n",
    "model.summary()\n",
    "     "
   ]
  },
  {
   "cell_type": "code",
   "execution_count": null,
   "id": "e8ffb8b8-9ff6-44ab-bdc0-4388ba96fb1f",
   "metadata": {
    "scrolled": true
   },
   "outputs": [],
   "source": [
    "model.compile(loss='categorical_crossentropy',\n",
    "              optimizer='adam',\n",
    "              metrics=['accuracy'])\n",
    "\n",
    "history = model.fit(train_X_ex,\n",
    "                    train_y,\n",
    "                    epochs=100,\n",
    "                    batch_size=32,\n",
    "                    verbose=1,\n",
    "                    validation_data=(test_X_ex, test_y))\n"
   ]
  },
  {
   "cell_type": "code",
   "execution_count": null,
   "id": "ad9110f1-67f2-4c69-aed8-b6a936c3f4a2",
   "metadata": {},
   "outputs": [],
   "source": [
    "plt.plot(history.history['accuracy'], label='Train Accuracy')\n",
    "plt.plot(history.history['val_accuracy'], label='Validation Accuracy')\n",
    "plt.xlabel('Epochs')\n",
    "plt.ylabel('Accuracy')\n",
    "plt.legend()"
   ]
  },
  {
   "cell_type": "code",
   "execution_count": null,
   "id": "6695f965-3093-4217-860c-e92765d520ae",
   "metadata": {
    "scrolled": true
   },
   "outputs": [],
   "source": [
    "model.save('/home/hyochung/Keyboard_DL')"
   ]
  },
  {
   "cell_type": "markdown",
   "id": "a91cafd9-5722-4743-a5a2-79f97d5a0d1e",
   "metadata": {},
   "source": [
    "Model Test"
   ]
  },
  {
   "cell_type": "code",
   "execution_count": null,
   "id": "1f94ec07-78ac-4e88-bf8a-7a3483225e96",
   "metadata": {},
   "outputs": [],
   "source": [
    "audio, sr = librosa.load(DATA_DIR + 'R-03.wav')\n",
    "\n",
    "mfcc = librosa.feature.mfcc(y=audio, sr=16000, n_mfcc=100, n_fft=400, hop_length=160)\n",
    "mfcc = mfcc/ 1000000\n",
    "mfcc = sklearn.preprocessing.scale(mfcc, axis=1)\n",
    "padded_mfcc = pad2d(mfcc, 40)\n",
    "padded_mfcc= np.expand_dims(padded_mfcc, 0)\n",
    "\n",
    "result = model.predict(padded_mfcc)\n",
    "print(result)\n",
    "print(np.argmax(result))"
   ]
  },
  {
   "cell_type": "markdown",
   "id": "5fbadc43-339c-4b8a-94bd-7a424b2c7691",
   "metadata": {},
   "source": [
    "simple MLP with raw waves"
   ]
  },
  {
   "cell_type": "code",
   "execution_count": 19,
   "id": "af96de90-dda4-43b8-83d7-3d7d5ee7063f",
   "metadata": {},
   "outputs": [],
   "source": [
    "from keras.models import Sequential\n",
    "from keras.layers import Dense, Flatten\n",
    "\n",
    "model = Sequential()\n",
    "model.add(Flatten(input_shape=train_X.shape[1:]))\n",
    "model.add(Dense(128, activation='relu'))\n",
    "model.add(Dense(64, activation='relu'))\n",
    "model.add(Dense(train_y.shape[1], activation='softmax'))"
   ]
  },
  {
   "cell_type": "code",
   "execution_count": 20,
   "id": "b86d1430-007f-4c72-904e-8641b5c1d690",
   "metadata": {
    "collapsed": true,
    "jupyter": {
     "outputs_hidden": true
    }
   },
   "outputs": [
    {
     "name": "stdout",
     "output_type": "stream",
     "text": [
      "Epoch 1/10\n"
     ]
    },
    {
     "name": "stderr",
     "output_type": "stream",
     "text": [
      "2023-10-23 23:33:38.278399: I tensorflow/compiler/xla/service/service.cc:168] XLA service 0x33c5db10 initialized for platform CUDA (this does not guarantee that XLA will be used). Devices:\n",
      "2023-10-23 23:33:38.278481: I tensorflow/compiler/xla/service/service.cc:176]   StreamExecutor device (0): NVIDIA GeForce GTX 1660 Ti, Compute Capability 7.5\n",
      "2023-10-23 23:33:38.338861: I tensorflow/compiler/mlir/tensorflow/utils/dump_mlir_util.cc:255] disabling MLIR crash reproducer, set env var `MLIR_CRASH_REPRODUCER_DIRECTORY` to enable.\n",
      "2023-10-23 23:33:38.659192: I tensorflow/compiler/xla/stream_executor/cuda/cuda_dnn.cc:432] Loaded cuDNN version 8600\n",
      "2023-10-23 23:33:38.950753: I ./tensorflow/compiler/jit/device_compiler.h:186] Compiled cluster using XLA!  This line is logged at most once for the lifetime of the process.\n"
     ]
    },
    {
     "name": "stdout",
     "output_type": "stream",
     "text": [
      "4/4 [==============================] - 3s 112ms/step - loss: 1.3847 - accuracy: 0.2710 - val_loss: 1.3718 - val_accuracy: 0.3750\n",
      "Epoch 2/10\n",
      "4/4 [==============================] - 0s 62ms/step - loss: 1.2409 - accuracy: 0.8879 - val_loss: 1.3435 - val_accuracy: 0.3750\n",
      "Epoch 3/10\n",
      "4/4 [==============================] - 0s 17ms/step - loss: 1.0842 - accuracy: 0.9346 - val_loss: 1.3199 - val_accuracy: 0.3750\n",
      "Epoch 4/10\n",
      "4/4 [==============================] - 0s 16ms/step - loss: 0.9155 - accuracy: 0.9533 - val_loss: 1.3027 - val_accuracy: 0.3333\n",
      "Epoch 5/10\n",
      "4/4 [==============================] - 0s 16ms/step - loss: 0.7480 - accuracy: 0.9813 - val_loss: 1.2845 - val_accuracy: 0.3333\n",
      "Epoch 6/10\n",
      "4/4 [==============================] - 0s 16ms/step - loss: 0.5935 - accuracy: 0.9813 - val_loss: 1.2605 - val_accuracy: 0.3333\n",
      "Epoch 7/10\n",
      "4/4 [==============================] - 0s 16ms/step - loss: 0.4497 - accuracy: 0.9907 - val_loss: 1.2535 - val_accuracy: 0.3750\n",
      "Epoch 8/10\n",
      "4/4 [==============================] - 0s 16ms/step - loss: 0.3302 - accuracy: 1.0000 - val_loss: 1.2414 - val_accuracy: 0.3750\n",
      "Epoch 9/10\n",
      "4/4 [==============================] - 0s 16ms/step - loss: 0.2333 - accuracy: 1.0000 - val_loss: 1.2278 - val_accuracy: 0.3750\n",
      "Epoch 10/10\n",
      "4/4 [==============================] - 0s 15ms/step - loss: 0.1587 - accuracy: 1.0000 - val_loss: 1.2167 - val_accuracy: 0.3750\n"
     ]
    }
   ],
   "source": [
    "model.compile(loss='categorical_crossentropy',\n",
    "              optimizer='adam',\n",
    "              metrics=['accuracy'])\n",
    "\n",
    "history = model.fit(train_X,\n",
    "                    train_y,\n",
    "                    epochs=10,\n",
    "                    batch_size=32,\n",
    "                    validation_data=(test_X, test_y))"
   ]
  },
  {
   "cell_type": "code",
   "execution_count": null,
   "id": "8d889852-3721-4ada-b2e1-78b1d4c66933",
   "metadata": {},
   "outputs": [],
   "source": [
    "plt.plot(history."
   ]
  },
  {
   "cell_type": "markdown",
   "id": "36aedd0b-da38-4880-9fbe-1b628c0e0885",
   "metadata": {},
   "source": [
    "Long Audio testing"
   ]
  },
  {
   "cell_type": "code",
   "execution_count": null,
   "id": "6b713789-52fd-4eeb-a0a0-2ddcc47893dc",
   "metadata": {},
   "outputs": [],
   "source": [
    "#긴 오디오\n",
    "wav, sr = librosa.load(DATA_DIR + 'E-17.wav', sr=None)\n",
    "print('sr:', sr)\n",
    "print('wav shape:', wav.shape)\n",
    "print('length:', wav.shape[0]/float(sr), 'secs')"
   ]
  },
  {
   "cell_type": "code",
   "execution_count": null,
   "id": "f05e6db5-0437-4aa7-ad1d-f10d0480dc56",
   "metadata": {},
   "outputs": [],
   "source": [
    "# raw wave\n",
    "print(plt.plot(wav))\n",
    "print(plt.plot(wav[0:500]))"
   ]
  },
  {
   "cell_type": "code",
   "execution_count": null,
   "id": "460fd330-2324-4506-a766-79297a720b46",
   "metadata": {},
   "outputs": [],
   "source": [
    "audio, sr = librosa.load(DATA_DIR + 'R-23.wav')\n",
    "mfcc = librosa.feature.mfcc(y=wav, sr=16000, n_mfcc=100, n_fft=400, hop_length=160)\n",
    "mfcc = sklearn.preprocessing.scale(mfcc, axis=1)\n",
    "padded_mfcc = pad2d(mfcc, 40)\n",
    "padded_mfcc= np.expand_dims(padded_mfcc, 0)\n",
    "     "
   ]
  },
  {
   "cell_type": "code",
   "execution_count": null,
   "id": "a6c52c95-7c9d-4a2d-bb42-a63040d182bf",
   "metadata": {},
   "outputs": [],
   "source": [
    "def get_prediction(prediction_value):\n",
    "  if prediction_value == 0:\n",
    "    return 'Q'\n",
    "  elif prediction_value == 1:\n",
    "    return 'W'\n",
    "  elif prediction_value == 2:\n",
    "    return 'E'\n",
    "  elif prediction_value == 3:\n",
    "    return 'R'\n",
    "\n",
    "prediction = model.predict(padded_mfcc)\n",
    "print(prediction)\n",
    "prediction_value = np.argmax(prediction)\n",
    "\n",
    "print(f\"The model predicts the label: {get_prediction(prediction_value)}\")"
   ]
  },
  {
   "cell_type": "code",
   "execution_count": null,
   "id": "e9c78e31-fd53-44ff-887a-78c252587a78",
   "metadata": {},
   "outputs": [],
   "source": []
  }
 ],
 "metadata": {
  "kernelspec": {
   "display_name": "tf",
   "language": "python",
   "name": "tf"
  },
  "language_info": {
   "codemirror_mode": {
    "name": "ipython",
    "version": 3
   },
   "file_extension": ".py",
   "mimetype": "text/x-python",
   "name": "python",
   "nbconvert_exporter": "python",
   "pygments_lexer": "ipython3",
   "version": "3.9.17"
  }
 },
 "nbformat": 4,
 "nbformat_minor": 5
}
